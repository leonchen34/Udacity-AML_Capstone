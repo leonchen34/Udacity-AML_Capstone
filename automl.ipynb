{
  "cells": [
    {
      "cell_type": "markdown",
      "source": [
        "# Automated ML"
      ],
      "metadata": {}
    },
    {
      "cell_type": "code",
      "source": [
        "from azureml.core import Workspace, Experiment\n",
        "from azureml.core.compute import ComputeTarget, AmlCompute\n",
        "from azureml.core.run import Run\n",
        "from azureml.train.automl import AutoMLConfig\n",
        "from azureml.exceptions import ComputeTargetException\n",
        "from azureml.widgets import RunDetails\n",
        "import pandas as pd\n",
        "import logging\n",
        "import json\n",
        "import joblib\n"
      ],
      "outputs": [],
      "execution_count": 1,
      "metadata": {
        "collapsed": false,
        "gather": {
          "logged": 1691239229621
        },
        "jupyter": {
          "outputs_hidden": false,
          "source_hidden": false
        },
        "nteract": {
          "transient": {
            "deleting": false
          }
        }
      }
    },
    {
      "cell_type": "markdown",
      "source": [
        "## Dataset\n",
        "\n",
        "### Overview\n",
        "\n",
        "\"Airbnb for Boston with fraud detcetion\" data was downloaded from Kaggle with the following link:\n",
        "\n",
        "https://www.kaggle.com/datasets/hawkingcr/airbnb-for-boston-with-fraud-detection/download?datasetVersionNumber=1\n",
        "\n",
        "The downloaded file was saved as \"output.csv\" in the \"data\" directory. The dataset aims to classify whether an Airbnb listing is a fraud or not.\n",
        "\n",
        "A notebook file named \"data_process.ipyng\" was created to perform some pre-processing on the data. Firstly, a correlation analysis was conducted with the target column \"fraud\" to identify and remove some non-significant features. Next, the data was split into \"train.csv\" and \"test.csv\" sets, and the balance of the training data was examined. Due to the class imbalance in the training target, an upsampling technique was applied to address this imbalance\n",
        "\n",
        "### Create Training Dataset"
      ],
      "metadata": {}
    },
    {
      "cell_type": "code",
      "source": [
        "from scripts.data_set import getTrainingDataset\n",
        "\n",
        "ws = Workspace.from_config()\n",
        "\n",
        "experiment_name = 'udacity-aml-capstone-automl'\n",
        "experiment=Experiment(ws, experiment_name)\n",
        "\n",
        "train_ds = getTrainingDataset(ws)\n",
        "train_ds.to_pandas_dataframe().head()\n"
      ],
      "outputs": [
        {
          "output_type": "stream",
          "name": "stdout",
          "text": "Validating arguments.\nArguments validated.\nUploading file to airbnb_boston\nUploading an estimated of 1 files\nUploading ./tmp_dir/train.csv\nUploaded ./tmp_dir/train.csv, 1 files out of an estimated total of 1\nUploaded 1 files\nCreating new dataset\ndatastore train data path:  airbnb_boston/train.csv\nregister training dataset\n"
        },
        {
          "output_type": "execute_result",
          "execution_count": 2,
          "data": {
            "text/plain": "   host_response_rate  host_identity_verified  host_total_listings_count  \\\n0                  95                       1                          3   \n1                 100                       1                          1   \n2                 100                       1                          1   \n3                  90                       1                          1   \n4                  92                       0                          8   \n\n   is_location_exact  property_type  accommodates  price  minimum_nights  \\\n0                  1              8             2   6500               2   \n1                  1              0             8  50000               1   \n2                  1              8             2   9000               1   \n3                  1              0             2  11500               1   \n4                  1              2             6  27500               2   \n\n   number_of_reviews  review_scores_rating  instant_bookable  \\\n0                  8                  93.0                 0   \n1                 88                  98.0                 0   \n2                192                  95.0                 0   \n3                 54                  88.0                 1   \n4                 29                  91.0                 1   \n\n   cancellation_policy  reviews_per_month  fraud  \n0                    1               0.63      1  \n1                    1               4.20      1  \n2                    1               5.58      1  \n3                    2               3.58      1  \n4                    2               0.72      1  ",
            "text/html": "<div>\n<style scoped>\n    .dataframe tbody tr th:only-of-type {\n        vertical-align: middle;\n    }\n\n    .dataframe tbody tr th {\n        vertical-align: top;\n    }\n\n    .dataframe thead th {\n        text-align: right;\n    }\n</style>\n<table border=\"1\" class=\"dataframe\">\n  <thead>\n    <tr style=\"text-align: right;\">\n      <th></th>\n      <th>host_response_rate</th>\n      <th>host_identity_verified</th>\n      <th>host_total_listings_count</th>\n      <th>is_location_exact</th>\n      <th>property_type</th>\n      <th>accommodates</th>\n      <th>price</th>\n      <th>minimum_nights</th>\n      <th>number_of_reviews</th>\n      <th>review_scores_rating</th>\n      <th>instant_bookable</th>\n      <th>cancellation_policy</th>\n      <th>reviews_per_month</th>\n      <th>fraud</th>\n    </tr>\n  </thead>\n  <tbody>\n    <tr>\n      <th>0</th>\n      <td>95</td>\n      <td>1</td>\n      <td>3</td>\n      <td>1</td>\n      <td>8</td>\n      <td>2</td>\n      <td>6500</td>\n      <td>2</td>\n      <td>8</td>\n      <td>93.0</td>\n      <td>0</td>\n      <td>1</td>\n      <td>0.63</td>\n      <td>1</td>\n    </tr>\n    <tr>\n      <th>1</th>\n      <td>100</td>\n      <td>1</td>\n      <td>1</td>\n      <td>1</td>\n      <td>0</td>\n      <td>8</td>\n      <td>50000</td>\n      <td>1</td>\n      <td>88</td>\n      <td>98.0</td>\n      <td>0</td>\n      <td>1</td>\n      <td>4.20</td>\n      <td>1</td>\n    </tr>\n    <tr>\n      <th>2</th>\n      <td>100</td>\n      <td>1</td>\n      <td>1</td>\n      <td>1</td>\n      <td>8</td>\n      <td>2</td>\n      <td>9000</td>\n      <td>1</td>\n      <td>192</td>\n      <td>95.0</td>\n      <td>0</td>\n      <td>1</td>\n      <td>5.58</td>\n      <td>1</td>\n    </tr>\n    <tr>\n      <th>3</th>\n      <td>90</td>\n      <td>1</td>\n      <td>1</td>\n      <td>1</td>\n      <td>0</td>\n      <td>2</td>\n      <td>11500</td>\n      <td>1</td>\n      <td>54</td>\n      <td>88.0</td>\n      <td>1</td>\n      <td>2</td>\n      <td>3.58</td>\n      <td>1</td>\n    </tr>\n    <tr>\n      <th>4</th>\n      <td>92</td>\n      <td>0</td>\n      <td>8</td>\n      <td>1</td>\n      <td>2</td>\n      <td>6</td>\n      <td>27500</td>\n      <td>2</td>\n      <td>29</td>\n      <td>91.0</td>\n      <td>1</td>\n      <td>2</td>\n      <td>0.72</td>\n      <td>1</td>\n    </tr>\n  </tbody>\n</table>\n</div>"
          },
          "metadata": {}
        }
      ],
      "execution_count": 2,
      "metadata": {
        "collapsed": false,
        "gather": {
          "logged": 1691239253232
        },
        "jupyter": {
          "outputs_hidden": false,
          "source_hidden": false
        },
        "nteract": {
          "transient": {
            "deleting": false
          }
        }
      }
    },
    {
      "cell_type": "markdown",
      "source": [
        "### Create or Attach an AmlCompute cluster"
      ],
      "metadata": {}
    },
    {
      "cell_type": "code",
      "source": [
        "\n",
        "cluster_name = \"my-cluster\"\n",
        "\n",
        "try:\n",
        "    compute_target = ComputeTarget(workspace=ws, name=cluster_name)\n",
        "    print(\"Found existing cluster, use it.\")\n",
        "except ComputeTargetException:\n",
        "    compute_config = AmlCompute.provisioning_configuration(\n",
        "        vm_size=\"STANDARD_D2_V2\", max_nodes=4\n",
        "    )\n",
        "    compute_target = ComputeTarget.create(ws, cluster_name, compute_config)\n",
        "compute_target.wait_for_completion(show_output=True)\n"
      ],
      "outputs": [
        {
          "output_type": "stream",
          "name": "stdout",
          "text": "Found existing cluster, use it.\nSucceeded\nAmlCompute wait for completion finished\n\nMinimum number of nodes requested have been provisioned\n"
        }
      ],
      "execution_count": 3,
      "metadata": {
        "gather": {
          "logged": 1691239279794
        }
      }
    },
    {
      "cell_type": "markdown",
      "source": [
        "## AutoML Configuration\n",
        "\n",
        "iteration_timeout_minutes: Time limit in minutes for each iteration. Increase this value for larger datasets that need more time for each iteration. Here it is set to 10 minutes for the relative small dataset.\n",
        "\n",
        "experiment_timeout_hours: Maximum amount of time that all iterations combined can take before the experiment terminates. Here it is set tp 30 minutes for the relative small dataset.\n",
        "\n",
        "enable_early_stopping: Flag to enable early termination if the score is not improving in the short term.\n",
        "\n",
        "primary_metric: Since the data is very imbalanced, \"AUC_weighted\" is chosen here.\n",
        "\n",
        "featurization: By using auto, the experiment can preprocess the input data (handling missing data, converting text to numeric, etc.)\n",
        "\n",
        "verbosity: Controls the level of logging.\n",
        "\n",
        "n_cross_validation: Number of cross validation to perform since validation data is not specified."
      ],
      "metadata": {}
    },
    {
      "cell_type": "code",
      "source": [
        "\n",
        "automl_settings = {\n",
        "    \"iteration_timeout_minutes\": 10,\n",
        "    \"experiment_timeout_minutes\": 30,\n",
        "    \"max_concurrent_iterations\": 4,\n",
        "    \"enable_early_stopping\": True,\n",
        "    \"primary_metric\": 'AUC_weighted',\n",
        "    \"featurization\": 'auto',\n",
        "    \"verbosity\": logging.INFO,\n",
        "    \"n_cross_validations\": 5\n",
        "}\n",
        "\n",
        "automl_config = AutoMLConfig(\n",
        "    task=\"classification\",\n",
        "    compute_target=compute_target,\n",
        "    training_data=train_ds,\n",
        "    label_column_name=\"fraud\",\n",
        "    enable_onnx_compatible_models=True,\n",
        "    **automl_settings)"
      ],
      "outputs": [],
      "execution_count": 4,
      "metadata": {
        "collapsed": false,
        "gather": {
          "logged": 1691239289698
        },
        "jupyter": {
          "outputs_hidden": false,
          "source_hidden": false
        },
        "nteract": {
          "transient": {
            "deleting": false
          }
        }
      }
    },
    {
      "cell_type": "code",
      "source": [
        "# Submit experiment\n",
        "auto_run = experiment.submit(automl_config)"
      ],
      "outputs": [
        {
          "output_type": "stream",
          "name": "stdout",
          "text": "Submitting remote run.\n"
        },
        {
          "output_type": "display_data",
          "data": {
            "text/html": "<table style=\"width:100%\"><tr><th>Experiment</th><th>Id</th><th>Type</th><th>Status</th><th>Details Page</th><th>Docs Page</th></tr><tr><td>udacity-aml-capstone-automl</td><td>AutoML_d9a7c24f-49f6-4d75-9668-6bf0c6b356b4</td><td>automl</td><td>NotStarted</td><td><a href=\"https://ml.azure.com/runs/AutoML_d9a7c24f-49f6-4d75-9668-6bf0c6b356b4?wsid=/subscriptions/510b94ba-e453-4417-988b-fbdc37b55ca7/resourcegroups/aml-quickstarts-239768/workspaces/quick-starts-ws-239768&amp;tid=660b3398-b80e-49d2-bc5b-ac1dc93b5254\" target=\"_blank\" rel=\"noopener\">Link to Azure Machine Learning studio</a></td><td><a href=\"https://docs.microsoft.com/en-us/python/api/overview/azure/ml/intro?view=azure-ml-py\" target=\"_blank\" rel=\"noopener\">Link to Documentation</a></td></tr></table>"
          },
          "metadata": {}
        }
      ],
      "execution_count": 5,
      "metadata": {
        "collapsed": false,
        "gather": {
          "logged": 1691239302277
        },
        "jupyter": {
          "outputs_hidden": false,
          "source_hidden": false
        },
        "nteract": {
          "transient": {
            "deleting": false
          }
        }
      }
    },
    {
      "cell_type": "markdown",
      "source": [
        "## Run Details\n"
      ],
      "metadata": {}
    },
    {
      "cell_type": "code",
      "source": [
        "RunDetails(auto_run).show()"
      ],
      "outputs": [
        {
          "output_type": "display_data",
          "data": {
            "text/plain": "_AutoMLWidget(widget_settings={'childWidgetDisplay': 'popup', 'send_telemetry': False, 'log_level': 'INFO', 's…",
            "application/vnd.jupyter.widget-view+json": {
              "version_major": 2,
              "version_minor": 0,
              "model_id": "edf67931bd6041b9bd1306cecaa292ec"
            }
          },
          "metadata": {}
        },
        {
          "output_type": "display_data",
          "data": {
            "application/aml.mini.widget.v1": "{\"status\": \"Completed\", \"workbench_run_details_uri\": \"https://ml.azure.com/runs/AutoML_d9a7c24f-49f6-4d75-9668-6bf0c6b356b4?wsid=/subscriptions/510b94ba-e453-4417-988b-fbdc37b55ca7/resourcegroups/aml-quickstarts-239768/workspaces/quick-starts-ws-239768&tid=660b3398-b80e-49d2-bc5b-ac1dc93b5254\", \"run_id\": \"AutoML_d9a7c24f-49f6-4d75-9668-6bf0c6b356b4\", \"run_properties\": {\"run_id\": \"AutoML_d9a7c24f-49f6-4d75-9668-6bf0c6b356b4\", \"created_utc\": \"2023-08-05T12:41:40.745041Z\", \"properties\": {\"num_iterations\": \"1000\", \"training_type\": \"TrainFull\", \"acquisition_function\": \"EI\", \"primary_metric\": \"AUC_weighted\", \"train_split\": \"0\", \"acquisition_parameter\": \"0\", \"num_cross_validation\": \"5\", \"target\": \"my-cluster\", \"AMLSettingsJsonString\": \"{\\\"path\\\":null,\\\"name\\\":\\\"udacity-aml-capstone-automl\\\",\\\"subscription_id\\\":\\\"510b94ba-e453-4417-988b-fbdc37b55ca7\\\",\\\"resource_group\\\":\\\"aml-quickstarts-239768\\\",\\\"workspace_name\\\":\\\"quick-starts-ws-239768\\\",\\\"region\\\":\\\"westus2\\\",\\\"compute_target\\\":\\\"my-cluster\\\",\\\"spark_service\\\":null,\\\"azure_service\\\":\\\"remote\\\",\\\"many_models\\\":false,\\\"pipeline_fetch_max_batch_size\\\":1,\\\"enable_batch_run\\\":true,\\\"enable_parallel_run\\\":false,\\\"num_procs\\\":null,\\\"enable_run_restructure\\\":false,\\\"start_auxiliary_runs_before_parent_complete\\\":false,\\\"enable_code_generation\\\":true,\\\"iterations\\\":1000,\\\"primary_metric\\\":\\\"AUC_weighted\\\",\\\"task_type\\\":\\\"classification\\\",\\\"positive_label\\\":null,\\\"data_script\\\":null,\\\"test_size\\\":0.0,\\\"test_include_predictions_only\\\":false,\\\"validation_size\\\":0.0,\\\"n_cross_validations\\\":5,\\\"y_min\\\":null,\\\"y_max\\\":null,\\\"num_classes\\\":null,\\\"featurization\\\":\\\"auto\\\",\\\"_ignore_package_version_incompatibilities\\\":false,\\\"is_timeseries\\\":false,\\\"max_cores_per_iteration\\\":1,\\\"max_concurrent_iterations\\\":4,\\\"iteration_timeout_minutes\\\":10,\\\"mem_in_mb\\\":null,\\\"enforce_time_on_windows\\\":false,\\\"experiment_timeout_minutes\\\":30,\\\"experiment_exit_score\\\":null,\\\"partition_column_names\\\":null,\\\"whitelist_models\\\":null,\\\"blacklist_algos\\\":[\\\"TensorFlowLinearClassifier\\\",\\\"TensorFlowDNN\\\"],\\\"supported_models\\\":[\\\"SGD\\\",\\\"XGBoostClassifier\\\",\\\"GradientBoosting\\\",\\\"LightGBM\\\",\\\"MultinomialNaiveBayes\\\",\\\"LogisticRegression\\\",\\\"SVM\\\",\\\"ExtremeRandomTrees\\\",\\\"TensorFlowDNN\\\",\\\"RandomForest\\\",\\\"TabnetClassifier\\\",\\\"AveragedPerceptronClassifier\\\",\\\"TensorFlowLinearClassifier\\\",\\\"DecisionTree\\\",\\\"LinearSVM\\\",\\\"KNN\\\",\\\"BernoulliNaiveBayes\\\"],\\\"private_models\\\":[],\\\"auto_blacklist\\\":true,\\\"blacklist_samples_reached\\\":false,\\\"exclude_nan_labels\\\":true,\\\"verbosity\\\":20,\\\"_debug_log\\\":\\\"azureml_automl.log\\\",\\\"show_warnings\\\":false,\\\"model_explainability\\\":true,\\\"service_url\\\":null,\\\"sdk_url\\\":null,\\\"sdk_packages\\\":null,\\\"enable_onnx_compatible_models\\\":true,\\\"enable_split_onnx_featurizer_estimator_models\\\":false,\\\"vm_type\\\":\\\"STANDARD_DS3_V2\\\",\\\"telemetry_verbosity\\\":20,\\\"send_telemetry\\\":true,\\\"enable_dnn\\\":false,\\\"scenario\\\":\\\"AutoML\\\",\\\"environment_label\\\":null,\\\"save_mlflow\\\":false,\\\"enable_categorical_indicators\\\":false,\\\"force_text_dnn\\\":false,\\\"enable_feature_sweeping\\\":false,\\\"enable_early_stopping\\\":true,\\\"early_stopping_n_iters\\\":10,\\\"arguments\\\":null,\\\"dataset_id\\\":\\\"cb33d3cd-f7f5-466f-bdcb-cdef2c260d2f\\\",\\\"hyperdrive_config\\\":null,\\\"validation_dataset_id\\\":null,\\\"run_source\\\":null,\\\"metrics\\\":null,\\\"enable_metric_confidence\\\":false,\\\"enable_ensembling\\\":true,\\\"enable_stack_ensembling\\\":false,\\\"ensemble_iterations\\\":15,\\\"enable_tf\\\":false,\\\"enable_subsampling\\\":null,\\\"subsample_seed\\\":null,\\\"enable_nimbusml\\\":false,\\\"enable_streaming\\\":false,\\\"force_streaming\\\":false,\\\"track_child_runs\\\":true,\\\"n_best_runs\\\":1,\\\"allowed_private_models\\\":[],\\\"label_column_name\\\":\\\"fraud\\\",\\\"weight_column_name\\\":null,\\\"cv_split_column_names\\\":null,\\\"enable_local_managed\\\":false,\\\"_local_managed_run_id\\\":null,\\\"cost_mode\\\":1,\\\"lag_length\\\":0,\\\"metric_operation\\\":\\\"maximize\\\",\\\"preprocess\\\":true}\", \"DataPrepJsonString\": \"{\\\\\\\"training_data\\\\\\\": {\\\\\\\"datasetId\\\\\\\": \\\\\\\"cb33d3cd-f7f5-466f-bdcb-cdef2c260d2f\\\\\\\"}, \\\\\\\"datasets\\\\\\\": 0}\", \"EnableSubsampling\": null, \"runTemplate\": \"AutoML\", \"azureml.runsource\": \"automl\", \"display_task_type\": \"classification\", \"dependencies_versions\": \"{\\\"azureml-dataprep-native\\\": \\\"38.0.0\\\", \\\"azureml-dataprep\\\": \\\"4.10.8\\\", \\\"azureml-dataprep-rslex\\\": \\\"2.17.12\\\", \\\"azureml-train-automl-runtime\\\": \\\"1.51.0.post2\\\", \\\"azureml-train-automl-client\\\": \\\"1.51.0.post1\\\", \\\"azureml-training-tabular\\\": \\\"1.51.0.post1\\\", \\\"azureml-automl-runtime\\\": \\\"1.51.0.post1\\\", \\\"azureml-automl-core\\\": \\\"1.51.0.post1\\\", \\\"azureml-mlflow\\\": \\\"1.51.0\\\", \\\"azureml-datadrift\\\": \\\"1.51.0\\\", \\\"azureml-pipeline\\\": \\\"1.51.0\\\", \\\"azureml-contrib-dataset\\\": \\\"1.51.0\\\", \\\"azureml-contrib-notebook\\\": \\\"1.51.0\\\", \\\"azureml-accel-models\\\": \\\"1.51.0\\\", \\\"azureml-automl-dnn-nlp\\\": \\\"1.51.0\\\", \\\"azureml-pipeline-core\\\": \\\"1.51.0\\\", \\\"azureml-responsibleai\\\": \\\"1.51.0\\\", \\\"azureml-contrib-automl-pipeline-steps\\\": \\\"1.51.0\\\", \\\"azureml-pipeline-steps\\\": \\\"1.51.0\\\", \\\"azureml-core\\\": \\\"1.51.0\\\", \\\"azureml-contrib-reinforcementlearning\\\": \\\"1.51.0\\\", \\\"azureml-contrib-server\\\": \\\"1.51.0\\\", \\\"azureml-opendatasets\\\": \\\"1.51.0\\\", \\\"azureml-contrib-services\\\": \\\"1.51.0\\\", \\\"azureml-telemetry\\\": \\\"1.51.0\\\", \\\"azureml-train-restclients-hyperdrive\\\": \\\"1.51.0\\\", \\\"azureml-interpret\\\": \\\"1.51.0\\\", \\\"azureml-train-core\\\": \\\"1.51.0\\\", \\\"azureml-tensorboard\\\": \\\"1.51.0\\\", \\\"azureml-train\\\": \\\"1.51.0\\\", \\\"azureml-contrib-pipeline-steps\\\": \\\"1.51.0\\\", \\\"azureml-explain-model\\\": \\\"1.51.0\\\", \\\"azureml-cli-common\\\": \\\"1.51.0\\\", \\\"azureml-widgets\\\": \\\"1.51.0\\\", \\\"azureml-train-automl\\\": \\\"1.51.0\\\", \\\"azureml-defaults\\\": \\\"1.51.0\\\", \\\"azureml-contrib-fairness\\\": \\\"1.51.0\\\", \\\"azureml-sdk\\\": \\\"1.51.0\\\", \\\"azureml-dataset-runtime\\\": \\\"1.51.0\\\", \\\"azureml-inference-server-http\\\": \\\"0.8.4\\\"}\", \"_aml_system_scenario_identification\": \"Remote.Parent\", \"ClientType\": \"SDK\", \"PlatformVersion\": \"DPV1\", \"environment_cpu_name\": \"AzureML-AutoML\", \"environment_cpu_label\": \"prod\", \"environment_gpu_name\": \"AzureML-AutoML-GPU\", \"environment_gpu_label\": \"prod\", \"root_attribution\": \"automl\", \"attribution\": \"AutoML\", \"Orchestrator\": \"AutoML\", \"CancelUri\": \"https://westus2.api.azureml.ms/jasmine/v1.0/subscriptions/510b94ba-e453-4417-988b-fbdc37b55ca7/resourceGroups/aml-quickstarts-239768/providers/Microsoft.MachineLearningServices/workspaces/quick-starts-ws-239768/experimentids/b557f86d-7c9f-4ccb-9a28-c8b9bfb6e17d/cancel/AutoML_d9a7c24f-49f6-4d75-9668-6bf0c6b356b4\", \"ClientSdkVersion\": null, \"snapshotId\": \"00000000-0000-0000-0000-000000000000\", \"SetupRunId\": \"AutoML_d9a7c24f-49f6-4d75-9668-6bf0c6b356b4_setup\", \"SetupRunContainerId\": \"dcid.AutoML_d9a7c24f-49f6-4d75-9668-6bf0c6b356b4_setup\", \"FeaturizationRunJsonPath\": \"featurizer_container.json\", \"FeaturizationRunId\": \"AutoML_d9a7c24f-49f6-4d75-9668-6bf0c6b356b4_featurize\", \"ProblemInfoJsonString\": \"{\\\"dataset_num_categorical\\\": 0, \\\"is_sparse\\\": true, \\\"subsampling\\\": false, \\\"has_extra_col\\\": true, \\\"dataset_classes\\\": 2, \\\"dataset_features\\\": 145, \\\"dataset_samples\\\": 4240, \\\"single_frequency_class_detected\\\": false}\", \"ModelExplainRunId\": \"AutoML_d9a7c24f-49f6-4d75-9668-6bf0c6b356b4_ModelExplain\"}, \"tags\": {\"model_explain_run\": \"best_run\", \"_aml_system_automl_run_workspace_id\": \"dbee5b46-662b-4c0d-9120-bd274a0d0391\", \"_aml_system_azureml.automlComponent\": \"AutoML\", \"pipeline_id_000\": \"5dfac790c5c209f98a1da2dc1c7fb76f0397324f;c7af0367625be6ac5c2fecbfc72ed444cb7a2111;51ae05309834b29f71340af1008fc94fbd8213f4;ce2643edf3d450b10c86c7d034a9bc952dc282d3;039a99c3d5147edeb525249e2660628be3e8b83f;a3dadd95854bf6116ab454844302b51d417d78b7;9610149fbcf43017aa810a290e9c04cbe6fa8684;1dfdf370ba770047b14bfa59c40920815defcdab;1e38ae92baee19b18f211a8b14c16015d5ee3dc3;6f4a466f84f725a47910c1dff062a1bb46df2a21;294650ec23bc3d067a4972de7ceb12f6e97260fa;681a59302459aec2cc115ddbc14e1d28f4b3b8df;a7434e890cabef86b0ce4ae71fb633e1e92b854d;dea7fdbaedc77258dbfe31dbfed41e768ca38939;5bcf69d12307c5f0246b0d33ab19666443595ac9;dd46719e1e1ca3df6e6826afb96bf9be8390e6e2;c74787cd2f0507b852a1ac70d504d83ac9bdec83;208056285bd1883d5bd7d4e4e996a1c71c4b0033;79ebb3b8c385e3190e3dd4c1fa28b74730528045;5dcd9bc8a74634130a855a68c1bf956ce7160f98;a72eb56f3d4aadb7b7f0149ba6e5f05657a95ca1;ee365d2bc711bc6838929328cc4ff4b890fbc6c3;f9c4839cd35f7fe03bcc11d87a99d82f63f333dc;3fe9ace0255a98a01a321c2b4c6ab86f6c1db8e5;9f93fbc0ff6b5e1ab4d4d4e046323b8b928dc0e0;eb060ff7ba0bf70687128be84d0fa9ce7cae70ac;26938661c1cd76d11c69cdfd290da29f0b629d5d;e6618fb2eb6ba0b42b3dcf317f668e138a51d399;07b1d0f7a40b1bd6efec14f156d4f2701b8cf150;4e6bb9d876de19f2e391e2a48ac1e0dde15e9e5c;7f1c77f6304f2ea2054a85f2605a11ee38ef1e0f;ba29499a4ce25a499a8fbd5b7ff1bc8581607dff;c39ba7f3e45f61d9cb3fc5e2a66aa6c5ca9d1c5f;fcdf28fc58b3b91aedfeffae7e98050851fe5deb;1a1ea8931b40ff3ab06f5ccb38f1e23aa2fd2c96;a82595670f559567fdfa3455ac4b40b8346eac70;24cff2a2eff696b3d211c2c17ebca2895d41cec9;__AutoML_Ensemble__\", \"score_000\": \"0.9691352479188076;0.9704499330100272;0.8933340990548156;0.8686098661445433;0.908678127391273;0.937463724374421;0.944670000550685;0.8923134537575855;0.9025810521026896;0.8987318560226176;0.9634623372193302;0.9578307228561138;0.9158903921104333;0.8293111487130899;0.8658632559239738;0.9495446811310716;0.9392938482170656;0.8152636198891046;0.8145654065734759;0.9025744585247526;0.989346159483145;0.9458131303336575;0.8897867885076348;0.9609792412364838;0.8901483309122071;0.9015383515644307;0.8207139955653219;0.901191857787795;0.9640194590698833;0.9128741799570731;0.5;0.9135206091729329;0.928733600315408;0.9173146358451536;NaN;NaN;NaN;0.9884638437567815\", \"predicted_cost_000\": \"0;0;0.5;0.5;0.5;0.5;0.5;0.5;0.5;0.5;0.5;0.5;0.5;0.5;0.5;0.5;0.5;0.5;0.5;0.33263838367525544;0.5;0.16952030164887105;0.0667672004261485;0.4986051950331301;0.030101128718346467;0.1908872862933916;0.1673412965631779;0.4577319789250145;0.32813981008313076;0.21136237177318012;0.14896601631912823;0.04662905618188049;0.45659484191602373;0.10319402341973129;0.10222317859249619;0.44564168580901437;0.16550234519024098;0\", \"fit_time_000\": \"0.16772360000000003;0.40616080000000004;0.0812074;0.0792592;0.0390584;0.12253359999999999;0.1298956;0.520966;0.26050680000000004;0.038207000000000005;0.0834246;0.17380179999999998;1.7307758;0.8459754;0.1110852;0.088359;0.1675984;0.21908360000000004;0.0748382;0.11783980000000001;1.0701784;0.1062436;0.042370000000000005;0.34912;0.0389604;0.11886719999999999;1.3738700000000001;0.2864952;0.4397468;0.0782746;0.4468954;0.3875776;0.1260108;0.18578920000000002;NaN;NaN;NaN;30\", \"training_percent_000\": \"100;100;100;100;100;100;100;100;100;100;100;100;100;100;100;100;100;100;100;100;100;100;100;100;100;100;100;100;100;100;100;100;100;100;100;100;100;100\", \"iteration_000\": \"0;1;2;3;4;5;15;6;16;10;7;8;17;11;9;18;12;19;13;20;14;21;23;22;25;27;24;26;28;30;29;32;33;34;36;35;31;37\", \"run_preprocessor_000\": \"MaxAbsScaler;MaxAbsScaler;MaxAbsScaler;MaxAbsScaler;StandardScalerWrapper;SparseNormalizer;MaxAbsScaler;SparseNormalizer;MaxAbsScaler;SparseNormalizer;StandardScalerWrapper;SparseNormalizer;StandardScalerWrapper;MaxAbsScaler;MaxAbsScaler;StandardScalerWrapper;StandardScalerWrapper;MaxAbsScaler;StandardScalerWrapper;MaxAbsScaler;StandardScalerWrapper;StandardScalerWrapper;MaxAbsScaler;StandardScalerWrapper;MaxAbsScaler;StandardScalerWrapper;TruncatedSVDWrapper;StandardScalerWrapper;StandardScalerWrapper;StandardScalerWrapper;MaxAbsScaler;SparseNormalizer;StandardScalerWrapper;StandardScalerWrapper;;;SparseNormalizer;\", \"run_algorithm_000\": \"LightGBM;XGBoostClassifier;ExtremeRandomTrees;RandomForest;LightGBM;XGBoostClassifier;LightGBM;RandomForest;LogisticRegression;LightGBM;XGBoostClassifier;XGBoostClassifier;ExtremeRandomTrees;ExtremeRandomTrees;RandomForest;XGBoostClassifier;XGBoostClassifier;ExtremeRandomTrees;ExtremeRandomTrees;LogisticRegression;RandomForest;XGBoostClassifier;RandomForest;XGBoostClassifier;SGD;LogisticRegression;RandomForest;LogisticRegression;XGBoostClassifier;XGBoostClassifier;RandomForest;LightGBM;XGBoostClassifier;LightGBM;;;LightGBM;VotingEnsemble\", \"dynamic_allowlisting_iterations\": \"<24>;<29>;<35>;\", \"_aml_system_azureml.automl_early_exit_message\": \"No scores improved over last 10 iterations, so experiment stopped early. This early stopping behavior can be disabled by setting enable_early_stopping = False in AutoMLConfig for notebook/python SDK runs.\", \"automl_best_child_run_id\": \"AutoML_d9a7c24f-49f6-4d75-9668-6bf0c6b356b4_14\", \"model_explain_best_run_child_id\": \"AutoML_d9a7c24f-49f6-4d75-9668-6bf0c6b356b4_14\"}, \"end_time_utc\": \"2023-08-05T12:58:29.108329Z\", \"status\": \"Completed\", \"log_files\": {}, \"log_groups\": [], \"run_duration\": \"0:16:48\", \"run_number\": \"1691239300\", \"run_queued_details\": {\"status\": \"Completed\", \"details\": null}}, \"child_runs\": [{\"run_id\": \"AutoML_d9a7c24f-49f6-4d75-9668-6bf0c6b356b4_setup\", \"run_number\": 1691239313, \"metric\": null, \"status\": \"Completed\", \"run_type\": \"azureml.scriptrun\", \"training_percent\": null, \"start_time\": \"2023-08-05T12:44:00.047232Z\", \"end_time\": \"2023-08-05T12:45:16.845667Z\", \"created_time\": \"2023-08-05T12:41:53.962804Z\", \"created_time_dt\": \"2023-08-05T12:41:53.962804Z\", \"duration\": \"0:03:22\", \"iteration\": null, \"goal\": null, \"run_name\": \"Completed\", \"run_properties\": null}, {\"run_id\": \"AutoML_d9a7c24f-49f6-4d75-9668-6bf0c6b356b4_featurize\", \"run_number\": 1691239517, \"metric\": null, \"status\": \"Completed\", \"run_type\": \"automl.featurization\", \"training_percent\": null, \"start_time\": \"2023-08-05T12:45:17.468557Z\", \"end_time\": \"2023-08-05T12:47:00.83046Z\", \"created_time\": \"2023-08-05T12:45:17.101645Z\", \"created_time_dt\": \"2023-08-05T12:45:17.101645Z\", \"duration\": \"0:01:43\", \"iteration\": null, \"goal\": null, \"run_name\": \"Completed\", \"run_properties\": null}, {\"run_id\": \"AutoML_d9a7c24f-49f6-4d75-9668-6bf0c6b356b4_0\", \"run_number\": 1691239622, \"metric\": null, \"status\": \"Completed\", \"run_type\": null, \"training_percent\": \"100\", \"start_time\": \"2023-08-05T12:47:26.045316Z\", \"end_time\": \"2023-08-05T12:47:53.820614Z\", \"created_time\": \"2023-08-05T12:47:02.564643Z\", \"created_time_dt\": \"2023-08-05T12:47:02.564643Z\", \"duration\": \"0:00:51\", \"iteration\": \"0\", \"goal\": \"AUC_weighted_max\", \"run_name\": \"MaxAbsScaler, LightGBM\", \"run_properties\": \"copy=True\", \"primary_metric\": 0.96913525, \"best_metric\": 0.96913525}, {\"run_id\": \"AutoML_d9a7c24f-49f6-4d75-9668-6bf0c6b356b4_1\", \"run_number\": 1691239623, \"metric\": null, \"status\": \"Completed\", \"run_type\": null, \"training_percent\": \"100\", \"start_time\": \"2023-08-05T12:47:54.631887Z\", \"end_time\": \"2023-08-05T12:48:21.457595Z\", \"created_time\": \"2023-08-05T12:47:03.180473Z\", \"created_time_dt\": \"2023-08-05T12:47:03.180473Z\", \"duration\": \"0:01:18\", \"iteration\": \"1\", \"goal\": \"AUC_weighted_max\", \"run_name\": \"MaxAbsScaler, XGBoostClassifier\", \"run_properties\": \"copy=True\", \"primary_metric\": 0.97044993, \"best_metric\": 0.97044993}, {\"run_id\": \"AutoML_d9a7c24f-49f6-4d75-9668-6bf0c6b356b4_worker_0\", \"run_number\": 1691239624, \"metric\": null, \"status\": \"Completed\", \"run_type\": \"azureml.scriptrun\", \"training_percent\": null, \"start_time\": \"2023-08-05T12:47:17.898213Z\", \"end_time\": \"2023-08-05T12:49:45.488487Z\", \"created_time\": \"2023-08-05T12:47:04.736044Z\", \"created_time_dt\": \"2023-08-05T12:47:04.736044Z\", \"duration\": \"0:02:40\", \"iteration\": null, \"goal\": null, \"run_name\": \"Completed\", \"run_properties\": null}, {\"run_id\": \"AutoML_d9a7c24f-49f6-4d75-9668-6bf0c6b356b4_6\", \"run_number\": 1691239625, \"metric\": null, \"status\": \"Completed\", \"run_type\": null, \"training_percent\": \"100\", \"start_time\": \"2023-08-05T12:50:26.288048Z\", \"end_time\": \"2023-08-05T12:50:53.344644Z\", \"created_time\": \"2023-08-05T12:47:05.339286Z\", \"created_time_dt\": \"2023-08-05T12:47:05.339286Z\", \"duration\": \"0:03:48\", \"iteration\": \"6\", \"goal\": \"AUC_weighted_max\", \"run_name\": \"SparseNormalizer, RandomForest\", \"run_properties\": \"copy=True, norm='l2'\", \"primary_metric\": 0.89231345, \"best_metric\": 0.97044993}, {\"run_id\": \"AutoML_d9a7c24f-49f6-4d75-9668-6bf0c6b356b4_worker_1\", \"run_number\": 1691239626, \"metric\": null, \"status\": \"Completed\", \"run_type\": \"azureml.scriptrun\", \"training_percent\": null, \"start_time\": \"2023-08-05T12:49:02.773483Z\", \"end_time\": \"2023-08-05T12:52:22.758271Z\", \"created_time\": \"2023-08-05T12:47:06.873785Z\", \"created_time_dt\": \"2023-08-05T12:47:06.873785Z\", \"duration\": \"0:05:15\", \"iteration\": null, \"goal\": null, \"run_name\": \"Completed\", \"run_properties\": null}, {\"run_id\": \"AutoML_d9a7c24f-49f6-4d75-9668-6bf0c6b356b4_10\", \"run_number\": 1691239627, \"metric\": null, \"status\": \"Completed\", \"run_type\": null, \"training_percent\": \"100\", \"start_time\": \"2023-08-05T12:50:46.110985Z\", \"end_time\": \"2023-08-05T12:51:12.022391Z\", \"created_time\": \"2023-08-05T12:47:07.078608Z\", \"created_time_dt\": \"2023-08-05T12:47:07.078608Z\", \"duration\": \"0:04:04\", \"iteration\": \"10\", \"goal\": \"AUC_weighted_max\", \"run_name\": \"SparseNormalizer, LightGBM\", \"run_properties\": \"copy=True, norm='l1'\", \"primary_metric\": 0.89873186, \"best_metric\": 0.97044993}, {\"run_id\": \"AutoML_d9a7c24f-49f6-4d75-9668-6bf0c6b356b4_13\", \"run_number\": 1691239628, \"metric\": null, \"status\": \"Completed\", \"run_type\": null, \"training_percent\": \"100\", \"start_time\": \"2023-08-05T12:52:11.180434Z\", \"end_time\": \"2023-08-05T12:52:35.519914Z\", \"created_time\": \"2023-08-05T12:47:08.377Z\", \"created_time_dt\": \"2023-08-05T12:47:08.377Z\", \"duration\": \"0:05:27\", \"iteration\": \"13\", \"goal\": \"AUC_weighted_max\", \"run_name\": \"StandardScalerWrapper, ExtremeRandomTrees\", \"run_properties\": \"copy=True, with_mean=False, with_std=False\", \"primary_metric\": 0.81456541, \"best_metric\": 0.97044993}, {\"run_id\": \"AutoML_d9a7c24f-49f6-4d75-9668-6bf0c6b356b4_worker_2\", \"run_number\": 1691239629, \"metric\": null, \"status\": \"Completed\", \"run_type\": \"azureml.scriptrun\", \"training_percent\": null, \"start_time\": \"2023-08-05T12:49:17.841879Z\", \"end_time\": \"2023-08-05T12:53:21.207738Z\", \"created_time\": \"2023-08-05T12:47:09.073207Z\", \"created_time_dt\": \"2023-08-05T12:47:09.073207Z\", \"duration\": \"0:06:12\", \"iteration\": null, \"goal\": null, \"run_name\": \"Completed\", \"run_properties\": null}, {\"run_id\": \"AutoML_d9a7c24f-49f6-4d75-9668-6bf0c6b356b4_17\", \"run_number\": 1691239630, \"metric\": null, \"status\": \"Completed\", \"run_type\": null, \"training_percent\": \"100\", \"start_time\": \"2023-08-05T12:51:09.066709Z\", \"end_time\": \"2023-08-05T12:51:43.253653Z\", \"created_time\": \"2023-08-05T12:47:10.177489Z\", \"created_time_dt\": \"2023-08-05T12:47:10.177489Z\", \"duration\": \"0:04:33\", \"iteration\": \"17\", \"goal\": \"AUC_weighted_max\", \"run_name\": \"StandardScalerWrapper, ExtremeRandomTrees\", \"run_properties\": \"copy=True, with_mean=False, with_std=True\", \"primary_metric\": 0.91589039, \"best_metric\": 0.97044993}, {\"run_id\": \"AutoML_d9a7c24f-49f6-4d75-9668-6bf0c6b356b4_worker_3\", \"run_number\": 1691239631, \"metric\": null, \"status\": \"Completed\", \"run_type\": \"azureml.scriptrun\", \"training_percent\": null, \"start_time\": \"2023-08-05T12:49:18.399813Z\", \"end_time\": \"2023-08-05T12:52:40.896763Z\", \"created_time\": \"2023-08-05T12:47:11.257568Z\", \"created_time_dt\": \"2023-08-05T12:47:11.257568Z\", \"duration\": \"0:05:29\", \"iteration\": null, \"goal\": null, \"run_name\": \"Completed\", \"run_properties\": null}, {\"run_id\": \"AutoML_d9a7c24f-49f6-4d75-9668-6bf0c6b356b4_20\", \"run_number\": 1691239933, \"metric\": null, \"status\": \"Completed\", \"run_type\": \"azureml.scriptrun\", \"training_percent\": \"100\", \"start_time\": \"2023-08-05T12:52:25.982486Z\", \"end_time\": \"2023-08-05T12:53:09.060121Z\", \"created_time\": \"2023-08-05T12:52:13.678478Z\", \"created_time_dt\": \"2023-08-05T12:52:13.678478Z\", \"duration\": \"0:00:55\", \"iteration\": \"20\", \"goal\": \"AUC_weighted_max\", \"run_name\": \"MaxAbsScaler, LogisticRegression\", \"run_properties\": \"copy=True\", \"primary_metric\": 0.90257446, \"best_metric\": 0.97044993}, {\"run_id\": \"AutoML_d9a7c24f-49f6-4d75-9668-6bf0c6b356b4_21\", \"run_number\": 1691239955, \"metric\": null, \"status\": \"Completed\", \"run_type\": \"azureml.scriptrun\", \"training_percent\": \"100\", \"start_time\": \"2023-08-05T12:52:44.162592Z\", \"end_time\": \"2023-08-05T12:53:24.119869Z\", \"created_time\": \"2023-08-05T12:52:34.995223Z\", \"created_time_dt\": \"2023-08-05T12:52:34.995223Z\", \"duration\": \"0:00:49\", \"iteration\": \"21\", \"goal\": \"AUC_weighted_max\", \"run_name\": \"StandardScalerWrapper, XGBoostClassifier\", \"run_properties\": \"copy=True, with_mean=False, with_std=False\", \"primary_metric\": 0.94581313, \"best_metric\": 0.97044993}, {\"run_id\": \"AutoML_d9a7c24f-49f6-4d75-9668-6bf0c6b356b4_23\", \"run_number\": 1691239991, \"metric\": null, \"status\": \"Completed\", \"run_type\": \"azureml.scriptrun\", \"training_percent\": \"100\", \"start_time\": \"2023-08-05T12:53:23.407282Z\", \"end_time\": \"2023-08-05T12:54:04.999291Z\", \"created_time\": \"2023-08-05T12:53:11.888189Z\", \"created_time_dt\": \"2023-08-05T12:53:11.888189Z\", \"duration\": \"0:00:53\", \"iteration\": \"23\", \"goal\": \"AUC_weighted_max\", \"run_name\": \"MaxAbsScaler, RandomForest\", \"run_properties\": \"copy=True\", \"primary_metric\": 0.88978679, \"best_metric\": 0.97044993}, {\"run_id\": \"AutoML_d9a7c24f-49f6-4d75-9668-6bf0c6b356b4_25\", \"run_number\": 1691240006, \"metric\": null, \"status\": \"Completed\", \"run_type\": \"azureml.scriptrun\", \"training_percent\": \"100\", \"start_time\": \"2023-08-05T12:53:33.735301Z\", \"end_time\": \"2023-08-05T12:54:17.941763Z\", \"created_time\": \"2023-08-05T12:53:26.90496Z\", \"created_time_dt\": \"2023-08-05T12:53:26.90496Z\", \"duration\": \"0:00:51\", \"iteration\": \"25\", \"goal\": \"AUC_weighted_max\", \"run_name\": \"MaxAbsScaler, SGD\", \"run_properties\": \"copy=True\", \"primary_metric\": 0.89014833, \"best_metric\": 0.97044993}, {\"run_id\": \"AutoML_d9a7c24f-49f6-4d75-9668-6bf0c6b356b4_26\", \"run_number\": 1691240046, \"metric\": null, \"status\": \"Completed\", \"run_type\": \"azureml.scriptrun\", \"training_percent\": \"100\", \"start_time\": \"2023-08-05T12:54:17.923691Z\", \"end_time\": \"2023-08-05T12:55:02.545775Z\", \"created_time\": \"2023-08-05T12:54:06.459061Z\", \"created_time_dt\": \"2023-08-05T12:54:06.459061Z\", \"duration\": \"0:00:56\", \"iteration\": \"26\", \"goal\": \"AUC_weighted_max\", \"run_name\": \"StandardScalerWrapper, LogisticRegression\", \"run_properties\": \"copy=True, with_mean=False, with_std=True\", \"primary_metric\": 0.90119186, \"best_metric\": 0.97044993}, {\"run_id\": \"AutoML_d9a7c24f-49f6-4d75-9668-6bf0c6b356b4_27\", \"run_number\": 1691240050, \"metric\": null, \"status\": \"Completed\", \"run_type\": \"azureml.scriptrun\", \"training_percent\": \"100\", \"start_time\": \"2023-08-05T12:54:19.936455Z\", \"end_time\": \"2023-08-05T12:55:00.223471Z\", \"created_time\": \"2023-08-05T12:54:10.200187Z\", \"created_time_dt\": \"2023-08-05T12:54:10.200187Z\", \"duration\": \"0:00:50\", \"iteration\": \"27\", \"goal\": \"AUC_weighted_max\", \"run_name\": \"StandardScalerWrapper, LogisticRegression\", \"run_properties\": \"copy=True, with_mean=False, with_std=True\", \"primary_metric\": 0.90153835, \"best_metric\": 0.97044993}, {\"run_id\": \"AutoML_d9a7c24f-49f6-4d75-9668-6bf0c6b356b4_28\", \"run_number\": 1691240059, \"metric\": null, \"status\": \"Completed\", \"run_type\": \"azureml.scriptrun\", \"training_percent\": \"100\", \"start_time\": \"2023-08-05T12:55:05.878283Z\", \"end_time\": \"2023-08-05T12:55:52.593478Z\", \"created_time\": \"2023-08-05T12:54:19.589553Z\", \"created_time_dt\": \"2023-08-05T12:54:19.589553Z\", \"duration\": \"0:01:33\", \"iteration\": \"28\", \"goal\": \"AUC_weighted_max\", \"run_name\": \"StandardScalerWrapper, XGBoostClassifier\", \"run_properties\": \"copy=True, with_mean=False, with_std=False\", \"primary_metric\": 0.96401946, \"best_metric\": 0.97044993}, {\"run_id\": \"AutoML_d9a7c24f-49f6-4d75-9668-6bf0c6b356b4_29\", \"run_number\": 1691240104, \"metric\": null, \"status\": \"Completed\", \"run_type\": \"azureml.scriptrun\", \"training_percent\": \"100\", \"start_time\": \"2023-08-05T12:55:15.366814Z\", \"end_time\": \"2023-08-05T12:55:57.688006Z\", \"created_time\": \"2023-08-05T12:55:03.996213Z\", \"created_time_dt\": \"2023-08-05T12:55:03.996213Z\", \"duration\": \"0:00:53\", \"iteration\": \"29\", \"goal\": \"AUC_weighted_max\", \"run_name\": \"MaxAbsScaler, RandomForest\", \"run_properties\": \"copy=True\", \"primary_metric\": 0.5, \"best_metric\": 0.97044993}, {\"run_id\": \"AutoML_d9a7c24f-49f6-4d75-9668-6bf0c6b356b4_31\", \"run_number\": 1691240106, \"metric\": null, \"status\": \"Canceled\", \"run_type\": \"azureml.scriptrun\", \"training_percent\": \"100\", \"start_time\": \"2023-08-05T12:55:52.813276Z\", \"end_time\": \"2023-08-05T12:56:59.071221Z\", \"created_time\": \"2023-08-05T12:55:06.164308Z\", \"created_time_dt\": \"2023-08-05T12:55:06.164308Z\", \"duration\": \"0:01:52\", \"iteration\": \"31\", \"goal\": null, \"run_name\": \"SparseNormalizer, LightGBM\", \"run_properties\": null}, {\"run_id\": \"AutoML_d9a7c24f-49f6-4d75-9668-6bf0c6b356b4_32\", \"run_number\": 1691240154, \"metric\": null, \"status\": \"Completed\", \"run_type\": \"azureml.scriptrun\", \"training_percent\": \"100\", \"start_time\": \"2023-08-05T12:56:04.899282Z\", \"end_time\": \"2023-08-05T12:56:47.483136Z\", \"created_time\": \"2023-08-05T12:55:54.340896Z\", \"created_time_dt\": \"2023-08-05T12:55:54.340896Z\", \"duration\": \"0:00:53\", \"iteration\": \"32\", \"goal\": \"AUC_weighted_max\", \"run_name\": \"SparseNormalizer, LightGBM\", \"run_properties\": \"copy=True, norm='l1'\", \"primary_metric\": 0.91352061, \"best_metric\": 0.97044993}, {\"run_id\": \"AutoML_d9a7c24f-49f6-4d75-9668-6bf0c6b356b4_33\", \"run_number\": 1691240156, \"metric\": null, \"status\": \"Completed\", \"run_type\": \"azureml.scriptrun\", \"training_percent\": \"100\", \"start_time\": \"2023-08-05T12:56:10.370438Z\", \"end_time\": \"2023-08-05T12:56:50.450338Z\", \"created_time\": \"2023-08-05T12:55:56.481126Z\", \"created_time_dt\": \"2023-08-05T12:55:56.481126Z\", \"duration\": \"0:00:53\", \"iteration\": \"33\", \"goal\": \"AUC_weighted_max\", \"run_name\": \"StandardScalerWrapper, XGBoostClassifier\", \"run_properties\": \"copy=True, with_mean=False, with_std=False\", \"primary_metric\": 0.9287336, \"best_metric\": 0.97044993}, {\"run_id\": \"AutoML_d9a7c24f-49f6-4d75-9668-6bf0c6b356b4_34\", \"run_number\": 1691240159, \"metric\": null, \"status\": \"Completed\", \"run_type\": \"azureml.scriptrun\", \"training_percent\": \"100\", \"start_time\": \"2023-08-05T12:56:12.85822Z\", \"end_time\": \"2023-08-05T12:56:52.271932Z\", \"created_time\": \"2023-08-05T12:55:59.386351Z\", \"created_time_dt\": \"2023-08-05T12:55:59.386351Z\", \"duration\": \"0:00:52\", \"iteration\": \"34\", \"goal\": \"AUC_weighted_max\", \"run_name\": \"StandardScalerWrapper, LightGBM\", \"run_properties\": \"copy=True, with_mean=False, with_std=False\", \"primary_metric\": 0.91731464, \"best_metric\": 0.97044993}, {\"run_id\": \"AutoML_d9a7c24f-49f6-4d75-9668-6bf0c6b356b4_35\", \"run_number\": 1691240210, \"metric\": null, \"status\": \"Canceled\", \"run_type\": \"azureml.scriptrun\", \"training_percent\": \"100\", \"start_time\": \"2023-08-05T12:56:53.290208Z\", \"end_time\": \"2023-08-05T12:56:58.659358Z\", \"created_time\": \"2023-08-05T12:56:50.036468Z\", \"created_time_dt\": \"2023-08-05T12:56:50.036468Z\", \"duration\": \"0:00:08\", \"iteration\": \"35\", \"goal\": null, \"run_name\": \"Canceled\", \"run_properties\": null}, {\"run_id\": \"AutoML_d9a7c24f-49f6-4d75-9668-6bf0c6b356b4_36\", \"run_number\": 1691240212, \"metric\": null, \"status\": \"Canceled\", \"run_type\": \"azureml.scriptrun\", \"training_percent\": \"100\", \"start_time\": \"2023-08-05T12:56:53.293231Z\", \"end_time\": \"2023-08-05T12:56:54.746394Z\", \"created_time\": \"2023-08-05T12:56:52.037575Z\", \"created_time_dt\": \"2023-08-05T12:56:52.037575Z\", \"duration\": \"0:00:02\", \"iteration\": \"36\", \"goal\": null, \"run_name\": \"Canceled\", \"run_properties\": null}, {\"run_id\": \"AutoML_d9a7c24f-49f6-4d75-9668-6bf0c6b356b4_37\", \"run_number\": 1691240219, \"metric\": null, \"status\": \"Completed\", \"run_type\": \"azureml.scriptrun\", \"training_percent\": \"100\", \"start_time\": \"2023-08-05T12:57:10.880926Z\", \"end_time\": \"2023-08-05T12:58:27.677585Z\", \"created_time\": \"2023-08-05T12:56:59.782525Z\", \"created_time_dt\": \"2023-08-05T12:56:59.782525Z\", \"duration\": \"0:01:27\", \"iteration\": \"37\", \"goal\": \"AUC_weighted_max\", \"run_name\": \"VotingEnsemble\", \"run_properties\": \"classification_labels=numpy.array([0, 1]\", \"primary_metric\": 0.98846384, \"best_metric\": 0.98846384}], \"children_metrics\": {\"categories\": [0], \"series\": {\"AUC_weighted\": [{\"categories\": [\"0\", \"1\", \"6\", \"10\", \"13\", \"17\", \"20\", \"21\", \"23\", \"25\", \"26\", \"27\", \"28\", \"29\", \"32\", \"33\", \"34\", \"37\"], \"mode\": \"markers\", \"name\": \"AUC_weighted\", \"stepped\": false, \"type\": \"scatter\", \"data\": [0.9691352479188076, 0.9704499330100272, 0.8923134537575855, 0.8987318560226176, 0.8145654065734759, 0.9158903921104333, 0.9025744585247526, 0.9458131303336575, 0.8897867885076348, 0.8901483309122071, 0.901191857787795, 0.9015383515644307, 0.9640194590698833, 0.5, 0.9135206091729329, 0.928733600315408, 0.9173146358451536, 0.9884638437567815]}, {\"categories\": [\"0\", \"1\", \"6\", \"10\", \"13\", \"17\", \"20\", \"21\", \"23\", \"25\", \"26\", \"27\", \"28\", \"29\", \"32\", \"33\", \"34\", \"37\"], \"mode\": \"lines\", \"name\": \"AUC_weighted_max\", \"stepped\": true, \"type\": \"scatter\", \"data\": [0.9691352479188076, 0.9704499330100272, 0.9704499330100272, 0.9704499330100272, 0.9704499330100272, 0.9704499330100272, 0.9704499330100272, 0.9704499330100272, 0.9704499330100272, 0.9704499330100272, 0.9704499330100272, 0.9704499330100272, 0.9704499330100272, 0.9704499330100272, 0.9704499330100272, 0.9704499330100272, 0.9704499330100272, 0.9884638437567815]}], \"accuracy\": [{\"categories\": [\"0\", \"1\", \"6\", \"10\", \"13\", \"17\", \"20\", \"21\", \"23\", \"25\", \"26\", \"27\", \"28\", \"29\", \"32\", \"33\", \"34\", \"37\"], \"mode\": \"markers\", \"name\": \"accuracy\", \"stepped\": false, \"type\": \"scatter\", \"data\": [0.9172169811320755, 0.9240566037735849, 0.8188679245283019, 0.8169811320754716, 0.7389150943396225, 0.8334905660377359, 0.8226415094339622, 0.8849056603773585, 0.805188679245283, 0.810377358490566, 0.8195754716981133, 0.8209905660377359, 0.9179245283018869, 0.49764150943396224, 0.8393867924528301, 0.8540094339622641, 0.8382075471698114, 0.9337264150943397]}, {\"categories\": [\"0\", \"1\", \"6\", \"10\", \"13\", \"17\", \"20\", \"21\", \"23\", \"25\", \"26\", \"27\", \"28\", \"29\", \"32\", \"33\", \"34\", \"37\"], \"mode\": \"lines\", \"name\": \"accuracy_max\", \"stepped\": true, \"type\": \"scatter\", \"data\": [0.9172169811320755, 0.9240566037735849, 0.9240566037735849, 0.9240566037735849, 0.9240566037735849, 0.9240566037735849, 0.9240566037735849, 0.9240566037735849, 0.9240566037735849, 0.9240566037735849, 0.9240566037735849, 0.9240566037735849, 0.9240566037735849, 0.9240566037735849, 0.9240566037735849, 0.9240566037735849, 0.9240566037735849, 0.9337264150943397]}], \"f1_score_macro\": [{\"categories\": [\"0\", \"1\", \"6\", \"10\", \"13\", \"17\", \"20\", \"21\", \"23\", \"25\", \"26\", \"27\", \"28\", \"29\", \"32\", \"33\", \"34\", \"37\"], \"mode\": \"markers\", \"name\": \"f1_score_macro\", \"stepped\": false, \"type\": \"scatter\", \"data\": [0.9168410767420643, 0.923701816043278, 0.8183271899783516, 0.8165837532817963, 0.7385499527199565, 0.8330744096252742, 0.8222969429712249, 0.8845273288219253, 0.8046741144310825, 0.8096722699700496, 0.8191663639331145, 0.820609660351292, 0.9176010004003825, 0.3321272674435699, 0.8389865162062963, 0.8536036785477462, 0.8379219302896287, 0.9334628902763903]}, {\"categories\": [\"0\", \"1\", \"6\", \"10\", \"13\", \"17\", \"20\", \"21\", \"23\", \"25\", \"26\", \"27\", \"28\", \"29\", \"32\", \"33\", \"34\", \"37\"], \"mode\": \"lines\", \"name\": \"f1_score_macro_max\", \"stepped\": true, \"type\": \"scatter\", \"data\": [0.9168410767420643, 0.923701816043278, 0.923701816043278, 0.923701816043278, 0.923701816043278, 0.923701816043278, 0.923701816043278, 0.923701816043278, 0.923701816043278, 0.923701816043278, 0.923701816043278, 0.923701816043278, 0.923701816043278, 0.923701816043278, 0.923701816043278, 0.923701816043278, 0.923701816043278, 0.9334628902763903]}], \"average_precision_score_macro\": [{\"categories\": [\"0\", \"1\", \"6\", \"10\", \"13\", \"17\", \"20\", \"21\", \"23\", \"25\", \"26\", \"27\", \"28\", \"29\", \"32\", \"33\", \"34\", \"37\"], \"mode\": \"markers\", \"name\": \"average_precision_score_macro\", \"stepped\": false, \"type\": \"scatter\", \"data\": [0.9669049170179859, 0.9676294565894864, 0.889687667893071, 0.8978875473520255, 0.8106470142451535, 0.9175656006939331, 0.9018429784246473, 0.9439308567211413, 0.8885764231687053, 0.8898649084935105, 0.8997670638384296, 0.9002191666421906, 0.96040742275806, 0.5, 0.9096482189887727, 0.926297867753291, 0.9183629647721215, 0.988366204235249]}, {\"categories\": [\"0\", \"1\", \"6\", \"10\", \"13\", \"17\", \"20\", \"21\", \"23\", \"25\", \"26\", \"27\", \"28\", \"29\", \"32\", \"33\", \"34\", \"37\"], \"mode\": \"lines\", \"name\": \"average_precision_score_macro_max\", \"stepped\": true, \"type\": \"scatter\", \"data\": [0.9669049170179859, 0.9676294565894864, 0.9676294565894864, 0.9676294565894864, 0.9676294565894864, 0.9676294565894864, 0.9676294565894864, 0.9676294565894864, 0.9676294565894864, 0.9676294565894864, 0.9676294565894864, 0.9676294565894864, 0.9676294565894864, 0.9676294565894864, 0.9676294565894864, 0.9676294565894864, 0.9676294565894864, 0.988366204235249]}], \"precision_score_weighted\": [{\"categories\": [\"0\", \"1\", \"6\", \"10\", \"13\", \"17\", \"20\", \"21\", \"23\", \"25\", \"26\", \"27\", \"28\", \"29\", \"32\", \"33\", \"34\", \"37\"], \"mode\": \"markers\", \"name\": \"precision_score_weighted\", \"stepped\": false, \"type\": \"scatter\", \"data\": [0.9219840586776048, 0.9285137897040456, 0.8213872052186867, 0.8197010944107272, 0.7406252868770207, 0.8359516581225451, 0.8234020207701132, 0.8875281130966582, 0.8075476039919615, 0.8120772392247424, 0.8203525971645108, 0.8218539405001568, 0.9214937041818458, 0.24817328230687075, 0.8417391419117669, 0.856755846902935, 0.8399569467283305, 0.9374597239366727]}, {\"categories\": [\"0\", \"1\", \"6\", \"10\", \"13\", \"17\", \"20\", \"21\", \"23\", \"25\", \"26\", \"27\", \"28\", \"29\", \"32\", \"33\", \"34\", \"37\"], \"mode\": \"lines\", \"name\": \"precision_score_weighted_max\", \"stepped\": true, \"type\": \"scatter\", \"data\": [0.9219840586776048, 0.9285137897040456, 0.9285137897040456, 0.9285137897040456, 0.9285137897040456, 0.9285137897040456, 0.9285137897040456, 0.9285137897040456, 0.9285137897040456, 0.9285137897040456, 0.9285137897040456, 0.9285137897040456, 0.9285137897040456, 0.9285137897040456, 0.9285137897040456, 0.9285137897040456, 0.9285137897040456, 0.9374597239366727]}], \"recall_score_macro\": [{\"categories\": [\"0\", \"1\", \"6\", \"10\", \"13\", \"17\", \"20\", \"21\", \"23\", \"25\", \"26\", \"27\", \"28\", \"29\", \"32\", \"33\", \"34\", \"37\"], \"mode\": \"markers\", \"name\": \"recall_score_macro\", \"stepped\": false, \"type\": \"scatter\", \"data\": [0.917184510771168, 0.9239480522825863, 0.8189655907498377, 0.8175381713402438, 0.7393853430683516, 0.8337980482452148, 0.822622807234928, 0.8849764552320355, 0.8054274803593771, 0.8099223534882075, 0.8194186853818177, 0.8209273375141091, 0.9178928197356562, 0.5, 0.8396740631029063, 0.8542571341292575, 0.8385687242301041, 0.9337653770260055]}, {\"categories\": [\"0\", \"1\", \"6\", \"10\", \"13\", \"17\", \"20\", \"21\", \"23\", \"25\", \"26\", \"27\", \"28\", \"29\", \"32\", \"33\", \"34\", \"37\"], \"mode\": \"lines\", \"name\": \"recall_score_macro_max\", \"stepped\": true, \"type\": \"scatter\", \"data\": [0.917184510771168, 0.9239480522825863, 0.9239480522825863, 0.9239480522825863, 0.9239480522825863, 0.9239480522825863, 0.9239480522825863, 0.9239480522825863, 0.9239480522825863, 0.9239480522825863, 0.9239480522825863, 0.9239480522825863, 0.9239480522825863, 0.9239480522825863, 0.9239480522825863, 0.9239480522825863, 0.9239480522825863, 0.9337653770260055]}], \"precision_score_macro\": [{\"categories\": [\"0\", \"1\", \"6\", \"10\", \"13\", \"17\", \"20\", \"21\", \"23\", \"25\", \"26\", \"27\", \"28\", \"29\", \"32\", \"33\", \"34\", \"37\"], \"mode\": \"markers\", \"name\": \"precision_score_macro\", \"stepped\": false, \"type\": \"scatter\", \"data\": [0.9217150487738817, 0.9283221489557991, 0.8206827509583657, 0.81866844323104, 0.7395858956161113, 0.8351229190282352, 0.8227534564826501, 0.8870182780220265, 0.8067030681489233, 0.8116645168606411, 0.8197847694338065, 0.8212314440977723, 0.9212017597446831, 0.24882075471698112, 0.8409388288658011, 0.8560143412948197, 0.8391155885905104, 0.9371660725627207]}, {\"categories\": [\"0\", \"1\", \"6\", \"10\", \"13\", \"17\", \"20\", \"21\", \"23\", \"25\", \"26\", \"27\", \"28\", \"29\", \"32\", \"33\", \"34\", \"37\"], \"mode\": \"lines\", \"name\": \"precision_score_macro_max\", \"stepped\": true, \"type\": \"scatter\", \"data\": [0.9217150487738817, 0.9283221489557991, 0.9283221489557991, 0.9283221489557991, 0.9283221489557991, 0.9283221489557991, 0.9283221489557991, 0.9283221489557991, 0.9283221489557991, 0.9283221489557991, 0.9283221489557991, 0.9283221489557991, 0.9283221489557991, 0.9283221489557991, 0.9283221489557991, 0.9283221489557991, 0.9283221489557991, 0.9371660725627207]}], \"f1_score_weighted\": [{\"categories\": [\"0\", \"1\", \"6\", \"10\", \"13\", \"17\", \"20\", \"21\", \"23\", \"25\", \"26\", \"27\", \"28\", \"29\", \"32\", \"33\", \"34\", \"37\"], \"mode\": \"markers\", \"name\": \"f1_score_weighted\", \"stepped\": false, \"type\": \"scatter\", \"data\": [0.9170001264600524, 0.923860090933533, 0.8186323911676219, 0.8168216777419175, 0.7388353312412271, 0.8333361864994406, 0.8226314882606658, 0.8847496627135385, 0.8049783869847591, 0.8101077016061737, 0.8195300215536673, 0.8209537976109071, 0.9177681882512081, 0.33102848398078494, 0.8392445310155013, 0.8538514270254852, 0.8381631224500184, 0.9335977418668392]}, {\"categories\": [\"0\", \"1\", \"6\", \"10\", \"13\", \"17\", \"20\", \"21\", \"23\", \"25\", \"26\", \"27\", \"28\", \"29\", \"32\", \"33\", \"34\", \"37\"], \"mode\": \"lines\", \"name\": \"f1_score_weighted_max\", \"stepped\": true, \"type\": \"scatter\", \"data\": [0.9170001264600524, 0.923860090933533, 0.923860090933533, 0.923860090933533, 0.923860090933533, 0.923860090933533, 0.923860090933533, 0.923860090933533, 0.923860090933533, 0.923860090933533, 0.923860090933533, 0.923860090933533, 0.923860090933533, 0.923860090933533, 0.923860090933533, 0.923860090933533, 0.923860090933533, 0.9335977418668392]}], \"recall_score_weighted\": [{\"categories\": [\"0\", \"1\", \"6\", \"10\", \"13\", \"17\", \"20\", \"21\", \"23\", \"25\", \"26\", \"27\", \"28\", \"29\", \"32\", \"33\", \"34\", \"37\"], \"mode\": \"markers\", \"name\": \"recall_score_weighted\", \"stepped\": false, \"type\": \"scatter\", \"data\": [0.9172169811320755, 0.9240566037735849, 0.8188679245283019, 0.8169811320754716, 0.7389150943396225, 0.8334905660377359, 0.8226415094339622, 0.8849056603773585, 0.805188679245283, 0.810377358490566, 0.8195754716981133, 0.8209905660377359, 0.9179245283018869, 0.49764150943396224, 0.8393867924528301, 0.8540094339622641, 0.8382075471698114, 0.9337264150943397]}, {\"categories\": [\"0\", \"1\", \"6\", \"10\", \"13\", \"17\", \"20\", \"21\", \"23\", \"25\", \"26\", \"27\", \"28\", \"29\", \"32\", \"33\", \"34\", \"37\"], \"mode\": \"lines\", \"name\": \"recall_score_weighted_max\", \"stepped\": true, \"type\": \"scatter\", \"data\": [0.9172169811320755, 0.9240566037735849, 0.9240566037735849, 0.9240566037735849, 0.9240566037735849, 0.9240566037735849, 0.9240566037735849, 0.9240566037735849, 0.9240566037735849, 0.9240566037735849, 0.9240566037735849, 0.9240566037735849, 0.9240566037735849, 0.9240566037735849, 0.9240566037735849, 0.9240566037735849, 0.9240566037735849, 0.9337264150943397]}], \"average_precision_score_weighted\": [{\"categories\": [\"0\", \"1\", \"6\", \"10\", \"13\", \"17\", \"20\", \"21\", \"23\", \"25\", \"26\", \"27\", \"28\", \"29\", \"32\", \"33\", \"34\", \"37\"], \"mode\": \"markers\", \"name\": \"average_precision_score_weighted\", \"stepped\": false, \"type\": \"scatter\", \"data\": [0.9669720217827461, 0.9677064223034215, 0.890088086554943, 0.8982310120991708, 0.8110091466269423, 0.9178239596976858, 0.9021698866028224, 0.9440466583113359, 0.889017714355847, 0.8901128663458284, 0.9000844118410078, 0.9005395119540461, 0.960500429163282, 0.501063545745817, 0.9099835833018458, 0.9265459603381491, 0.9185797726192604, 0.988444494622367]}, {\"categories\": [\"0\", \"1\", \"6\", \"10\", \"13\", \"17\", \"20\", \"21\", \"23\", \"25\", \"26\", \"27\", \"28\", \"29\", \"32\", \"33\", \"34\", \"37\"], \"mode\": \"lines\", \"name\": \"average_precision_score_weighted_max\", \"stepped\": true, \"type\": \"scatter\", \"data\": [0.9669720217827461, 0.9677064223034215, 0.9677064223034215, 0.9677064223034215, 0.9677064223034215, 0.9677064223034215, 0.9677064223034215, 0.9677064223034215, 0.9677064223034215, 0.9677064223034215, 0.9677064223034215, 0.9677064223034215, 0.9677064223034215, 0.9677064223034215, 0.9677064223034215, 0.9677064223034215, 0.9677064223034215, 0.988444494622367]}], \"norm_macro_recall\": [{\"categories\": [\"0\", \"1\", \"6\", \"10\", \"13\", \"17\", \"20\", \"21\", \"23\", \"25\", \"26\", \"27\", \"28\", \"29\", \"32\", \"33\", \"34\", \"37\"], \"mode\": \"markers\", \"name\": \"norm_macro_recall\", \"stepped\": false, \"type\": \"scatter\", \"data\": [0.8343690215423362, 0.8478961045651724, 0.6379311814996754, 0.6350763426804874, 0.47877068613670337, 0.6675960964904294, 0.6452456144698558, 0.769952910464071, 0.610854960718754, 0.6198447069764149, 0.6388373707636354, 0.6418546750282184, 0.8357856394713121, 0.0, 0.6793481262058124, 0.7085142682585149, 0.677137448460208, 0.8675307540520109]}, {\"categories\": [\"0\", \"1\", \"6\", \"10\", \"13\", \"17\", \"20\", \"21\", \"23\", \"25\", \"26\", \"27\", \"28\", \"29\", \"32\", \"33\", \"34\", \"37\"], \"mode\": \"lines\", \"name\": \"norm_macro_recall_max\", \"stepped\": true, \"type\": \"scatter\", \"data\": [0.8343690215423362, 0.8478961045651724, 0.8478961045651724, 0.8478961045651724, 0.8478961045651724, 0.8478961045651724, 0.8478961045651724, 0.8478961045651724, 0.8478961045651724, 0.8478961045651724, 0.8478961045651724, 0.8478961045651724, 0.8478961045651724, 0.8478961045651724, 0.8478961045651724, 0.8478961045651724, 0.8478961045651724, 0.8675307540520109]}], \"log_loss\": [{\"categories\": [\"0\", \"1\", \"6\", \"10\", \"13\", \"17\", \"20\", \"21\", \"23\", \"25\", \"26\", \"27\", \"28\", \"29\", \"32\", \"33\", \"34\", \"37\"], \"mode\": \"markers\", \"name\": \"log_loss\", \"stepped\": false, \"type\": \"scatter\", \"data\": [0.22107298684475213, 0.2143953455556181, 0.4966409024308751, 0.42486355829822814, 0.6193882963674333, 0.3734853128264103, 0.4121166181912585, 0.31986274640389384, 0.4405821967798107, 0.4312710146851308, 0.4184762597173829, 0.4174297434157654, 0.23077352240695195, 0.693137925224593, 0.3655581514869297, 0.5857123078319966, 0.3650097830627811, 0.18025345832120893]}, {\"categories\": [\"0\", \"1\", \"6\", \"10\", \"13\", \"17\", \"20\", \"21\", \"23\", \"25\", \"26\", \"27\", \"28\", \"29\", \"32\", \"33\", \"34\", \"37\"], \"mode\": \"lines\", \"name\": \"log_loss_min\", \"stepped\": true, \"type\": \"scatter\", \"data\": [0.22107298684475213, 0.2143953455556181, 0.2143953455556181, 0.2143953455556181, 0.2143953455556181, 0.2143953455556181, 0.2143953455556181, 0.2143953455556181, 0.2143953455556181, 0.2143953455556181, 0.2143953455556181, 0.2143953455556181, 0.2143953455556181, 0.2143953455556181, 0.2143953455556181, 0.2143953455556181, 0.2143953455556181, 0.18025345832120893]}], \"f1_score_micro\": [{\"categories\": [\"0\", \"1\", \"6\", \"10\", \"13\", \"17\", \"20\", \"21\", \"23\", \"25\", \"26\", \"27\", \"28\", \"29\", \"32\", \"33\", \"34\", \"37\"], \"mode\": \"markers\", \"name\": \"f1_score_micro\", \"stepped\": false, \"type\": \"scatter\", \"data\": [0.9172169811320755, 0.9240566037735849, 0.8188679245283019, 0.8169811320754716, 0.7389150943396225, 0.8334905660377359, 0.8226415094339623, 0.8849056603773585, 0.805188679245283, 0.810377358490566, 0.8195754716981133, 0.8209905660377359, 0.9179245283018869, 0.49764150943396224, 0.8393867924528301, 0.8540094339622641, 0.8382075471698114, 0.9337264150943397]}, {\"categories\": [\"0\", \"1\", \"6\", \"10\", \"13\", \"17\", \"20\", \"21\", \"23\", \"25\", \"26\", \"27\", \"28\", \"29\", \"32\", \"33\", \"34\", \"37\"], \"mode\": \"lines\", \"name\": \"f1_score_micro_max\", \"stepped\": true, \"type\": \"scatter\", \"data\": [0.9172169811320755, 0.9240566037735849, 0.9240566037735849, 0.9240566037735849, 0.9240566037735849, 0.9240566037735849, 0.9240566037735849, 0.9240566037735849, 0.9240566037735849, 0.9240566037735849, 0.9240566037735849, 0.9240566037735849, 0.9240566037735849, 0.9240566037735849, 0.9240566037735849, 0.9240566037735849, 0.9240566037735849, 0.9337264150943397]}], \"AUC_micro\": [{\"categories\": [\"0\", \"1\", \"6\", \"10\", \"13\", \"17\", \"20\", \"21\", \"23\", \"25\", \"26\", \"27\", \"28\", \"29\", \"32\", \"33\", \"34\", \"37\"], \"mode\": \"markers\", \"name\": \"AUC_micro\", \"stepped\": false, \"type\": \"scatter\", \"data\": [0.9698622174261302, 0.9709060163759344, 0.8935961974902099, 0.9001760524207902, 0.8111015930936276, 0.9182004271982912, 0.8994203898184405, 0.9497018511925953, 0.8916039960840155, 0.8861761302954788, 0.8980634233713065, 0.8982386414204344, 0.9660254983980066, 0.49764150943396224, 0.9176975792096831, 0.9315539894090424, 0.9196027278390886, 0.9834808317016732]}, {\"categories\": [\"0\", \"1\", \"6\", \"10\", \"13\", \"17\", \"20\", \"21\", \"23\", \"25\", \"26\", \"27\", \"28\", \"29\", \"32\", \"33\", \"34\", \"37\"], \"mode\": \"lines\", \"name\": \"AUC_micro_max\", \"stepped\": true, \"type\": \"scatter\", \"data\": [0.9698622174261302, 0.9709060163759344, 0.9709060163759344, 0.9709060163759344, 0.9709060163759344, 0.9709060163759344, 0.9709060163759344, 0.9709060163759344, 0.9709060163759344, 0.9709060163759344, 0.9709060163759344, 0.9709060163759344, 0.9709060163759344, 0.9709060163759344, 0.9709060163759344, 0.9709060163759344, 0.9709060163759344, 0.9834808317016732]}], \"weighted_accuracy\": [{\"categories\": [\"0\", \"1\", \"6\", \"10\", \"13\", \"17\", \"20\", \"21\", \"23\", \"25\", \"26\", \"27\", \"28\", \"29\", \"32\", \"33\", \"34\", \"37\"], \"mode\": \"markers\", \"name\": \"weighted_accuracy\", \"stepped\": false, \"type\": \"scatter\", \"data\": [0.9172494736579659, 0.9241644079522564, 0.8187716064315053, 0.8164295602631778, 0.7384481557181386, 0.8331862625397962, 0.8226587934381682, 0.8848358279743808, 0.8049521007861768, 0.8108253884236476, 0.8197293347797544, 0.8210517783111779, 0.9179562247566457, 0.49529093243151295, 0.8391023209905366, 0.8537640412327162, 0.8378500739916331, 0.9336882696557673]}, {\"categories\": [\"0\", \"1\", \"6\", \"10\", \"13\", \"17\", \"20\", \"21\", \"23\", \"25\", \"26\", \"27\", \"28\", \"29\", \"32\", \"33\", \"34\", \"37\"], \"mode\": \"lines\", \"name\": \"weighted_accuracy_max\", \"stepped\": true, \"type\": \"scatter\", \"data\": [0.9172494736579659, 0.9241644079522564, 0.9241644079522564, 0.9241644079522564, 0.9241644079522564, 0.9241644079522564, 0.9241644079522564, 0.9241644079522564, 0.9241644079522564, 0.9241644079522564, 0.9241644079522564, 0.9241644079522564, 0.9241644079522564, 0.9241644079522564, 0.9241644079522564, 0.9241644079522564, 0.9241644079522564, 0.9336882696557673]}], \"recall_score_micro\": [{\"categories\": [\"0\", \"1\", \"6\", \"10\", \"13\", \"17\", \"20\", \"21\", \"23\", \"25\", \"26\", \"27\", \"28\", \"29\", \"32\", \"33\", \"34\", \"37\"], \"mode\": \"markers\", \"name\": \"recall_score_micro\", \"stepped\": false, \"type\": \"scatter\", \"data\": [0.9172169811320755, 0.9240566037735849, 0.8188679245283019, 0.8169811320754716, 0.7389150943396225, 0.8334905660377359, 0.8226415094339622, 0.8849056603773585, 0.805188679245283, 0.810377358490566, 0.8195754716981133, 0.8209905660377359, 0.9179245283018869, 0.49764150943396224, 0.8393867924528301, 0.8540094339622641, 0.8382075471698114, 0.9337264150943397]}, {\"categories\": [\"0\", \"1\", \"6\", \"10\", \"13\", \"17\", \"20\", \"21\", \"23\", \"25\", \"26\", \"27\", \"28\", \"29\", \"32\", \"33\", \"34\", \"37\"], \"mode\": \"lines\", \"name\": \"recall_score_micro_max\", \"stepped\": true, \"type\": \"scatter\", \"data\": [0.9172169811320755, 0.9240566037735849, 0.9240566037735849, 0.9240566037735849, 0.9240566037735849, 0.9240566037735849, 0.9240566037735849, 0.9240566037735849, 0.9240566037735849, 0.9240566037735849, 0.9240566037735849, 0.9240566037735849, 0.9240566037735849, 0.9240566037735849, 0.9240566037735849, 0.9240566037735849, 0.9240566037735849, 0.9337264150943397]}], \"average_precision_score_micro\": [{\"categories\": [\"0\", \"1\", \"6\", \"10\", \"13\", \"17\", \"20\", \"21\", \"23\", \"25\", \"26\", \"27\", \"28\", \"29\", \"32\", \"33\", \"34\", \"37\"], \"mode\": \"markers\", \"name\": \"average_precision_score_micro\", \"stepped\": false, \"type\": \"scatter\", \"data\": [0.969755871680643, 0.9704930069769379, 0.8915683627333569, 0.9013607492138629, 0.8071891036533401, 0.92123806726505, 0.8959513521586577, 0.9501559495348948, 0.892953497705632, 0.8836641301761446, 0.8943062805097666, 0.8945833262357017, 0.9656486222498902, 0.49935252758988957, 0.9179585684765461, 0.9325007864081926, 0.9224153823181573, 0.9836367556470857]}, {\"categories\": [\"0\", \"1\", \"6\", \"10\", \"13\", \"17\", \"20\", \"21\", \"23\", \"25\", \"26\", \"27\", \"28\", \"29\", \"32\", \"33\", \"34\", \"37\"], \"mode\": \"lines\", \"name\": \"average_precision_score_micro_max\", \"stepped\": true, \"type\": \"scatter\", \"data\": [0.969755871680643, 0.9704930069769379, 0.9704930069769379, 0.9704930069769379, 0.9704930069769379, 0.9704930069769379, 0.9704930069769379, 0.9704930069769379, 0.9704930069769379, 0.9704930069769379, 0.9704930069769379, 0.9704930069769379, 0.9704930069769379, 0.9704930069769379, 0.9704930069769379, 0.9704930069769379, 0.9704930069769379, 0.9836367556470857]}], \"matthews_correlation\": [{\"categories\": [\"0\", \"1\", \"6\", \"10\", \"13\", \"17\", \"20\", \"21\", \"23\", \"25\", \"26\", \"27\", \"28\", \"29\", \"32\", \"33\", \"34\", \"37\"], \"mode\": \"markers\", \"name\": \"matthews_correlation\", \"stepped\": false, \"type\": \"scatter\", \"data\": [0.8388793385071492, 0.852250430774475, 0.6396433188455267, 0.6362046581311209, 0.47896922293987104, 0.6689181474499053, 0.6453756380310356, 0.7719892915200274, 0.6121274976748624, 0.6215822781210404, 0.6392022584667718, 0.6421577601547955, 0.8390820000868985, 0.0, 0.680610294023502, 0.7102655618331776, 0.6776827180678302, 0.8709173572727797]}, {\"categories\": [\"0\", \"1\", \"6\", \"10\", \"13\", \"17\", \"20\", \"21\", \"23\", \"25\", \"26\", \"27\", \"28\", \"29\", \"32\", \"33\", \"34\", \"37\"], \"mode\": \"lines\", \"name\": \"matthews_correlation_max\", \"stepped\": true, \"type\": \"scatter\", \"data\": [0.8388793385071492, 0.852250430774475, 0.852250430774475, 0.852250430774475, 0.852250430774475, 0.852250430774475, 0.852250430774475, 0.852250430774475, 0.852250430774475, 0.852250430774475, 0.852250430774475, 0.852250430774475, 0.852250430774475, 0.852250430774475, 0.852250430774475, 0.852250430774475, 0.852250430774475, 0.8709173572727797]}], \"AUC_macro\": [{\"categories\": [\"0\", \"1\", \"6\", \"10\", \"13\", \"17\", \"20\", \"21\", \"23\", \"25\", \"26\", \"27\", \"28\", \"29\", \"32\", \"33\", \"34\", \"37\"], \"mode\": \"markers\", \"name\": \"AUC_macro\", \"stepped\": false, \"type\": \"scatter\", \"data\": [0.9691352479188076, 0.9704499330100271, 0.8923134537575855, 0.8987318560226176, 0.8145654065734756, 0.9158903921104333, 0.9025744585247526, 0.9458131303336577, 0.8897867885076346, 0.8901483309122071, 0.901191857787795, 0.9015383515644307, 0.9640194590698833, 0.5, 0.9135206091729329, 0.9287336003154081, 0.9173146358451536, 0.9884638437567818]}, {\"categories\": [\"0\", \"1\", \"6\", \"10\", \"13\", \"17\", \"20\", \"21\", \"23\", \"25\", \"26\", \"27\", \"28\", \"29\", \"32\", \"33\", \"34\", \"37\"], \"mode\": \"lines\", \"name\": \"AUC_macro_max\", \"stepped\": true, \"type\": \"scatter\", \"data\": [0.9691352479188076, 0.9704499330100271, 0.9704499330100271, 0.9704499330100271, 0.9704499330100271, 0.9704499330100271, 0.9704499330100271, 0.9704499330100271, 0.9704499330100271, 0.9704499330100271, 0.9704499330100271, 0.9704499330100271, 0.9704499330100271, 0.9704499330100271, 0.9704499330100271, 0.9704499330100271, 0.9704499330100271, 0.9884638437567818]}], \"precision_score_micro\": [{\"categories\": [\"0\", \"1\", \"6\", \"10\", \"13\", \"17\", \"20\", \"21\", \"23\", \"25\", \"26\", \"27\", \"28\", \"29\", \"32\", \"33\", \"34\", \"37\"], \"mode\": \"markers\", \"name\": \"precision_score_micro\", \"stepped\": false, \"type\": \"scatter\", \"data\": [0.9172169811320755, 0.9240566037735849, 0.8188679245283019, 0.8169811320754716, 0.7389150943396225, 0.8334905660377359, 0.8226415094339622, 0.8849056603773585, 0.805188679245283, 0.810377358490566, 0.8195754716981133, 0.8209905660377359, 0.9179245283018869, 0.49764150943396224, 0.8393867924528301, 0.8540094339622641, 0.8382075471698114, 0.9337264150943397]}, {\"categories\": [\"0\", \"1\", \"6\", \"10\", \"13\", \"17\", \"20\", \"21\", \"23\", \"25\", \"26\", \"27\", \"28\", \"29\", \"32\", \"33\", \"34\", \"37\"], \"mode\": \"lines\", \"name\": \"precision_score_micro_max\", \"stepped\": true, \"type\": \"scatter\", \"data\": [0.9172169811320755, 0.9240566037735849, 0.9240566037735849, 0.9240566037735849, 0.9240566037735849, 0.9240566037735849, 0.9240566037735849, 0.9240566037735849, 0.9240566037735849, 0.9240566037735849, 0.9240566037735849, 0.9240566037735849, 0.9240566037735849, 0.9240566037735849, 0.9240566037735849, 0.9240566037735849, 0.9240566037735849, 0.9337264150943397]}], \"balanced_accuracy\": [{\"categories\": [\"0\", \"1\", \"6\", \"10\", \"13\", \"17\", \"20\", \"21\", \"23\", \"25\", \"26\", \"27\", \"28\", \"29\", \"32\", \"33\", \"34\", \"37\"], \"mode\": \"markers\", \"name\": \"balanced_accuracy\", \"stepped\": false, \"type\": \"scatter\", \"data\": [0.917184510771168, 0.9239480522825863, 0.8189655907498377, 0.8175381713402438, 0.7393853430683516, 0.8337980482452148, 0.822622807234928, 0.8849764552320355, 0.8054274803593771, 0.8099223534882075, 0.8194186853818177, 0.8209273375141091, 0.9178928197356562, 0.5, 0.8396740631029063, 0.8542571341292575, 0.8385687242301041, 0.9337653770260055]}, {\"categories\": [\"0\", \"1\", \"6\", \"10\", \"13\", \"17\", \"20\", \"21\", \"23\", \"25\", \"26\", \"27\", \"28\", \"29\", \"32\", \"33\", \"34\", \"37\"], \"mode\": \"lines\", \"name\": \"balanced_accuracy_max\", \"stepped\": true, \"type\": \"scatter\", \"data\": [0.917184510771168, 0.9239480522825863, 0.9239480522825863, 0.9239480522825863, 0.9239480522825863, 0.9239480522825863, 0.9239480522825863, 0.9239480522825863, 0.9239480522825863, 0.9239480522825863, 0.9239480522825863, 0.9239480522825863, 0.9239480522825863, 0.9239480522825863, 0.9239480522825863, 0.9239480522825863, 0.9239480522825863, 0.9337653770260055]}]}, \"metricName\": null, \"primaryMetricName\": \"AUC_weighted\", \"showLegend\": false}, \"run_metrics\": [{\"name\": \"experiment_status\", \"run_id\": \"AutoML_d9a7c24f-49f6-4d75-9668-6bf0c6b356b4\", \"categories\": [0, 1, 2, 3, 4, 5, 6, 7, 8, 9, 10, 11, 12, 13], \"series\": [{\"data\": [\"DatasetEvaluation\", \"FeaturesGeneration\", \"DatasetFeaturization\", \"DatasetFeaturizationCompleted\", \"DatasetCrossValidationSplit\", \"ModelSelection\", \"BestRunExplainModel\", \"ModelExplanationDataSetSetup\", \"PickSurrogateModel\", \"EngineeredFeatureExplanations\", \"EngineeredFeatureExplanations\", \"RawFeaturesExplanations\", \"RawFeaturesExplanations\", \"BestRunExplainModel\"]}]}, {\"name\": \"experiment_status_description\", \"run_id\": \"AutoML_d9a7c24f-49f6-4d75-9668-6bf0c6b356b4\", \"categories\": [0, 1, 2, 3, 4, 5, 6, 7, 8, 9, 10, 11, 12, 13], \"series\": [{\"data\": [\"Gathering dataset statistics.\", \"Generating features for the dataset.\", \"Beginning to fit featurizers and featurize the dataset.\", \"Completed fit featurizers and featurizing the dataset.\", \"Generating individually featurized CV splits.\", \"Beginning model selection.\", \"Best run model explanations started\", \"Model explanations data setup completed\", \"Choosing LightGBM as the surrogate model for explanations\", \"Computation of engineered features started\", \"Computation of engineered features completed\", \"Computation of raw features started\", \"Computation of raw features completed\", \"Best run model explanations completed\"]}]}], \"run_logs\": \"\\nRun is completed.\", \"graph\": {}, \"widget_settings\": {\"childWidgetDisplay\": \"popup\", \"send_telemetry\": false, \"log_level\": \"INFO\", \"sdk_version\": \"1.51.0\"}, \"loading\": false}"
          },
          "metadata": {}
        }
      ],
      "execution_count": 6,
      "metadata": {
        "collapsed": false,
        "gather": {
          "logged": 1691239363093
        },
        "jupyter": {
          "outputs_hidden": false,
          "source_hidden": false
        },
        "nteract": {
          "transient": {
            "deleting": false
          }
        }
      }
    },
    {
      "cell_type": "markdown",
      "source": [
        "## Best Model\n",
        "\n"
      ],
      "metadata": {}
    },
    {
      "cell_type": "code",
      "source": [
        "# Retrieve best automl model.\n",
        "\n",
        "auto_run.wait_for_completion(show_output=True)\n",
        "assert(auto_run.get_status() == \"Completed\")\n",
        "\n",
        "best_auto_run, best_model = auto_run.get_output()\n",
        "# best_auto_child = auto_run.get_best_child()\n",
        "\n",
        "# Save the best model\n",
        "\n",
        "output_dir = \"./outputs\"\n",
        "if os.path.exists(output_dir) == False:\n",
        "    os.mkdir(output_dir)\n",
        "best_model_file = output_dir + \"/best_model.pkl\"\n",
        "joblib.dump(best_model,best_model_file)\n",
        "\n"
      ],
      "outputs": [
        {
          "output_type": "display_data",
          "data": {
            "text/html": "<table style=\"width:100%\"><tr><th>Experiment</th><th>Id</th><th>Type</th><th>Status</th><th>Details Page</th><th>Docs Page</th></tr><tr><td>udacity-aml-capstone-automl</td><td>AutoML_d9a7c24f-49f6-4d75-9668-6bf0c6b356b4</td><td>automl</td><td>Completed</td><td><a href=\"https://ml.azure.com/runs/AutoML_d9a7c24f-49f6-4d75-9668-6bf0c6b356b4?wsid=/subscriptions/510b94ba-e453-4417-988b-fbdc37b55ca7/resourcegroups/aml-quickstarts-239768/workspaces/quick-starts-ws-239768&amp;tid=660b3398-b80e-49d2-bc5b-ac1dc93b5254\" target=\"_blank\" rel=\"noopener\">Link to Azure Machine Learning studio</a></td><td><a href=\"https://docs.microsoft.com/en-us/python/api/overview/azure/ml/intro?view=azure-ml-py\" target=\"_blank\" rel=\"noopener\">Link to Documentation</a></td></tr></table>"
          },
          "metadata": {}
        },
        {
          "output_type": "stream",
          "name": "stdout",
          "text": "\n\n********************************************************************************************\nDATA GUARDRAILS: \n\nTYPE:         Class balancing detection\nSTATUS:       PASSED\nDESCRIPTION:  Your inputs were analyzed, and all classes are balanced in your training data.\n              Learn more about imbalanced data: https://aka.ms/AutomatedMLImbalancedData\n\n********************************************************************************************\n\nTYPE:         Missing feature values imputation\nSTATUS:       PASSED\nDESCRIPTION:  No feature missing values were detected in the training data.\n              Learn more about missing value imputation: https://aka.ms/AutomatedMLFeaturization\n\n********************************************************************************************\n\nTYPE:         High cardinality feature detection\nSTATUS:       PASSED\nDESCRIPTION:  Your inputs were analyzed, and no high cardinality features were detected.\n              Learn more about high cardinality feature handling: https://aka.ms/AutomatedMLFeaturization\n\n********************************************************************************************\n\n********************************************************************************************\nITER: The iteration being evaluated.\nPIPELINE: A summary description of the pipeline being evaluated.\nDURATION: Time taken for the current iteration.\nMETRIC: The result of computing score on the fitted pipeline.\nBEST: The best observed score thus far.\n********************************************************************************************\n\n ITER   PIPELINE                                       DURATION            METRIC      BEST\n    0   MaxAbsScaler LightGBM                          0:00:28             0.9691    0.9691\n    1   MaxAbsScaler XGBoostClassifier                 0:00:27             0.9704    0.9704\n    2   MaxAbsScaler ExtremeRandomTrees                0:00:25             0.8933    0.9704\n    3   MaxAbsScaler RandomForest                      0:00:24             0.8686    0.9704\n    4   StandardScalerWrapper LightGBM                 0:00:24             0.9087    0.9704\n    5   SparseNormalizer XGBoostClassifier             0:00:26             0.9375    0.9704\n    6   SparseNormalizer RandomForest                  0:00:27             0.8923    0.9704\n    7   StandardScalerWrapper XGBoostClassifier        0:00:24             0.9635    0.9704\n   10   SparseNormalizer LightGBM                      0:00:26             0.8987    0.9704\n   11   MaxAbsScaler ExtremeRandomTrees                0:00:31             0.8293    0.9704\n    8   SparseNormalizer XGBoostClassifier             0:00:24             0.9578    0.9704\n    9   MaxAbsScaler RandomForest                      0:00:24             0.8659    0.9704\n   12   StandardScalerWrapper XGBoostClassifier        0:00:26             0.9393    0.9704\n   13   StandardScalerWrapper ExtremeRandomTrees       0:00:24             0.8146    0.9704\n   14   StandardScalerWrapper RandomForest             0:00:36             0.9893    0.9893\n   15   MaxAbsScaler LightGBM                          0:00:25             0.9447    0.9893\n   16   MaxAbsScaler LogisticRegression                0:00:24             0.9026    0.9893\n   17   StandardScalerWrapper ExtremeRandomTrees       0:00:34             0.9159    0.9893\n   18   StandardScalerWrapper XGBoostClassifier        0:00:23             0.9495    0.9893\n   19   MaxAbsScaler ExtremeRandomTrees                0:00:24             0.8153    0.9893\n   20   MaxAbsScaler LogisticRegression                0:00:43             0.9026    0.9893\n   21   StandardScalerWrapper XGBoostClassifier        0:00:40             0.9458    0.9893\n   22   StandardScalerWrapper XGBoostClassifier        0:00:45             0.9610    0.9893\n   23   MaxAbsScaler RandomForest                      0:00:42             0.8898    0.9893\n   24   TruncatedSVDWrapper RandomForest               0:00:54             0.8207    0.9893\n   25   MaxAbsScaler SGD                               0:00:44             0.8901    0.9893\n   26   StandardScalerWrapper LogisticRegression       0:00:45             0.9012    0.9893\n   27   StandardScalerWrapper LogisticRegression       0:00:40             0.9015    0.9893\n   28   StandardScalerWrapper XGBoostClassifier        0:00:47             0.9640    0.9893\n   29   MaxAbsScaler RandomForest                      0:00:42             0.5000    0.9893\n   30   StandardScalerWrapper XGBoostClassifier        0:00:40             0.9129    0.9893\n   31   SparseNormalizer LightGBM                      0:01:06                nan    0.9893\n   32   SparseNormalizer LightGBM                      0:00:43             0.9135    0.9893\n   33   StandardScalerWrapper XGBoostClassifier        0:00:40             0.9287    0.9893\n   34   StandardScalerWrapper LightGBM                 0:00:39             0.9173    0.9893\n   35                                                  0:00:05                nan    0.9893\n   36                                                  0:00:01                nan    0.9893\n   37    VotingEnsemble                                0:01:17             0.9885    0.9893\n"
        },
        {
          "output_type": "stream",
          "name": "stderr",
          "text": "WARNING:root:The version of the SDK does not match the version the model was trained on.\nWARNING:root:The consistency in the result may not be guaranteed.\nWARNING:root:Package:azureml-automl-core, training version:1.52.0.post1, current version:1.51.0.post1\nPackage:azureml-automl-runtime, training version:1.52.0.post1, current version:1.51.0.post1\nPackage:azureml-core, training version:1.52.0, current version:1.51.0\nPackage:azureml-dataprep, training version:4.11.4, current version:4.10.8\nPackage:azureml-dataprep-rslex, training version:2.18.4, current version:2.17.12\nPackage:azureml-dataset-runtime, training version:1.52.0, current version:1.51.0\nPackage:azureml-defaults, training version:1.52.0, current version:1.51.0\nPackage:azureml-interpret, training version:1.52.0, current version:1.51.0\nPackage:azureml-mlflow, training version:1.52.0, current version:1.51.0\nPackage:azureml-pipeline-core, training version:1.52.0, current version:1.51.0\nPackage:azureml-responsibleai, training version:1.52.0, current version:1.51.0\nPackage:azureml-telemetry, training version:1.52.0, current version:1.51.0\nPackage:azureml-train-automl-client, training version:1.52.0, current version:1.51.0.post1\nPackage:azureml-train-automl-runtime, training version:1.52.0, current version:1.51.0.post2\nPackage:azureml-train-core, training version:1.52.0, current version:1.51.0\nPackage:azureml-train-restclients-hyperdrive, training version:1.52.0, current version:1.51.0\nPackage:azureml-training-tabular, training version:1.52.0, current version:1.51.0.post1\nWARNING:root:Please ensure the version of your local conda dependencies match the version on which your model was trained in order to properly retrieve your model.\n"
        },
        {
          "output_type": "execute_result",
          "execution_count": 7,
          "data": {
            "text/plain": "['./outputs/best_model.pkl']"
          },
          "metadata": {}
        }
      ],
      "execution_count": 7,
      "metadata": {
        "collapsed": false,
        "gather": {
          "logged": 1691240647942
        },
        "jupyter": {
          "outputs_hidden": false,
          "source_hidden": false
        },
        "nteract": {
          "transient": {
            "deleting": false
          }
        }
      }
    },
    {
      "cell_type": "code",
      "source": [
        "print(best_model)"
      ],
      "outputs": [
        {
          "output_type": "stream",
          "name": "stdout",
          "text": "Pipeline(memory=None,\n         steps=[('datatransformer',\n                 DataTransformer(enable_dnn=False, enable_feature_sweeping=False, feature_sweeping_config={}, feature_sweeping_timeout=86400, featurization_config=None, force_text_dnn=False, is_cross_validation=True, is_onnx_compatible=True, observer=None, task='classification', working_dir='/mnt/batch/tasks/shared/LS_root/mount...\n                 RandomForestClassifier(bootstrap=True, ccp_alpha=0.0,\n                                        class_weight=None, criterion='gini',\n                                        max_depth=None, max_features='auto',\n                                        max_leaf_nodes=None, max_samples=None,\n                                        min_impurity_decrease=0.0,\n                                        min_impurity_split=None,\n                                        min_samples_leaf=1, min_samples_split=2,\n                                        min_weight_fraction_leaf=0.0,\n                                        n_estimators=100, n_jobs=1,\n                                        oob_score=False, random_state=None,\n                                        verbose=0, warm_start=False))],\n         verbose=False)\n"
        }
      ],
      "execution_count": 33,
      "metadata": {
        "jupyter": {
          "source_hidden": false,
          "outputs_hidden": false
        },
        "nteract": {
          "transient": {
            "deleting": false
          }
        },
        "gather": {
          "logged": 1691253693410
        }
      }
    },
    {
      "cell_type": "code",
      "source": [
        "# print run properties, save run env\n",
        "\n",
        "print(best_auto_run.get_file_names())\n",
        "best_auto_run_env = best_auto_run.get_environment()\n",
        "print(\"best run_env: \", best_auto_run_env)\n",
        "# print(best_auto_run.get_details())\n",
        "# print(\"properties: \",best_auto_run.get_properties())\n",
        "\n",
        "env_file = output_dir + \"/automl_env.yml\"\n",
        "best_auto_run.download_file(\"outputs/conda_env_v_1_0_0.yml\",env_file)\n"
      ],
      "outputs": [
        {
          "output_type": "stream",
          "name": "stdout",
          "text": "['accuracy_table', 'automl_driver.py', 'confusion_matrix', 'explanation/8ad05459/classes.interpret.json', 'explanation/8ad05459/eval_data_viz.interpret.json', 'explanation/8ad05459/expected_values.interpret.json', 'explanation/8ad05459/features.interpret.json', 'explanation/8ad05459/global_names/0.interpret.json', 'explanation/8ad05459/global_rank/0.interpret.json', 'explanation/8ad05459/global_values/0.interpret.json', 'explanation/8ad05459/local_importance_values.interpret.json', 'explanation/8ad05459/per_class_names/0.interpret.json', 'explanation/8ad05459/per_class_rank/0.interpret.json', 'explanation/8ad05459/per_class_values/0.interpret.json', 'explanation/8ad05459/rich_metadata.interpret.json', 'explanation/8ad05459/true_ys_viz.interpret.json', 'explanation/8ad05459/visualization_dict.interpret.json', 'explanation/8ad05459/ys_pred_proba_viz.interpret.json', 'explanation/8ad05459/ys_pred_viz.interpret.json', 'explanation/a41d6431/classes.interpret.json', 'explanation/a41d6431/expected_values.interpret.json', 'explanation/a41d6431/features.interpret.json', 'explanation/a41d6431/global_names/0.interpret.json', 'explanation/a41d6431/global_rank/0.interpret.json', 'explanation/a41d6431/global_values/0.interpret.json', 'explanation/a41d6431/local_importance_values_sparse.interpret.json', 'explanation/a41d6431/per_class_names/0.interpret.json', 'explanation/a41d6431/per_class_rank/0.interpret.json', 'explanation/a41d6431/per_class_values/0.interpret.json', 'explanation/a41d6431/rich_metadata.interpret.json', 'explanation/a41d6431/true_ys_viz.interpret.json', 'explanation/a41d6431/visualization_dict.interpret.json', 'explanation/a41d6431/ys_pred_proba_viz.interpret.json', 'explanation/a41d6431/ys_pred_viz.interpret.json', 'outputs/conda_env_v_1_0_0.yml', 'outputs/engineered_feature_names.json', 'outputs/env_dependencies.json', 'outputs/featurization_summary.json', 'outputs/generated_code/script.py', 'outputs/generated_code/script_run_notebook.ipynb', 'outputs/internal_cross_validated_models.pkl', 'outputs/model.onnx', 'outputs/model.pkl', 'outputs/model_onnx.json', 'outputs/pipeline_graph.json', 'outputs/run_id.txt', 'outputs/scoring_file_pbi_v_1_0_0.py', 'outputs/scoring_file_v_1_0_0.py', 'outputs/scoring_file_v_2_0_0.py']\nbest run_env:  Environment(Name: AzureML-AutoML,\nVersion: 142)\n"
        }
      ],
      "execution_count": 12,
      "metadata": {
        "gather": {
          "logged": 1691242124111
        }
      }
    },
    {
      "cell_type": "markdown",
      "source": [
        "## Predict with best model"
      ],
      "metadata": {}
    },
    {
      "cell_type": "code",
      "source": [
        "from sklearn.metrics import confusion_matrix\n",
        "\n",
        "test_file = \"./data/test.csv\";\n",
        "df_test = pd.read_csv(test_file)\n",
        "df_test = df_test[pd.notnull(df_test['fraud'])]\n",
        "\n",
        "y_test = df_test['fraud']\n",
        "X_test = df_test.drop(['fraud'], axis=1)\n",
        "\n",
        "ypred = best_model.predict(X_test)\n"
      ],
      "outputs": [
        {
          "output_type": "stream",
          "name": "stderr",
          "text": "WARNING:urllib3.connectionpool:Retrying (Retry(total=2, connect=2, read=3, redirect=None, status=None)) after connection broken by 'ConnectTimeoutError(<urllib3.connection.HTTPSConnection object at 0x7fc2b6282b20>, 'Connection to westus2.experiments.azureml.net timed out. (connect timeout=100)')': /history/v1.0/subscriptions/510b94ba-e453-4417-988b-fbdc37b55ca7/resourceGroups/aml-quickstarts-239768/providers/Microsoft.MachineLearningServices/workspaces/quick-starts-ws-239768/experiments/udacity-aml-capstone-automl/metrics:query?mergestrategytype=None\nWARNING:urllib3.connectionpool:Retrying (Retry(total=2, connect=2, read=3, redirect=None, status=None)) after connection broken by 'ConnectTimeoutError(<urllib3.connection.HTTPSConnection object at 0x7fc2b6282e50>, 'Connection to westus2.experiments.azureml.net timed out. (connect timeout=100)')': /history/v1.0/subscriptions/510b94ba-e453-4417-988b-fbdc37b55ca7/resourceGroups/aml-quickstarts-239768/providers/Microsoft.MachineLearningServices/workspaces/quick-starts-ws-239768/experimentids/b557f86d-7c9f-4ccb-9a28-c8b9bfb6e17d/runs/AutoML_d9a7c24f-49f6-4d75-9668-6bf0c6b356b4\n"
        }
      ],
      "execution_count": 17,
      "metadata": {
        "gather": {
          "logged": 1691242460204
        }
      }
    },
    {
      "cell_type": "code",
      "source": [
        "cm = confusion_matrix(y_test, ypred)\n",
        "pd.DataFrame(cm).style.background_gradient(cmap='Blues', low=0, high=0.9)"
      ],
      "outputs": [
        {
          "output_type": "execute_result",
          "execution_count": 18,
          "data": {
            "text/plain": "<pandas.io.formats.style.Styler at 0x7fc2bfd0ec40>",
            "text/html": "<style  type=\"text/css\" >\n#T_cae9ff70_3394_11ee_b214_c3f20882117frow0_col0,#T_cae9ff70_3394_11ee_b214_c3f20882117frow1_col1{\n            background-color:  #63a8d3;\n            color:  #000000;\n        }#T_cae9ff70_3394_11ee_b214_c3f20882117frow0_col1,#T_cae9ff70_3394_11ee_b214_c3f20882117frow1_col0{\n            background-color:  #f7fbff;\n            color:  #000000;\n        }</style><table id=\"T_cae9ff70_3394_11ee_b214_c3f20882117f\" ><thead>    <tr>        <th class=\"blank level0\" ></th>        <th class=\"col_heading level0 col0\" >0</th>        <th class=\"col_heading level0 col1\" >1</th>    </tr></thead><tbody>\n                <tr>\n                        <th id=\"T_cae9ff70_3394_11ee_b214_c3f20882117flevel0_row0\" class=\"row_heading level0 row0\" >0</th>\n                        <td id=\"T_cae9ff70_3394_11ee_b214_c3f20882117frow0_col0\" class=\"data row0 col0\" >647</td>\n                        <td id=\"T_cae9ff70_3394_11ee_b214_c3f20882117frow0_col1\" class=\"data row0 col1\" >51</td>\n            </tr>\n            <tr>\n                        <th id=\"T_cae9ff70_3394_11ee_b214_c3f20882117flevel0_row1\" class=\"row_heading level0 row1\" >1</th>\n                        <td id=\"T_cae9ff70_3394_11ee_b214_c3f20882117frow1_col0\" class=\"data row1 col0\" >81</td>\n                        <td id=\"T_cae9ff70_3394_11ee_b214_c3f20882117frow1_col1\" class=\"data row1 col1\" >118</td>\n            </tr>\n    </tbody></table>"
          },
          "metadata": {}
        }
      ],
      "execution_count": 18,
      "metadata": {
        "gather": {
          "logged": 1691242465169
        }
      }
    },
    {
      "cell_type": "markdown",
      "source": [
        "### Retrieve and save ONNX Model"
      ],
      "metadata": {}
    },
    {
      "cell_type": "code",
      "source": [
        "from azureml.automl.runtime.onnx_convert import OnnxConverter\n",
        "\n",
        "bestrun, onnx_mdl = auto_run.get_output(return_onnx_model=True)\n",
        "\n",
        "onnx_fl_path = output_dir+\"/best_model.onnx\"\n",
        "OnnxConverter.save_onnx_model(onnx_mdl, onnx_fl_path)\n"
      ],
      "outputs": [],
      "execution_count": 19,
      "metadata": {
        "gather": {
          "logged": 1691242624265
        }
      }
    },
    {
      "cell_type": "markdown",
      "source": [
        "### Predict with ONNX model\n"
      ],
      "metadata": {}
    },
    {
      "cell_type": "code",
      "source": [
        "import sys\n",
        "# import json\n",
        "from azureml.automl.core.onnx_convert import OnnxConvertConstants\n",
        "from azureml.train.automl import constants\n",
        "from azureml.automl.runtime.onnx_convert import OnnxInferenceHelper\n",
        "\n",
        "print(constants.MODEL_RESOURCE_PATH_ONNX)\n",
        "\n",
        "def get_onnx_res(run):\n",
        "    res_path = output_dir + \"/onnx_resource.json\"\n",
        "    run.download_file(\n",
        "        name=constants.MODEL_RESOURCE_PATH_ONNX, output_file_path=res_path\n",
        "    )\n",
        "    with open(res_path) as f:\n",
        "        result = json.load(f)\n",
        "    return result\n",
        "\n",
        "\n",
        "if sys.version_info < OnnxConvertConstants.OnnxIncompatiblePythonVersion:\n",
        "    # test_df = test_dataset.to_pandas_dataframe()\n",
        "    mdl_bytes = onnx_mdl.SerializeToString()\n",
        "    onnx_result = get_onnx_res(bestrun)\n",
        "\n",
        "    onnxrt_helper = OnnxInferenceHelper(mdl_bytes, onnx_result)\n",
        "    pred_onnx, pred_prob_onnx = onnxrt_helper.predict(X_test)\n",
        "    #print(pred_onnx)\n",
        "    #print(pred_prob_onnx)\n",
        "else:\n",
        "    print(\"Please use Python version 3.6 or higher to run the inference helper.\")\n",
        "    "
      ],
      "outputs": [
        {
          "output_type": "stream",
          "name": "stdout",
          "text": "outputs/model_onnx.json\n"
        },
        {
          "output_type": "stream",
          "name": "stderr",
          "text": "2023-08-05 13:37:18.243719530 [W:onnxruntime:, execution_frame.cc:806 VerifyOutputSizes] Expected shape from model of {1} does not match actual shape of {897} for output output_label\n"
        }
      ],
      "execution_count": 20,
      "metadata": {
        "gather": {
          "logged": 1691242638529
        }
      }
    },
    {
      "cell_type": "code",
      "source": [
        "cm = confusion_matrix(y_test, pred_onnx)\n",
        "pd.DataFrame(cm).style.background_gradient(cmap='Blues', low=0, high=0.9)"
      ],
      "outputs": [
        {
          "output_type": "execute_result",
          "execution_count": 21,
          "data": {
            "text/plain": "<pandas.io.formats.style.Styler at 0x7fc30f11c1c0>",
            "text/html": "<style  type=\"text/css\" >\n#T_435aa5f4_3395_11ee_b214_c3f20882117frow0_col0,#T_435aa5f4_3395_11ee_b214_c3f20882117frow1_col1{\n            background-color:  #63a8d3;\n            color:  #000000;\n        }#T_435aa5f4_3395_11ee_b214_c3f20882117frow0_col1,#T_435aa5f4_3395_11ee_b214_c3f20882117frow1_col0{\n            background-color:  #f7fbff;\n            color:  #000000;\n        }</style><table id=\"T_435aa5f4_3395_11ee_b214_c3f20882117f\" ><thead>    <tr>        <th class=\"blank level0\" ></th>        <th class=\"col_heading level0 col0\" >0</th>        <th class=\"col_heading level0 col1\" >1</th>    </tr></thead><tbody>\n                <tr>\n                        <th id=\"T_435aa5f4_3395_11ee_b214_c3f20882117flevel0_row0\" class=\"row_heading level0 row0\" >0</th>\n                        <td id=\"T_435aa5f4_3395_11ee_b214_c3f20882117frow0_col0\" class=\"data row0 col0\" >647</td>\n                        <td id=\"T_435aa5f4_3395_11ee_b214_c3f20882117frow0_col1\" class=\"data row0 col1\" >51</td>\n            </tr>\n            <tr>\n                        <th id=\"T_435aa5f4_3395_11ee_b214_c3f20882117flevel0_row1\" class=\"row_heading level0 row1\" >1</th>\n                        <td id=\"T_435aa5f4_3395_11ee_b214_c3f20882117frow1_col0\" class=\"data row1 col0\" >78</td>\n                        <td id=\"T_435aa5f4_3395_11ee_b214_c3f20882117frow1_col1\" class=\"data row1 col1\" >121</td>\n            </tr>\n    </tbody></table>"
          },
          "metadata": {}
        }
      ],
      "execution_count": 21,
      "metadata": {
        "gather": {
          "logged": 1691242667389
        }
      }
    },
    {
      "cell_type": "markdown",
      "source": [
        "## Model Registration\n"
      ],
      "metadata": {}
    },
    {
      "cell_type": "code",
      "source": [
        "\n",
        "model_name = best_auto_run.properties[\"model_name\"]\n",
        "#print(model_name)\n",
        "description = \"AutoML Model to predict Airbnb fraud listing\"\n",
        "tags = None\n",
        "registered_model = auto_run.register_model(\n",
        "    model_name=model_name, description=description, tags=tags\n",
        ")\n",
        "\n",
        "print(\n",
        "    auto_run.model_id\n",
        ") \n",
        "\n",
        "print(\"registered model: \",registered_model)"
      ],
      "outputs": [
        {
          "output_type": "stream",
          "name": "stdout",
          "text": "AutoMLd9a7c24f414\nregistered model:  Model(workspace=Workspace.create(name='quick-starts-ws-239768', subscription_id='510b94ba-e453-4417-988b-fbdc37b55ca7', resource_group='aml-quickstarts-239768'), name=AutoMLd9a7c24f414, id=AutoMLd9a7c24f414:1, version=1, tags={}, properties={})\n"
        }
      ],
      "execution_count": 22,
      "metadata": {
        "gather": {
          "logged": 1691242686877
        }
      }
    },
    {
      "cell_type": "markdown",
      "source": [
        "## Deploy Webservice"
      ],
      "metadata": {}
    },
    {
      "cell_type": "code",
      "source": [
        "from azureml.core.model import InferenceConfig\n",
        "from azureml.core.webservice import AciWebservice\n",
        "from azureml.core.webservice import Webservice\n",
        "from azureml.core.model import Model\n",
        "from azureml.core.environment import Environment\n",
        "\n",
        "# download score file\n",
        "\n",
        "script_file_name = output_dir + \"/score.py\"\n",
        "best_auto_run.download_file(\"outputs/scoring_file_v_1_0_0.py\", script_file_name)\n",
        "\n",
        "inference_config = InferenceConfig(\n",
        "    environment=best_auto_run.get_environment(), entry_script=script_file_name\n",
        ")\n",
        "\n",
        "aciconfig = AciWebservice.deploy_configuration(\n",
        "    cpu_cores=2,\n",
        "    memory_gb=2,\n",
        "    tags={\"type\": \"automl_classification\"},\n",
        "    description=\"Automl Classification Service\",\n",
        ")\n",
        "\n",
        "aci_service_name = model_name.lower()\n",
        "print(aci_service_name)\n",
        "aci_service = Model.deploy(ws, aci_service_name, [registered_model], inference_config, aciconfig)\n",
        "aci_service.wait_for_deployment(True)\n",
        "print(aci_service.scoring_uri)\n",
        "print(aci_service.state)"
      ],
      "outputs": [
        {
          "output_type": "stream",
          "name": "stdout",
          "text": "automld9a7c24f414\nTips: You can try get_logs(): https://aka.ms/debugimage#dockerlog or local deployment: https://aka.ms/debugimage#debug-locally to debug if deployment takes longer than 10 minutes.\nRunning\n2023-08-05 16:48:48+00:00 Creating Container Registry if not exists.\n2023-08-05 16:48:49+00:00 Use the existing image.\n2023-08-05 16:48:50+00:00 Submitting deployment to compute.\n2023-08-05 16:48:54+00:00 Checking the status of deployment automld9a7c24f414..\n2023-08-05 16:50:56+00:00 Checking the status of inference endpoint automld9a7c24f414.\nSucceeded\nACI service creation operation finished, operation \"Succeeded\"\nhttp://938bcec3-9ea5-46e6-8d92-062ce25c5108.westus2.azurecontainer.io/score\nHealthy\n"
        }
      ],
      "execution_count": 34,
      "metadata": {
        "gather": {
          "logged": 1691254283418
        }
      }
    },
    {
      "cell_type": "markdown",
      "source": [
        "### Print the logs of the web service"
      ],
      "metadata": {}
    },
    {
      "cell_type": "code",
      "source": [
        "aci_service.get_logs()"
      ],
      "outputs": [
        {
          "output_type": "execute_result",
          "execution_count": 35,
          "data": {
            "text/plain": "'2023-08-05T16:50:44,119204500+00:00 - rsyslog/run \\n2023-08-05T16:50:44,128787800+00:00 - gunicorn/run \\n2023-08-05T16:50:44,131392000+00:00 | gunicorn/run | \\n2023-08-05T16:50:44,134888100+00:00 | gunicorn/run | ###############################################\\n2023-08-05T16:50:44,138400700+00:00 | gunicorn/run | AzureML Container Runtime Information\\n2023-08-05T16:50:44,138624800+00:00 - nginx/run \\n2023-08-05T16:50:44,142823600+00:00 | gunicorn/run | ###############################################\\n2023-08-05T16:50:44,146996800+00:00 | gunicorn/run | \\n2023-08-05T16:50:44,159411800+00:00 | gunicorn/run | \\n2023-08-05T16:50:44,167454300+00:00 | gunicorn/run | AzureML image information: openmpi4.1.0-ubuntu20.04, Materializaton Build:20230628.v2\\n2023-08-05T16:50:44,168973100+00:00 | gunicorn/run | \\n2023-08-05T16:50:44,177576100+00:00 | gunicorn/run | \\n2023-08-05T16:50:44,184403000+00:00 | gunicorn/run | PATH environment variable: /azureml-envs/azureml-automl/bin:/opt/miniconda/bin:/usr/local/sbin:/usr/local/bin:/usr/sbin:/usr/bin:/sbin:/bin\\n2023-08-05T16:50:44,189769700+00:00 | gunicorn/run | PYTHONPATH environment variable: \\n2023-08-05T16:50:44,192278700+00:00 | gunicorn/run | \\n2023-08-05T16:50:45,149520400+00:00 | gunicorn/run | CONDAPATH environment variable: /opt/miniconda\\n\\n# conda environments:\\n#\\n                         /azureml-envs/azureml-automl\\nbase                     /opt/miniconda\\n\\n2023-08-05T16:50:46,274573659+00:00 | gunicorn/run | \\n2023-08-05T16:50:46,280197732+00:00 | gunicorn/run | Pip Dependencies (before dynamic installation)\\n\\nadal==1.2.7\\napplicationinsights==0.11.10\\narch==5.3.1\\nargcomplete==2.1.2\\nargon2-cffi==21.3.0\\nargon2-cffi-bindings==21.2.0\\nasttokens==2.2.1\\nattrs==23.1.0\\nazure-common==1.1.28\\nazure-core==1.27.1\\nazure-graphrbac==0.61.1\\nazure-identity==1.13.0\\nazure-mgmt-authorization==3.0.0\\nazure-mgmt-containerregistry==10.1.0\\nazure-mgmt-core==1.4.0\\nazure-mgmt-keyvault==10.2.2\\nazure-mgmt-resource==22.0.0\\nazure-mgmt-storage==21.0.0\\nazure-storage-blob==12.13.0\\nazure-storage-queue==12.6.0\\nazureml-automl-core==1.52.0.post1\\nazureml-automl-runtime==1.52.0.post1\\nazureml-core==1.52.0\\nazureml-dataprep==4.11.4\\nazureml-dataprep-native==38.0.0\\nazureml-dataprep-rslex==2.18.4\\nazureml-dataset-runtime==1.52.0\\nazureml-defaults==1.52.0\\nazureml-inference-server-http==0.8.4\\nazureml-interpret==1.52.0\\nazureml-mlflow==1.52.0\\nazureml-pipeline-core==1.52.0\\nazureml-responsibleai==1.52.0\\nazureml-telemetry==1.52.0\\nazureml-train-automl-client==1.52.0\\nazureml-train-automl-runtime==1.52.0\\nazureml-train-core==1.52.0\\nazureml-train-restclients-hyperdrive==1.52.0\\nazureml-training-tabular==1.52.0\\nbackcall==0.2.0\\nbackports.tempfile==1.0\\nbackports.weakref==1.0.post1\\nbcrypt==4.0.1\\nbeautifulsoup4==4.12.2\\nbleach==6.0.0\\nbokeh==2.4.3\\nboto==2.49.0\\nboto3==1.20.19\\nbotocore==1.23.19\\nBrotli @ file:///home/conda/feedstock_root/build_artifacts/brotli-split_1687884021435/work\\ncachetools==5.3.1\\ncertifi==2023.5.7\\ncffi @ file:///home/conda/feedstock_root/build_artifacts/cffi_1671179356964/work\\ncharset-normalizer @ file:///home/conda/feedstock_root/build_artifacts/charset-normalizer_1678108872112/work\\nclick==8.1.4\\ncloudpickle @ file:///home/conda/feedstock_root/build_artifacts/cloudpickle_1598400192773/work\\ncmdstanpy==0.9.5\\ncontextlib2==21.6.0\\ncontourpy==1.1.0\\nconvertdate @ file:///home/conda/feedstock_root/build_artifacts/convertdate_1642883757836/work\\ncryptography==41.0.0\\ncycler==0.11.0\\nCython==0.29.17\\ndask==2023.2.0\\ndatabricks-cli==0.17.7\\ndataclasses==0.6\\ndebugpy==1.6.7\\ndecorator==5.1.1\\ndefusedxml==0.7.1\\ndice-ml==0.9\\ndill==0.3.6\\ndistributed==2023.2.0\\ndistro==1.8.0\\ndocker==6.1.3\\ndotnetcore2==3.1.23\\neconml==0.14.1\\nentrypoints==0.4\\nephem==4.1.4\\nerroranalysis==0.4.4\\nexecuting==1.2.0\\nfairlearn==0.8.0\\nfastjsonschema==2.17.1\\nfbprophet==0.7.1\\nfire==0.5.0\\nFlask==2.2.5\\nFlask-Cors==3.0.10\\nflatbuffers==23.5.26\\nfonttools==4.40.0\\nfsspec==2023.6.0\\nfusepy==3.0.1\\ngensim==3.8.3\\ngitdb==4.0.10\\nGitPython==3.1.31\\ngoogle-api-core==2.11.1\\ngoogle-auth==2.21.0\\ngoogleapis-common-protos==1.59.1\\ngunicorn==20.1.0\\nh5py==3.9.0\\nholidays @ file:///home/conda/feedstock_root/build_artifacts/holidays_1595448845196/work\\nhumanfriendly==10.0\\nidna @ file:///home/conda/feedstock_root/build_artifacts/idna_1663625384323/work\\nimportlib-metadata==6.8.0\\nimportlib-resources==5.13.0\\ninference-schema==1.5.1\\ninterpret-community==0.29.0\\ninterpret-core==0.3.2\\nipykernel==6.8.0\\nipython==8.12.2\\nipython-genutils==0.2.0\\nisodate==0.6.1\\nitsdangerous==2.1.2\\njedi==0.18.2\\njeepney==0.8.0\\nJinja2==3.1.2\\njmespath==0.10.0\\njoblib @ file:///home/conda/feedstock_root/build_artifacts/joblib_1663332044897/work\\njsonpickle==3.0.1\\njsonschema==4.18.0\\njsonschema-specifications==2023.6.1\\njupyter_client==7.4.9\\njupyter_core==5.3.1\\njupyterlab-pygments==0.2.2\\nkeras2onnx==1.6.0\\nkiwisolver==1.4.4\\nknack==0.10.1\\nkorean-lunar-calendar @ file:///home/conda/feedstock_root/build_artifacts/korean_lunar_calendar_1663341251025/work\\nlightgbm==3.2.1\\nllvmlite==0.38.1\\nlocket==1.0.0\\nLunarCalendar==0.0.9\\nMarkupSafe==2.1.2\\nmatplotlib==3.7.2\\nmatplotlib-inline==0.1.6\\nmistune==3.0.1\\nml-wrappers==0.4.11\\nmlflow-skinny==2.4.1\\nmltable==1.4.1\\nmsal==1.22.0\\nmsal-extensions==1.0.0\\nmsgpack==1.0.5\\nmsrest==0.7.1\\nmsrestazure==0.6.4\\nnbclient==0.8.0\\nnbconvert==7.6.0\\nnbformat==5.9.0\\nndg-httpsclient==0.5.1\\nnest-asyncio==1.5.6\\nnetworkx==2.5\\nnotebook==6.4.9\\nnumba==0.55.2\\nnumpy==1.22.3\\noauthlib==3.2.2\\nonnx==1.13.1\\nonnxconverter-common==1.6.0\\nonnxmltools==1.4.1\\nonnxruntime==1.11.1\\nopencensus==0.11.2\\nopencensus-context==0.1.3\\nopencensus-ext-azure==1.1.9\\npackaging==23.0\\npandas==1.1.5\\npandocfilters==1.5.0\\nparamiko==3.2.0\\nparso==0.8.3\\npartd==1.4.0\\npathspec==0.11.1\\npatsy==0.5.3\\npexpect==4.8.0\\npickleshare==0.7.5\\nPillow==10.0.0\\npkginfo==1.9.6\\npkgutil_resolve_name==1.3.10\\nplatformdirs @ file:///home/conda/feedstock_root/build_artifacts/platformdirs_1688739404342/work\\npmdarima==1.8.0\\npooch @ file:///home/conda/feedstock_root/build_artifacts/pooch_1679580333621/work\\nportalocker==2.7.0\\nprometheus-client==0.17.0\\nprompt-toolkit==3.0.39\\nproperty-cached==1.6.4\\nprotobuf==3.20.3\\npsutil @ file:///home/conda/feedstock_root/build_artifacts/psutil_1681775007745/work\\nptyprocess==0.7.0\\npure-eval==0.2.2\\npy-cpuinfo==5.0.0\\npyarrow==9.0.0\\npyasn1==0.5.0\\npyasn1-modules==0.3.0\\npycparser @ file:///home/conda/feedstock_root/build_artifacts/pycparser_1636257122734/work\\npydantic==1.10.11\\nPygments==2.15.1\\nPyJWT==2.7.0\\nPyMeeus @ file:///home/conda/feedstock_root/build_artifacts/pymeeus_1670868433998/work\\nPyNaCl==1.5.0\\npyOpenSSL @ file:///home/conda/feedstock_root/build_artifacts/pyopenssl_1685514481738/work\\npyparsing==3.0.9\\nPySocks @ file:///home/conda/feedstock_root/build_artifacts/pysocks_1661604839144/work\\npystan==2.19.1.1\\npython-dateutil @ file:///home/conda/feedstock_root/build_artifacts/python-dateutil_1626286286081/work\\npytz @ file:///home/conda/feedstock_root/build_artifacts/pytz_1680088766131/work\\nPyYAML==6.0\\npyzmq==25.1.0\\nraiutils==0.4.0\\nreferencing==0.29.1\\nrequests @ file:///home/conda/feedstock_root/build_artifacts/requests_1684774241324/work\\nrequests-oauthlib==1.3.1\\nresponsibleai==0.28.0\\nrpds-py==0.8.8\\nrsa==4.9\\ns3transfer==0.5.2\\nscikit-learn==0.22.1\\nscipy==1.5.3\\nSecretStorage==3.3.3\\nsemver==2.13.0\\nSend2Trash==1.8.2\\nsetuptools-git==1.2\\nshap==0.41.0\\nsix @ file:///home/conda/feedstock_root/build_artifacts/six_1620240208055/work\\nskl2onnx==1.4.9\\nsklearn-pandas==1.7.0\\nslicer==0.0.7\\nsmart-open==1.9.0\\nsmmap==5.0.0\\nsortedcontainers==2.4.0\\nsoupsieve==2.4.1\\nsparse==0.14.0\\nsqlparse==0.4.4\\nstack-data==0.6.2\\nstatsmodels==0.11.1\\ntabulate==0.9.0\\ntblib==2.0.0\\ntermcolor==2.3.0\\nterminado==0.17.1\\ntinycss2==1.2.1\\ntoolz==0.12.0\\ntornado==6.3.2\\ntqdm==4.65.0\\ntraitlets==5.9.0\\ntyping_extensions @ file:///home/conda/feedstock_root/build_artifacts/typing_extensions_1688315532570/work\\nurllib3==1.26.16\\nwcwidth==0.2.6\\nwebencodings==0.5.1\\nwebsocket-client==1.6.1\\nWerkzeug==2.3.6\\nwrapt==1.12.1\\nxgboost==1.3.3\\nzict==3.0.0\\nzipp==3.15.0\\n\\n2023-08-05T16:50:48,365672404+00:00 | gunicorn/run | \\n2023-08-05T16:50:48,369258004+00:00 | gunicorn/run | ###############################################\\n2023-08-05T16:50:48,373296404+00:00 | gunicorn/run | Checking if the Python package azureml-inference-server-http is installed\\n2023-08-05T16:50:48,376192904+00:00 | gunicorn/run | ###############################################\\n2023-08-05T16:50:48,380652704+00:00 | gunicorn/run | \\n2023-08-05T16:50:51,445587804+00:00 | gunicorn/run | \\n2023-08-05T16:50:51,449800804+00:00 | gunicorn/run | ###############################################\\n2023-08-05T16:50:51,451702704+00:00 | gunicorn/run | AzureML Inference Server\\n2023-08-05T16:50:51,453450004+00:00 | gunicorn/run | ###############################################\\n2023-08-05T16:50:51,455209704+00:00 | gunicorn/run | \\n2023-08-05T16:50:54,286744728+00:00 | gunicorn/run | Starting AzureML Inference Server HTTP.\\n2023-08-05 16:50:54,604 I [77] azmlinfsrv - Loaded logging config from /azureml-envs/azureml-automl/lib/python3.8/site-packages/azureml_inference_server_http/logging.json\\n2023-08-05 16:50:54,888 I [77] gunicorn.error - Starting gunicorn 20.1.0\\n2023-08-05 16:50:54,890 I [77] gunicorn.error - Listening at: http://0.0.0.0:31311 (77)\\n2023-08-05 16:50:54,891 I [77] gunicorn.error - Using worker: sync\\n2023-08-05 16:50:54,895 I [135] gunicorn.error - Booting worker with pid: 135\\n\\n/azureml-envs/azureml-automl/lib/python3.8/site-packages/azureml_inference_server_http/server/config.py:51: FutureWarning: aliases are no longer used by BaseSettings to define which environment variables to read. Instead use the \"env\" field setting. See https://pydantic-docs.helpmanual.io/usage/settings/#environment-variable-names\\n  class AMLInferenceServerConfig(pydantic.BaseSettings):\\nAzure ML Inferencing HTTP server v0.8.4\\n\\n\\nServer Settings\\n---------------\\nEntry Script Name: /var/azureml-app/main.py\\nModel Directory: /var/azureml-app/azureml-models/AutoMLd9a7c24f414/1\\nConfig File: None\\nWorker Count: 1\\nWorker Timeout (seconds): 300\\nServer Port: 31311\\nHealth Port: 31311\\nApplication Insights Enabled: false\\nApplication Insights Key: None\\nInferencing HTTP server version: azmlinfsrv/0.8.4\\nCORS for the specified origins: None\\nCreate dedicated endpoint for health: None\\n\\n\\nServer Routes\\n---------------\\nLiveness Probe: GET   127.0.0.1:31311/\\nScore:          POST  127.0.0.1:31311/score\\n\\n2023-08-05 16:50:55,785 I [135] azmlinfsrv - AML_FLASK_ONE_COMPATIBILITY is set. Patched Flask to ensure compatibility with Flask 1.\\nInitializing logger\\n2023-08-05 16:50:55,789 I [135] azmlinfsrv - Starting up app insights client\\n2023-08-05 16:50:56,773 I [135] azmlinfsrv.user_script - Found driver script at /var/azureml-app/main.py and the score script at /var/azureml-app/score.py\\n2023-08-05 16:50:56,773 I [135] azmlinfsrv.user_script - run() is decorated with @input_schema. Server will invoke it with the following arguments: data, method.\\n2023-08-05 16:50:56,773 I [135] azmlinfsrv.user_script - Invoking user\\'s init function\\nERROR:fbprophet.plot:Importing plotly failed. Interactive plots will not work.\\n2023-08-05 16:51:08,185 I [135] azmlinfsrv.user_script - Users\\'s init has completed successfully\\n2023-08-05 16:51:08,188 I [135] azmlinfsrv.swagger - Swaggers are prepared for the following versions: [2, 3, 3.1].\\n2023-08-05 16:51:08,189 I [135] azmlinfsrv - Scoring timeout is set to 60000\\n2023-08-05 16:51:08,197 W [135] azmlinfsrv - x-ms-request-id header has been deprecated and will be removed from future versions of the server. Please use x-ms-client-request-id.\\n2023-08-05 16:51:08,199 I [135] gunicorn.access - 127.0.0.1 - - [05/Aug/2023:16:51:08 +0000] \"GET / HTTP/1.0\" 200 7 \"-\" \"Go-http-client/1.1\"\\n2023-08-05 16:51:08,201 W [135] azmlinfsrv - x-ms-request-id header has been deprecated and will be removed from future versions of the server. Please use x-ms-client-request-id.\\n2023-08-05 16:51:08,202 I [135] gunicorn.access - 127.0.0.1 - - [05/Aug/2023:16:51:08 +0000] \"GET / HTTP/1.0\" 200 7 \"-\" \"Go-http-client/1.1\"\\n2023-08-05 16:51:08,203 W [135] azmlinfsrv - x-ms-request-id header has been deprecated and will be removed from future versions of the server. Please use x-ms-client-request-id.\\n2023-08-05 16:51:08,205 I [135] gunicorn.access - 127.0.0.1 - - [05/Aug/2023:16:51:08 +0000] \"GET / HTTP/1.0\" 200 7 \"-\" \"Go-http-client/1.1\"\\n2023-08-05 16:51:09,328 I [135] gunicorn.access - 127.0.0.1 - - [05/Aug/2023:16:51:09 +0000] \"GET / HTTP/1.0\" 200 7 \"-\" \"curl/7.58.0\"\\n2023-08-05 16:51:19,614 W [135] azmlinfsrv - x-ms-request-id header has been deprecated and will be removed from future versions of the server. Please use x-ms-client-request-id.\\n2023-08-05 16:51:19,615 I [135] gunicorn.access - 127.0.0.1 - - [05/Aug/2023:16:51:19 +0000] \"GET / HTTP/1.0\" 200 7 \"-\" \"Go-http-client/1.1\"\\n2023-08-05 16:51:19,621 W [135] azmlinfsrv - x-ms-request-id header has been deprecated and will be removed from future versions of the server. Please use x-ms-client-request-id.\\n2023-08-05 16:51:19,622 I [135] azmlinfsrv - GET /swagger.json 200 1.153ms 3853\\n2023-08-05 16:51:19,623 I [135] gunicorn.access - 127.0.0.1 - - [05/Aug/2023:16:51:19 +0000] \"GET /swagger.json HTTP/1.0\" 200 3853 \"-\" \"Go-http-client/1.1\"\\n2023-08-05 16:51:22,944 W [135] azmlinfsrv - x-ms-request-id header has been deprecated and will be removed from future versions of the server. Please use x-ms-client-request-id.\\n2023-08-05 16:51:22,945 I [135] gunicorn.access - 127.0.0.1 - - [05/Aug/2023:16:51:22 +0000] \"GET / HTTP/1.0\" 200 7 \"-\" \"Go-http-client/1.1\"\\n2023-08-05 16:51:22,951 W [135] azmlinfsrv - x-ms-request-id header has been deprecated and will be removed from future versions of the server. Please use x-ms-client-request-id.\\n2023-08-05 16:51:22,952 I [135] azmlinfsrv - GET /swagger.json 200 0.684ms 3853\\n2023-08-05 16:51:22,952 I [135] gunicorn.access - 127.0.0.1 - - [05/Aug/2023:16:51:22 +0000] \"GET /swagger.json HTTP/1.0\" 200 3853 \"-\" \"Go-http-client/1.1\"\\n2023-08-05 16:53:34,016 W [135] azmlinfsrv - x-ms-request-id header has been deprecated and will be removed from future versions of the server. Please use x-ms-client-request-id.\\n2023-08-05 16:53:34,019 I [135] gunicorn.access - 127.0.0.1 - - [05/Aug/2023:16:53:34 +0000] \"GET / HTTP/1.0\" 200 7 \"-\" \"Go-http-client/1.1\"\\n2023-08-05 16:53:34,025 W [135] azmlinfsrv - x-ms-request-id header has been deprecated and will be removed from future versions of the server. Please use x-ms-client-request-id.\\n2023-08-05 16:53:34,026 I [135] azmlinfsrv - GET /swagger.json 200 0.737ms 3853\\n2023-08-05 16:53:34,027 I [135] gunicorn.access - 127.0.0.1 - - [05/Aug/2023:16:53:34 +0000] \"GET /swagger.json HTTP/1.0\" 200 3853 \"-\" \"Go-http-client/1.1\"\\n2023-08-05 16:54:02,666 W [135] azmlinfsrv - x-ms-request-id header has been deprecated and will be removed from future versions of the server. Please use x-ms-client-request-id.\\n2023-08-05 16:54:02,667 I [135] azmlinfsrv - GET /swagger.json 200 0.749ms 3853\\n2023-08-05 16:54:02,669 I [135] gunicorn.access - 127.0.0.1 - - [05/Aug/2023:16:54:02 +0000] \"GET /swagger.json HTTP/1.0\" 200 3853 \"-\" \"Go-http-client/1.1\"\\n'"
          },
          "metadata": {}
        }
      ],
      "execution_count": 35,
      "metadata": {
        "gather": {
          "logged": 1691254513627
        }
      }
    },
    {
      "cell_type": "markdown",
      "source": [
        "### Send a request to the web service"
      ],
      "metadata": {
        "collapsed": true,
        "gather": {
          "logged": 1598431657736
        },
        "jupyter": {
          "outputs_hidden": true,
          "source_hidden": false
        },
        "nteract": {
          "transient": {
            "deleting": false
          }
        }
      }
    },
    {
      "cell_type": "code",
      "source": [
        "from numpy import array\n",
        "import requests\n",
        "\n",
        "X_test_json = X_test.to_json(orient=\"records\")\n",
        "#data = '{\"data\": ' + X_test_json + \"}\"\n",
        "data = '{\"data\": ' + X_test_json + ', \"method\": \"predict\"}'\n",
        "# print(\"test data:\", data)\n",
        "headers = {\"Content-Type\": \"application/json\"}\n",
        "print(\"web service uri: \",aci_service.scoring_uri)\n",
        "#resp = requests.post(aci_service.scoring_uri, data, headers=headers)\n",
        "#y_pred = json.loads(json.loads(resp.text))[\"result\"]\n",
        "#print(y_pred)\n",
        "#print(y_test)\n",
        "actual = array(y_test)\n",
        "#print(len(y_pred), \" \", len(actual))\n",
        "#print(actual)\n",
        "\n",
        "# sample test data\n",
        "X_test.head()"
      ],
      "outputs": [
        {
          "output_type": "stream",
          "name": "stdout",
          "text": "web service uri:  http://938bcec3-9ea5-46e6-8d92-062ce25c5108.westus2.azurecontainer.io/score\n"
        },
        {
          "output_type": "execute_result",
          "execution_count": 38,
          "data": {
            "text/plain": "   host_response_rate  host_identity_verified  host_total_listings_count  \\\n0                 100                       0                          1   \n1                 100                       1                          5   \n2                  98                       1                          5   \n3                 100                       1                          2   \n4                  93                       1                         17   \n\n   is_location_exact  property_type  accommodates  price  minimum_nights  \\\n0                  1              0             2   5000              15   \n1                  0              0             4  25600               2   \n2                  1              8            16  20000               1   \n3                  1              0             2  25000               7   \n4                  1              0             1   3900              30   \n\n   number_of_reviews  review_scores_rating  instant_bookable  \\\n0                  0                100.00                 1   \n1                  5                 96.00                 1   \n2                 82                 95.00                 0   \n3                  2                 80.00                 0   \n4                  1                100.00                 0   \n\n   cancellation_policy  reviews_per_month  \n0                    2               1.00  \n1                    3               3.06  \n2                    2               4.32  \n3                    2               0.08  \n4                    2               0.43  ",
            "text/html": "<div>\n<style scoped>\n    .dataframe tbody tr th:only-of-type {\n        vertical-align: middle;\n    }\n\n    .dataframe tbody tr th {\n        vertical-align: top;\n    }\n\n    .dataframe thead th {\n        text-align: right;\n    }\n</style>\n<table border=\"1\" class=\"dataframe\">\n  <thead>\n    <tr style=\"text-align: right;\">\n      <th></th>\n      <th>host_response_rate</th>\n      <th>host_identity_verified</th>\n      <th>host_total_listings_count</th>\n      <th>is_location_exact</th>\n      <th>property_type</th>\n      <th>accommodates</th>\n      <th>price</th>\n      <th>minimum_nights</th>\n      <th>number_of_reviews</th>\n      <th>review_scores_rating</th>\n      <th>instant_bookable</th>\n      <th>cancellation_policy</th>\n      <th>reviews_per_month</th>\n    </tr>\n  </thead>\n  <tbody>\n    <tr>\n      <th>0</th>\n      <td>100</td>\n      <td>0</td>\n      <td>1</td>\n      <td>1</td>\n      <td>0</td>\n      <td>2</td>\n      <td>5000</td>\n      <td>15</td>\n      <td>0</td>\n      <td>100.00</td>\n      <td>1</td>\n      <td>2</td>\n      <td>1.00</td>\n    </tr>\n    <tr>\n      <th>1</th>\n      <td>100</td>\n      <td>1</td>\n      <td>5</td>\n      <td>0</td>\n      <td>0</td>\n      <td>4</td>\n      <td>25600</td>\n      <td>2</td>\n      <td>5</td>\n      <td>96.00</td>\n      <td>1</td>\n      <td>3</td>\n      <td>3.06</td>\n    </tr>\n    <tr>\n      <th>2</th>\n      <td>98</td>\n      <td>1</td>\n      <td>5</td>\n      <td>1</td>\n      <td>8</td>\n      <td>16</td>\n      <td>20000</td>\n      <td>1</td>\n      <td>82</td>\n      <td>95.00</td>\n      <td>0</td>\n      <td>2</td>\n      <td>4.32</td>\n    </tr>\n    <tr>\n      <th>3</th>\n      <td>100</td>\n      <td>1</td>\n      <td>2</td>\n      <td>1</td>\n      <td>0</td>\n      <td>2</td>\n      <td>25000</td>\n      <td>7</td>\n      <td>2</td>\n      <td>80.00</td>\n      <td>0</td>\n      <td>2</td>\n      <td>0.08</td>\n    </tr>\n    <tr>\n      <th>4</th>\n      <td>93</td>\n      <td>1</td>\n      <td>17</td>\n      <td>1</td>\n      <td>0</td>\n      <td>1</td>\n      <td>3900</td>\n      <td>30</td>\n      <td>1</td>\n      <td>100.00</td>\n      <td>0</td>\n      <td>2</td>\n      <td>0.43</td>\n    </tr>\n  </tbody>\n</table>\n</div>"
          },
          "metadata": {}
        }
      ],
      "execution_count": 38,
      "metadata": {
        "collapsed": false,
        "gather": {
          "logged": 1691256632221
        },
        "jupyter": {
          "outputs_hidden": false,
          "source_hidden": false
        },
        "nteract": {
          "transient": {
            "deleting": false
          }
        }
      }
    },
    {
      "cell_type": "code",
      "source": [
        "resp = requests.post(aci_service.scoring_uri, data, headers=headers)\n",
        "y_pred = json.loads(json.loads(resp.text))[\"result\"]\n",
        "cm = confusion_matrix(actual, ypred)\n",
        "pd.DataFrame(cm).style.background_gradient(cmap='Blues', low=0, high=0.9)"
      ],
      "outputs": [
        {
          "output_type": "execute_result",
          "execution_count": 40,
          "data": {
            "text/plain": "<pandas.io.formats.style.Styler at 0x7fc2af82dc70>",
            "text/html": "<style  type=\"text/css\" >\n#T_adfee240_33b7_11ee_b214_c3f20882117frow0_col0,#T_adfee240_33b7_11ee_b214_c3f20882117frow1_col1{\n            background-color:  #63a8d3;\n            color:  #000000;\n        }#T_adfee240_33b7_11ee_b214_c3f20882117frow0_col1,#T_adfee240_33b7_11ee_b214_c3f20882117frow1_col0{\n            background-color:  #f7fbff;\n            color:  #000000;\n        }</style><table id=\"T_adfee240_33b7_11ee_b214_c3f20882117f\" ><thead>    <tr>        <th class=\"blank level0\" ></th>        <th class=\"col_heading level0 col0\" >0</th>        <th class=\"col_heading level0 col1\" >1</th>    </tr></thead><tbody>\n                <tr>\n                        <th id=\"T_adfee240_33b7_11ee_b214_c3f20882117flevel0_row0\" class=\"row_heading level0 row0\" >0</th>\n                        <td id=\"T_adfee240_33b7_11ee_b214_c3f20882117frow0_col0\" class=\"data row0 col0\" >647</td>\n                        <td id=\"T_adfee240_33b7_11ee_b214_c3f20882117frow0_col1\" class=\"data row0 col1\" >51</td>\n            </tr>\n            <tr>\n                        <th id=\"T_adfee240_33b7_11ee_b214_c3f20882117flevel0_row1\" class=\"row_heading level0 row1\" >1</th>\n                        <td id=\"T_adfee240_33b7_11ee_b214_c3f20882117frow1_col0\" class=\"data row1 col0\" >81</td>\n                        <td id=\"T_adfee240_33b7_11ee_b214_c3f20882117frow1_col1\" class=\"data row1 col1\" >118</td>\n            </tr>\n    </tbody></table>"
          },
          "metadata": {}
        }
      ],
      "execution_count": 40,
      "metadata": {
        "gather": {
          "logged": 1691257449115
        }
      }
    },
    {
      "cell_type": "markdown",
      "source": [
        "## Cleanup Resources"
      ],
      "metadata": {}
    },
    {
      "cell_type": "code",
      "source": [
        "aci_service.delete()\n",
        "\n",
        "compute_target.delete()\n"
      ],
      "outputs": [],
      "execution_count": null,
      "metadata": {}
    }
  ],
  "metadata": {
    "kernel_info": {
      "name": "python38-azureml"
    },
    "kernelspec": {
      "name": "python38-azureml",
      "language": "python",
      "display_name": "Python 3.8 - AzureML"
    },
    "language_info": {
      "name": "python",
      "version": "3.8.5",
      "mimetype": "text/x-python",
      "codemirror_mode": {
        "name": "ipython",
        "version": 3
      },
      "pygments_lexer": "ipython3",
      "nbconvert_exporter": "python",
      "file_extension": ".py"
    },
    "microsoft": {
      "host": {
        "AzureML": {
          "notebookHasBeenCompleted": true
        }
      },
      "ms_spell_check": {
        "ms_spell_check_language": "en"
      }
    },
    "nteract": {
      "version": "nteract-front-end@1.0.0"
    }
  },
  "nbformat": 4,
  "nbformat_minor": 4
}