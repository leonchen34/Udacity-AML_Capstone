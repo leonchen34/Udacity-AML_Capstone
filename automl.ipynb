{
 "cells": [
  {
   "cell_type": "markdown",
   "metadata": {},
   "source": [
    "# Automated ML"
   ]
  },
  {
   "cell_type": "code",
   "execution_count": 45,
   "metadata": {
    "collapsed": false,
    "gather": {
     "logged": 1692136771393
    },
    "jupyter": {
     "outputs_hidden": false,
     "source_hidden": false
    },
    "nteract": {
     "transient": {
      "deleting": false
     }
    }
   },
   "outputs": [],
   "source": [
    "from azureml.core import Workspace, Experiment\n",
    "from azureml.core.compute import ComputeTarget, AmlCompute\n",
    "from azureml.core.run import Run\n",
    "from azureml.train.automl import AutoMLConfig\n",
    "from azureml.exceptions import ComputeTargetException\n",
    "from azureml.widgets import RunDetails\n",
    "import pandas as pd\n",
    "import logging\n",
    "import json\n",
    "import joblib\n",
    "import warnings\n",
    "warnings.filterwarnings('ignore')"
   ]
  },
  {
   "cell_type": "markdown",
   "metadata": {},
   "source": [
    "## Dataset\n",
    "\n",
    "### Overview\n",
    "\n",
    "\"Airbnb for Boston with fraud detcetion\" data was downloaded from Kaggle with the following link:\n",
    "\n",
    "https://www.kaggle.com/datasets/hawkingcr/airbnb-for-boston-with-fraud-detection/download?datasetVersionNumber=1\n",
    "\n",
    "The downloaded file was saved as \"output.csv\" in the \"data\" directory. The dataset aims to classify whether an Airbnb listing is a fraud or not.\n",
    "\n",
    "A notebook file named \"data_process.ipyng\" was created to perform some pre-processing on the data. Firstly, a correlation analysis was conducted with the target column \"fraud\" to identify and remove some non-significant features. Next, the data was split into \"train.csv\" and \"test.csv\" sets, and the balance of the training data was examined. Due to the class imbalance in the training target, an upsampling technique was applied to address this imbalance.\n",
    "\n",
    "A script file named \"data_set.py\" was created in the scripts directory. Two functions getTrainingDataset() and getTestDataset() are defined to register traing and test data as dataset in the workspace.\n",
    "\n",
    "### Get Training Dataset"
   ]
  },
  {
   "cell_type": "code",
   "execution_count": 46,
   "metadata": {
    "collapsed": false,
    "gather": {
     "logged": 1692136772752
    },
    "jupyter": {
     "outputs_hidden": false,
     "source_hidden": false
    },
    "nteract": {
     "transient": {
      "deleting": false
     }
    }
   },
   "outputs": [
    {
     "name": "stdout",
     "output_type": "stream",
     "text": [
      "found existing traing dataset\n"
     ]
    },
    {
     "data": {
      "text/html": [
       "<div>\n",
       "<style scoped>\n",
       "    .dataframe tbody tr th:only-of-type {\n",
       "        vertical-align: middle;\n",
       "    }\n",
       "\n",
       "    .dataframe tbody tr th {\n",
       "        vertical-align: top;\n",
       "    }\n",
       "\n",
       "    .dataframe thead th {\n",
       "        text-align: right;\n",
       "    }\n",
       "</style>\n",
       "<table border=\"1\" class=\"dataframe\">\n",
       "  <thead>\n",
       "    <tr style=\"text-align: right;\">\n",
       "      <th></th>\n",
       "      <th>host_response_rate</th>\n",
       "      <th>host_identity_verified</th>\n",
       "      <th>host_total_listings_count</th>\n",
       "      <th>is_location_exact</th>\n",
       "      <th>property_type</th>\n",
       "      <th>accommodates</th>\n",
       "      <th>price</th>\n",
       "      <th>minimum_nights</th>\n",
       "      <th>number_of_reviews</th>\n",
       "      <th>review_scores_rating</th>\n",
       "      <th>instant_bookable</th>\n",
       "      <th>cancellation_policy</th>\n",
       "      <th>reviews_per_month</th>\n",
       "      <th>fraud</th>\n",
       "    </tr>\n",
       "  </thead>\n",
       "  <tbody>\n",
       "    <tr>\n",
       "      <th>0</th>\n",
       "      <td>95</td>\n",
       "      <td>1</td>\n",
       "      <td>3</td>\n",
       "      <td>1</td>\n",
       "      <td>8</td>\n",
       "      <td>2</td>\n",
       "      <td>6500</td>\n",
       "      <td>2</td>\n",
       "      <td>8</td>\n",
       "      <td>93.00</td>\n",
       "      <td>0</td>\n",
       "      <td>1</td>\n",
       "      <td>0.63</td>\n",
       "      <td>1</td>\n",
       "    </tr>\n",
       "    <tr>\n",
       "      <th>1</th>\n",
       "      <td>100</td>\n",
       "      <td>1</td>\n",
       "      <td>1</td>\n",
       "      <td>1</td>\n",
       "      <td>0</td>\n",
       "      <td>8</td>\n",
       "      <td>50000</td>\n",
       "      <td>1</td>\n",
       "      <td>88</td>\n",
       "      <td>98.00</td>\n",
       "      <td>0</td>\n",
       "      <td>1</td>\n",
       "      <td>4.20</td>\n",
       "      <td>1</td>\n",
       "    </tr>\n",
       "    <tr>\n",
       "      <th>2</th>\n",
       "      <td>100</td>\n",
       "      <td>1</td>\n",
       "      <td>1</td>\n",
       "      <td>1</td>\n",
       "      <td>8</td>\n",
       "      <td>2</td>\n",
       "      <td>9000</td>\n",
       "      <td>1</td>\n",
       "      <td>192</td>\n",
       "      <td>95.00</td>\n",
       "      <td>0</td>\n",
       "      <td>1</td>\n",
       "      <td>5.58</td>\n",
       "      <td>1</td>\n",
       "    </tr>\n",
       "    <tr>\n",
       "      <th>3</th>\n",
       "      <td>90</td>\n",
       "      <td>1</td>\n",
       "      <td>1</td>\n",
       "      <td>1</td>\n",
       "      <td>0</td>\n",
       "      <td>2</td>\n",
       "      <td>11500</td>\n",
       "      <td>1</td>\n",
       "      <td>54</td>\n",
       "      <td>88.00</td>\n",
       "      <td>1</td>\n",
       "      <td>2</td>\n",
       "      <td>3.58</td>\n",
       "      <td>1</td>\n",
       "    </tr>\n",
       "    <tr>\n",
       "      <th>4</th>\n",
       "      <td>92</td>\n",
       "      <td>0</td>\n",
       "      <td>8</td>\n",
       "      <td>1</td>\n",
       "      <td>2</td>\n",
       "      <td>6</td>\n",
       "      <td>27500</td>\n",
       "      <td>2</td>\n",
       "      <td>29</td>\n",
       "      <td>91.00</td>\n",
       "      <td>1</td>\n",
       "      <td>2</td>\n",
       "      <td>0.72</td>\n",
       "      <td>1</td>\n",
       "    </tr>\n",
       "  </tbody>\n",
       "</table>\n",
       "</div>"
      ],
      "text/plain": [
       "   host_response_rate  host_identity_verified  host_total_listings_count  \\\n",
       "0                  95                       1                          3   \n",
       "1                 100                       1                          1   \n",
       "2                 100                       1                          1   \n",
       "3                  90                       1                          1   \n",
       "4                  92                       0                          8   \n",
       "\n",
       "   is_location_exact  property_type  accommodates  price  minimum_nights  \\\n",
       "0                  1              8             2   6500               2   \n",
       "1                  1              0             8  50000               1   \n",
       "2                  1              8             2   9000               1   \n",
       "3                  1              0             2  11500               1   \n",
       "4                  1              2             6  27500               2   \n",
       "\n",
       "   number_of_reviews  review_scores_rating  instant_bookable  \\\n",
       "0                  8                 93.00                 0   \n",
       "1                 88                 98.00                 0   \n",
       "2                192                 95.00                 0   \n",
       "3                 54                 88.00                 1   \n",
       "4                 29                 91.00                 1   \n",
       "\n",
       "   cancellation_policy  reviews_per_month  fraud  \n",
       "0                    1               0.63      1  \n",
       "1                    1               4.20      1  \n",
       "2                    1               5.58      1  \n",
       "3                    2               3.58      1  \n",
       "4                    2               0.72      1  "
      ]
     },
     "execution_count": 46,
     "metadata": {},
     "output_type": "execute_result"
    }
   ],
   "source": [
    "from scripts.data_set import getTrainingDataset\n",
    "\n",
    "ws = Workspace.from_config()\n",
    "\n",
    "experiment_name = 'udacity-aml-capstone-automl'\n",
    "experiment=Experiment(ws, experiment_name)\n",
    "\n",
    "train_ds = getTrainingDataset(ws)\n",
    "train_ds.to_pandas_dataframe().head()\n"
   ]
  },
  {
   "cell_type": "markdown",
   "metadata": {},
   "source": [
    "### Create or Attach an AmlCompute cluster"
   ]
  },
  {
   "cell_type": "code",
   "execution_count": 47,
   "metadata": {
    "gather": {
     "logged": 1692136773193
    }
   },
   "outputs": [
    {
     "name": "stdout",
     "output_type": "stream",
     "text": [
      "Found existing cluster, use it.\n",
      "Succeeded\n",
      "AmlCompute wait for completion finished\n",
      "\n",
      "Minimum number of nodes requested have been provisioned\n"
     ]
    }
   ],
   "source": [
    "\n",
    "cluster_name = \"my-cluster\"\n",
    "\n",
    "try:\n",
    "    compute_target = ComputeTarget(workspace=ws, name=cluster_name)\n",
    "    print(\"Found existing cluster, use it.\")\n",
    "except ComputeTargetException:\n",
    "    compute_config = AmlCompute.provisioning_configuration(\n",
    "        vm_size=\"STANDARD_D2_V2\", max_nodes=4\n",
    "    )\n",
    "    compute_target = ComputeTarget.create(ws, cluster_name, compute_config)\n",
    "compute_target.wait_for_completion(show_output=True)\n"
   ]
  },
  {
   "cell_type": "markdown",
   "metadata": {},
   "source": [
    "## AutoML Configuration\n",
    "\n",
    "I picked the following configuration parameters:\n",
    "\n",
    "iteration_timeout_minutes: Time limit in minutes for each iteration. Here it is set to 10 minutes for the relative small dataset.\n",
    "\n",
    "experiment_timeout_hours: Maximum amount of time that all iterations combined can take before the experiment terminates. Here it is set to 30 minutes. Increase this value if needed.\n",
    "\n",
    "enable_early_stopping: Flag to enable early termination if the score is not improving in the short term.\n",
    "\n",
    "primary_metric: Since the original data is very imbalanced, \"AUC_weighted\" is chosen here.\n",
    "\n",
    "featurization: By using auto, the experiment can preprocess the input data (handling missing data, converting text to numeric, etc.)\n",
    "\n",
    "verbosity: Controls the level of logging.\n",
    "\n",
    "n_cross_validation: Since validation data is not specified, Cross-Validation is adopted for training.\n",
    "\n",
    "enable_onnx_compatible_models: After training, a ONNX model would be retrived.\n"
   ]
  },
  {
   "cell_type": "code",
   "execution_count": 48,
   "metadata": {
    "collapsed": false,
    "gather": {
     "logged": 1692136773560
    },
    "jupyter": {
     "outputs_hidden": false,
     "source_hidden": false
    },
    "nteract": {
     "transient": {
      "deleting": false
     }
    }
   },
   "outputs": [],
   "source": [
    "\n",
    "automl_settings = {\n",
    "    \"iteration_timeout_minutes\": 10,\n",
    "    \"experiment_timeout_minutes\": 30,\n",
    "    \"max_concurrent_iterations\": 4,\n",
    "    \"enable_early_stopping\": True,\n",
    "    \"primary_metric\": 'AUC_weighted',\n",
    "    \"featurization\": 'auto',\n",
    "    \"verbosity\": logging.INFO,\n",
    "    \"n_cross_validations\": 5\n",
    "}\n",
    "\n",
    "automl_config = AutoMLConfig(\n",
    "    task=\"classification\",\n",
    "    compute_target=compute_target,\n",
    "    training_data=train_ds,\n",
    "    label_column_name=\"fraud\",\n",
    "    enable_onnx_compatible_models=True,\n",
    "    **automl_settings)"
   ]
  },
  {
   "cell_type": "code",
   "execution_count": 49,
   "metadata": {
    "collapsed": false,
    "gather": {
     "logged": 1692136776128
    },
    "jupyter": {
     "outputs_hidden": false,
     "source_hidden": false
    },
    "nteract": {
     "transient": {
      "deleting": false
     }
    }
   },
   "outputs": [
    {
     "name": "stdout",
     "output_type": "stream",
     "text": [
      "Submitting remote run.\n"
     ]
    },
    {
     "data": {
      "text/html": [
       "<table style=\"width:100%\"><tr><th>Experiment</th><th>Id</th><th>Type</th><th>Status</th><th>Details Page</th><th>Docs Page</th></tr><tr><td>udacity-aml-capstone-automl</td><td>AutoML_1e7ad3fd-249d-4f29-92fa-1a3d1c5a40dd</td><td>automl</td><td>NotStarted</td><td><a href=\"https://ml.azure.com/runs/AutoML_1e7ad3fd-249d-4f29-92fa-1a3d1c5a40dd?wsid=/subscriptions/1b944a9b-fdae-4f97-aeb1-b7eea0beac53/resourcegroups/aml-quickstarts-240304/workspaces/quick-starts-ws-240304&amp;tid=660b3398-b80e-49d2-bc5b-ac1dc93b5254\" target=\"_blank\" rel=\"noopener\">Link to Azure Machine Learning studio</a></td><td><a href=\"https://docs.microsoft.com/en-us/python/api/overview/azure/ml/intro?view=azure-ml-py\" target=\"_blank\" rel=\"noopener\">Link to Documentation</a></td></tr></table>"
      ]
     },
     "metadata": {},
     "output_type": "display_data"
    }
   ],
   "source": [
    "# Submit experiment\n",
    "auto_run = experiment.submit(automl_config)"
   ]
  },
  {
   "cell_type": "markdown",
   "metadata": {},
   "source": [
    "## Run Details\n"
   ]
  },
  {
   "cell_type": "code",
   "execution_count": 50,
   "metadata": {
    "collapsed": false,
    "gather": {
     "logged": 1692136776656
    },
    "jupyter": {
     "outputs_hidden": false,
     "source_hidden": false
    },
    "nteract": {
     "transient": {
      "deleting": false
     }
    }
   },
   "outputs": [
    {
     "data": {
      "application/vnd.jupyter.widget-view+json": {
       "model_id": "e6c73ba065d040e0ac88297a1ed9f88c",
       "version_major": 2,
       "version_minor": 0
      },
      "text/plain": [
       "_AutoMLWidget(widget_settings={'childWidgetDisplay': 'popup', 'send_telemetry': False, 'log_level': 'INFO', 's…"
      ]
     },
     "metadata": {},
     "output_type": "display_data"
    },
    {
     "data": {
      "application/aml.mini.widget.v1": "{\"status\": \"Completed\", \"workbench_run_details_uri\": \"https://ml.azure.com/runs/AutoML_1e7ad3fd-249d-4f29-92fa-1a3d1c5a40dd?wsid=/subscriptions/1b944a9b-fdae-4f97-aeb1-b7eea0beac53/resourcegroups/aml-quickstarts-240304/workspaces/quick-starts-ws-240304&tid=660b3398-b80e-49d2-bc5b-ac1dc93b5254\", \"run_id\": \"AutoML_1e7ad3fd-249d-4f29-92fa-1a3d1c5a40dd\", \"run_properties\": {\"run_id\": \"AutoML_1e7ad3fd-249d-4f29-92fa-1a3d1c5a40dd\", \"created_utc\": \"2023-08-15T21:59:35.155027Z\", \"properties\": {\"num_iterations\": \"1000\", \"training_type\": \"TrainFull\", \"acquisition_function\": \"EI\", \"primary_metric\": \"AUC_weighted\", \"train_split\": \"0\", \"acquisition_parameter\": \"0\", \"num_cross_validation\": \"5\", \"target\": \"my-cluster\", \"AMLSettingsJsonString\": \"{\\\"path\\\":null,\\\"name\\\":\\\"udacity-aml-capstone-automl\\\",\\\"subscription_id\\\":\\\"1b944a9b-fdae-4f97-aeb1-b7eea0beac53\\\",\\\"resource_group\\\":\\\"aml-quickstarts-240304\\\",\\\"workspace_name\\\":\\\"quick-starts-ws-240304\\\",\\\"region\\\":\\\"westeurope\\\",\\\"compute_target\\\":\\\"my-cluster\\\",\\\"spark_service\\\":null,\\\"azure_service\\\":\\\"remote\\\",\\\"many_models\\\":false,\\\"pipeline_fetch_max_batch_size\\\":1,\\\"enable_batch_run\\\":true,\\\"enable_parallel_run\\\":false,\\\"num_procs\\\":null,\\\"enable_run_restructure\\\":false,\\\"start_auxiliary_runs_before_parent_complete\\\":false,\\\"enable_code_generation\\\":true,\\\"iterations\\\":1000,\\\"primary_metric\\\":\\\"AUC_weighted\\\",\\\"task_type\\\":\\\"classification\\\",\\\"positive_label\\\":null,\\\"data_script\\\":null,\\\"test_size\\\":0.0,\\\"test_include_predictions_only\\\":false,\\\"validation_size\\\":0.0,\\\"n_cross_validations\\\":5,\\\"y_min\\\":null,\\\"y_max\\\":null,\\\"num_classes\\\":null,\\\"featurization\\\":\\\"auto\\\",\\\"_ignore_package_version_incompatibilities\\\":false,\\\"is_timeseries\\\":false,\\\"max_cores_per_iteration\\\":1,\\\"max_concurrent_iterations\\\":4,\\\"iteration_timeout_minutes\\\":10,\\\"mem_in_mb\\\":null,\\\"enforce_time_on_windows\\\":false,\\\"experiment_timeout_minutes\\\":30,\\\"experiment_exit_score\\\":null,\\\"partition_column_names\\\":null,\\\"whitelist_models\\\":null,\\\"blacklist_algos\\\":[\\\"TensorFlowLinearClassifier\\\",\\\"TensorFlowDNN\\\"],\\\"supported_models\\\":[\\\"LogisticRegression\\\",\\\"SGD\\\",\\\"SVM\\\",\\\"XGBoostClassifier\\\",\\\"RandomForest\\\",\\\"BernoulliNaiveBayes\\\",\\\"LightGBM\\\",\\\"GradientBoosting\\\",\\\"TensorFlowDNN\\\",\\\"ExtremeRandomTrees\\\",\\\"DecisionTree\\\",\\\"TabnetClassifier\\\",\\\"LinearSVM\\\",\\\"MultinomialNaiveBayes\\\",\\\"AveragedPerceptronClassifier\\\",\\\"KNN\\\",\\\"TensorFlowLinearClassifier\\\"],\\\"private_models\\\":[],\\\"auto_blacklist\\\":true,\\\"blacklist_samples_reached\\\":false,\\\"exclude_nan_labels\\\":true,\\\"verbosity\\\":20,\\\"_debug_log\\\":\\\"azureml_automl.log\\\",\\\"show_warnings\\\":false,\\\"model_explainability\\\":true,\\\"service_url\\\":null,\\\"sdk_url\\\":null,\\\"sdk_packages\\\":null,\\\"enable_onnx_compatible_models\\\":true,\\\"enable_split_onnx_featurizer_estimator_models\\\":false,\\\"vm_type\\\":\\\"STANDARD_DS3_V2\\\",\\\"telemetry_verbosity\\\":20,\\\"send_telemetry\\\":true,\\\"enable_dnn\\\":false,\\\"scenario\\\":\\\"AutoML\\\",\\\"environment_label\\\":null,\\\"save_mlflow\\\":false,\\\"enable_categorical_indicators\\\":false,\\\"force_text_dnn\\\":false,\\\"enable_feature_sweeping\\\":false,\\\"enable_early_stopping\\\":true,\\\"early_stopping_n_iters\\\":10,\\\"arguments\\\":null,\\\"dataset_id\\\":\\\"2afa69b4-09a7-4547-b2dd-5e25be01abad\\\",\\\"hyperdrive_config\\\":null,\\\"validation_dataset_id\\\":null,\\\"run_source\\\":null,\\\"metrics\\\":null,\\\"enable_metric_confidence\\\":false,\\\"enable_ensembling\\\":true,\\\"enable_stack_ensembling\\\":false,\\\"ensemble_iterations\\\":15,\\\"enable_tf\\\":false,\\\"enable_subsampling\\\":null,\\\"subsample_seed\\\":null,\\\"enable_nimbusml\\\":false,\\\"enable_streaming\\\":false,\\\"force_streaming\\\":false,\\\"track_child_runs\\\":true,\\\"n_best_runs\\\":1,\\\"allowed_private_models\\\":[],\\\"label_column_name\\\":\\\"fraud\\\",\\\"weight_column_name\\\":null,\\\"cv_split_column_names\\\":null,\\\"enable_local_managed\\\":false,\\\"_local_managed_run_id\\\":null,\\\"cost_mode\\\":1,\\\"lag_length\\\":0,\\\"metric_operation\\\":\\\"maximize\\\",\\\"preprocess\\\":true}\", \"DataPrepJsonString\": \"{\\\\\\\"training_data\\\\\\\": {\\\\\\\"datasetId\\\\\\\": \\\\\\\"2afa69b4-09a7-4547-b2dd-5e25be01abad\\\\\\\"}, \\\\\\\"datasets\\\\\\\": 0}\", \"EnableSubsampling\": null, \"runTemplate\": \"AutoML\", \"azureml.runsource\": \"automl\", \"display_task_type\": \"classification\", \"dependencies_versions\": \"{\\\"azureml-dataprep-native\\\": \\\"38.0.0\\\", \\\"azureml-dataprep\\\": \\\"4.10.8\\\", \\\"azureml-dataprep-rslex\\\": \\\"2.17.12\\\", \\\"azureml-train-automl-runtime\\\": \\\"1.51.0.post2\\\", \\\"azureml-train-automl-client\\\": \\\"1.51.0.post1\\\", \\\"azureml-training-tabular\\\": \\\"1.51.0.post1\\\", \\\"azureml-automl-runtime\\\": \\\"1.51.0.post1\\\", \\\"azureml-automl-core\\\": \\\"1.51.0.post1\\\", \\\"azureml-mlflow\\\": \\\"1.51.0\\\", \\\"azureml-datadrift\\\": \\\"1.51.0\\\", \\\"azureml-pipeline\\\": \\\"1.51.0\\\", \\\"azureml-contrib-dataset\\\": \\\"1.51.0\\\", \\\"azureml-contrib-notebook\\\": \\\"1.51.0\\\", \\\"azureml-accel-models\\\": \\\"1.51.0\\\", \\\"azureml-automl-dnn-nlp\\\": \\\"1.51.0\\\", \\\"azureml-pipeline-core\\\": \\\"1.51.0\\\", \\\"azureml-responsibleai\\\": \\\"1.51.0\\\", \\\"azureml-contrib-automl-pipeline-steps\\\": \\\"1.51.0\\\", \\\"azureml-pipeline-steps\\\": \\\"1.51.0\\\", \\\"azureml-core\\\": \\\"1.51.0\\\", \\\"azureml-contrib-reinforcementlearning\\\": \\\"1.51.0\\\", \\\"azureml-contrib-server\\\": \\\"1.51.0\\\", \\\"azureml-opendatasets\\\": \\\"1.51.0\\\", \\\"azureml-contrib-services\\\": \\\"1.51.0\\\", \\\"azureml-telemetry\\\": \\\"1.51.0\\\", \\\"azureml-train-restclients-hyperdrive\\\": \\\"1.51.0\\\", \\\"azureml-interpret\\\": \\\"1.51.0\\\", \\\"azureml-train-core\\\": \\\"1.51.0\\\", \\\"azureml-tensorboard\\\": \\\"1.51.0\\\", \\\"azureml-train\\\": \\\"1.51.0\\\", \\\"azureml-contrib-pipeline-steps\\\": \\\"1.51.0\\\", \\\"azureml-explain-model\\\": \\\"1.51.0\\\", \\\"azureml-cli-common\\\": \\\"1.51.0\\\", \\\"azureml-widgets\\\": \\\"1.51.0\\\", \\\"azureml-train-automl\\\": \\\"1.51.0\\\", \\\"azureml-defaults\\\": \\\"1.51.0\\\", \\\"azureml-contrib-fairness\\\": \\\"1.51.0\\\", \\\"azureml-sdk\\\": \\\"1.51.0\\\", \\\"azureml-dataset-runtime\\\": \\\"1.51.0\\\", \\\"azureml-inference-server-http\\\": \\\"0.8.4\\\"}\", \"_aml_system_scenario_identification\": \"Remote.Parent\", \"ClientType\": \"SDK\", \"PlatformVersion\": \"DPV1\", \"environment_cpu_name\": \"AzureML-AutoML\", \"environment_cpu_label\": \"prod\", \"environment_gpu_name\": \"AzureML-AutoML-GPU\", \"environment_gpu_label\": \"prod\", \"root_attribution\": \"automl\", \"attribution\": \"AutoML\", \"Orchestrator\": \"AutoML\", \"CancelUri\": \"https://westeurope.api.azureml.ms/jasmine/v1.0/subscriptions/1b944a9b-fdae-4f97-aeb1-b7eea0beac53/resourceGroups/aml-quickstarts-240304/providers/Microsoft.MachineLearningServices/workspaces/quick-starts-ws-240304/experimentids/e9f8d3b7-32a2-46d2-941d-61c10dd6061a/cancel/AutoML_1e7ad3fd-249d-4f29-92fa-1a3d1c5a40dd\", \"ClientSdkVersion\": null, \"snapshotId\": \"00000000-0000-0000-0000-000000000000\", \"SetupRunId\": \"AutoML_1e7ad3fd-249d-4f29-92fa-1a3d1c5a40dd_setup\", \"SetupRunContainerId\": \"dcid.AutoML_1e7ad3fd-249d-4f29-92fa-1a3d1c5a40dd_setup\", \"FeaturizationRunJsonPath\": \"featurizer_container.json\", \"FeaturizationRunId\": \"AutoML_1e7ad3fd-249d-4f29-92fa-1a3d1c5a40dd_featurize\", \"ProblemInfoJsonString\": \"{\\\"dataset_num_categorical\\\": 0, \\\"is_sparse\\\": true, \\\"subsampling\\\": false, \\\"has_extra_col\\\": true, \\\"dataset_classes\\\": 2, \\\"dataset_features\\\": 145, \\\"dataset_samples\\\": 4240, \\\"single_frequency_class_detected\\\": false}\", \"ModelExplainRunId\": \"AutoML_1e7ad3fd-249d-4f29-92fa-1a3d1c5a40dd_ModelExplain\"}, \"tags\": {\"model_explain_run\": \"best_run\", \"_aml_system_automl_run_workspace_id\": \"07659b46-2bc5-48bf-8305-92b775d77707\", \"_aml_system_azureml.automlComponent\": \"AutoML\", \"pipeline_id_000\": \"5dfac790c5c209f98a1da2dc1c7fb76f0397324f;c7af0367625be6ac5c2fecbfc72ed444cb7a2111;51ae05309834b29f71340af1008fc94fbd8213f4;ce2643edf3d450b10c86c7d034a9bc952dc282d3;039a99c3d5147edeb525249e2660628be3e8b83f;a3dadd95854bf6116ab454844302b51d417d78b7;1dfdf370ba770047b14bfa59c40920815defcdab;294650ec23bc3d067a4972de7ceb12f6e97260fa;681a59302459aec2cc115ddbc14e1d28f4b3b8df;5bcf69d12307c5f0246b0d33ab19666443595ac9;6f4a466f84f725a47910c1dff062a1bb46df2a21;dea7fdbaedc77258dbfe31dbfed41e768ca38939;c74787cd2f0507b852a1ac70d504d83ac9bdec83;9610149fbcf43017aa810a290e9c04cbe6fa8684;79ebb3b8c385e3190e3dd4c1fa28b74730528045;1e38ae92baee19b18f211a8b14c16015d5ee3dc3;a72eb56f3d4aadb7b7f0149ba6e5f05657a95ca1;a7434e890cabef86b0ce4ae71fb633e1e92b854d;dd46719e1e1ca3df6e6826afb96bf9be8390e6e2;208056285bd1883d5bd7d4e4e996a1c71c4b0033;ee365d2bc711bc6838929328cc4ff4b890fbc6c3;5dcd9bc8a74634130a855a68c1bf956ce7160f98;3fe9ace0255a98a01a321c2b4c6ab86f6c1db8e5;f9c4839cd35f7fe03bcc11d87a99d82f63f333dc;dfc631bbb8f3be228d228210719dafe9e4a19b00;6b82c509201b26037191abaa8fdcce486e4986b6;26938661c1cd76d11c69cdfd290da29f0b629d5d;eb060ff7ba0bf70687128be84d0fa9ce7cae70ac;76d4b2aa1a3d07557c689f4cd2c5b31fa5359e5d;b58c54f8868a33772ed74b8754fc0cdd72f335b2;5e58b41c2fe7cbc6f076cbcf06001ea92e8f636d;eddc21c57d015d68059281a0c0b18d18dc274d59;c39ba7f3e45f61d9cb3fc5e2a66aa6c5ca9d1c5f;5a0db7c7aa354cd33f0f101b7f255bf6434b2aa2;232194d8e69b4b1044ea5be6bf2d53a7f643e0ff;__AutoML_Ensemble__\", \"score_000\": \"0.9691352479188076;0.9704499330100272;0.8982443033468688;0.8721324708965446;0.908678127391273;0.937463724374421;0.8932343842648256;0.9634623372193302;0.9578307228561138;0.8603050772634455;0.8987318560226176;0.833454517746316;0.9392938482170656;0.944670000550685;0.8175421475278097;0.9025855201761697;0.9897920985311695;0.9159803312975967;0.9495446811310716;0.8353646629715279;0.9458131303336575;0.9025744585247526;0.9609792412364838;0.8945686829934691;0.9327082818493109;0.8869016353488466;0.8201079742534982;0.9015383515644307;0.9381911312745317;0.9707060319970822;0.5;0.9148106494888534;0.928733600315408;0.9485445587747323;NaN;0.9889835466602019\", \"predicted_cost_000\": \"0;0;0.5;0.5;0.5;0.5;0.5;0.5;0.5;0.5;0.5;0.5;0.5;0.5;0.5;0.5;0.5;0.5;0.5;0.5;0.09676598609050988;0.5625206343113819;0.38007004745491285;0.07994724577713846;0.04519593633375995;0.12084643784911671;0.13280678776494773;0.16339574968927825;0.19513416997328312;0.8950972922746963;0.14946524069013933;0.08044623258436599;0.3293518913146849;0.16489656453983428;0.3539259129267702;0\", \"fit_time_000\": \"0.12227039999999997;0.34743759999999996;0.058498199999999986;0.025797599999999997;0.025380999999999997;0.10189460000000002;0.46200340000000006;0.07413800000000001;0.1572322;0.0716674;0.026646400000000004;0.7100828000000001;0.13602419999999998;0.1152466;0.053420999999999996;0.1692352;1.0063708;1.7758213999999999;0.08281079999999999;0.20913999999999996;0.0830004;0.11556980000000001;0.3254722;0.0418524;0.0985306;0.0366012;1.4554366;0.078709;0.081519;0.7273124;0.0248368;0.09758239999999999;0.12200359999999999;0.1434048;NaN;21\", \"training_percent_000\": \"100;100;100;100;100;100;100;100;100;100;100;100;100;100;100;100;100;100;100;100;100;100;100;100;100;100;100;100;100;100;100;100;100;100;100;100\", \"iteration_000\": \"0;1;2;3;4;5;6;7;8;9;10;11;12;15;13;16;14;17;18;19;21;20;22;23;24;26;25;27;28;29;30;31;32;33;34;35\", \"run_preprocessor_000\": \"MaxAbsScaler;MaxAbsScaler;MaxAbsScaler;MaxAbsScaler;StandardScalerWrapper;SparseNormalizer;SparseNormalizer;StandardScalerWrapper;SparseNormalizer;MaxAbsScaler;SparseNormalizer;MaxAbsScaler;StandardScalerWrapper;MaxAbsScaler;StandardScalerWrapper;MaxAbsScaler;StandardScalerWrapper;StandardScalerWrapper;StandardScalerWrapper;MaxAbsScaler;StandardScalerWrapper;MaxAbsScaler;StandardScalerWrapper;MaxAbsScaler;SparseNormalizer;StandardScalerWrapper;TruncatedSVDWrapper;StandardScalerWrapper;MaxAbsScaler;StandardScalerWrapper;SparseNormalizer;SparseNormalizer;StandardScalerWrapper;StandardScalerWrapper;StandardScalerWrapper;\", \"run_algorithm_000\": \"LightGBM;XGBoostClassifier;ExtremeRandomTrees;RandomForest;LightGBM;XGBoostClassifier;RandomForest;XGBoostClassifier;XGBoostClassifier;RandomForest;LightGBM;ExtremeRandomTrees;XGBoostClassifier;LightGBM;ExtremeRandomTrees;LogisticRegression;RandomForest;ExtremeRandomTrees;XGBoostClassifier;ExtremeRandomTrees;XGBoostClassifier;LogisticRegression;XGBoostClassifier;RandomForest;XGBoostClassifier;XGBoostClassifier;RandomForest;LogisticRegression;LightGBM;XGBoostClassifier;RandomForest;LightGBM;XGBoostClassifier;XGBoostClassifier;LightGBM;VotingEnsemble\", \"dynamic_allowlisting_iterations\": \"<25>;<30>;\", \"_aml_system_azureml.automl_early_exit_message\": \"No scores improved over last 10 iterations, so experiment stopped early. This early stopping behavior can be disabled by setting enable_early_stopping = False in AutoMLConfig for notebook/python SDK runs.\", \"automl_best_child_run_id\": \"AutoML_1e7ad3fd-249d-4f29-92fa-1a3d1c5a40dd_14\", \"model_explain_best_run_child_id\": \"AutoML_1e7ad3fd-249d-4f29-92fa-1a3d1c5a40dd_14\"}, \"end_time_utc\": \"2023-08-15T22:19:35.236529Z\", \"status\": \"Completed\", \"log_files\": {}, \"log_groups\": [], \"run_duration\": \"0:20:00\", \"run_number\": \"1692136775\", \"run_queued_details\": {\"status\": \"Completed\", \"details\": null}}, \"child_runs\": [{\"run_id\": \"AutoML_1e7ad3fd-249d-4f29-92fa-1a3d1c5a40dd_setup\", \"run_number\": 1692136787, \"metric\": null, \"status\": \"Completed\", \"run_type\": \"azureml.scriptrun\", \"training_percent\": null, \"start_time\": \"2023-08-15T22:04:21.636959Z\", \"end_time\": \"2023-08-15T22:05:32.11177Z\", \"created_time\": \"2023-08-15T21:59:47.769509Z\", \"created_time_dt\": \"2023-08-15T21:59:47.769509Z\", \"duration\": \"0:05:44\", \"iteration\": null, \"goal\": null, \"run_name\": \"Completed\", \"run_properties\": null}, {\"run_id\": \"AutoML_1e7ad3fd-249d-4f29-92fa-1a3d1c5a40dd_featurize\", \"run_number\": 1692137132, \"metric\": null, \"status\": \"Completed\", \"run_type\": \"automl.featurization\", \"training_percent\": null, \"start_time\": \"2023-08-15T22:05:32.993708Z\", \"end_time\": \"2023-08-15T22:06:59.429102Z\", \"created_time\": \"2023-08-15T22:05:32.560147Z\", \"created_time_dt\": \"2023-08-15T22:05:32.560147Z\", \"duration\": \"0:01:26\", \"iteration\": null, \"goal\": null, \"run_name\": \"Completed\", \"run_properties\": null}, {\"run_id\": \"AutoML_1e7ad3fd-249d-4f29-92fa-1a3d1c5a40dd_0\", \"run_number\": 1692137221, \"metric\": null, \"status\": \"Completed\", \"run_type\": null, \"training_percent\": \"100\", \"start_time\": \"2023-08-15T22:07:21.500925Z\", \"end_time\": \"2023-08-15T22:07:44.691523Z\", \"created_time\": \"2023-08-15T22:07:01.287129Z\", \"created_time_dt\": \"2023-08-15T22:07:01.287129Z\", \"duration\": \"0:00:43\", \"iteration\": \"0\", \"goal\": \"AUC_weighted_max\", \"run_name\": \"MaxAbsScaler, LightGBM\", \"run_properties\": \"copy=True\", \"primary_metric\": 0.96913525, \"best_metric\": 0.96913525}, {\"run_id\": \"AutoML_1e7ad3fd-249d-4f29-92fa-1a3d1c5a40dd_2\", \"run_number\": 1692137222, \"metric\": null, \"status\": \"Completed\", \"run_type\": null, \"training_percent\": \"100\", \"start_time\": \"2023-08-15T22:08:10.692234Z\", \"end_time\": \"2023-08-15T22:08:31.162788Z\", \"created_time\": \"2023-08-15T22:07:02.472367Z\", \"created_time_dt\": \"2023-08-15T22:07:02.472367Z\", \"duration\": \"0:01:28\", \"iteration\": \"2\", \"goal\": \"AUC_weighted_max\", \"run_name\": \"MaxAbsScaler, ExtremeRandomTrees\", \"run_properties\": \"copy=True\", \"primary_metric\": 0.8982443, \"best_metric\": 0.96913525}, {\"run_id\": \"AutoML_1e7ad3fd-249d-4f29-92fa-1a3d1c5a40dd_worker_0\", \"run_number\": 1692137223, \"metric\": null, \"status\": \"Completed\", \"run_type\": \"azureml.scriptrun\", \"training_percent\": null, \"start_time\": \"2023-08-15T22:07:13.353769Z\", \"end_time\": \"2023-08-15T22:09:24.604131Z\", \"created_time\": \"2023-08-15T22:07:03.825646Z\", \"created_time_dt\": \"2023-08-15T22:07:03.825646Z\", \"duration\": \"0:02:20\", \"iteration\": null, \"goal\": null, \"run_name\": \"Completed\", \"run_properties\": null}, {\"run_id\": \"AutoML_1e7ad3fd-249d-4f29-92fa-1a3d1c5a40dd_6\", \"run_number\": 1692137224, \"metric\": null, \"status\": \"Completed\", \"run_type\": null, \"training_percent\": \"100\", \"start_time\": \"2023-08-15T22:10:01.82335Z\", \"end_time\": \"2023-08-15T22:10:26.003336Z\", \"created_time\": \"2023-08-15T22:07:04.394006Z\", \"created_time_dt\": \"2023-08-15T22:07:04.394006Z\", \"duration\": \"0:03:21\", \"iteration\": \"6\", \"goal\": \"AUC_weighted_max\", \"run_name\": \"SparseNormalizer, RandomForest\", \"run_properties\": \"copy=True, norm='l2'\", \"primary_metric\": 0.89323438, \"best_metric\": 0.96913525}, {\"run_id\": \"AutoML_1e7ad3fd-249d-4f29-92fa-1a3d1c5a40dd_8\", \"run_number\": 1692137225, \"metric\": null, \"status\": \"Completed\", \"run_type\": null, \"training_percent\": \"100\", \"start_time\": \"2023-08-15T22:10:51.509595Z\", \"end_time\": \"2023-08-15T22:11:13.175699Z\", \"created_time\": \"2023-08-15T22:07:05.495291Z\", \"created_time_dt\": \"2023-08-15T22:07:05.495291Z\", \"duration\": \"0:04:07\", \"iteration\": \"8\", \"goal\": \"AUC_weighted_max\", \"run_name\": \"SparseNormalizer, XGBoostClassifier\", \"run_properties\": \"copy=True, norm='max'\", \"primary_metric\": 0.95783072, \"best_metric\": 0.96913525}, {\"run_id\": \"AutoML_1e7ad3fd-249d-4f29-92fa-1a3d1c5a40dd_worker_1\", \"run_number\": 1692137226, \"metric\": null, \"status\": \"Completed\", \"run_type\": \"azureml.scriptrun\", \"training_percent\": null, \"start_time\": \"2023-08-15T22:09:29.602022Z\", \"end_time\": \"2023-08-15T22:11:44.676417Z\", \"created_time\": \"2023-08-15T22:07:06.268973Z\", \"created_time_dt\": \"2023-08-15T22:07:06.268973Z\", \"duration\": \"0:04:38\", \"iteration\": null, \"goal\": null, \"run_name\": \"Completed\", \"run_properties\": null}, {\"run_id\": \"AutoML_1e7ad3fd-249d-4f29-92fa-1a3d1c5a40dd_12\", \"run_number\": 1692137227, \"metric\": null, \"status\": \"Completed\", \"run_type\": null, \"training_percent\": \"100\", \"start_time\": \"2023-08-15T22:12:49.238297Z\", \"end_time\": \"2023-08-15T22:13:10.593617Z\", \"created_time\": \"2023-08-15T22:07:07.412677Z\", \"created_time_dt\": \"2023-08-15T22:07:07.412677Z\", \"duration\": \"0:06:03\", \"iteration\": \"12\", \"goal\": \"AUC_weighted_max\", \"run_name\": \"StandardScalerWrapper, XGBoostClassifier\", \"run_properties\": \"copy=True, with_mean=False, with_std=False\", \"primary_metric\": 0.93929385, \"best_metric\": 0.96913525}, {\"run_id\": \"AutoML_1e7ad3fd-249d-4f29-92fa-1a3d1c5a40dd_worker_2\", \"run_number\": 1692137228, \"metric\": null, \"status\": \"Completed\", \"run_type\": \"azureml.scriptrun\", \"training_percent\": null, \"start_time\": \"2023-08-15T22:11:48.390589Z\", \"end_time\": \"2023-08-15T22:14:14.91217Z\", \"created_time\": \"2023-08-15T22:07:08.5924Z\", \"created_time_dt\": \"2023-08-15T22:07:08.5924Z\", \"duration\": \"0:07:06\", \"iteration\": null, \"goal\": null, \"run_name\": \"Completed\", \"run_properties\": null}, {\"run_id\": \"AutoML_1e7ad3fd-249d-4f29-92fa-1a3d1c5a40dd_16\", \"run_number\": 1692137229, \"metric\": null, \"status\": \"Completed\", \"run_type\": null, \"training_percent\": \"100\", \"start_time\": \"2023-08-15T22:13:34.447304Z\", \"end_time\": \"2023-08-15T22:13:57.625606Z\", \"created_time\": \"2023-08-15T22:07:09.278093Z\", \"created_time_dt\": \"2023-08-15T22:07:09.278093Z\", \"duration\": \"0:06:48\", \"iteration\": \"16\", \"goal\": \"AUC_weighted_max\", \"run_name\": \"MaxAbsScaler, LogisticRegression\", \"run_properties\": \"copy=True\", \"primary_metric\": 0.90258552, \"best_metric\": 0.96913525}, {\"run_id\": \"AutoML_1e7ad3fd-249d-4f29-92fa-1a3d1c5a40dd_18\", \"run_number\": 1692137230, \"metric\": null, \"status\": \"Completed\", \"run_type\": null, \"training_percent\": \"100\", \"start_time\": \"2023-08-15T22:14:34.250292Z\", \"end_time\": \"2023-08-15T22:14:56.953203Z\", \"created_time\": \"2023-08-15T22:07:10.401229Z\", \"created_time_dt\": \"2023-08-15T22:07:10.401229Z\", \"duration\": \"0:07:46\", \"iteration\": \"18\", \"goal\": \"AUC_weighted_max\", \"run_name\": \"StandardScalerWrapper, XGBoostClassifier\", \"run_properties\": \"copy=True, with_mean=False, with_std=False\", \"primary_metric\": 0.94954468, \"best_metric\": 0.96913525}, {\"run_id\": \"AutoML_1e7ad3fd-249d-4f29-92fa-1a3d1c5a40dd_worker_3\", \"run_number\": 1692137231, \"metric\": null, \"status\": \"Completed\", \"run_type\": \"azureml.scriptrun\", \"training_percent\": null, \"start_time\": \"2023-08-15T22:12:16.07132Z\", \"end_time\": \"2023-08-15T22:15:32.054612Z\", \"created_time\": \"2023-08-15T22:07:11.151274Z\", \"created_time_dt\": \"2023-08-15T22:07:11.151274Z\", \"duration\": \"0:08:20\", \"iteration\": null, \"goal\": null, \"run_name\": \"Completed\", \"run_properties\": null}, {\"run_id\": \"AutoML_1e7ad3fd-249d-4f29-92fa-1a3d1c5a40dd_21\", \"run_number\": 1692137650, \"metric\": null, \"status\": \"Completed\", \"run_type\": \"azureml.scriptrun\", \"training_percent\": \"100\", \"start_time\": \"2023-08-15T22:14:28.319244Z\", \"end_time\": \"2023-08-15T22:15:46.519678Z\", \"created_time\": \"2023-08-15T22:14:10.3141Z\", \"created_time_dt\": \"2023-08-15T22:14:10.3141Z\", \"duration\": \"0:01:36\", \"iteration\": \"21\", \"goal\": \"AUC_weighted_max\", \"run_name\": \"StandardScalerWrapper, XGBoostClassifier\", \"run_properties\": \"copy=True, with_mean=False, with_std=False\", \"primary_metric\": 0.94581313, \"best_metric\": 0.96913525}, {\"run_id\": \"AutoML_1e7ad3fd-249d-4f29-92fa-1a3d1c5a40dd_22\", \"run_number\": 1692137700, \"metric\": null, \"status\": \"Completed\", \"run_type\": \"azureml.scriptrun\", \"training_percent\": \"100\", \"start_time\": \"2023-08-15T22:15:16.217099Z\", \"end_time\": \"2023-08-15T22:15:54.186787Z\", \"created_time\": \"2023-08-15T22:15:00.859378Z\", \"created_time_dt\": \"2023-08-15T22:15:00.859378Z\", \"duration\": \"0:00:53\", \"iteration\": \"22\", \"goal\": \"AUC_weighted_max\", \"run_name\": \"StandardScalerWrapper, XGBoostClassifier\", \"run_properties\": \"copy=True, with_mean=False, with_std=False\", \"primary_metric\": 0.96097924, \"best_metric\": 0.96913525}, {\"run_id\": \"AutoML_1e7ad3fd-249d-4f29-92fa-1a3d1c5a40dd_24\", \"run_number\": 1692137749, \"metric\": null, \"status\": \"Completed\", \"run_type\": \"azureml.scriptrun\", \"training_percent\": \"100\", \"start_time\": \"2023-08-15T22:15:57.494076Z\", \"end_time\": \"2023-08-15T22:16:36.112785Z\", \"created_time\": \"2023-08-15T22:15:49.792455Z\", \"created_time_dt\": \"2023-08-15T22:15:49.792455Z\", \"duration\": \"0:00:46\", \"iteration\": \"24\", \"goal\": \"AUC_weighted_max\", \"run_name\": \"SparseNormalizer, XGBoostClassifier\", \"run_properties\": \"copy=True, norm='max'\", \"primary_metric\": 0.93270828, \"best_metric\": 0.96913525}, {\"run_id\": \"AutoML_1e7ad3fd-249d-4f29-92fa-1a3d1c5a40dd_25\", \"run_number\": 1692137753, \"metric\": null, \"status\": \"Completed\", \"run_type\": \"azureml.scriptrun\", \"training_percent\": \"100\", \"start_time\": \"2023-08-15T22:16:00.472687Z\", \"end_time\": \"2023-08-15T22:16:49.460731Z\", \"created_time\": \"2023-08-15T22:15:53.568506Z\", \"created_time_dt\": \"2023-08-15T22:15:53.568506Z\", \"duration\": \"0:00:55\", \"iteration\": \"25\", \"goal\": \"AUC_weighted_max\", \"run_name\": \"TruncatedSVDWrapper, RandomForest\", \"run_properties\": \"n_components=0.9005263157894737, random_state=None\", \"primary_metric\": 0.82010797, \"best_metric\": 0.96913525}, {\"run_id\": \"AutoML_1e7ad3fd-249d-4f29-92fa-1a3d1c5a40dd_26\", \"run_number\": 1692137755, \"metric\": null, \"status\": \"Completed\", \"run_type\": \"azureml.scriptrun\", \"training_percent\": \"100\", \"start_time\": \"2023-08-15T22:16:04.418344Z\", \"end_time\": \"2023-08-15T22:16:40.195916Z\", \"created_time\": \"2023-08-15T22:15:55.93083Z\", \"created_time_dt\": \"2023-08-15T22:15:55.93083Z\", \"duration\": \"0:00:44\", \"iteration\": \"26\", \"goal\": \"AUC_weighted_max\", \"run_name\": \"StandardScalerWrapper, XGBoostClassifier\", \"run_properties\": \"copy=True, with_mean=False, with_std=False\", \"primary_metric\": 0.88690164, \"best_metric\": 0.96913525}, {\"run_id\": \"AutoML_1e7ad3fd-249d-4f29-92fa-1a3d1c5a40dd_27\", \"run_number\": 1692137798, \"metric\": null, \"status\": \"Completed\", \"run_type\": \"azureml.scriptrun\", \"training_percent\": \"100\", \"start_time\": \"2023-08-15T22:16:44.731807Z\", \"end_time\": \"2023-08-15T22:17:23.806784Z\", \"created_time\": \"2023-08-15T22:16:38.104179Z\", \"created_time_dt\": \"2023-08-15T22:16:38.104179Z\", \"duration\": \"0:00:45\", \"iteration\": \"27\", \"goal\": \"AUC_weighted_max\", \"run_name\": \"StandardScalerWrapper, LogisticRegression\", \"run_properties\": \"copy=True, with_mean=False, with_std=True\", \"primary_metric\": 0.90153835, \"best_metric\": 0.96913525}, {\"run_id\": \"AutoML_1e7ad3fd-249d-4f29-92fa-1a3d1c5a40dd_29\", \"run_number\": 1692137802, \"metric\": null, \"status\": \"Completed\", \"run_type\": \"azureml.scriptrun\", \"training_percent\": \"100\", \"start_time\": \"2023-08-15T22:16:49.855735Z\", \"end_time\": \"2023-08-15T22:17:31.67748Z\", \"created_time\": \"2023-08-15T22:16:42.033599Z\", \"created_time_dt\": \"2023-08-15T22:16:42.033599Z\", \"duration\": \"0:00:49\", \"iteration\": \"29\", \"goal\": \"AUC_weighted_max\", \"run_name\": \"StandardScalerWrapper, XGBoostClassifier\", \"run_properties\": \"copy=True, with_mean=False, with_std=False\", \"primary_metric\": 0.97070603, \"best_metric\": 0.97070603}, {\"run_id\": \"AutoML_1e7ad3fd-249d-4f29-92fa-1a3d1c5a40dd_30\", \"run_number\": 1692137811, \"metric\": null, \"status\": \"Completed\", \"run_type\": \"azureml.scriptrun\", \"training_percent\": \"100\", \"start_time\": \"2023-08-15T22:16:59.984087Z\", \"end_time\": \"2023-08-15T22:17:39.768071Z\", \"created_time\": \"2023-08-15T22:16:51.915619Z\", \"created_time_dt\": \"2023-08-15T22:16:51.915619Z\", \"duration\": \"0:00:47\", \"iteration\": \"30\", \"goal\": \"AUC_weighted_max\", \"run_name\": \"SparseNormalizer, RandomForest\", \"run_properties\": \"copy=True, norm='l2'\", \"primary_metric\": 0.5, \"best_metric\": 0.97070603}, {\"run_id\": \"AutoML_1e7ad3fd-249d-4f29-92fa-1a3d1c5a40dd_31\", \"run_number\": 1692137845, \"metric\": null, \"status\": \"Completed\", \"run_type\": \"azureml.scriptrun\", \"training_percent\": \"100\", \"start_time\": \"2023-08-15T22:17:35.191018Z\", \"end_time\": \"2023-08-15T22:18:15.676537Z\", \"created_time\": \"2023-08-15T22:17:25.907543Z\", \"created_time_dt\": \"2023-08-15T22:17:25.907543Z\", \"duration\": \"0:00:49\", \"iteration\": \"31\", \"goal\": \"AUC_weighted_max\", \"run_name\": \"SparseNormalizer, LightGBM\", \"run_properties\": \"copy=True, norm='max'\", \"primary_metric\": 0.91481065, \"best_metric\": 0.97070603}, {\"run_id\": \"AutoML_1e7ad3fd-249d-4f29-92fa-1a3d1c5a40dd_32\", \"run_number\": 1692137848, \"metric\": null, \"status\": \"Completed\", \"run_type\": \"azureml.scriptrun\", \"training_percent\": \"100\", \"start_time\": \"2023-08-15T22:17:35.169015Z\", \"end_time\": \"2023-08-15T22:18:15.546504Z\", \"created_time\": \"2023-08-15T22:17:28.304471Z\", \"created_time_dt\": \"2023-08-15T22:17:28.304471Z\", \"duration\": \"0:00:47\", \"iteration\": \"32\", \"goal\": \"AUC_weighted_max\", \"run_name\": \"StandardScalerWrapper, XGBoostClassifier\", \"run_properties\": \"copy=True, with_mean=False, with_std=False\", \"primary_metric\": 0.9287336, \"best_metric\": 0.97070603}, {\"run_id\": \"AutoML_1e7ad3fd-249d-4f29-92fa-1a3d1c5a40dd_33\", \"run_number\": 1692137853, \"metric\": null, \"status\": \"Completed\", \"run_type\": \"azureml.scriptrun\", \"training_percent\": \"100\", \"start_time\": \"2023-08-15T22:17:40.059418Z\", \"end_time\": \"2023-08-15T22:18:18.138931Z\", \"created_time\": \"2023-08-15T22:17:33.594464Z\", \"created_time_dt\": \"2023-08-15T22:17:33.594464Z\", \"duration\": \"0:00:44\", \"iteration\": \"33\", \"goal\": \"AUC_weighted_max\", \"run_name\": \"StandardScalerWrapper, XGBoostClassifier\", \"run_properties\": \"copy=True, with_mean=False, with_std=False\", \"primary_metric\": 0.94854456, \"best_metric\": 0.97070603}, {\"run_id\": \"AutoML_1e7ad3fd-249d-4f29-92fa-1a3d1c5a40dd_34\", \"run_number\": 1692137861, \"metric\": null, \"status\": \"Canceled\", \"run_type\": \"azureml.scriptrun\", \"training_percent\": \"100\", \"start_time\": \"2023-08-15T22:17:50.181287Z\", \"end_time\": \"2023-08-15T22:18:22.681854Z\", \"created_time\": \"2023-08-15T22:17:41.582653Z\", \"created_time_dt\": \"2023-08-15T22:17:41.582653Z\", \"duration\": \"0:00:41\", \"iteration\": \"34\", \"goal\": null, \"run_name\": \"StandardScalerWrapper, LightGBM\", \"run_properties\": null}, {\"run_id\": \"AutoML_1e7ad3fd-249d-4f29-92fa-1a3d1c5a40dd_35\", \"run_number\": 1692137903, \"metric\": null, \"status\": \"Completed\", \"run_type\": \"azureml.scriptrun\", \"training_percent\": \"100\", \"start_time\": \"2023-08-15T22:18:31.340502Z\", \"end_time\": \"2023-08-15T22:19:32.793734Z\", \"created_time\": \"2023-08-15T22:18:23.528021Z\", \"created_time_dt\": \"2023-08-15T22:18:23.528021Z\", \"duration\": \"0:01:09\", \"iteration\": \"35\", \"goal\": \"AUC_weighted_max\", \"run_name\": \"VotingEnsemble\", \"run_properties\": \"classification_labels=numpy.array([0, 1]\", \"primary_metric\": 0.98898355, \"best_metric\": 0.98898355}], \"children_metrics\": {\"categories\": [0], \"series\": {\"norm_macro_recall\": [{\"categories\": [\"0\", \"2\", \"6\", \"8\", \"12\", \"16\", \"18\", \"21\", \"22\", \"24\", \"25\", \"26\", \"27\", \"29\", \"30\", \"31\", \"32\", \"33\", \"35\"], \"mode\": \"markers\", \"name\": \"norm_macro_recall\", \"stepped\": false, \"type\": \"scatter\", \"data\": [0.8343690215423362, 0.6378482743699198, 0.6248111369511364, 0.8081199103266605, 0.7514175489179816, 0.6429805115118357, 0.7910301590465043, 0.769952910464071, 0.8241159985913129, 0.7411647810828247, 0.4644025889699325, 0.613198063759319, 0.6418546750282184, 0.8411153744288707, 0.0, 0.6724421521746141, 0.7085142682585149, 0.7792223930459202, 0.8680996203299168]}, {\"categories\": [\"0\", \"2\", \"6\", \"8\", \"12\", \"16\", \"18\", \"21\", \"22\", \"24\", \"25\", \"26\", \"27\", \"29\", \"30\", \"31\", \"32\", \"33\", \"35\"], \"mode\": \"lines\", \"name\": \"norm_macro_recall_max\", \"stepped\": true, \"type\": \"scatter\", \"data\": [0.8343690215423362, 0.8343690215423362, 0.8343690215423362, 0.8343690215423362, 0.8343690215423362, 0.8343690215423362, 0.8343690215423362, 0.8343690215423362, 0.8343690215423362, 0.8343690215423362, 0.8343690215423362, 0.8343690215423362, 0.8343690215423362, 0.8411153744288707, 0.8411153744288707, 0.8411153744288707, 0.8411153744288707, 0.8411153744288707, 0.8680996203299168]}], \"f1_score_weighted\": [{\"categories\": [\"0\", \"2\", \"6\", \"8\", \"12\", \"16\", \"18\", \"21\", \"22\", \"24\", \"25\", \"26\", \"27\", \"29\", \"30\", \"31\", \"32\", \"33\", \"35\"], \"mode\": \"markers\", \"name\": \"f1_score_weighted\", \"stepped\": false, \"type\": \"scatter\", \"data\": [0.9170001264600524, 0.8180871428312114, 0.8117661048292361, 0.9039488426454743, 0.8753010504668588, 0.8216509259467946, 0.8953463197119926, 0.8847496627135385, 0.911879414493178, 0.8700130013466669, 0.7323841314881709, 0.805670699815243, 0.8209537976109071, 0.9203608008590765, 0.3153122142620276, 0.8355152393779253, 0.8538514270254852, 0.8894702791767598, 0.9338418230698912]}, {\"categories\": [\"0\", \"2\", \"6\", \"8\", \"12\", \"16\", \"18\", \"21\", \"22\", \"24\", \"25\", \"26\", \"27\", \"29\", \"30\", \"31\", \"32\", \"33\", \"35\"], \"mode\": \"lines\", \"name\": \"f1_score_weighted_max\", \"stepped\": true, \"type\": \"scatter\", \"data\": [0.9170001264600524, 0.9170001264600524, 0.9170001264600524, 0.9170001264600524, 0.9170001264600524, 0.9170001264600524, 0.9170001264600524, 0.9170001264600524, 0.9170001264600524, 0.9170001264600524, 0.9170001264600524, 0.9170001264600524, 0.9170001264600524, 0.9203608008590765, 0.9203608008590765, 0.9203608008590765, 0.9203608008590765, 0.9203608008590765, 0.9338418230698912]}], \"precision_score_weighted\": [{\"categories\": [\"0\", \"2\", \"6\", \"8\", \"12\", \"16\", \"18\", \"21\", \"22\", \"24\", \"25\", \"26\", \"27\", \"29\", \"30\", \"31\", \"32\", \"33\", \"35\"], \"mode\": \"markers\", \"name\": \"precision_score_weighted\", \"stepped\": false, \"type\": \"scatter\", \"data\": [0.9219840586776048, 0.8205971913929446, 0.8150227503603584, 0.9091753832218739, 0.8785494876887062, 0.8223992422135611, 0.8986062856806919, 0.8875281130966582, 0.9152497284135398, 0.874476748259284, 0.7327023774997427, 0.8107201391293432, 0.8218539405001568, 0.9243094118969732, 0.23402233891064433, 0.8398480126090808, 0.856755846902935, 0.8923050133315135, 0.9376614897612079]}, {\"categories\": [\"0\", \"2\", \"6\", \"8\", \"12\", \"16\", \"18\", \"21\", \"22\", \"24\", \"25\", \"26\", \"27\", \"29\", \"30\", \"31\", \"32\", \"33\", \"35\"], \"mode\": \"lines\", \"name\": \"precision_score_weighted_max\", \"stepped\": true, \"type\": \"scatter\", \"data\": [0.9219840586776048, 0.9219840586776048, 0.9219840586776048, 0.9219840586776048, 0.9219840586776048, 0.9219840586776048, 0.9219840586776048, 0.9219840586776048, 0.9219840586776048, 0.9219840586776048, 0.9219840586776048, 0.9219840586776048, 0.9219840586776048, 0.9243094118969732, 0.9243094118969732, 0.9243094118969732, 0.9243094118969732, 0.9243094118969732, 0.9376614897612079]}], \"AUC_micro\": [{\"categories\": [\"0\", \"2\", \"6\", \"8\", \"12\", \"16\", \"18\", \"21\", \"22\", \"24\", \"25\", \"26\", \"27\", \"29\", \"30\", \"31\", \"32\", \"33\", \"35\"], \"mode\": \"markers\", \"name\": \"AUC_micro\", \"stepped\": false, \"type\": \"scatter\", \"data\": [0.9698622174261302, 0.9000050062299751, 0.8946630807226772, 0.9603158931114276, 0.9430482934318263, 0.8995978328586685, 0.9528009856710573, 0.9497018511925953, 0.9633352060341759, 0.9373245038269846, 0.8173819085973657, 0.8905109692061233, 0.8982386414204344, 0.9715793543075828, 0.4834905660377358, 0.9190450894446422, 0.9315539894090424, 0.9510293365076539, 0.9838671457814169]}, {\"categories\": [\"0\", \"2\", \"6\", \"8\", \"12\", \"16\", \"18\", \"21\", \"22\", \"24\", \"25\", \"26\", \"27\", \"29\", \"30\", \"31\", \"32\", \"33\", \"35\"], \"mode\": \"lines\", \"name\": \"AUC_micro_max\", \"stepped\": true, \"type\": \"scatter\", \"data\": [0.9698622174261302, 0.9698622174261302, 0.9698622174261302, 0.9698622174261302, 0.9698622174261302, 0.9698622174261302, 0.9698622174261302, 0.9698622174261302, 0.9698622174261302, 0.9698622174261302, 0.9698622174261302, 0.9698622174261302, 0.9698622174261302, 0.9715793543075828, 0.9715793543075828, 0.9715793543075828, 0.9715793543075828, 0.9715793543075828, 0.9838671457814169]}], \"f1_score_micro\": [{\"categories\": [\"0\", \"2\", \"6\", \"8\", \"12\", \"16\", \"18\", \"21\", \"22\", \"24\", \"25\", \"26\", \"27\", \"29\", \"30\", \"31\", \"32\", \"33\", \"35\"], \"mode\": \"markers\", \"name\": \"f1_score_micro\", \"stepped\": false, \"type\": \"scatter\", \"data\": [0.9172169811320755, 0.8181603773584906, 0.8120283018867924, 0.904245283018868, 0.8754716981132076, 0.8216981132075472, 0.8955188679245282, 0.8849056603773585, 0.9120283018867925, 0.8702830188679245, 0.7323113207547169, 0.8061320754716981, 0.8209905660377359, 0.9205188679245284, 0.4834905660377358, 0.8358490566037735, 0.8540094339622641, 0.8896226415094339, 0.9339622641509434]}, {\"categories\": [\"0\", \"2\", \"6\", \"8\", \"12\", \"16\", \"18\", \"21\", \"22\", \"24\", \"25\", \"26\", \"27\", \"29\", \"30\", \"31\", \"32\", \"33\", \"35\"], \"mode\": \"lines\", \"name\": \"f1_score_micro_max\", \"stepped\": true, \"type\": \"scatter\", \"data\": [0.9172169811320755, 0.9172169811320755, 0.9172169811320755, 0.9172169811320755, 0.9172169811320755, 0.9172169811320755, 0.9172169811320755, 0.9172169811320755, 0.9172169811320755, 0.9172169811320755, 0.9172169811320755, 0.9172169811320755, 0.9172169811320755, 0.9205188679245284, 0.9205188679245284, 0.9205188679245284, 0.9205188679245284, 0.9205188679245284, 0.9339622641509434]}], \"precision_score_micro\": [{\"categories\": [\"0\", \"2\", \"6\", \"8\", \"12\", \"16\", \"18\", \"21\", \"22\", \"24\", \"25\", \"26\", \"27\", \"29\", \"30\", \"31\", \"32\", \"33\", \"35\"], \"mode\": \"markers\", \"name\": \"precision_score_micro\", \"stepped\": false, \"type\": \"scatter\", \"data\": [0.9172169811320755, 0.8181603773584907, 0.8120283018867924, 0.904245283018868, 0.8754716981132076, 0.8216981132075472, 0.8955188679245282, 0.8849056603773585, 0.9120283018867925, 0.8702830188679245, 0.7323113207547169, 0.8061320754716981, 0.8209905660377359, 0.9205188679245284, 0.4834905660377358, 0.8358490566037735, 0.8540094339622641, 0.8896226415094339, 0.9339622641509434]}, {\"categories\": [\"0\", \"2\", \"6\", \"8\", \"12\", \"16\", \"18\", \"21\", \"22\", \"24\", \"25\", \"26\", \"27\", \"29\", \"30\", \"31\", \"32\", \"33\", \"35\"], \"mode\": \"lines\", \"name\": \"precision_score_micro_max\", \"stepped\": true, \"type\": \"scatter\", \"data\": [0.9172169811320755, 0.9172169811320755, 0.9172169811320755, 0.9172169811320755, 0.9172169811320755, 0.9172169811320755, 0.9172169811320755, 0.9172169811320755, 0.9172169811320755, 0.9172169811320755, 0.9172169811320755, 0.9172169811320755, 0.9172169811320755, 0.9205188679245284, 0.9205188679245284, 0.9205188679245284, 0.9205188679245284, 0.9205188679245284, 0.9339622641509434]}], \"balanced_accuracy\": [{\"categories\": [\"0\", \"2\", \"6\", \"8\", \"12\", \"16\", \"18\", \"21\", \"22\", \"24\", \"25\", \"26\", \"27\", \"29\", \"30\", \"31\", \"32\", \"33\", \"35\"], \"mode\": \"markers\", \"name\": \"balanced_accuracy\", \"stepped\": false, \"type\": \"scatter\", \"data\": [0.917184510771168, 0.8189241371849597, 0.8124055684755682, 0.9040599551633303, 0.8757087744589909, 0.8214902557559178, 0.8955150795232522, 0.8849764552320355, 0.9120579992956566, 0.8705823905414125, 0.7322012944849663, 0.8065990318796594, 0.8209273375141091, 0.9205576872144354, 0.5, 0.836221076087307, 0.8542571341292575, 0.8896111965229601, 0.9340498101649584]}, {\"categories\": [\"0\", \"2\", \"6\", \"8\", \"12\", \"16\", \"18\", \"21\", \"22\", \"24\", \"25\", \"26\", \"27\", \"29\", \"30\", \"31\", \"32\", \"33\", \"35\"], \"mode\": \"lines\", \"name\": \"balanced_accuracy_max\", \"stepped\": true, \"type\": \"scatter\", \"data\": [0.917184510771168, 0.917184510771168, 0.917184510771168, 0.917184510771168, 0.917184510771168, 0.917184510771168, 0.917184510771168, 0.917184510771168, 0.917184510771168, 0.917184510771168, 0.917184510771168, 0.917184510771168, 0.917184510771168, 0.9205576872144354, 0.9205576872144354, 0.9205576872144354, 0.9205576872144354, 0.9205576872144354, 0.9340498101649584]}], \"average_precision_score_macro\": [{\"categories\": [\"0\", \"2\", \"6\", \"8\", \"12\", \"16\", \"18\", \"21\", \"22\", \"24\", \"25\", \"26\", \"27\", \"29\", \"30\", \"31\", \"32\", \"33\", \"35\"], \"mode\": \"markers\", \"name\": \"average_precision_score_macro\", \"stepped\": false, \"type\": \"scatter\", \"data\": [0.9669049170179859, 0.8982586994296946, 0.8913822165906566, 0.9553458946490151, 0.9381278608379645, 0.9017534126116754, 0.9462885769205347, 0.9439308567211413, 0.9580514586819089, 0.9292325097455695, 0.8147585043747956, 0.8641904574075328, 0.9002191666421906, 0.9681604856281666, 0.5, 0.9131914365390997, 0.926297867753291, 0.9465346253905175, 0.9887507687369013]}, {\"categories\": [\"0\", \"2\", \"6\", \"8\", \"12\", \"16\", \"18\", \"21\", \"22\", \"24\", \"25\", \"26\", \"27\", \"29\", \"30\", \"31\", \"32\", \"33\", \"35\"], \"mode\": \"lines\", \"name\": \"average_precision_score_macro_max\", \"stepped\": true, \"type\": \"scatter\", \"data\": [0.9669049170179859, 0.9669049170179859, 0.9669049170179859, 0.9669049170179859, 0.9669049170179859, 0.9669049170179859, 0.9669049170179859, 0.9669049170179859, 0.9669049170179859, 0.9669049170179859, 0.9669049170179859, 0.9669049170179859, 0.9669049170179859, 0.9681604856281666, 0.9681604856281666, 0.9681604856281666, 0.9681604856281666, 0.9681604856281666, 0.9887507687369013]}], \"accuracy\": [{\"categories\": [\"0\", \"2\", \"6\", \"8\", \"12\", \"16\", \"18\", \"21\", \"22\", \"24\", \"25\", \"26\", \"27\", \"29\", \"30\", \"31\", \"32\", \"33\", \"35\"], \"mode\": \"markers\", \"name\": \"accuracy\", \"stepped\": false, \"type\": \"scatter\", \"data\": [0.9172169811320755, 0.8181603773584907, 0.8120283018867924, 0.904245283018868, 0.8754716981132076, 0.8216981132075472, 0.8955188679245282, 0.8849056603773585, 0.9120283018867925, 0.8702830188679245, 0.7323113207547169, 0.8061320754716981, 0.8209905660377359, 0.9205188679245284, 0.4834905660377358, 0.8358490566037735, 0.8540094339622641, 0.8896226415094339, 0.9339622641509434]}, {\"categories\": [\"0\", \"2\", \"6\", \"8\", \"12\", \"16\", \"18\", \"21\", \"22\", \"24\", \"25\", \"26\", \"27\", \"29\", \"30\", \"31\", \"32\", \"33\", \"35\"], \"mode\": \"lines\", \"name\": \"accuracy_max\", \"stepped\": true, \"type\": \"scatter\", \"data\": [0.9172169811320755, 0.9172169811320755, 0.9172169811320755, 0.9172169811320755, 0.9172169811320755, 0.9172169811320755, 0.9172169811320755, 0.9172169811320755, 0.9172169811320755, 0.9172169811320755, 0.9172169811320755, 0.9172169811320755, 0.9172169811320755, 0.9205188679245284, 0.9205188679245284, 0.9205188679245284, 0.9205188679245284, 0.9205188679245284, 0.9339622641509434]}], \"recall_score_weighted\": [{\"categories\": [\"0\", \"2\", \"6\", \"8\", \"12\", \"16\", \"18\", \"21\", \"22\", \"24\", \"25\", \"26\", \"27\", \"29\", \"30\", \"31\", \"32\", \"33\", \"35\"], \"mode\": \"markers\", \"name\": \"recall_score_weighted\", \"stepped\": false, \"type\": \"scatter\", \"data\": [0.9172169811320755, 0.8181603773584907, 0.8120283018867924, 0.904245283018868, 0.8754716981132076, 0.8216981132075472, 0.8955188679245282, 0.8849056603773585, 0.9120283018867925, 0.8702830188679245, 0.7323113207547169, 0.8061320754716981, 0.8209905660377359, 0.9205188679245284, 0.4834905660377358, 0.8358490566037735, 0.8540094339622641, 0.8896226415094339, 0.9339622641509434]}, {\"categories\": [\"0\", \"2\", \"6\", \"8\", \"12\", \"16\", \"18\", \"21\", \"22\", \"24\", \"25\", \"26\", \"27\", \"29\", \"30\", \"31\", \"32\", \"33\", \"35\"], \"mode\": \"lines\", \"name\": \"recall_score_weighted_max\", \"stepped\": true, \"type\": \"scatter\", \"data\": [0.9172169811320755, 0.9172169811320755, 0.9172169811320755, 0.9172169811320755, 0.9172169811320755, 0.9172169811320755, 0.9172169811320755, 0.9172169811320755, 0.9172169811320755, 0.9172169811320755, 0.9172169811320755, 0.9172169811320755, 0.9172169811320755, 0.9205188679245284, 0.9205188679245284, 0.9205188679245284, 0.9205188679245284, 0.9205188679245284, 0.9339622641509434]}], \"weighted_accuracy\": [{\"categories\": [\"0\", \"2\", \"6\", \"8\", \"12\", \"16\", \"18\", \"21\", \"22\", \"24\", \"25\", \"26\", \"27\", \"29\", \"30\", \"31\", \"32\", \"33\", \"35\"], \"mode\": \"markers\", \"name\": \"weighted_accuracy\", \"stepped\": false, \"type\": \"scatter\", \"data\": [0.9172494736579659, 0.8174046792975588, 0.8116549551711225, 0.9044287725036199, 0.8752369312119581, 0.8219025801334856, 0.8955225769851201, 0.8848358279743808, 0.9119991893198724, 0.8699867382159517, 0.7324201293440609, 0.8056707851952742, 0.8210517783111779, 0.9204808372959509, 0.467130025614891, 0.8354809057025919, 0.8537640412327162, 0.8896337928593482, 0.9338758955234564]}, {\"categories\": [\"0\", \"2\", \"6\", \"8\", \"12\", \"16\", \"18\", \"21\", \"22\", \"24\", \"25\", \"26\", \"27\", \"29\", \"30\", \"31\", \"32\", \"33\", \"35\"], \"mode\": \"lines\", \"name\": \"weighted_accuracy_max\", \"stepped\": true, \"type\": \"scatter\", \"data\": [0.9172494736579659, 0.9172494736579659, 0.9172494736579659, 0.9172494736579659, 0.9172494736579659, 0.9172494736579659, 0.9172494736579659, 0.9172494736579659, 0.9172494736579659, 0.9172494736579659, 0.9172494736579659, 0.9172494736579659, 0.9172494736579659, 0.9204808372959509, 0.9204808372959509, 0.9204808372959509, 0.9204808372959509, 0.9204808372959509, 0.9338758955234564]}], \"AUC_weighted\": [{\"categories\": [\"0\", \"2\", \"6\", \"8\", \"12\", \"16\", \"18\", \"21\", \"22\", \"24\", \"25\", \"26\", \"27\", \"29\", \"30\", \"31\", \"32\", \"33\", \"35\"], \"mode\": \"markers\", \"name\": \"AUC_weighted\", \"stepped\": false, \"type\": \"scatter\", \"data\": [0.9691352479188076, 0.8982443033468688, 0.8932343842648256, 0.9578307228561138, 0.9392938482170656, 0.9025855201761697, 0.9495446811310716, 0.9458131303336575, 0.9609792412364838, 0.9327082818493109, 0.8201079742534982, 0.8869016353488466, 0.9015383515644307, 0.9707060319970822, 0.5, 0.9148106494888534, 0.928733600315408, 0.9485445587747323, 0.9889835466602019]}, {\"categories\": [\"0\", \"2\", \"6\", \"8\", \"12\", \"16\", \"18\", \"21\", \"22\", \"24\", \"25\", \"26\", \"27\", \"29\", \"30\", \"31\", \"32\", \"33\", \"35\"], \"mode\": \"lines\", \"name\": \"AUC_weighted_max\", \"stepped\": true, \"type\": \"scatter\", \"data\": [0.9691352479188076, 0.9691352479188076, 0.9691352479188076, 0.9691352479188076, 0.9691352479188076, 0.9691352479188076, 0.9691352479188076, 0.9691352479188076, 0.9691352479188076, 0.9691352479188076, 0.9691352479188076, 0.9691352479188076, 0.9691352479188076, 0.9707060319970822, 0.9707060319970822, 0.9707060319970822, 0.9707060319970822, 0.9707060319970822, 0.9889835466602019]}], \"matthews_correlation\": [{\"categories\": [\"0\", \"2\", \"6\", \"8\", \"12\", \"16\", \"18\", \"21\", \"22\", \"24\", \"25\", \"26\", \"27\", \"29\", \"30\", \"31\", \"32\", \"33\", \"35\"], \"mode\": \"markers\", \"name\": \"matthews_correlation\", \"stepped\": false, \"type\": \"scatter\", \"data\": [0.8388793385071492, 0.6383829973750809, 0.6265302855228809, 0.8129813416967663, 0.7535807107182915, 0.6433536106046888, 0.793701066066725, 0.7719892915200274, 0.8269307035253952, 0.7443243990750009, 0.464141039822057, 0.6163277611213501, 0.6421577601547955, 0.8445013091426941, 0.0, 0.6752003916219478, 0.7102655618331776, 0.7814430723275259, 0.8713690205375826]}, {\"categories\": [\"0\", \"2\", \"6\", \"8\", \"12\", \"16\", \"18\", \"21\", \"22\", \"24\", \"25\", \"26\", \"27\", \"29\", \"30\", \"31\", \"32\", \"33\", \"35\"], \"mode\": \"lines\", \"name\": \"matthews_correlation_max\", \"stepped\": true, \"type\": \"scatter\", \"data\": [0.8388793385071492, 0.8388793385071492, 0.8388793385071492, 0.8388793385071492, 0.8388793385071492, 0.8388793385071492, 0.8388793385071492, 0.8388793385071492, 0.8388793385071492, 0.8388793385071492, 0.8388793385071492, 0.8388793385071492, 0.8388793385071492, 0.8445013091426941, 0.8445013091426941, 0.8445013091426941, 0.8445013091426941, 0.8445013091426941, 0.8713690205375826]}], \"f1_score_macro\": [{\"categories\": [\"0\", \"2\", \"6\", \"8\", \"12\", \"16\", \"18\", \"21\", \"22\", \"24\", \"25\", \"26\", \"27\", \"29\", \"30\", \"31\", \"32\", \"33\", \"35\"], \"mode\": \"markers\", \"name\": \"f1_score_macro\", \"stepped\": false, \"type\": \"scatter\", \"data\": [0.9168410767420643, 0.8179001417160565, 0.8115068319587204, 0.9037312288698794, 0.8750814612289973, 0.8212783815885956, 0.8951351684653257, 0.8845273288219253, 0.9117055175644826, 0.8697977089986362, 0.731947501069363, 0.8054136127558691, 0.820609660351292, 0.9201975977884796, 0.3258344589067221, 0.8352699793691898, 0.8536036785477462, 0.8892294356840861, 0.9337140510830768]}, {\"categories\": [\"0\", \"2\", \"6\", \"8\", \"12\", \"16\", \"18\", \"21\", \"22\", \"24\", \"25\", \"26\", \"27\", \"29\", \"30\", \"31\", \"32\", \"33\", \"35\"], \"mode\": \"lines\", \"name\": \"f1_score_macro_max\", \"stepped\": true, \"type\": \"scatter\", \"data\": [0.9168410767420643, 0.9168410767420643, 0.9168410767420643, 0.9168410767420643, 0.9168410767420643, 0.9168410767420643, 0.9168410767420643, 0.9168410767420643, 0.9168410767420643, 0.9168410767420643, 0.9168410767420643, 0.9168410767420643, 0.9168410767420643, 0.9201975977884796, 0.9201975977884796, 0.9201975977884796, 0.9201975977884796, 0.9201975977884796, 0.9337140510830768]}], \"recall_score_macro\": [{\"categories\": [\"0\", \"2\", \"6\", \"8\", \"12\", \"16\", \"18\", \"21\", \"22\", \"24\", \"25\", \"26\", \"27\", \"29\", \"30\", \"31\", \"32\", \"33\", \"35\"], \"mode\": \"markers\", \"name\": \"recall_score_macro\", \"stepped\": false, \"type\": \"scatter\", \"data\": [0.917184510771168, 0.8189241371849597, 0.8124055684755682, 0.9040599551633303, 0.8757087744589909, 0.8214902557559178, 0.8955150795232522, 0.8849764552320355, 0.9120579992956566, 0.8705823905414125, 0.7322012944849663, 0.8065990318796594, 0.8209273375141091, 0.9205576872144354, 0.5, 0.836221076087307, 0.8542571341292575, 0.8896111965229601, 0.9340498101649584]}, {\"categories\": [\"0\", \"2\", \"6\", \"8\", \"12\", \"16\", \"18\", \"21\", \"22\", \"24\", \"25\", \"26\", \"27\", \"29\", \"30\", \"31\", \"32\", \"33\", \"35\"], \"mode\": \"lines\", \"name\": \"recall_score_macro_max\", \"stepped\": true, \"type\": \"scatter\", \"data\": [0.917184510771168, 0.917184510771168, 0.917184510771168, 0.917184510771168, 0.917184510771168, 0.917184510771168, 0.917184510771168, 0.917184510771168, 0.917184510771168, 0.917184510771168, 0.917184510771168, 0.917184510771168, 0.917184510771168, 0.9205576872144354, 0.9205576872144354, 0.9205576872144354, 0.9205576872144354, 0.9205576872144354, 0.9340498101649584]}], \"precision_score_macro\": [{\"categories\": [\"0\", \"2\", \"6\", \"8\", \"12\", \"16\", \"18\", \"21\", \"22\", \"24\", \"25\", \"26\", \"27\", \"29\", \"30\", \"31\", \"32\", \"33\", \"35\"], \"mode\": \"markers\", \"name\": \"precision_score_macro\", \"stepped\": false, \"type\": \"scatter\", \"data\": [0.9217150487738817, 0.819459408301927, 0.8141288890141748, 0.9089506531094962, 0.8778777656343862, 0.8218645166742828, 0.8981947370189383, 0.8870182780220265, 0.9148821450818106, 0.873751871820807, 0.731940014977053, 0.8097390285246284, 0.8212314440977723, 0.9239560327452209, 0.2417452830188679, 0.8389872510334243, 0.8560143412948197, 0.8918384892976607, 0.9373317133230789]}, {\"categories\": [\"0\", \"2\", \"6\", \"8\", \"12\", \"16\", \"18\", \"21\", \"22\", \"24\", \"25\", \"26\", \"27\", \"29\", \"30\", \"31\", \"32\", \"33\", \"35\"], \"mode\": \"lines\", \"name\": \"precision_score_macro_max\", \"stepped\": true, \"type\": \"scatter\", \"data\": [0.9217150487738817, 0.9217150487738817, 0.9217150487738817, 0.9217150487738817, 0.9217150487738817, 0.9217150487738817, 0.9217150487738817, 0.9217150487738817, 0.9217150487738817, 0.9217150487738817, 0.9217150487738817, 0.9217150487738817, 0.9217150487738817, 0.9239560327452209, 0.9239560327452209, 0.9239560327452209, 0.9239560327452209, 0.9239560327452209, 0.9373317133230789]}], \"recall_score_micro\": [{\"categories\": [\"0\", \"2\", \"6\", \"8\", \"12\", \"16\", \"18\", \"21\", \"22\", \"24\", \"25\", \"26\", \"27\", \"29\", \"30\", \"31\", \"32\", \"33\", \"35\"], \"mode\": \"markers\", \"name\": \"recall_score_micro\", \"stepped\": false, \"type\": \"scatter\", \"data\": [0.9172169811320755, 0.8181603773584907, 0.8120283018867924, 0.904245283018868, 0.8754716981132076, 0.8216981132075472, 0.8955188679245282, 0.8849056603773585, 0.9120283018867925, 0.8702830188679245, 0.7323113207547169, 0.8061320754716981, 0.8209905660377359, 0.9205188679245284, 0.4834905660377358, 0.8358490566037735, 0.8540094339622641, 0.8896226415094339, 0.9339622641509434]}, {\"categories\": [\"0\", \"2\", \"6\", \"8\", \"12\", \"16\", \"18\", \"21\", \"22\", \"24\", \"25\", \"26\", \"27\", \"29\", \"30\", \"31\", \"32\", \"33\", \"35\"], \"mode\": \"lines\", \"name\": \"recall_score_micro_max\", \"stepped\": true, \"type\": \"scatter\", \"data\": [0.9172169811320755, 0.9172169811320755, 0.9172169811320755, 0.9172169811320755, 0.9172169811320755, 0.9172169811320755, 0.9172169811320755, 0.9172169811320755, 0.9172169811320755, 0.9172169811320755, 0.9172169811320755, 0.9172169811320755, 0.9172169811320755, 0.9205188679245284, 0.9205188679245284, 0.9205188679245284, 0.9205188679245284, 0.9205188679245284, 0.9339622641509434]}], \"log_loss\": [{\"categories\": [\"0\", \"2\", \"6\", \"8\", \"12\", \"16\", \"18\", \"21\", \"22\", \"24\", \"25\", \"26\", \"27\", \"29\", \"30\", \"31\", \"32\", \"33\", \"35\"], \"mode\": \"markers\", \"name\": \"log_loss\", \"stepped\": false, \"type\": \"scatter\", \"data\": [0.22107298684475213, 0.43335338429452774, 0.5025275671334362, 0.26721367683992225, 0.32567355754983685, 0.4119870885117205, 0.2897287305345368, 0.3198627464038938, 0.24296178173496719, 0.3336861722681995, 0.5856724318545015, 0.6082657265555201, 0.4174297434157654, 0.21742840659618098, 0.6937019652424512, 0.3653524525911519, 0.5857123078319966, 0.3696537638656742, 0.1795180814357083]}, {\"categories\": [\"0\", \"2\", \"6\", \"8\", \"12\", \"16\", \"18\", \"21\", \"22\", \"24\", \"25\", \"26\", \"27\", \"29\", \"30\", \"31\", \"32\", \"33\", \"35\"], \"mode\": \"lines\", \"name\": \"log_loss_min\", \"stepped\": true, \"type\": \"scatter\", \"data\": [0.22107298684475213, 0.22107298684475213, 0.22107298684475213, 0.22107298684475213, 0.22107298684475213, 0.22107298684475213, 0.22107298684475213, 0.22107298684475213, 0.22107298684475213, 0.22107298684475213, 0.22107298684475213, 0.22107298684475213, 0.22107298684475213, 0.21742840659618098, 0.21742840659618098, 0.21742840659618098, 0.21742840659618098, 0.21742840659618098, 0.1795180814357083]}], \"average_precision_score_weighted\": [{\"categories\": [\"0\", \"2\", \"6\", \"8\", \"12\", \"16\", \"18\", \"21\", \"22\", \"24\", \"25\", \"26\", \"27\", \"29\", \"30\", \"31\", \"32\", \"33\", \"35\"], \"mode\": \"markers\", \"name\": \"average_precision_score_weighted\", \"stepped\": false, \"type\": \"scatter\", \"data\": [0.9669720217827461, 0.8984319308159403, 0.8917699835463756, 0.9555215420335171, 0.938313175770328, 0.9020915395820566, 0.9464780881082799, 0.9440466583113359, 0.9581305360942846, 0.9295060640977229, 0.8149416573831149, 0.8646954817934193, 0.9005395119540461, 0.9682562121308509, 0.501063545745817, 0.9134578842260384, 0.9265459603381491, 0.9466768547961053, 0.9888442684970743]}, {\"categories\": [\"0\", \"2\", \"6\", \"8\", \"12\", \"16\", \"18\", \"21\", \"22\", \"24\", \"25\", \"26\", \"27\", \"29\", \"30\", \"31\", \"32\", \"33\", \"35\"], \"mode\": \"lines\", \"name\": \"average_precision_score_weighted_max\", \"stepped\": true, \"type\": \"scatter\", \"data\": [0.9669720217827461, 0.9669720217827461, 0.9669720217827461, 0.9669720217827461, 0.9669720217827461, 0.9669720217827461, 0.9669720217827461, 0.9669720217827461, 0.9669720217827461, 0.9669720217827461, 0.9669720217827461, 0.9669720217827461, 0.9669720217827461, 0.9682562121308509, 0.9682562121308509, 0.9682562121308509, 0.9682562121308509, 0.9682562121308509, 0.9888442684970743]}], \"AUC_macro\": [{\"categories\": [\"0\", \"2\", \"6\", \"8\", \"12\", \"16\", \"18\", \"21\", \"22\", \"24\", \"25\", \"26\", \"27\", \"29\", \"30\", \"31\", \"32\", \"33\", \"35\"], \"mode\": \"markers\", \"name\": \"AUC_macro\", \"stepped\": false, \"type\": \"scatter\", \"data\": [0.9691352479188076, 0.8982443033468688, 0.8932343842648256, 0.9578307228561138, 0.9392938482170659, 0.9025855201761697, 0.9495446811310716, 0.9458131303336577, 0.9609792412364838, 0.9327082818493111, 0.8201079742534982, 0.8869016353488466, 0.9015383515644307, 0.9707060319970822, 0.5, 0.9148106494888534, 0.9287336003154081, 0.9485445587747321, 0.9889835466602019]}, {\"categories\": [\"0\", \"2\", \"6\", \"8\", \"12\", \"16\", \"18\", \"21\", \"22\", \"24\", \"25\", \"26\", \"27\", \"29\", \"30\", \"31\", \"32\", \"33\", \"35\"], \"mode\": \"lines\", \"name\": \"AUC_macro_max\", \"stepped\": true, \"type\": \"scatter\", \"data\": [0.9691352479188076, 0.9691352479188076, 0.9691352479188076, 0.9691352479188076, 0.9691352479188076, 0.9691352479188076, 0.9691352479188076, 0.9691352479188076, 0.9691352479188076, 0.9691352479188076, 0.9691352479188076, 0.9691352479188076, 0.9691352479188076, 0.9707060319970822, 0.9707060319970822, 0.9707060319970822, 0.9707060319970822, 0.9707060319970822, 0.9889835466602019]}], \"average_precision_score_micro\": [{\"categories\": [\"0\", \"2\", \"6\", \"8\", \"12\", \"16\", \"18\", \"21\", \"22\", \"24\", \"25\", \"26\", \"27\", \"29\", \"30\", \"31\", \"32\", \"33\", \"35\"], \"mode\": \"markers\", \"name\": \"average_precision_score_micro\", \"stepped\": false, \"type\": \"scatter\", \"data\": [0.969755871680643, 0.9021514922246059, 0.894085249074332, 0.9599250132551672, 0.9441998524361361, 0.8961745250612131, 0.9529306244580547, 0.9501559495348948, 0.9631888459283392, 0.9375695481763596, 0.8107910928530909, 0.878905903322494, 0.8945833262357017, 0.9713417739211095, 0.49227705589177645, 0.9209980602546695, 0.9325007864081926, 0.9513801270626763, 0.9840762059864459]}, {\"categories\": [\"0\", \"2\", \"6\", \"8\", \"12\", \"16\", \"18\", \"21\", \"22\", \"24\", \"25\", \"26\", \"27\", \"29\", \"30\", \"31\", \"32\", \"33\", \"35\"], \"mode\": \"lines\", \"name\": \"average_precision_score_micro_max\", \"stepped\": true, \"type\": \"scatter\", \"data\": [0.969755871680643, 0.969755871680643, 0.969755871680643, 0.969755871680643, 0.969755871680643, 0.969755871680643, 0.969755871680643, 0.969755871680643, 0.969755871680643, 0.969755871680643, 0.969755871680643, 0.969755871680643, 0.969755871680643, 0.9713417739211095, 0.9713417739211095, 0.9713417739211095, 0.9713417739211095, 0.9713417739211095, 0.9840762059864459]}]}, \"metricName\": null, \"primaryMetricName\": \"AUC_weighted\", \"showLegend\": false}, \"run_metrics\": [{\"name\": \"experiment_status\", \"run_id\": \"AutoML_1e7ad3fd-249d-4f29-92fa-1a3d1c5a40dd\", \"categories\": [0, 1, 2, 3, 4, 5, 6, 7, 8, 9, 10, 11, 12, 13], \"series\": [{\"data\": [\"DatasetEvaluation\", \"FeaturesGeneration\", \"DatasetFeaturization\", \"DatasetFeaturizationCompleted\", \"DatasetCrossValidationSplit\", \"ModelSelection\", \"BestRunExplainModel\", \"ModelExplanationDataSetSetup\", \"PickSurrogateModel\", \"EngineeredFeatureExplanations\", \"EngineeredFeatureExplanations\", \"RawFeaturesExplanations\", \"RawFeaturesExplanations\", \"BestRunExplainModel\"]}]}, {\"name\": \"experiment_status_description\", \"run_id\": \"AutoML_1e7ad3fd-249d-4f29-92fa-1a3d1c5a40dd\", \"categories\": [0, 1, 2, 3, 4, 5, 6, 7, 8, 9, 10, 11, 12, 13], \"series\": [{\"data\": [\"Gathering dataset statistics.\", \"Generating features for the dataset.\", \"Beginning to fit featurizers and featurize the dataset.\", \"Completed fit featurizers and featurizing the dataset.\", \"Generating individually featurized CV splits.\", \"Beginning model selection.\", \"Best run model explanations started\", \"Model explanations data setup completed\", \"Choosing LightGBM as the surrogate model for explanations\", \"Computation of engineered features started\", \"Computation of engineered features completed\", \"Computation of raw features started\", \"Computation of raw features completed\", \"Best run model explanations completed\"]}]}], \"run_logs\": \"\\nRun is completed.\", \"graph\": {}, \"widget_settings\": {\"childWidgetDisplay\": \"popup\", \"send_telemetry\": false, \"log_level\": \"INFO\", \"sdk_version\": \"1.51.0\"}, \"loading\": false}"
     },
     "metadata": {},
     "output_type": "display_data"
    }
   ],
   "source": [
    "RunDetails(auto_run).show()"
   ]
  },
  {
   "cell_type": "markdown",
   "metadata": {},
   "source": [
    "## Best Model\n",
    "\n"
   ]
  },
  {
   "cell_type": "code",
   "execution_count": 51,
   "metadata": {
    "collapsed": false,
    "gather": {
     "logged": 1692137994004
    },
    "jupyter": {
     "outputs_hidden": false,
     "source_hidden": false
    },
    "nteract": {
     "transient": {
      "deleting": false
     }
    }
   },
   "outputs": [
    {
     "data": {
      "text/html": [
       "<table style=\"width:100%\"><tr><th>Experiment</th><th>Id</th><th>Type</th><th>Status</th><th>Details Page</th><th>Docs Page</th></tr><tr><td>udacity-aml-capstone-automl</td><td>AutoML_1e7ad3fd-249d-4f29-92fa-1a3d1c5a40dd</td><td>automl</td><td>NotStarted</td><td><a href=\"https://ml.azure.com/runs/AutoML_1e7ad3fd-249d-4f29-92fa-1a3d1c5a40dd?wsid=/subscriptions/1b944a9b-fdae-4f97-aeb1-b7eea0beac53/resourcegroups/aml-quickstarts-240304/workspaces/quick-starts-ws-240304&amp;tid=660b3398-b80e-49d2-bc5b-ac1dc93b5254\" target=\"_blank\" rel=\"noopener\">Link to Azure Machine Learning studio</a></td><td><a href=\"https://docs.microsoft.com/en-us/python/api/overview/azure/ml/intro?view=azure-ml-py\" target=\"_blank\" rel=\"noopener\">Link to Documentation</a></td></tr></table>"
      ]
     },
     "metadata": {},
     "output_type": "display_data"
    },
    {
     "name": "stdout",
     "output_type": "stream",
     "text": [
      "\n",
      "Current status: FeaturesGeneration. Generating features for the dataset.\n",
      "Current status: DatasetCrossValidationSplit. Generating individually featurized CV splits.\n",
      "Current status: ModelSelection. Beginning model selection.\n",
      "\n",
      "********************************************************************************************\n",
      "DATA GUARDRAILS: \n",
      "\n",
      "TYPE:         Class balancing detection\n",
      "STATUS:       PASSED\n",
      "DESCRIPTION:  Your inputs were analyzed, and all classes are balanced in your training data.\n",
      "              Learn more about imbalanced data: https://aka.ms/AutomatedMLImbalancedData\n",
      "\n",
      "********************************************************************************************\n",
      "\n",
      "TYPE:         Missing feature values imputation\n",
      "STATUS:       PASSED\n",
      "DESCRIPTION:  No feature missing values were detected in the training data.\n",
      "              Learn more about missing value imputation: https://aka.ms/AutomatedMLFeaturization\n",
      "\n",
      "********************************************************************************************\n",
      "\n",
      "TYPE:         High cardinality feature detection\n",
      "STATUS:       PASSED\n",
      "DESCRIPTION:  Your inputs were analyzed, and no high cardinality features were detected.\n",
      "              Learn more about high cardinality feature handling: https://aka.ms/AutomatedMLFeaturization\n",
      "\n",
      "********************************************************************************************\n",
      "\n",
      "********************************************************************************************\n",
      "ITER: The iteration being evaluated.\n",
      "PIPELINE: A summary description of the pipeline being evaluated.\n",
      "DURATION: Time taken for the current iteration.\n",
      "METRIC: The result of computing score on the fitted pipeline.\n",
      "BEST: The best observed score thus far.\n",
      "********************************************************************************************\n",
      "\n",
      " ITER   PIPELINE                                       DURATION            METRIC      BEST\n",
      "    0   MaxAbsScaler LightGBM                          0:00:23             0.9691    0.9691\n",
      "    1   MaxAbsScaler XGBoostClassifier                 0:00:24             0.9704    0.9704\n",
      "    2   MaxAbsScaler ExtremeRandomTrees                0:00:20             0.8982    0.9704\n",
      "    3   MaxAbsScaler RandomForest                      0:00:21             0.8721    0.9704\n",
      "    4   StandardScalerWrapper LightGBM                 0:00:21             0.9087    0.9704\n",
      "    5   SparseNormalizer XGBoostClassifier             0:00:23             0.9375    0.9704\n",
      "    6   SparseNormalizer RandomForest                  0:00:24             0.8932    0.9704\n",
      "    7   StandardScalerWrapper XGBoostClassifier        0:00:22             0.9635    0.9704\n",
      "    8   SparseNormalizer XGBoostClassifier             0:00:22             0.9578    0.9704\n",
      "    9   MaxAbsScaler RandomForest                      0:00:21             0.8603    0.9704\n",
      "   10   SparseNormalizer LightGBM                      0:00:22             0.8987    0.9704\n",
      "   11   MaxAbsScaler ExtremeRandomTrees                0:00:27             0.8335    0.9704\n",
      "   12   StandardScalerWrapper XGBoostClassifier        0:00:21             0.9393    0.9704\n",
      "   13   StandardScalerWrapper ExtremeRandomTrees       0:00:22             0.8175    0.9704\n",
      "   15   MaxAbsScaler LightGBM                          0:00:26             0.9447    0.9704\n",
      "   16   MaxAbsScaler LogisticRegression                0:00:23             0.9026    0.9704\n",
      "   14   StandardScalerWrapper RandomForest             0:00:31             0.9898    0.9898\n",
      "   17   StandardScalerWrapper ExtremeRandomTrees       0:00:34             0.9160    0.9898\n",
      "   18   StandardScalerWrapper XGBoostClassifier        0:00:23             0.9495    0.9898\n",
      "   19   MaxAbsScaler ExtremeRandomTrees                0:00:24             0.8354    0.9898\n",
      "   20   MaxAbsScaler LogisticRegression                0:01:20             0.9026    0.9898\n",
      "   21   StandardScalerWrapper XGBoostClassifier        0:01:18             0.9458    0.9898\n",
      "   22   StandardScalerWrapper XGBoostClassifier        0:00:38             0.9610    0.9898\n",
      "   23   MaxAbsScaler RandomForest                      0:00:38             0.8946    0.9898\n",
      "   24   SparseNormalizer XGBoostClassifier             0:00:39             0.9327    0.9898\n",
      "   26   StandardScalerWrapper XGBoostClassifier        0:00:36             0.8869    0.9898\n",
      "   25   TruncatedSVDWrapper RandomForest               0:00:49             0.8201    0.9898\n",
      "   27   StandardScalerWrapper LogisticRegression       0:00:39             0.9015    0.9898\n",
      "   28   MaxAbsScaler LightGBM                          0:00:39             0.9382    0.9898\n",
      "   29   StandardScalerWrapper XGBoostClassifier        0:00:42             0.9707    0.9898\n",
      "   30   SparseNormalizer RandomForest                  0:00:40             0.5000    0.9898\n",
      "   31   SparseNormalizer LightGBM                      0:00:40             0.9148    0.9898\n",
      "   32   StandardScalerWrapper XGBoostClassifier        0:00:40             0.9287    0.9898\n",
      "   33   StandardScalerWrapper XGBoostClassifier        0:00:38             0.9485    0.9898\n",
      "ERROR: {\n",
      "    \"additional_properties\": {},\n",
      "    \"error\": {\n",
      "        \"additional_properties\": {\n",
      "            \"debugInfo\": null\n",
      "        },\n",
      "        \"code\": \"UserError\",\n",
      "        \"severity\": null,\n",
      "        \"message\": \"Unexpected User Error\",\n",
      "        \"message_format\": null,\n",
      "        \"message_parameters\": null,\n",
      "        \"reference_code\": null,\n",
      "        \"details_uri\": null,\n",
      "        \"target\": null,\n",
      "        \"details\": [],\n",
      "        \"inner_error\": null,\n",
      "        \"additional_info\": null\n",
      "    },\n",
      "    \"correlation\": {\n",
      "        \"operation\": \"40a13ac7b4f5cd52d81f05c460594055\",\n",
      "        \"request\": \"08d862d55e9829f0\"\n",
      "    },\n",
      "    \"environment\": \"westeurope\",\n",
      "    \"location\": \"westeurope\",\n",
      "    \"time\": {},\n",
      "    \"component_name\": \"GlobalJobDispatcher\"\n",
      "}\n",
      "   34   StandardScalerWrapper LightGBM                 0:00:33                nan    0.9898\n",
      "   35    VotingEnsemble                                0:01:01             0.9890    0.9898\n"
     ]
    },
    {
     "name": "stderr",
     "output_type": "stream",
     "text": [
      "WARNING:root:The version of the SDK does not match the version the model was trained on.\n",
      "WARNING:root:The consistency in the result may not be guaranteed.\n",
      "WARNING:root:Package:azureml-automl-core, training version:1.52.0.post1, current version:1.51.0.post1\n",
      "Package:azureml-automl-runtime, training version:1.52.0.post1, current version:1.51.0.post1\n",
      "Package:azureml-core, training version:1.52.0, current version:1.51.0\n",
      "Package:azureml-dataprep, training version:4.11.4, current version:4.10.8\n",
      "Package:azureml-dataprep-rslex, training version:2.18.4, current version:2.17.12\n",
      "Package:azureml-dataset-runtime, training version:1.52.0, current version:1.51.0\n",
      "Package:azureml-defaults, training version:1.52.0, current version:1.51.0\n",
      "Package:azureml-interpret, training version:1.52.0, current version:1.51.0\n",
      "Package:azureml-mlflow, training version:1.52.0, current version:1.51.0\n",
      "Package:azureml-pipeline-core, training version:1.52.0, current version:1.51.0\n",
      "Package:azureml-responsibleai, training version:1.52.0, current version:1.51.0\n",
      "Package:azureml-telemetry, training version:1.52.0, current version:1.51.0\n",
      "Package:azureml-train-automl-client, training version:1.52.0, current version:1.51.0.post1\n",
      "Package:azureml-train-automl-runtime, training version:1.52.0, current version:1.51.0.post2\n",
      "Package:azureml-train-core, training version:1.52.0, current version:1.51.0\n",
      "Package:azureml-train-restclients-hyperdrive, training version:1.52.0, current version:1.51.0\n",
      "Package:azureml-training-tabular, training version:1.52.0, current version:1.51.0.post1\n",
      "WARNING:root:Please ensure the version of your local conda dependencies match the version on which your model was trained in order to properly retrieve your model.\n"
     ]
    }
   ],
   "source": [
    "# Retrieve best automl model.\n",
    "\n",
    "auto_run.wait_for_completion(show_output=True)\n",
    "assert(auto_run.get_status() == \"Completed\")\n",
    "\n",
    "best_auto_run, best_model = auto_run.get_output()\n",
    "# best_auto_child = auto_run.get_best_child()\n"
   ]
  },
  {
   "cell_type": "code",
   "execution_count": 52,
   "metadata": {
    "gather": {
     "logged": 1692137994464
    }
   },
   "outputs": [
    {
     "name": "stdout",
     "output_type": "stream",
     "text": [
      "['accuracy_table', 'automl_driver.py', 'confusion_matrix', 'outputs/conda_env_v_1_0_0.yml', 'outputs/engineered_feature_names.json', 'outputs/env_dependencies.json', 'outputs/featurization_summary.json', 'outputs/generated_code/script.py', 'outputs/generated_code/script_run_notebook.ipynb', 'outputs/internal_cross_validated_models.pkl', 'outputs/model.onnx', 'outputs/model.pkl', 'outputs/model_onnx.json', 'outputs/pipeline_graph.json', 'outputs/run_id.txt', 'outputs/scoring_file_pbi_v_1_0_0.py', 'outputs/scoring_file_v_1_0_0.py', 'outputs/scoring_file_v_2_0_0.py']\n",
      "best run_env:  Environment(Name: AzureML-AutoML,\n",
      "Version: 142)\n"
     ]
    }
   ],
   "source": [
    "# print best run out files\n",
    "\n",
    "print(best_auto_run.get_file_names())\n",
    "\n",
    "best_auto_run_env = best_auto_run.get_environment()\n",
    "print(\"best run_env: \", best_auto_run_env)\n",
    "# print(best_auto_run.get_details())\n",
    "# print(\"properties: \",best_auto_run.get_properties())\n"
   ]
  },
  {
   "cell_type": "code",
   "execution_count": 53,
   "metadata": {
    "collapsed": false,
    "gather": {
     "logged": 1692137994803
    },
    "jupyter": {
     "outputs_hidden": false,
     "source_hidden": false
    },
    "nteract": {
     "transient": {
      "deleting": false
     }
    }
   },
   "outputs": [
    {
     "name": "stdout",
     "output_type": "stream",
     "text": [
      "Pipeline(memory=None,\n",
      "         steps=[('datatransformer',\n",
      "                 DataTransformer(enable_dnn=False, enable_feature_sweeping=False, feature_sweeping_config={}, feature_sweeping_timeout=86400, featurization_config=None, force_text_dnn=False, is_cross_validation=True, is_onnx_compatible=True, observer=None, task='classification', working_dir='/mnt/batch/tasks/shared/LS_root/mount...\n",
      "                 RandomForestClassifier(bootstrap=True, ccp_alpha=0.0,\n",
      "                                        class_weight=None, criterion='gini',\n",
      "                                        max_depth=None, max_features='auto',\n",
      "                                        max_leaf_nodes=None, max_samples=None,\n",
      "                                        min_impurity_decrease=0.0,\n",
      "                                        min_impurity_split=None,\n",
      "                                        min_samples_leaf=1, min_samples_split=2,\n",
      "                                        min_weight_fraction_leaf=0.0,\n",
      "                                        n_estimators=100, n_jobs=1,\n",
      "                                        oob_score=False, random_state=None,\n",
      "                                        verbose=0, warm_start=False))],\n",
      "         verbose=False)\n"
     ]
    }
   ],
   "source": [
    "# Save the best model\n",
    "\n",
    "output_dir = \"./outputs\"\n",
    "if os.path.exists(output_dir) == False:\n",
    "    os.mkdir(output_dir)\n",
    "best_model_file = output_dir + \"/best_automl_model.pkl\"\n",
    "joblib.dump(best_model,best_model_file)\n",
    "\n",
    "print(best_model)"
   ]
  },
  {
   "cell_type": "code",
   "execution_count": 54,
   "metadata": {
    "gather": {
     "logged": 1692137995086
    }
   },
   "outputs": [],
   "source": [
    "# save run env\n",
    "\n",
    "env_file = output_dir + \"/automl_env.yml\"\n",
    "best_auto_run.download_file(\"outputs/conda_env_v_1_0_0.yml\",env_file)\n"
   ]
  },
  {
   "cell_type": "markdown",
   "metadata": {},
   "source": [
    "## Predict with best model"
   ]
  },
  {
   "cell_type": "code",
   "execution_count": 55,
   "metadata": {
    "gather": {
     "logged": 1692137995299
    }
   },
   "outputs": [],
   "source": [
    "# prepare the test data frame\n",
    "\n",
    "test_file = \"./data/test.csv\";\n",
    "df_test = pd.read_csv(test_file)\n",
    "df_test = df_test[pd.notnull(df_test['fraud'])]\n",
    "\n",
    "y_test = df_test['fraud']\n",
    "X_test = df_test.drop(['fraud'], axis=1)\n"
   ]
  },
  {
   "cell_type": "code",
   "execution_count": 56,
   "metadata": {
    "gather": {
     "logged": 1692137995666
    }
   },
   "outputs": [
    {
     "data": {
      "text/html": [
       "<style  type=\"text/css\" >\n",
       "#T_db94b7fe_3bb9_11ee_b92a_8165ecf8aa4frow0_col0,#T_db94b7fe_3bb9_11ee_b92a_8165ecf8aa4frow1_col1{\n",
       "            background-color:  #63a8d3;\n",
       "            color:  #000000;\n",
       "        }#T_db94b7fe_3bb9_11ee_b92a_8165ecf8aa4frow0_col1,#T_db94b7fe_3bb9_11ee_b92a_8165ecf8aa4frow1_col0{\n",
       "            background-color:  #f7fbff;\n",
       "            color:  #000000;\n",
       "        }</style><table id=\"T_db94b7fe_3bb9_11ee_b92a_8165ecf8aa4f\" ><thead>    <tr>        <th class=\"blank level0\" ></th>        <th class=\"col_heading level0 col0\" >0</th>        <th class=\"col_heading level0 col1\" >1</th>    </tr></thead><tbody>\n",
       "                <tr>\n",
       "                        <th id=\"T_db94b7fe_3bb9_11ee_b92a_8165ecf8aa4flevel0_row0\" class=\"row_heading level0 row0\" >0</th>\n",
       "                        <td id=\"T_db94b7fe_3bb9_11ee_b92a_8165ecf8aa4frow0_col0\" class=\"data row0 col0\" >650</td>\n",
       "                        <td id=\"T_db94b7fe_3bb9_11ee_b92a_8165ecf8aa4frow0_col1\" class=\"data row0 col1\" >48</td>\n",
       "            </tr>\n",
       "            <tr>\n",
       "                        <th id=\"T_db94b7fe_3bb9_11ee_b92a_8165ecf8aa4flevel0_row1\" class=\"row_heading level0 row1\" >1</th>\n",
       "                        <td id=\"T_db94b7fe_3bb9_11ee_b92a_8165ecf8aa4frow1_col0\" class=\"data row1 col0\" >79</td>\n",
       "                        <td id=\"T_db94b7fe_3bb9_11ee_b92a_8165ecf8aa4frow1_col1\" class=\"data row1 col1\" >120</td>\n",
       "            </tr>\n",
       "    </tbody></table>"
      ],
      "text/plain": [
       "<pandas.io.formats.style.Styler at 0x7f1fc2105220>"
      ]
     },
     "execution_count": 56,
     "metadata": {},
     "output_type": "execute_result"
    }
   ],
   "source": [
    "from sklearn.metrics import confusion_matrix\n",
    "\n",
    "ypred = best_model.predict(X_test)\n",
    "\n",
    "# print confusion map with test dataset for best model\n",
    "cm = confusion_matrix(y_test, ypred)\n",
    "pd.DataFrame(cm).style.background_gradient(cmap='Blues', low=0, high=0.9)\n"
   ]
  },
  {
   "cell_type": "markdown",
   "metadata": {},
   "source": [
    "### Retrieve and save ONNX Model"
   ]
  },
  {
   "cell_type": "code",
   "execution_count": 57,
   "metadata": {
    "gather": {
     "logged": 1692138106467
    }
   },
   "outputs": [],
   "source": [
    "from azureml.automl.runtime.onnx_convert import OnnxConverter\n",
    "\n",
    "bestrun, onnx_mdl = auto_run.get_output(return_onnx_model=True)\n",
    "\n",
    "onnx_fl_path = output_dir+\"/best_model.onnx\"\n",
    "OnnxConverter.save_onnx_model(onnx_mdl, onnx_fl_path)\n"
   ]
  },
  {
   "cell_type": "markdown",
   "metadata": {},
   "source": [
    "### Predict with ONNX model\n"
   ]
  },
  {
   "cell_type": "code",
   "execution_count": 58,
   "metadata": {
    "gather": {
     "logged": 1692138107238
    }
   },
   "outputs": [
    {
     "name": "stdout",
     "output_type": "stream",
     "text": [
      "outputs/model_onnx.json\n"
     ]
    },
    {
     "name": "stderr",
     "output_type": "stream",
     "text": [
      "2023-08-15 22:21:46.841165828 [W:onnxruntime:, execution_frame.cc:806 VerifyOutputSizes] Expected shape from model of {1} does not match actual shape of {897} for output output_label\n"
     ]
    }
   ],
   "source": [
    "import sys\n",
    "# import json\n",
    "from azureml.automl.core.onnx_convert import OnnxConvertConstants\n",
    "from azureml.train.automl import constants\n",
    "from azureml.automl.runtime.onnx_convert import OnnxInferenceHelper\n",
    "\n",
    "print(constants.MODEL_RESOURCE_PATH_ONNX)\n",
    "\n",
    "def get_onnx_res(run):\n",
    "    res_path = output_dir + \"/onnx_resource.json\"\n",
    "    run.download_file(\n",
    "        name=constants.MODEL_RESOURCE_PATH_ONNX, output_file_path=res_path\n",
    "    )\n",
    "    with open(res_path) as f:\n",
    "        result = json.load(f)\n",
    "    return result\n",
    "\n",
    "\n",
    "if sys.version_info < OnnxConvertConstants.OnnxIncompatiblePythonVersion:\n",
    "    # test_df = test_dataset.to_pandas_dataframe()\n",
    "    mdl_bytes = onnx_mdl.SerializeToString()\n",
    "    onnx_result = get_onnx_res(bestrun)\n",
    "\n",
    "    onnxrt_helper = OnnxInferenceHelper(mdl_bytes, onnx_result)\n",
    "    pred_onnx, pred_prob_onnx = onnxrt_helper.predict(X_test)\n",
    "    #print(pred_onnx)\n",
    "    #print(pred_prob_onnx)\n",
    "else:\n",
    "    print(\"Please use Python version 3.6 or higher to run the inference helper.\")\n",
    "    "
   ]
  },
  {
   "cell_type": "code",
   "execution_count": 59,
   "metadata": {
    "gather": {
     "logged": 1692138107615
    }
   },
   "outputs": [
    {
     "data": {
      "text/html": [
       "<style  type=\"text/css\" >\n",
       "#T_1f0512ad_3bba_11ee_b92a_8165ecf8aa4frow0_col0,#T_1f0512ad_3bba_11ee_b92a_8165ecf8aa4frow1_col1{\n",
       "            background-color:  #63a8d3;\n",
       "            color:  #000000;\n",
       "        }#T_1f0512ad_3bba_11ee_b92a_8165ecf8aa4frow0_col1,#T_1f0512ad_3bba_11ee_b92a_8165ecf8aa4frow1_col0{\n",
       "            background-color:  #f7fbff;\n",
       "            color:  #000000;\n",
       "        }</style><table id=\"T_1f0512ad_3bba_11ee_b92a_8165ecf8aa4f\" ><thead>    <tr>        <th class=\"blank level0\" ></th>        <th class=\"col_heading level0 col0\" >0</th>        <th class=\"col_heading level0 col1\" >1</th>    </tr></thead><tbody>\n",
       "                <tr>\n",
       "                        <th id=\"T_1f0512ad_3bba_11ee_b92a_8165ecf8aa4flevel0_row0\" class=\"row_heading level0 row0\" >0</th>\n",
       "                        <td id=\"T_1f0512ad_3bba_11ee_b92a_8165ecf8aa4frow0_col0\" class=\"data row0 col0\" >647</td>\n",
       "                        <td id=\"T_1f0512ad_3bba_11ee_b92a_8165ecf8aa4frow0_col1\" class=\"data row0 col1\" >51</td>\n",
       "            </tr>\n",
       "            <tr>\n",
       "                        <th id=\"T_1f0512ad_3bba_11ee_b92a_8165ecf8aa4flevel0_row1\" class=\"row_heading level0 row1\" >1</th>\n",
       "                        <td id=\"T_1f0512ad_3bba_11ee_b92a_8165ecf8aa4frow1_col0\" class=\"data row1 col0\" >79</td>\n",
       "                        <td id=\"T_1f0512ad_3bba_11ee_b92a_8165ecf8aa4frow1_col1\" class=\"data row1 col1\" >120</td>\n",
       "            </tr>\n",
       "    </tbody></table>"
      ],
      "text/plain": [
       "<pandas.io.formats.style.Styler at 0x7f1fc1aedbb0>"
      ]
     },
     "execution_count": 59,
     "metadata": {},
     "output_type": "execute_result"
    }
   ],
   "source": [
    "# print confusion map with test dataset for ONNX model\n",
    "\n",
    "cm = confusion_matrix(y_test, pred_onnx)\n",
    "pd.DataFrame(cm).style.background_gradient(cmap='Blues', low=0, high=0.9)"
   ]
  },
  {
   "cell_type": "markdown",
   "metadata": {},
   "source": [
    "## Model Registration\n"
   ]
  },
  {
   "cell_type": "code",
   "execution_count": 60,
   "metadata": {
    "gather": {
     "logged": 1692138108433
    }
   },
   "outputs": [
    {
     "name": "stdout",
     "output_type": "stream",
     "text": [
      "AutoML1e7ad3fd214\n",
      "registered model:  Model(workspace=Workspace.create(name='quick-starts-ws-240304', subscription_id='1b944a9b-fdae-4f97-aeb1-b7eea0beac53', resource_group='aml-quickstarts-240304'), name=AutoML1e7ad3fd214, id=AutoML1e7ad3fd214:1, version=1, tags={}, properties={})\n"
     ]
    }
   ],
   "source": [
    "\n",
    "model_name = best_auto_run.properties[\"model_name\"]\n",
    "#print(model_name)\n",
    "description = \"AutoML Model to predict Airbnb fraud listing\"\n",
    "tags = None\n",
    "registered_model = auto_run.register_model(\n",
    "    model_name=model_name, description=description, tags=tags\n",
    ")\n",
    "\n",
    "print(\n",
    "    auto_run.model_id\n",
    ") \n",
    "\n",
    "print(\"registered model: \",registered_model)"
   ]
  },
  {
   "cell_type": "markdown",
   "metadata": {},
   "source": [
    "### Show registered model"
   ]
  },
  {
   "cell_type": "code",
   "execution_count": null,
   "metadata": {},
   "outputs": [],
   "source": [
    "from azureml.core.model import Model\n",
    "\n",
    "# Retrieve registered model\n",
    "model_registered = Model(ws, model_name)\n",
    "\n",
    "print(model_registered)"
   ]
  },
  {
   "cell_type": "markdown",
   "metadata": {},
   "source": [
    "## Deploy the model in ACI"
   ]
  },
  {
   "cell_type": "code",
   "execution_count": 61,
   "metadata": {
    "gather": {
     "logged": 1692138273494
    }
   },
   "outputs": [
    {
     "name": "stdout",
     "output_type": "stream",
     "text": [
      "automl1e7ad3fd214\n",
      "Tips: You can try get_logs(): https://aka.ms/debugimage#dockerlog or local deployment: https://aka.ms/debugimage#debug-locally to debug if deployment takes longer than 10 minutes.\n",
      "Running\n",
      "2023-08-15 22:21:52+00:00 Creating Container Registry if not exists.\n",
      "2023-08-15 22:21:52+00:00 Registering the environment.\n",
      "2023-08-15 22:21:53+00:00 Use the existing image.\n",
      "2023-08-15 22:21:54+00:00 Submitting deployment to compute.\n",
      "2023-08-15 22:22:01+00:00 Checking the status of deployment automl1e7ad3fd214..\n",
      "2023-08-15 22:24:25+00:00 Checking the status of inference endpoint automl1e7ad3fd214.\n",
      "Succeeded\n",
      "ACI service creation operation finished, operation \"Succeeded\"\n",
      "endpoint state:  Healthy\n"
     ]
    }
   ],
   "source": [
    "from azureml.core.model import InferenceConfig\n",
    "from azureml.core.webservice import AciWebservice\n",
    "from azureml.core.webservice import Webservice\n",
    "# from azureml.core.model import Model\n",
    "from azureml.core.environment import Environment\n",
    "\n",
    "# download score file\n",
    "\n",
    "script_file_name = output_dir + \"/score.py\"\n",
    "best_auto_run.download_file(\"outputs/scoring_file_v_2_0_0.py\", script_file_name)\n",
    "\n",
    "inference_config = InferenceConfig(\n",
    "    environment=best_auto_run.get_environment(), entry_script=script_file_name\n",
    ")\n",
    "\n",
    "aciconfig = AciWebservice.deploy_configuration(\n",
    "    cpu_cores=2,\n",
    "    memory_gb=2,\n",
    "    tags={\"type\": \"automl_classification\"},\n",
    "    description=\"Automl Classification Service\",\n",
    ")\n",
    "\n",
    "aci_service_name = model_name.lower()\n",
    "print(aci_service_name)\n",
    "aci_service = Model.deploy(ws, aci_service_name, [registered_model], inference_config, aciconfig)\n",
    "aci_service.wait_for_deployment(True)\n",
    "# print(\"endpoint uri: \",aci_service.scoring_uri)\n",
    "print(\"endpoint state: \",aci_service.state)"
   ]
  },
  {
   "cell_type": "markdown",
   "metadata": {},
   "source": [
    "### Request to web service\n",
    "\n",
    "The following is an example endpoint request"
   ]
  },
  {
   "cell_type": "code",
   "execution_count": 72,
   "metadata": {
    "collapsed": false,
    "gather": {
     "logged": 1692152798568
    },
    "jupyter": {
     "outputs_hidden": false,
     "source_hidden": false
    },
    "nteract": {
     "transient": {
      "deleting": false
     }
    }
   },
   "outputs": [
    {
     "name": "stdout",
     "output_type": "stream",
     "text": [
      "b'{\"Results\": [0]}'\n"
     ]
    }
   ],
   "source": [
    "import urllib.request\n",
    "\n",
    "data =  {\n",
    "  \"Inputs\": {\n",
    "    \"data\": [\n",
    "      {\n",
    "        \"host_response_rate\": 100,\n",
    "        \"host_identity_verified\": 0,\n",
    "        \"host_total_listings_count\": 1,\n",
    "        \"is_location_exact\": 1,\n",
    "        \"property_type\": 0,\n",
    "        \"accommodates\": 2,\n",
    "        \"price\": 5000,\n",
    "        \"minimum_nights\": 15,\n",
    "        \"number_of_reviews\": 0,\n",
    "        \"review_scores_rating\": 100.0,\n",
    "        \"instant_bookable\": 1,\n",
    "        \"cancellation_policy\": 2,\n",
    "        \"reviews_per_month\": 1.0\n",
    "      }\n",
    "    ]\n",
    "  },\n",
    "  \"GlobalParameters\": {\n",
    "    \"method\": \"predict\"\n",
    "  }\n",
    "}\n",
    "\n",
    "body = str.encode(json.dumps(data))\n",
    "\n",
    "# url = aci_service.scoring_uri\n",
    "url = \"http://cefae4be-6f92-4f49-b006-17c1aef41e0e.westeurope.azurecontainer.io/score\"\n",
    "#print(\"endpoint url:\", url)\n",
    "\n",
    "headers = {'Content-Type':'application/json'}\n",
    "\n",
    "req = urllib.request.Request(url, body, headers)\n",
    "\n",
    "try:\n",
    "    response = urllib.request.urlopen(req)\n",
    "\n",
    "    result = response.read()\n",
    "    print(result)\n",
    "except urllib.error.HTTPError as error:\n",
    "    print(\"The request failed with status code: \" + str(error.code))\n",
    "\n",
    "    # Print the headers - they include the requert ID and the timestamp, which are useful for debugging the failure\n",
    "    print(error.info())\n",
    "    print(error.read().decode(\"utf8\", 'ignore'))"
   ]
  },
  {
   "cell_type": "markdown",
   "metadata": {},
   "source": [
    "### Print the logs of the web service"
   ]
  },
  {
   "cell_type": "code",
   "execution_count": 63,
   "metadata": {
    "gather": {
     "logged": 1692138274381
    }
   },
   "outputs": [
    {
     "data": {
      "text/plain": [
       "'2023-08-15T22:23:56,951711500+00:00 - gunicorn/run \\n2023-08-15T22:23:56,946304400+00:00 - rsyslog/run \\n2023-08-15T22:23:56,958465200+00:00 | gunicorn/run | \\n2023-08-15T22:23:56,966284500+00:00 | gunicorn/run | ###############################################\\n2023-08-15T22:23:56,971133500+00:00 | gunicorn/run | AzureML Container Runtime Information\\n2023-08-15T22:23:56,974500300+00:00 | gunicorn/run | ###############################################\\n2023-08-15T22:23:56,977807600+00:00 - nginx/run \\n2023-08-15T22:23:56,978863600+00:00 | gunicorn/run | \\n2023-08-15T22:23:56,989174000+00:00 | gunicorn/run | \\n2023-08-15T22:23:57,000323200+00:00 | gunicorn/run | AzureML image information: openmpi4.1.0-ubuntu20.04, Materializaton Build:20230628.v2\\n2023-08-15T22:23:57,010430000+00:00 | gunicorn/run | \\n2023-08-15T22:23:57,018178300+00:00 | gunicorn/run | \\n2023-08-15T22:23:57,023085500+00:00 | gunicorn/run | PATH environment variable: /azureml-envs/azureml-automl/bin:/opt/miniconda/bin:/usr/local/sbin:/usr/local/bin:/usr/sbin:/usr/bin:/sbin:/bin\\n2023-08-15T22:23:57,026949300+00:00 | gunicorn/run | PYTHONPATH environment variable: \\n2023-08-15T22:23:57,033137500+00:00 | gunicorn/run | \\n2023-08-15T22:23:58,282993200+00:00 | gunicorn/run | CONDAPATH environment variable: /opt/miniconda\\n\\n# conda environments:\\n#\\n                         /azureml-envs/azureml-automl\\nbase                     /opt/miniconda\\n\\n2023-08-15T22:23:59,576471546+00:00 | gunicorn/run | \\n2023-08-15T22:23:59,579516675+00:00 | gunicorn/run | Pip Dependencies (before dynamic installation)\\n\\nadal==1.2.7\\napplicationinsights==0.11.10\\narch==5.3.1\\nargcomplete==2.1.2\\nargon2-cffi==21.3.0\\nargon2-cffi-bindings==21.2.0\\nasttokens==2.2.1\\nattrs==23.1.0\\nazure-common==1.1.28\\nazure-core==1.27.1\\nazure-graphrbac==0.61.1\\nazure-identity==1.13.0\\nazure-mgmt-authorization==3.0.0\\nazure-mgmt-containerregistry==10.1.0\\nazure-mgmt-core==1.4.0\\nazure-mgmt-keyvault==10.2.2\\nazure-mgmt-resource==22.0.0\\nazure-mgmt-storage==21.0.0\\nazure-storage-blob==12.13.0\\nazure-storage-queue==12.6.0\\nazureml-automl-core==1.52.0.post1\\nazureml-automl-runtime==1.52.0.post1\\nazureml-core==1.52.0\\nazureml-dataprep==4.11.4\\nazureml-dataprep-native==38.0.0\\nazureml-dataprep-rslex==2.18.4\\nazureml-dataset-runtime==1.52.0\\nazureml-defaults==1.52.0\\nazureml-inference-server-http==0.8.4\\nazureml-interpret==1.52.0\\nazureml-mlflow==1.52.0\\nazureml-pipeline-core==1.52.0\\nazureml-responsibleai==1.52.0\\nazureml-telemetry==1.52.0\\nazureml-train-automl-client==1.52.0\\nazureml-train-automl-runtime==1.52.0\\nazureml-train-core==1.52.0\\nazureml-train-restclients-hyperdrive==1.52.0\\nazureml-training-tabular==1.52.0\\nbackcall==0.2.0\\nbackports.tempfile==1.0\\nbackports.weakref==1.0.post1\\nbcrypt==4.0.1\\nbeautifulsoup4==4.12.2\\nbleach==6.0.0\\nbokeh==2.4.3\\nboto==2.49.0\\nboto3==1.20.19\\nbotocore==1.23.19\\nBrotli @ file:///home/conda/feedstock_root/build_artifacts/brotli-split_1687884021435/work\\ncachetools==5.3.1\\ncertifi==2023.5.7\\ncffi @ file:///home/conda/feedstock_root/build_artifacts/cffi_1671179356964/work\\ncharset-normalizer @ file:///home/conda/feedstock_root/build_artifacts/charset-normalizer_1678108872112/work\\nclick==8.1.4\\ncloudpickle @ file:///home/conda/feedstock_root/build_artifacts/cloudpickle_1598400192773/work\\ncmdstanpy==0.9.5\\ncontextlib2==21.6.0\\ncontourpy==1.1.0\\nconvertdate @ file:///home/conda/feedstock_root/build_artifacts/convertdate_1642883757836/work\\ncryptography==41.0.0\\ncycler==0.11.0\\nCython==0.29.17\\ndask==2023.2.0\\ndatabricks-cli==0.17.7\\ndataclasses==0.6\\ndebugpy==1.6.7\\ndecorator==5.1.1\\ndefusedxml==0.7.1\\ndice-ml==0.9\\ndill==0.3.6\\ndistributed==2023.2.0\\ndistro==1.8.0\\ndocker==6.1.3\\ndotnetcore2==3.1.23\\neconml==0.14.1\\nentrypoints==0.4\\nephem==4.1.4\\nerroranalysis==0.4.4\\nexecuting==1.2.0\\nfairlearn==0.8.0\\nfastjsonschema==2.17.1\\nfbprophet==0.7.1\\nfire==0.5.0\\nFlask==2.2.5\\nFlask-Cors==3.0.10\\nflatbuffers==23.5.26\\nfonttools==4.40.0\\nfsspec==2023.6.0\\nfusepy==3.0.1\\ngensim==3.8.3\\ngitdb==4.0.10\\nGitPython==3.1.31\\ngoogle-api-core==2.11.1\\ngoogle-auth==2.21.0\\ngoogleapis-common-protos==1.59.1\\ngunicorn==20.1.0\\nh5py==3.9.0\\nholidays @ file:///home/conda/feedstock_root/build_artifacts/holidays_1595448845196/work\\nhumanfriendly==10.0\\nidna @ file:///home/conda/feedstock_root/build_artifacts/idna_1663625384323/work\\nimportlib-metadata==6.8.0\\nimportlib-resources==5.13.0\\ninference-schema==1.5.1\\ninterpret-community==0.29.0\\ninterpret-core==0.3.2\\nipykernel==6.8.0\\nipython==8.12.2\\nipython-genutils==0.2.0\\nisodate==0.6.1\\nitsdangerous==2.1.2\\njedi==0.18.2\\njeepney==0.8.0\\nJinja2==3.1.2\\njmespath==0.10.0\\njoblib @ file:///home/conda/feedstock_root/build_artifacts/joblib_1663332044897/work\\njsonpickle==3.0.1\\njsonschema==4.18.0\\njsonschema-specifications==2023.6.1\\njupyter_client==7.4.9\\njupyter_core==5.3.1\\njupyterlab-pygments==0.2.2\\nkeras2onnx==1.6.0\\nkiwisolver==1.4.4\\nknack==0.10.1\\nkorean-lunar-calendar @ file:///home/conda/feedstock_root/build_artifacts/korean_lunar_calendar_1663341251025/work\\nlightgbm==3.2.1\\nllvmlite==0.38.1\\nlocket==1.0.0\\nLunarCalendar==0.0.9\\nMarkupSafe==2.1.2\\nmatplotlib==3.7.2\\nmatplotlib-inline==0.1.6\\nmistune==3.0.1\\nml-wrappers==0.4.11\\nmlflow-skinny==2.4.1\\nmltable==1.4.1\\nmsal==1.22.0\\nmsal-extensions==1.0.0\\nmsgpack==1.0.5\\nmsrest==0.7.1\\nmsrestazure==0.6.4\\nnbclient==0.8.0\\nnbconvert==7.6.0\\nnbformat==5.9.0\\nndg-httpsclient==0.5.1\\nnest-asyncio==1.5.6\\nnetworkx==2.5\\nnotebook==6.4.9\\nnumba==0.55.2\\nnumpy==1.22.3\\noauthlib==3.2.2\\nonnx==1.13.1\\nonnxconverter-common==1.6.0\\nonnxmltools==1.4.1\\nonnxruntime==1.11.1\\nopencensus==0.11.2\\nopencensus-context==0.1.3\\nopencensus-ext-azure==1.1.9\\npackaging==23.0\\npandas==1.1.5\\npandocfilters==1.5.0\\nparamiko==3.2.0\\nparso==0.8.3\\npartd==1.4.0\\npathspec==0.11.1\\npatsy==0.5.3\\npexpect==4.8.0\\npickleshare==0.7.5\\nPillow==10.0.0\\npkginfo==1.9.6\\npkgutil_resolve_name==1.3.10\\nplatformdirs @ file:///home/conda/feedstock_root/build_artifacts/platformdirs_1688739404342/work\\npmdarima==1.8.0\\npooch @ file:///home/conda/feedstock_root/build_artifacts/pooch_1679580333621/work\\nportalocker==2.7.0\\nprometheus-client==0.17.0\\nprompt-toolkit==3.0.39\\nproperty-cached==1.6.4\\nprotobuf==3.20.3\\npsutil @ file:///home/conda/feedstock_root/build_artifacts/psutil_1681775007745/work\\nptyprocess==0.7.0\\npure-eval==0.2.2\\npy-cpuinfo==5.0.0\\npyarrow==9.0.0\\npyasn1==0.5.0\\npyasn1-modules==0.3.0\\npycparser @ file:///home/conda/feedstock_root/build_artifacts/pycparser_1636257122734/work\\npydantic==1.10.11\\nPygments==2.15.1\\nPyJWT==2.7.0\\nPyMeeus @ file:///home/conda/feedstock_root/build_artifacts/pymeeus_1670868433998/work\\nPyNaCl==1.5.0\\npyOpenSSL @ file:///home/conda/feedstock_root/build_artifacts/pyopenssl_1685514481738/work\\npyparsing==3.0.9\\nPySocks @ file:///home/conda/feedstock_root/build_artifacts/pysocks_1661604839144/work\\npystan==2.19.1.1\\npython-dateutil @ file:///home/conda/feedstock_root/build_artifacts/python-dateutil_1626286286081/work\\npytz @ file:///home/conda/feedstock_root/build_artifacts/pytz_1680088766131/work\\nPyYAML==6.0\\npyzmq==25.1.0\\nraiutils==0.4.0\\nreferencing==0.29.1\\nrequests @ file:///home/conda/feedstock_root/build_artifacts/requests_1684774241324/work\\nrequests-oauthlib==1.3.1\\nresponsibleai==0.28.0\\nrpds-py==0.8.8\\nrsa==4.9\\ns3transfer==0.5.2\\nscikit-learn==0.22.1\\nscipy==1.5.3\\nSecretStorage==3.3.3\\nsemver==2.13.0\\nSend2Trash==1.8.2\\nsetuptools-git==1.2\\nshap==0.41.0\\nsix @ file:///home/conda/feedstock_root/build_artifacts/six_1620240208055/work\\nskl2onnx==1.4.9\\nsklearn-pandas==1.7.0\\nslicer==0.0.7\\nsmart-open==1.9.0\\nsmmap==5.0.0\\nsortedcontainers==2.4.0\\nsoupsieve==2.4.1\\nsparse==0.14.0\\nsqlparse==0.4.4\\nstack-data==0.6.2\\nstatsmodels==0.11.1\\ntabulate==0.9.0\\ntblib==2.0.0\\ntermcolor==2.3.0\\nterminado==0.17.1\\ntinycss2==1.2.1\\ntoolz==0.12.0\\ntornado==6.3.2\\ntqdm==4.65.0\\ntraitlets==5.9.0\\ntyping_extensions @ file:///home/conda/feedstock_root/build_artifacts/typing_extensions_1688315532570/work\\nurllib3==1.26.16\\nwcwidth==0.2.6\\nwebencodings==0.5.1\\nwebsocket-client==1.6.1\\nWerkzeug==2.3.6\\nwrapt==1.12.1\\nxgboost==1.3.3\\nzict==3.0.0\\nzipp==3.15.0\\n\\n2023-08-15T22:24:02,071639093+00:00 | gunicorn/run | \\n2023-08-15T22:24:02,073727693+00:00 | gunicorn/run | ###############################################\\n2023-08-15T22:24:02,079539893+00:00 | gunicorn/run | Checking if the Python package azureml-inference-server-http is installed\\n2023-08-15T22:24:02,081308793+00:00 | gunicorn/run | ###############################################\\n2023-08-15T22:24:02,084595093+00:00 | gunicorn/run | \\n2023-08-15T22:24:05,416401193+00:00 | gunicorn/run | \\n2023-08-15T22:24:05,418571093+00:00 | gunicorn/run | ###############################################\\n2023-08-15T22:24:05,421925093+00:00 | gunicorn/run | AzureML Inference Server\\n2023-08-15T22:24:05,424231793+00:00 | gunicorn/run | ###############################################\\n2023-08-15T22:24:05,430899493+00:00 | gunicorn/run | \\n2023-08-15T22:24:08,753735602+00:00 | gunicorn/run | Starting AzureML Inference Server HTTP.\\n2023-08-15 22:24:09,155 I [82] azmlinfsrv - Loaded logging config from /azureml-envs/azureml-automl/lib/python3.8/site-packages/azureml_inference_server_http/logging.json\\n2023-08-15 22:24:09,607 I [82] gunicorn.error - Starting gunicorn 20.1.0\\n2023-08-15 22:24:09,608 I [82] gunicorn.error - Listening at: http://0.0.0.0:31311 (82)\\n2023-08-15 22:24:09,608 I [82] gunicorn.error - Using worker: sync\\n2023-08-15 22:24:09,621 I [141] gunicorn.error - Booting worker with pid: 141\\n\\nAzure ML Inferencing HTTP server v0.8.4\\n\\n\\nServer Settings\\n---------------\\nEntry Script Name: /var/azureml-app/main.py\\nModel Directory: /var/azureml-app/azureml-models/AutoML1e7ad3fd214/1\\nConfig File: None\\nWorker Count: 1\\nWorker Timeout (seconds): 300\\nServer Port: 31311\\nHealth Port: 31311\\nApplication Insights Enabled: false\\nApplication Insights Key: None\\nInferencing HTTP server version: azmlinfsrv/0.8.4\\nCORS for the specified origins: None\\nCreate dedicated endpoint for health: None\\n\\n\\nServer Routes\\n---------------\\nLiveness Probe: GET   127.0.0.1:31311/\\nScore:          POST  127.0.0.1:31311/score\\n\\n/azureml-envs/azureml-automl/lib/python3.8/site-packages/azureml_inference_server_http/server/config.py:51: FutureWarning: aliases are no longer used by BaseSettings to define which environment variables to read. Instead use the \"env\" field setting. See https://pydantic-docs.helpmanual.io/usage/settings/#environment-variable-names\\n  class AMLInferenceServerConfig(pydantic.BaseSettings):\\n2023-08-15 22:24:10,916 I [141] azmlinfsrv - AML_FLASK_ONE_COMPATIBILITY is set. Patched Flask to ensure compatibility with Flask 1.\\nInitializing logger\\n2023-08-15 22:24:10,919 I [141] azmlinfsrv - Starting up app insights client\\n2023-08-15 22:24:12,216 I [141] azmlinfsrv.user_script - Found driver script at /var/azureml-app/main.py and the score script at /var/azureml-app/score.py\\n2023-08-15 22:24:12,216 I [141] azmlinfsrv.user_script - run() is decorated with @input_schema. Server will invoke it with the following arguments: Inputs, GlobalParameters.\\n2023-08-15 22:24:12,217 I [141] azmlinfsrv.user_script - Invoking user\\'s init function\\nERROR:fbprophet.plot:Importing plotly failed. Interactive plots will not work.\\n2023-08-15 22:24:26,324 I [141] azmlinfsrv.user_script - Users\\'s init has completed successfully\\n2023-08-15 22:24:26,329 I [141] azmlinfsrv.swagger - Swaggers are prepared for the following versions: [2, 3, 3.1].\\n2023-08-15 22:24:26,329 I [141] azmlinfsrv - Scoring timeout is set to 60000\\n2023-08-15 22:24:26,335 W [141] azmlinfsrv - x-ms-request-id header has been deprecated and will be removed from future versions of the server. Please use x-ms-client-request-id.\\n2023-08-15 22:24:26,337 I [141] gunicorn.access - 127.0.0.1 - - [15/Aug/2023:22:24:26 +0000] \"GET / HTTP/1.0\" 200 7 \"-\" \"Go-http-client/1.1\"\\n2023-08-15 22:24:26,342 W [141] azmlinfsrv - x-ms-request-id header has been deprecated and will be removed from future versions of the server. Please use x-ms-client-request-id.\\n2023-08-15 22:24:26,343 I [141] azmlinfsrv - GET /swagger.json 200 0.886ms 4120\\n2023-08-15 22:24:26,344 I [141] gunicorn.access - 127.0.0.1 - - [15/Aug/2023:22:24:26 +0000] \"GET /swagger.json HTTP/1.0\" 200 4120 \"-\" \"Go-http-client/1.1\"\\n2023-08-15 22:24:33,119 W [141] azmlinfsrv - x-ms-request-id header has been deprecated and will be removed from future versions of the server. Please use x-ms-client-request-id.\\n2023-08-15 22:24:33,121 I [141] gunicorn.access - 127.0.0.1 - - [15/Aug/2023:22:24:33 +0000] \"GET / HTTP/1.0\" 200 7 \"-\" \"Go-http-client/1.1\"\\n2023-08-15 22:24:33,127 W [141] azmlinfsrv - x-ms-request-id header has been deprecated and will be removed from future versions of the server. Please use x-ms-client-request-id.\\n2023-08-15 22:24:33,128 I [141] azmlinfsrv - GET /swagger.json 200 1.240ms 4120\\n2023-08-15 22:24:33,130 I [141] gunicorn.access - 127.0.0.1 - - [15/Aug/2023:22:24:33 +0000] \"GET /swagger.json HTTP/1.0\" 200 4120 \"-\" \"Go-http-client/1.1\"\\n2023-08-15 22:24:33,360 W [141] azmlinfsrv - x-ms-request-id header has been deprecated and will be removed from future versions of the server. Please use x-ms-client-request-id.\\n2023-08-15 22:24:33,451 I [141] azmlinfsrv - POST /score 200 91.274ms 16\\n2023-08-15 22:24:33,453 I [141] gunicorn.access - 127.0.0.1 - - [15/Aug/2023:22:24:33 +0000] \"POST /score HTTP/1.0\" 200 16 \"-\" \"Python-urllib/3.8\"\\n'"
      ]
     },
     "execution_count": 63,
     "metadata": {},
     "output_type": "execute_result"
    }
   ],
   "source": [
    "aci_service.get_logs()"
   ]
  },
  {
   "cell_type": "markdown",
   "metadata": {},
   "source": [
    "## Cleanup Resources"
   ]
  },
  {
   "cell_type": "code",
   "execution_count": 64,
   "metadata": {
    "gather": {
     "logged": 1692138280961
    }
   },
   "outputs": [],
   "source": [
    "aci_service.delete()\n",
    "\n",
    "compute_target.delete()\n"
   ]
  }
 ],
 "metadata": {
  "kernel_info": {
   "name": "python38-azureml"
  },
  "kernelspec": {
   "display_name": "Python 3 (ipykernel)",
   "language": "python",
   "name": "python3"
  },
  "language_info": {
   "codemirror_mode": {
    "name": "ipython",
    "version": 3
   },
   "file_extension": ".py",
   "mimetype": "text/x-python",
   "name": "python",
   "nbconvert_exporter": "python",
   "pygments_lexer": "ipython3",
   "version": "3.9.6"
  },
  "microsoft": {
   "host": {
    "AzureML": {
     "notebookHasBeenCompleted": true
    }
   },
   "ms_spell_check": {
    "ms_spell_check_language": "en"
   }
  },
  "nteract": {
   "version": "nteract-front-end@1.0.0"
  }
 },
 "nbformat": 4,
 "nbformat_minor": 4
}
