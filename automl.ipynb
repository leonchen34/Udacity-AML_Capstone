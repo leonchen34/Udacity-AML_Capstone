{
  "cells": [
    {
      "cell_type": "markdown",
      "source": [
        "# Automated ML"
      ],
      "metadata": {}
    },
    {
      "cell_type": "code",
      "source": [
        "from azureml.core import Workspace, Experiment\n",
        "from azureml.core.dataset import Dataset\n",
        "from azureml.train.automl import AutoMLConfig\n",
        "from azureml.core.compute import ComputeTarget, AmlCompute\n",
        "from azureml.exceptions import ComputeTargetException\n",
        "from azureml.widgets import RunDetails\n",
        "import os\n",
        "import shutil\n",
        "import logging\n"
      ],
      "outputs": [],
      "execution_count": 1,
      "metadata": {
        "collapsed": false,
        "gather": {
          "logged": 1690677098223
        },
        "jupyter": {
          "outputs_hidden": false,
          "source_hidden": false
        },
        "nteract": {
          "transient": {
            "deleting": false
          }
        }
      }
    },
    {
      "cell_type": "markdown",
      "source": [
        "## Dataset\n",
        "\n",
        "### Overview\n",
        "\n",
        "\"Airbnb for Boston with fraud detcetion\" data was downloaded from Kaggle with the following link:\n",
        "\n",
        "https://www.kaggle.com/datasets/hawkingcr/airbnb-for-boston-with-fraud-detection/download?datasetVersionNumber=1\n",
        "\n",
        "The downloaded file is saved as \"output.csv\" in the \"data\" directory. The dataset aims to classify whether an Airbnb listing is a fraud or not.\n",
        "\n",
        "A notebook file named \"data_process.ipyng\" was created to perform some pre-processing on the data. Firstly, a correlation analysis was conducted with the target column \"fraud\" to identify and remove some non-significant features. Next, the data was split into \"train.csv\" and \"test.csv\" sets, and the balance of the training data was examined. Due to the class imbalance in the training target, an upsampling technique was applied to address this imbalance"
      ],
      "metadata": {}
    },
    {
      "cell_type": "code",
      "source": [
        "ws = Workspace.from_config()\n",
        "\n",
        "experiment_name = 'udacity-aml-capstone'\n",
        "experiment=Experiment(ws, experiment_name)\n",
        "\n",
        "datastore = ws.get_default_datastore()\n",
        "train_data_file = \"train.csv\"\n",
        "src_dir = \"./data\"\n",
        "target_path = \"airbnb_boston\"\n",
        "\n",
        "train_data_dir = \"./tmp_dir\"\n",
        "if os.path.exists(train_data_dir) == False:\n",
        "    os.mkdir(train_data_dir)\n",
        "\n",
        "src_file_path = os.path.join(src_dir,train_data_file)\n",
        "#print(src_file_path)\n",
        "dest = shutil.copy(src_file_path,train_data_dir)\n",
        "#print(\"After copying:\")\n",
        "#print(os.listdir(train_data_dir))\n",
        "print(\"train data path:\",dest)\n",
        "\n",
        "#datastore.upload(\n",
        "    #src_dir=train_data_dir, target_path=target_path, overwrite=True, show_progress=True\n",
        "#)\n",
        "\n",
        "#datastore.upload_files(\n",
        "    #[\"./data/train.csv\"],target_path=\"airbnb_boston\", overwrite=True, show_progress=True\n",
        "#)\n",
        "\n",
        "#Dataset.File.upload_directory(src_dir,(datastore,target_path),pattern=train_data_file,\n",
        "                              #overwrite=True, show_progress=True)\n",
        "Dataset.File.upload_directory(train_data_dir,(datastore,target_path),\n",
        "                              overwrite=True, show_progress=True)\n",
        "\n",
        "# Upload the training data as a tabular dataset for access during training on remote compute\n",
        "datastore_path = os.path.join(target_path,train_data_file)\n",
        "print(\"datastore train data path: \",datastore_path)\n",
        "train_ds = Dataset.Tabular.from_delimited_files(\n",
        "    path=datastore.path(datastore_path)\n",
        ")\n",
        "\n",
        "train_ds.to_pandas_dataframe().head()"
      ],
      "outputs": [
        {
          "output_type": "stream",
          "name": "stdout",
          "text": "train data path: ./tmp_dir/train.csv\nValidating arguments.\nArguments validated.\nUploading file to airbnb_boston\nUploading an estimated of 1 files\nUploading ./tmp_dir/train.csv\nUploaded ./tmp_dir/train.csv, 1 files out of an estimated total of 1\nUploaded 1 files\nCreating new dataset\ndatastore train data path:  airbnb_boston/train.csv\n"
        },
        {
          "output_type": "execute_result",
          "execution_count": 2,
          "data": {
            "text/plain": "   host_response_rate  host_identity_verified  host_total_listings_count  \\\n0                  95                       1                          3   \n1                 100                       1                          1   \n2                 100                       1                          1   \n3                  90                       1                          1   \n4                  92                       0                          8   \n\n   is_location_exact  property_type  accommodates  price  minimum_nights  \\\n0                  1              8             2   6500               2   \n1                  1              0             8  50000               1   \n2                  1              8             2   9000               1   \n3                  1              0             2  11500               1   \n4                  1              2             6  27500               2   \n\n   number_of_reviews  review_scores_rating  instant_bookable  \\\n0                  8                  93.0                 0   \n1                 88                  98.0                 0   \n2                192                  95.0                 0   \n3                 54                  88.0                 1   \n4                 29                  91.0                 1   \n\n   cancellation_policy  reviews_per_month  fraud  \n0                    1               0.63      1  \n1                    1               4.20      1  \n2                    1               5.58      1  \n3                    2               3.58      1  \n4                    2               0.72      1  ",
            "text/html": "<div>\n<style scoped>\n    .dataframe tbody tr th:only-of-type {\n        vertical-align: middle;\n    }\n\n    .dataframe tbody tr th {\n        vertical-align: top;\n    }\n\n    .dataframe thead th {\n        text-align: right;\n    }\n</style>\n<table border=\"1\" class=\"dataframe\">\n  <thead>\n    <tr style=\"text-align: right;\">\n      <th></th>\n      <th>host_response_rate</th>\n      <th>host_identity_verified</th>\n      <th>host_total_listings_count</th>\n      <th>is_location_exact</th>\n      <th>property_type</th>\n      <th>accommodates</th>\n      <th>price</th>\n      <th>minimum_nights</th>\n      <th>number_of_reviews</th>\n      <th>review_scores_rating</th>\n      <th>instant_bookable</th>\n      <th>cancellation_policy</th>\n      <th>reviews_per_month</th>\n      <th>fraud</th>\n    </tr>\n  </thead>\n  <tbody>\n    <tr>\n      <th>0</th>\n      <td>95</td>\n      <td>1</td>\n      <td>3</td>\n      <td>1</td>\n      <td>8</td>\n      <td>2</td>\n      <td>6500</td>\n      <td>2</td>\n      <td>8</td>\n      <td>93.0</td>\n      <td>0</td>\n      <td>1</td>\n      <td>0.63</td>\n      <td>1</td>\n    </tr>\n    <tr>\n      <th>1</th>\n      <td>100</td>\n      <td>1</td>\n      <td>1</td>\n      <td>1</td>\n      <td>0</td>\n      <td>8</td>\n      <td>50000</td>\n      <td>1</td>\n      <td>88</td>\n      <td>98.0</td>\n      <td>0</td>\n      <td>1</td>\n      <td>4.20</td>\n      <td>1</td>\n    </tr>\n    <tr>\n      <th>2</th>\n      <td>100</td>\n      <td>1</td>\n      <td>1</td>\n      <td>1</td>\n      <td>8</td>\n      <td>2</td>\n      <td>9000</td>\n      <td>1</td>\n      <td>192</td>\n      <td>95.0</td>\n      <td>0</td>\n      <td>1</td>\n      <td>5.58</td>\n      <td>1</td>\n    </tr>\n    <tr>\n      <th>3</th>\n      <td>90</td>\n      <td>1</td>\n      <td>1</td>\n      <td>1</td>\n      <td>0</td>\n      <td>2</td>\n      <td>11500</td>\n      <td>1</td>\n      <td>54</td>\n      <td>88.0</td>\n      <td>1</td>\n      <td>2</td>\n      <td>3.58</td>\n      <td>1</td>\n    </tr>\n    <tr>\n      <th>4</th>\n      <td>92</td>\n      <td>0</td>\n      <td>8</td>\n      <td>1</td>\n      <td>2</td>\n      <td>6</td>\n      <td>27500</td>\n      <td>2</td>\n      <td>29</td>\n      <td>91.0</td>\n      <td>1</td>\n      <td>2</td>\n      <td>0.72</td>\n      <td>1</td>\n    </tr>\n  </tbody>\n</table>\n</div>"
          },
          "metadata": {}
        }
      ],
      "execution_count": 2,
      "metadata": {
        "collapsed": false,
        "gather": {
          "logged": 1690677128832
        },
        "jupyter": {
          "outputs_hidden": false,
          "source_hidden": false
        },
        "nteract": {
          "transient": {
            "deleting": false
          }
        }
      }
    },
    {
      "cell_type": "markdown",
      "source": [
        "### Create or Attach an AmlCompute cluster"
      ],
      "metadata": {}
    },
    {
      "cell_type": "code",
      "source": [
        "\n",
        "cluster_name = \"my-cluster\"\n",
        "\n",
        "try:\n",
        "    compute_target = ComputeTarget(workspace=ws, name=cluster_name)\n",
        "    print(\"Found existing cluster, use it.\")\n",
        "except ComputeTargetException:\n",
        "    compute_config = AmlCompute.provisioning_configuration(\n",
        "        vm_size=\"STANDARD_D2_V2\", max_nodes=4\n",
        "    )\n",
        "    compute_target = ComputeTarget.create(ws, cluster_name, compute_config)\n",
        "compute_target.wait_for_completion(show_output=True)\n"
      ],
      "outputs": [
        {
          "output_type": "stream",
          "name": "stdout",
          "text": "Found existing cluster, use it.\nSucceeded\nAmlCompute wait for completion finished\n\nMinimum number of nodes requested have been provisioned\n"
        }
      ],
      "execution_count": 3,
      "metadata": {
        "gather": {
          "logged": 1690677154314
        }
      }
    },
    {
      "cell_type": "markdown",
      "source": [
        "## AutoML Configuration\n",
        "\n",
        "TODO: Explain why you chose the automl settings and cofiguration you used below.\n",
        "\n",
        "iteration_timeout_minutes: Time limit in minutes for each iteration. Increase this value for larger datasets that need more time for each iteration.\n",
        "\n",
        "experiment_timeout_hours: Maximum amount of time in hours that all iterations combined can take before the experiment terminates.\n",
        "\n",
        "enable_early_stopping: Flag to enable early termination if the score is not improving in the short term.\n",
        "\n",
        "primary_metric: Metric that you want to optimize. The best-fit model will be chosen based on this metric.\n",
        "\n",
        "featurization: By using auto, the experiment can preprocess the input data (handling missing data, converting text to numeric, etc.)\n",
        "\n",
        "verbosity: Controls the level of logging.\n",
        "\n",
        "n_cross_validation: Number of cross validation to perform when validation data is\n",
        "                    not specified."
      ],
      "metadata": {}
    },
    {
      "cell_type": "code",
      "source": [
        "\n",
        "automl_settings = {\n",
        "    \"iteration_timeout_minutes\": 10,\n",
        "    \"experiment_timeout_minutes\": 30,\n",
        "    \"max_concurrent_iterations\": 4,\n",
        "    \"enable_early_stopping\": True,\n",
        "    \"primary_metric\": 'AUC_weighted',\n",
        "    \"featurization\": 'auto',\n",
        "    \"verbosity\": logging.INFO,\n",
        "    \"n_cross_validations\": 5\n",
        "}\n",
        "\n",
        "automl_config = AutoMLConfig(\n",
        "    task=\"classification\",\n",
        "    compute_target=compute_target,\n",
        "    training_data=train_ds,\n",
        "    label_column_name=\"fraud\",\n",
        "    blocked_models=[\"KNN\", \"LinearSVM\"],\n",
        "    enable_onnx_compatible_models=True,\n",
        "    **automl_settings)"
      ],
      "outputs": [],
      "execution_count": 4,
      "metadata": {
        "collapsed": false,
        "gather": {
          "logged": 1690677163576
        },
        "jupyter": {
          "outputs_hidden": false,
          "source_hidden": false
        },
        "nteract": {
          "transient": {
            "deleting": false
          }
        }
      }
    },
    {
      "cell_type": "code",
      "source": [
        "# Submit experiment\n",
        "auto_run = experiment.submit(automl_config)"
      ],
      "outputs": [
        {
          "output_type": "stream",
          "name": "stdout",
          "text": "Submitting remote run.\n"
        },
        {
          "output_type": "display_data",
          "data": {
            "text/html": "<table style=\"width:100%\"><tr><th>Experiment</th><th>Id</th><th>Type</th><th>Status</th><th>Details Page</th><th>Docs Page</th></tr><tr><td>udacity-aml-capstone</td><td>AutoML_96a49aca-3d02-478d-8078-fcd7d9e78594</td><td>automl</td><td>NotStarted</td><td><a href=\"https://ml.azure.com/runs/AutoML_96a49aca-3d02-478d-8078-fcd7d9e78594?wsid=/subscriptions/f9d5a085-54dc-4215-9ba6-dad5d86e60a0/resourcegroups/aml-quickstarts-239435/workspaces/quick-starts-ws-239435&amp;tid=660b3398-b80e-49d2-bc5b-ac1dc93b5254\" target=\"_blank\" rel=\"noopener\">Link to Azure Machine Learning studio</a></td><td><a href=\"https://docs.microsoft.com/en-us/python/api/overview/azure/ml/intro?view=azure-ml-py\" target=\"_blank\" rel=\"noopener\">Link to Documentation</a></td></tr></table>"
          },
          "metadata": {}
        }
      ],
      "execution_count": 5,
      "metadata": {
        "collapsed": false,
        "gather": {
          "logged": 1690677183736
        },
        "jupyter": {
          "outputs_hidden": false,
          "source_hidden": false
        },
        "nteract": {
          "transient": {
            "deleting": false
          }
        }
      }
    },
    {
      "cell_type": "markdown",
      "source": [
        "## Run Details\n",
        "\n",
        "OPTIONAL: Write about the different models trained and their performance. Why do you think some models did better than others?\n",
        "\n",
        "TODO: In the cell below, use the `RunDetails` widget to show the different experiments."
      ],
      "metadata": {}
    },
    {
      "cell_type": "code",
      "source": [
        "RunDetails(auto_run).show()"
      ],
      "outputs": [
        {
          "output_type": "display_data",
          "data": {
            "text/plain": "_AutoMLWidget(widget_settings={'childWidgetDisplay': 'popup', 'send_telemetry': False, 'log_level': 'INFO', 's…",
            "application/vnd.jupyter.widget-view+json": {
              "version_major": 2,
              "version_minor": 0,
              "model_id": "a0dbb9d7f6ff41609467e9e0d8ba82c9"
            }
          },
          "metadata": {}
        },
        {
          "output_type": "display_data",
          "data": {
            "application/aml.mini.widget.v1": "{\"status\": \"Completed\", \"workbench_run_details_uri\": \"https://ml.azure.com/runs/AutoML_96a49aca-3d02-478d-8078-fcd7d9e78594?wsid=/subscriptions/f9d5a085-54dc-4215-9ba6-dad5d86e60a0/resourcegroups/aml-quickstarts-239435/workspaces/quick-starts-ws-239435&tid=660b3398-b80e-49d2-bc5b-ac1dc93b5254\", \"run_id\": \"AutoML_96a49aca-3d02-478d-8078-fcd7d9e78594\", \"run_properties\": {\"run_id\": \"AutoML_96a49aca-3d02-478d-8078-fcd7d9e78594\", \"created_utc\": \"2023-07-30T00:33:02.371803Z\", \"properties\": {\"num_iterations\": \"1000\", \"training_type\": \"TrainFull\", \"acquisition_function\": \"EI\", \"primary_metric\": \"AUC_weighted\", \"train_split\": \"0\", \"acquisition_parameter\": \"0\", \"num_cross_validation\": \"5\", \"target\": \"my-cluster\", \"AMLSettingsJsonString\": \"{\\\"path\\\":null,\\\"name\\\":\\\"udacity-aml-capstone\\\",\\\"subscription_id\\\":\\\"f9d5a085-54dc-4215-9ba6-dad5d86e60a0\\\",\\\"resource_group\\\":\\\"aml-quickstarts-239435\\\",\\\"workspace_name\\\":\\\"quick-starts-ws-239435\\\",\\\"region\\\":\\\"westus2\\\",\\\"compute_target\\\":\\\"my-cluster\\\",\\\"spark_service\\\":null,\\\"azure_service\\\":\\\"remote\\\",\\\"many_models\\\":false,\\\"pipeline_fetch_max_batch_size\\\":1,\\\"enable_batch_run\\\":true,\\\"enable_parallel_run\\\":false,\\\"num_procs\\\":null,\\\"enable_run_restructure\\\":false,\\\"start_auxiliary_runs_before_parent_complete\\\":false,\\\"enable_code_generation\\\":true,\\\"iterations\\\":1000,\\\"primary_metric\\\":\\\"AUC_weighted\\\",\\\"task_type\\\":\\\"classification\\\",\\\"positive_label\\\":null,\\\"data_script\\\":null,\\\"test_size\\\":0.0,\\\"test_include_predictions_only\\\":false,\\\"validation_size\\\":0.0,\\\"n_cross_validations\\\":5,\\\"y_min\\\":null,\\\"y_max\\\":null,\\\"num_classes\\\":null,\\\"featurization\\\":\\\"auto\\\",\\\"_ignore_package_version_incompatibilities\\\":false,\\\"is_timeseries\\\":false,\\\"max_cores_per_iteration\\\":1,\\\"max_concurrent_iterations\\\":4,\\\"iteration_timeout_minutes\\\":10,\\\"mem_in_mb\\\":null,\\\"enforce_time_on_windows\\\":false,\\\"experiment_timeout_minutes\\\":30,\\\"experiment_exit_score\\\":null,\\\"partition_column_names\\\":null,\\\"whitelist_models\\\":null,\\\"blacklist_algos\\\":[\\\"KNN\\\",\\\"LinearSVM\\\",\\\"TensorFlowLinearClassifier\\\",\\\"TensorFlowDNN\\\"],\\\"supported_models\\\":[\\\"LinearSVM\\\",\\\"AveragedPerceptronClassifier\\\",\\\"ExtremeRandomTrees\\\",\\\"TensorFlowLinearClassifier\\\",\\\"TabnetClassifier\\\",\\\"LogisticRegression\\\",\\\"BernoulliNaiveBayes\\\",\\\"GradientBoosting\\\",\\\"LightGBM\\\",\\\"SGD\\\",\\\"DecisionTree\\\",\\\"MultinomialNaiveBayes\\\",\\\"SVM\\\",\\\"XGBoostClassifier\\\",\\\"RandomForest\\\",\\\"KNN\\\",\\\"TensorFlowDNN\\\"],\\\"private_models\\\":[],\\\"auto_blacklist\\\":true,\\\"blacklist_samples_reached\\\":false,\\\"exclude_nan_labels\\\":true,\\\"verbosity\\\":20,\\\"_debug_log\\\":\\\"azureml_automl.log\\\",\\\"show_warnings\\\":false,\\\"model_explainability\\\":true,\\\"service_url\\\":null,\\\"sdk_url\\\":null,\\\"sdk_packages\\\":null,\\\"enable_onnx_compatible_models\\\":true,\\\"enable_split_onnx_featurizer_estimator_models\\\":false,\\\"vm_type\\\":\\\"STANDARD_D2_V2\\\",\\\"telemetry_verbosity\\\":20,\\\"send_telemetry\\\":true,\\\"enable_dnn\\\":false,\\\"scenario\\\":\\\"AutoML\\\",\\\"environment_label\\\":null,\\\"save_mlflow\\\":false,\\\"enable_categorical_indicators\\\":false,\\\"force_text_dnn\\\":false,\\\"enable_feature_sweeping\\\":false,\\\"enable_early_stopping\\\":true,\\\"early_stopping_n_iters\\\":10,\\\"arguments\\\":null,\\\"dataset_id\\\":\\\"99eefc7b-6610-457b-bc63-5c2ce1243367\\\",\\\"hyperdrive_config\\\":null,\\\"validation_dataset_id\\\":null,\\\"run_source\\\":null,\\\"metrics\\\":null,\\\"enable_metric_confidence\\\":false,\\\"enable_ensembling\\\":true,\\\"enable_stack_ensembling\\\":false,\\\"ensemble_iterations\\\":15,\\\"enable_tf\\\":false,\\\"enable_subsampling\\\":null,\\\"subsample_seed\\\":null,\\\"enable_nimbusml\\\":false,\\\"enable_streaming\\\":false,\\\"force_streaming\\\":false,\\\"track_child_runs\\\":true,\\\"n_best_runs\\\":1,\\\"allowed_private_models\\\":[],\\\"label_column_name\\\":\\\"fraud\\\",\\\"weight_column_name\\\":null,\\\"cv_split_column_names\\\":null,\\\"enable_local_managed\\\":false,\\\"_local_managed_run_id\\\":null,\\\"cost_mode\\\":1,\\\"lag_length\\\":0,\\\"metric_operation\\\":\\\"maximize\\\",\\\"preprocess\\\":true}\", \"DataPrepJsonString\": \"{\\\\\\\"training_data\\\\\\\": {\\\\\\\"datasetId\\\\\\\": \\\\\\\"99eefc7b-6610-457b-bc63-5c2ce1243367\\\\\\\"}, \\\\\\\"datasets\\\\\\\": 0}\", \"EnableSubsampling\": null, \"runTemplate\": \"AutoML\", \"azureml.runsource\": \"automl\", \"display_task_type\": \"classification\", \"dependencies_versions\": \"{\\\"azureml-dataprep-native\\\": \\\"38.0.0\\\", \\\"azureml-dataprep\\\": \\\"4.10.8\\\", \\\"azureml-dataprep-rslex\\\": \\\"2.17.12\\\", \\\"azureml-train-automl-runtime\\\": \\\"1.51.0.post2\\\", \\\"azureml-train-automl-client\\\": \\\"1.51.0.post1\\\", \\\"azureml-training-tabular\\\": \\\"1.51.0.post1\\\", \\\"azureml-automl-runtime\\\": \\\"1.51.0.post1\\\", \\\"azureml-automl-core\\\": \\\"1.51.0.post1\\\", \\\"azureml-mlflow\\\": \\\"1.51.0\\\", \\\"azureml-datadrift\\\": \\\"1.51.0\\\", \\\"azureml-pipeline\\\": \\\"1.51.0\\\", \\\"azureml-contrib-dataset\\\": \\\"1.51.0\\\", \\\"azureml-contrib-notebook\\\": \\\"1.51.0\\\", \\\"azureml-accel-models\\\": \\\"1.51.0\\\", \\\"azureml-automl-dnn-nlp\\\": \\\"1.51.0\\\", \\\"azureml-pipeline-core\\\": \\\"1.51.0\\\", \\\"azureml-responsibleai\\\": \\\"1.51.0\\\", \\\"azureml-contrib-automl-pipeline-steps\\\": \\\"1.51.0\\\", \\\"azureml-pipeline-steps\\\": \\\"1.51.0\\\", \\\"azureml-core\\\": \\\"1.51.0\\\", \\\"azureml-contrib-reinforcementlearning\\\": \\\"1.51.0\\\", \\\"azureml-contrib-server\\\": \\\"1.51.0\\\", \\\"azureml-opendatasets\\\": \\\"1.51.0\\\", \\\"azureml-contrib-services\\\": \\\"1.51.0\\\", \\\"azureml-telemetry\\\": \\\"1.51.0\\\", \\\"azureml-train-restclients-hyperdrive\\\": \\\"1.51.0\\\", \\\"azureml-interpret\\\": \\\"1.51.0\\\", \\\"azureml-train-core\\\": \\\"1.51.0\\\", \\\"azureml-tensorboard\\\": \\\"1.51.0\\\", \\\"azureml-train\\\": \\\"1.51.0\\\", \\\"azureml-contrib-pipeline-steps\\\": \\\"1.51.0\\\", \\\"azureml-explain-model\\\": \\\"1.51.0\\\", \\\"azureml-cli-common\\\": \\\"1.51.0\\\", \\\"azureml-widgets\\\": \\\"1.51.0\\\", \\\"azureml-train-automl\\\": \\\"1.51.0\\\", \\\"azureml-defaults\\\": \\\"1.51.0\\\", \\\"azureml-contrib-fairness\\\": \\\"1.51.0\\\", \\\"azureml-sdk\\\": \\\"1.51.0\\\", \\\"azureml-dataset-runtime\\\": \\\"1.51.0\\\", \\\"azureml-inference-server-http\\\": \\\"0.8.4\\\"}\", \"_aml_system_scenario_identification\": \"Remote.Parent\", \"ClientType\": \"SDK\", \"PlatformVersion\": \"DPV1\", \"environment_cpu_name\": \"AzureML-AutoML\", \"environment_cpu_label\": \"prod\", \"environment_gpu_name\": \"AzureML-AutoML-GPU\", \"environment_gpu_label\": \"prod\", \"root_attribution\": \"automl\", \"attribution\": \"AutoML\", \"Orchestrator\": \"AutoML\", \"CancelUri\": \"https://westus2.api.azureml.ms/jasmine/v1.0/subscriptions/f9d5a085-54dc-4215-9ba6-dad5d86e60a0/resourceGroups/aml-quickstarts-239435/providers/Microsoft.MachineLearningServices/workspaces/quick-starts-ws-239435/experimentids/7ce4a039-5194-42e2-b4f5-b0c36881b292/cancel/AutoML_96a49aca-3d02-478d-8078-fcd7d9e78594\", \"ClientSdkVersion\": null, \"snapshotId\": \"00000000-0000-0000-0000-000000000000\", \"SetupRunId\": \"AutoML_96a49aca-3d02-478d-8078-fcd7d9e78594_setup\", \"SetupRunContainerId\": \"dcid.AutoML_96a49aca-3d02-478d-8078-fcd7d9e78594_setup\", \"FeaturizationRunJsonPath\": \"featurizer_container.json\", \"FeaturizationRunId\": \"AutoML_96a49aca-3d02-478d-8078-fcd7d9e78594_featurize\", \"ProblemInfoJsonString\": \"{\\\"dataset_num_categorical\\\": 0, \\\"is_sparse\\\": true, \\\"subsampling\\\": false, \\\"has_extra_col\\\": true, \\\"dataset_classes\\\": 2, \\\"dataset_features\\\": 145, \\\"dataset_samples\\\": 4240, \\\"single_frequency_class_detected\\\": false}\", \"ModelExplainRunId\": \"AutoML_96a49aca-3d02-478d-8078-fcd7d9e78594_ModelExplain\"}, \"tags\": {\"model_explain_run\": \"best_run\", \"_aml_system_automl_run_workspace_id\": \"53521dec-4547-423d-89df-04938b9b2272\", \"_aml_system_azureml.automlComponent\": \"AutoML\", \"pipeline_id_000\": \"5dfac790c5c209f98a1da2dc1c7fb76f0397324f;c7af0367625be6ac5c2fecbfc72ed444cb7a2111;51ae05309834b29f71340af1008fc94fbd8213f4;ce2643edf3d450b10c86c7d034a9bc952dc282d3;039a99c3d5147edeb525249e2660628be3e8b83f;9610149fbcf43017aa810a290e9c04cbe6fa8684;6f4a466f84f725a47910c1dff062a1bb46df2a21;1e38ae92baee19b18f211a8b14c16015d5ee3dc3;a3dadd95854bf6116ab454844302b51d417d78b7;dea7fdbaedc77258dbfe31dbfed41e768ca38939;1dfdf370ba770047b14bfa59c40920815defcdab;a7434e890cabef86b0ce4ae71fb633e1e92b854d;294650ec23bc3d067a4972de7ceb12f6e97260fa;c74787cd2f0507b852a1ac70d504d83ac9bdec83;dd46719e1e1ca3df6e6826afb96bf9be8390e6e2;79ebb3b8c385e3190e3dd4c1fa28b74730528045;681a59302459aec2cc115ddbc14e1d28f4b3b8df;208056285bd1883d5bd7d4e4e996a1c71c4b0033;5bcf69d12307c5f0246b0d33ab19666443595ac9;a72eb56f3d4aadb7b7f0149ba6e5f05657a95ca1;5dcd9bc8a74634130a855a68c1bf956ce7160f98;ee365d2bc711bc6838929328cc4ff4b890fbc6c3;3fe9ace0255a98a01a321c2b4c6ab86f6c1db8e5;dfc631bbb8f3be228d228210719dafe9e4a19b00;f9c4839cd35f7fe03bcc11d87a99d82f63f333dc;26938661c1cd76d11c69cdfd290da29f0b629d5d;6b82c509201b26037191abaa8fdcce486e4986b6;0cfddacbec4d33c8b87faa37de5368f8ac7ea0d3;eb060ff7ba0bf70687128be84d0fa9ce7cae70ac;337b3f03f117eacee3b0d9cb2fc0cad4a9498e5c;5e58b41c2fe7cbc6f076cbcf06001ea92e8f636d;26909ef7bba7c36eec6a0ac2b5f146adcd9d6312;eddc21c57d015d68059281a0c0b18d18dc274d59;c39ba7f3e45f61d9cb3fc5e2a66aa6c5ca9d1c5f;bd21b83da6bcc09caf3961813ae4af03fc4eb680;ab8a79c866c63cdb3ad412a7cbe193870c8df69e;__AutoML_Ensemble__\", \"score_000\": \"0.9691352479188076;0.9704499330100272;0.8908331166303617;0.8694673088638923;0.908678127391273;0.944670000550685;0.8987318560226176;0.9025810521026896;0.937463724374421;0.8317663467041667;0.8932545397484672;0.9158142236711486;0.9634623372193302;0.9392938482170656;0.9495446811310716;0.8025435294218533;0.9578307228561138;0.8288353447015314;0.85878437782515;0.9896685879947189;0.9025744585247526;0.9458131303336575;0.9609792412364838;0.9327082818493109;0.8912361221502809;0.8183943485985166;0.8869016353488466;0.9021573450894389;0.9015383515644307;0.9393074038800278;0.5;0.9318566535901031;0.9148106494888534;NaN;NaN;NaN;0.9886885356033199\", \"predicted_cost_000\": \"0;0;0.5;0.5;0.5;0.5;0.5;0.5;0.5;0.5;0.5;0.5;0.5;0.5;0.5;0.5;0.5;0.5;0.5;0.5;0.401566821993338;0.15483812904035962;0.48116398877495165;0.09164411651754535;0.09457099851431015;0.16517174558923808;0.16030413700824248;0.21315117273750975;0.2004606390618705;0.22420949794015493;0.2031927878831917;0.12155666025534127;0.10990203076432523;0.4564782525748863;0.3967806379855065;0.11856372392030654;0\", \"fit_time_000\": \"0.1766594;0.43622500000000003;0.0903832;0.04651980000000001;0.0312514;0.1599024;0.0451514;0.2939168;0.12925940000000002;0.8536243999999998;0.5746732;2.0228062;0.11825999999999999;0.1612822;0.105985;0.0614222;0.1948394;0.29754899999999995;0.11962619999999999;1.1495408;0.1387756;0.11260980000000001;0.41315560000000007;0.1350498;0.060553800000000005;1.7229172000000001;0.061603399999999996;0.15858060000000002;0.12197740000000001;0.145541;0.0597336;0.039329199999999995;0.1402932;NaN;NaN;NaN;24\", \"training_percent_000\": \"100;100;100;100;100;100;100;100;100;100;100;100;100;100;100;100;100;100;100;100;100;100;100;100;100;100;100;100;100;100;100;100;100;100;100;100;100\", \"iteration_000\": \"0;1;2;3;4;15;10;16;5;11;6;17;7;12;18;13;8;19;9;14;20;21;22;24;23;25;26;27;28;29;30;31;32;33;34;35;36\", \"run_preprocessor_000\": \"MaxAbsScaler;MaxAbsScaler;MaxAbsScaler;MaxAbsScaler;StandardScalerWrapper;MaxAbsScaler;SparseNormalizer;MaxAbsScaler;SparseNormalizer;MaxAbsScaler;SparseNormalizer;StandardScalerWrapper;StandardScalerWrapper;StandardScalerWrapper;StandardScalerWrapper;StandardScalerWrapper;SparseNormalizer;MaxAbsScaler;MaxAbsScaler;StandardScalerWrapper;MaxAbsScaler;StandardScalerWrapper;StandardScalerWrapper;SparseNormalizer;MaxAbsScaler;TruncatedSVDWrapper;StandardScalerWrapper;StandardScalerWrapper;StandardScalerWrapper;StandardScalerWrapper;SparseNormalizer;MaxAbsScaler;SparseNormalizer;;StandardScalerWrapper;StandardScalerWrapper;\", \"run_algorithm_000\": \"LightGBM;XGBoostClassifier;ExtremeRandomTrees;RandomForest;LightGBM;LightGBM;LightGBM;LogisticRegression;XGBoostClassifier;ExtremeRandomTrees;RandomForest;ExtremeRandomTrees;XGBoostClassifier;XGBoostClassifier;XGBoostClassifier;ExtremeRandomTrees;XGBoostClassifier;ExtremeRandomTrees;RandomForest;RandomForest;LogisticRegression;XGBoostClassifier;XGBoostClassifier;XGBoostClassifier;RandomForest;RandomForest;XGBoostClassifier;LogisticRegression;LogisticRegression;LightGBM;RandomForest;LightGBM;LightGBM;;XGBoostClassifier;RandomForest;VotingEnsemble\", \"dynamic_allowlisting_iterations\": \"<25>;<30>;<35>;\", \"_aml_system_azureml.automl_early_exit_message\": \"No scores improved over last 10 iterations, so experiment stopped early. This early stopping behavior can be disabled by setting enable_early_stopping = False in AutoMLConfig for notebook/python SDK runs.\", \"automl_best_child_run_id\": \"AutoML_96a49aca-3d02-478d-8078-fcd7d9e78594_14\", \"model_explain_best_run_child_id\": \"AutoML_96a49aca-3d02-478d-8078-fcd7d9e78594_14\"}, \"end_time_utc\": \"2023-07-30T00:52:58.124987Z\", \"status\": \"Completed\", \"log_files\": {}, \"log_groups\": [], \"run_duration\": \"0:19:55\", \"run_number\": \"1690677182\", \"run_queued_details\": {\"status\": \"Completed\", \"details\": null}}, \"child_runs\": [{\"run_id\": \"AutoML_96a49aca-3d02-478d-8078-fcd7d9e78594_setup\", \"run_number\": 1690677195, \"metric\": null, \"status\": \"Completed\", \"run_type\": \"azureml.scriptrun\", \"training_percent\": null, \"start_time\": \"2023-07-30T00:35:43.468751Z\", \"end_time\": \"2023-07-30T00:37:47.995614Z\", \"created_time\": \"2023-07-30T00:33:15.30951Z\", \"created_time_dt\": \"2023-07-30T00:33:15.30951Z\", \"duration\": \"0:04:32\", \"iteration\": null, \"goal\": null, \"run_name\": \"Completed\", \"run_properties\": null}, {\"run_id\": \"AutoML_96a49aca-3d02-478d-8078-fcd7d9e78594_featurize\", \"run_number\": 1690677468, \"metric\": null, \"status\": \"Completed\", \"run_type\": \"automl.featurization\", \"training_percent\": null, \"start_time\": \"2023-07-30T00:37:48.662428Z\", \"end_time\": \"2023-07-30T00:39:54.156182Z\", \"created_time\": \"2023-07-30T00:37:48.313546Z\", \"created_time_dt\": \"2023-07-30T00:37:48.313546Z\", \"duration\": \"0:02:05\", \"iteration\": null, \"goal\": null, \"run_name\": \"Completed\", \"run_properties\": null}, {\"run_id\": \"AutoML_96a49aca-3d02-478d-8078-fcd7d9e78594_0\", \"run_number\": 1690677595, \"metric\": null, \"status\": \"Completed\", \"run_type\": null, \"training_percent\": \"100\", \"start_time\": \"2023-07-30T00:40:23.977964Z\", \"end_time\": \"2023-07-30T00:40:54.49006Z\", \"created_time\": \"2023-07-30T00:39:55.970459Z\", \"created_time_dt\": \"2023-07-30T00:39:55.970459Z\", \"duration\": \"0:00:58\", \"iteration\": \"0\", \"goal\": \"AUC_weighted_max\", \"run_name\": \"MaxAbsScaler, LightGBM\", \"run_properties\": \"copy=True\", \"primary_metric\": 0.96913525, \"best_metric\": 0.96913525}, {\"run_id\": \"AutoML_96a49aca-3d02-478d-8078-fcd7d9e78594_1\", \"run_number\": 1690677596, \"metric\": null, \"status\": \"Completed\", \"run_type\": null, \"training_percent\": \"100\", \"start_time\": \"2023-07-30T00:40:55.269801Z\", \"end_time\": \"2023-07-30T00:41:26.582326Z\", \"created_time\": \"2023-07-30T00:39:56.626663Z\", \"created_time_dt\": \"2023-07-30T00:39:56.626663Z\", \"duration\": \"0:01:29\", \"iteration\": \"1\", \"goal\": \"AUC_weighted_max\", \"run_name\": \"MaxAbsScaler, XGBoostClassifier\", \"run_properties\": \"copy=True\", \"primary_metric\": 0.97044993, \"best_metric\": 0.97044993}, {\"run_id\": \"AutoML_96a49aca-3d02-478d-8078-fcd7d9e78594_2\", \"run_number\": 1690677597, \"metric\": null, \"status\": \"Completed\", \"run_type\": null, \"training_percent\": \"100\", \"start_time\": \"2023-07-30T00:41:27.359229Z\", \"end_time\": \"2023-07-30T00:41:54.958491Z\", \"created_time\": \"2023-07-30T00:39:57.102649Z\", \"created_time_dt\": \"2023-07-30T00:39:57.102649Z\", \"duration\": \"0:01:57\", \"iteration\": \"2\", \"goal\": \"AUC_weighted_max\", \"run_name\": \"MaxAbsScaler, ExtremeRandomTrees\", \"run_properties\": \"copy=True\", \"primary_metric\": 0.89083312, \"best_metric\": 0.97044993}, {\"run_id\": \"AutoML_96a49aca-3d02-478d-8078-fcd7d9e78594_worker_0\", \"run_number\": 1690677598, \"metric\": null, \"status\": \"Completed\", \"run_type\": \"azureml.scriptrun\", \"training_percent\": null, \"start_time\": \"2023-07-30T00:40:13.161885Z\", \"end_time\": \"2023-07-30T00:43:03.095389Z\", \"created_time\": \"2023-07-30T00:39:58.529977Z\", \"created_time_dt\": \"2023-07-30T00:39:58.529977Z\", \"duration\": \"0:03:04\", \"iteration\": null, \"goal\": null, \"run_name\": \"Completed\", \"run_properties\": null}, {\"run_id\": \"AutoML_96a49aca-3d02-478d-8078-fcd7d9e78594_6\", \"run_number\": 1690677599, \"metric\": null, \"status\": \"Completed\", \"run_type\": null, \"training_percent\": \"100\", \"start_time\": \"2023-07-30T00:44:17.953296Z\", \"end_time\": \"2023-07-30T00:44:47.578118Z\", \"created_time\": \"2023-07-30T00:39:59.252955Z\", \"created_time_dt\": \"2023-07-30T00:39:59.252955Z\", \"duration\": \"0:04:48\", \"iteration\": \"6\", \"goal\": \"AUC_weighted_max\", \"run_name\": \"SparseNormalizer, RandomForest\", \"run_properties\": \"copy=True, norm='l2'\", \"primary_metric\": 0.89325454, \"best_metric\": 0.97044993}, {\"run_id\": \"AutoML_96a49aca-3d02-478d-8078-fcd7d9e78594_8\", \"run_number\": 1690677600, \"metric\": null, \"status\": \"Completed\", \"run_type\": null, \"training_percent\": \"100\", \"start_time\": \"2023-07-30T00:45:15.988837Z\", \"end_time\": \"2023-07-30T00:45:42.696499Z\", \"created_time\": \"2023-07-30T00:40:00.46332Z\", \"created_time_dt\": \"2023-07-30T00:40:00.46332Z\", \"duration\": \"0:05:42\", \"iteration\": \"8\", \"goal\": \"AUC_weighted_max\", \"run_name\": \"SparseNormalizer, XGBoostClassifier\", \"run_properties\": \"copy=True, norm='max'\", \"primary_metric\": 0.95783072, \"best_metric\": 0.97044993}, {\"run_id\": \"AutoML_96a49aca-3d02-478d-8078-fcd7d9e78594_worker_1\", \"run_number\": 1690677601, \"metric\": null, \"status\": \"Completed\", \"run_type\": \"azureml.scriptrun\", \"training_percent\": null, \"start_time\": \"2023-07-30T00:42:09.599205Z\", \"end_time\": \"2023-07-30T00:46:21.095457Z\", \"created_time\": \"2023-07-30T00:40:01.385295Z\", \"created_time_dt\": \"2023-07-30T00:40:01.385295Z\", \"duration\": \"0:06:19\", \"iteration\": null, \"goal\": null, \"run_name\": \"Completed\", \"run_properties\": null}, {\"run_id\": \"AutoML_96a49aca-3d02-478d-8078-fcd7d9e78594_11\", \"run_number\": 1690677602, \"metric\": null, \"status\": \"Completed\", \"run_type\": null, \"training_percent\": \"100\", \"start_time\": \"2023-07-30T00:44:15.104925Z\", \"end_time\": \"2023-07-30T00:44:48.206533Z\", \"created_time\": \"2023-07-30T00:40:02.065919Z\", \"created_time_dt\": \"2023-07-30T00:40:02.065919Z\", \"duration\": \"0:04:46\", \"iteration\": \"11\", \"goal\": \"AUC_weighted_max\", \"run_name\": \"MaxAbsScaler, ExtremeRandomTrees\", \"run_properties\": \"copy=True\", \"primary_metric\": 0.83176635, \"best_metric\": 0.97044993}, {\"run_id\": \"AutoML_96a49aca-3d02-478d-8078-fcd7d9e78594_13\", \"run_number\": 1690677603, \"metric\": null, \"status\": \"Completed\", \"run_type\": null, \"training_percent\": \"100\", \"start_time\": \"2023-07-30T00:45:16.770022Z\", \"end_time\": \"2023-07-30T00:45:42.467984Z\", \"created_time\": \"2023-07-30T00:40:03.25305Z\", \"created_time_dt\": \"2023-07-30T00:40:03.25305Z\", \"duration\": \"0:05:39\", \"iteration\": \"13\", \"goal\": \"AUC_weighted_max\", \"run_name\": \"StandardScalerWrapper, ExtremeRandomTrees\", \"run_properties\": \"copy=True, with_mean=False, with_std=False\", \"primary_metric\": 0.80254353, \"best_metric\": 0.97044993}, {\"run_id\": \"AutoML_96a49aca-3d02-478d-8078-fcd7d9e78594_worker_2\", \"run_number\": 1690677604, \"metric\": null, \"status\": \"Completed\", \"run_type\": \"azureml.scriptrun\", \"training_percent\": null, \"start_time\": \"2023-07-30T00:42:10.883846Z\", \"end_time\": \"2023-07-30T00:46:31.471691Z\", \"created_time\": \"2023-07-30T00:40:04.061891Z\", \"created_time_dt\": \"2023-07-30T00:40:04.061891Z\", \"duration\": \"0:06:27\", \"iteration\": null, \"goal\": null, \"run_name\": \"Completed\", \"run_properties\": null}, {\"run_id\": \"AutoML_96a49aca-3d02-478d-8078-fcd7d9e78594_17\", \"run_number\": 1690677605, \"metric\": null, \"status\": \"Completed\", \"run_type\": null, \"training_percent\": \"100\", \"start_time\": \"2023-07-30T00:44:16.805053Z\", \"end_time\": \"2023-07-30T00:44:58.771614Z\", \"created_time\": \"2023-07-30T00:40:05.251464Z\", \"created_time_dt\": \"2023-07-30T00:40:05.251464Z\", \"duration\": \"0:04:53\", \"iteration\": \"17\", \"goal\": \"AUC_weighted_max\", \"run_name\": \"StandardScalerWrapper, ExtremeRandomTrees\", \"run_properties\": \"copy=True, with_mean=False, with_std=True\", \"primary_metric\": 0.91581422, \"best_metric\": 0.97044993}, {\"run_id\": \"AutoML_96a49aca-3d02-478d-8078-fcd7d9e78594_worker_3\", \"run_number\": 1690677606, \"metric\": null, \"status\": \"Completed\", \"run_type\": \"azureml.scriptrun\", \"training_percent\": null, \"start_time\": \"2023-07-30T00:43:05.561283Z\", \"end_time\": \"2023-07-30T00:46:09.112571Z\", \"created_time\": \"2023-07-30T00:40:06.475237Z\", \"created_time_dt\": \"2023-07-30T00:40:06.475237Z\", \"duration\": \"0:06:02\", \"iteration\": null, \"goal\": null, \"run_name\": \"Completed\", \"run_properties\": null}, {\"run_id\": \"AutoML_96a49aca-3d02-478d-8078-fcd7d9e78594_20\", \"run_number\": 1690677946, \"metric\": null, \"status\": \"Completed\", \"run_type\": \"azureml.scriptrun\", \"training_percent\": \"100\", \"start_time\": \"2023-07-30T00:46:12.87987Z\", \"end_time\": \"2023-07-30T00:46:58.792219Z\", \"created_time\": \"2023-07-30T00:45:46.162711Z\", \"created_time_dt\": \"2023-07-30T00:45:46.162711Z\", \"duration\": \"0:01:12\", \"iteration\": \"20\", \"goal\": \"AUC_weighted_max\", \"run_name\": \"MaxAbsScaler, LogisticRegression\", \"run_properties\": \"copy=True\", \"primary_metric\": 0.90257446, \"best_metric\": 0.97044993}, {\"run_id\": \"AutoML_96a49aca-3d02-478d-8078-fcd7d9e78594_21\", \"run_number\": 1690677972, \"metric\": null, \"status\": \"Completed\", \"run_type\": \"azureml.scriptrun\", \"training_percent\": \"100\", \"start_time\": \"2023-07-30T00:46:23.243138Z\", \"end_time\": \"2023-07-30T00:47:09.328549Z\", \"created_time\": \"2023-07-30T00:46:12.719561Z\", \"created_time_dt\": \"2023-07-30T00:46:12.719561Z\", \"duration\": \"0:00:56\", \"iteration\": \"21\", \"goal\": \"AUC_weighted_max\", \"run_name\": \"StandardScalerWrapper, XGBoostClassifier\", \"run_properties\": \"copy=True, with_mean=False, with_std=False\", \"primary_metric\": 0.94581313, \"best_metric\": 0.97044993}, {\"run_id\": \"AutoML_96a49aca-3d02-478d-8078-fcd7d9e78594_22\", \"run_number\": 1690677984, \"metric\": null, \"status\": \"Completed\", \"run_type\": \"azureml.scriptrun\", \"training_percent\": \"100\", \"start_time\": \"2023-07-30T00:46:35.477956Z\", \"end_time\": \"2023-07-30T00:47:23.569598Z\", \"created_time\": \"2023-07-30T00:46:24.478684Z\", \"created_time_dt\": \"2023-07-30T00:46:24.478684Z\", \"duration\": \"0:00:59\", \"iteration\": \"22\", \"goal\": \"AUC_weighted_max\", \"run_name\": \"StandardScalerWrapper, XGBoostClassifier\", \"run_properties\": \"copy=True, with_mean=False, with_std=False\", \"primary_metric\": 0.96097924, \"best_metric\": 0.97044993}, {\"run_id\": \"AutoML_96a49aca-3d02-478d-8078-fcd7d9e78594_24\", \"run_number\": 1690678021, \"metric\": null, \"status\": \"Completed\", \"run_type\": \"azureml.scriptrun\", \"training_percent\": \"100\", \"start_time\": \"2023-07-30T00:47:11.637524Z\", \"end_time\": \"2023-07-30T00:47:57.202309Z\", \"created_time\": \"2023-07-30T00:47:01.164626Z\", \"created_time_dt\": \"2023-07-30T00:47:01.164626Z\", \"duration\": \"0:00:56\", \"iteration\": \"24\", \"goal\": \"AUC_weighted_max\", \"run_name\": \"SparseNormalizer, XGBoostClassifier\", \"run_properties\": \"copy=True, norm='max'\", \"primary_metric\": 0.93270828, \"best_metric\": 0.97044993}, {\"run_id\": \"AutoML_96a49aca-3d02-478d-8078-fcd7d9e78594_25\", \"run_number\": 1690678032, \"metric\": null, \"status\": \"Completed\", \"run_type\": \"azureml.scriptrun\", \"training_percent\": \"100\", \"start_time\": \"2023-07-30T00:47:27.691058Z\", \"end_time\": \"2023-07-30T00:48:23.061469Z\", \"created_time\": \"2023-07-30T00:47:12.187822Z\", \"created_time_dt\": \"2023-07-30T00:47:12.187822Z\", \"duration\": \"0:01:10\", \"iteration\": \"25\", \"goal\": \"AUC_weighted_max\", \"run_name\": \"TruncatedSVDWrapper, RandomForest\", \"run_properties\": \"n_components=0.9005263157894737, random_state=None\", \"primary_metric\": 0.81839435, \"best_metric\": 0.97044993}, {\"run_id\": \"AutoML_96a49aca-3d02-478d-8078-fcd7d9e78594_26\", \"run_number\": 1690678045, \"metric\": null, \"status\": \"Completed\", \"run_type\": \"azureml.scriptrun\", \"training_percent\": \"100\", \"start_time\": \"2023-07-30T00:48:02.898931Z\", \"end_time\": \"2023-07-30T00:48:48.787616Z\", \"created_time\": \"2023-07-30T00:47:25.049413Z\", \"created_time_dt\": \"2023-07-30T00:47:25.049413Z\", \"duration\": \"0:01:23\", \"iteration\": \"26\", \"goal\": \"AUC_weighted_max\", \"run_name\": \"StandardScalerWrapper, XGBoostClassifier\", \"run_properties\": \"copy=True, with_mean=False, with_std=False\", \"primary_metric\": 0.88690164, \"best_metric\": 0.97044993}, {\"run_id\": \"AutoML_96a49aca-3d02-478d-8078-fcd7d9e78594_27\", \"run_number\": 1690678078, \"metric\": null, \"status\": \"Completed\", \"run_type\": \"azureml.scriptrun\", \"training_percent\": \"100\", \"start_time\": \"2023-07-30T00:48:08.883118Z\", \"end_time\": \"2023-07-30T00:48:55.351871Z\", \"created_time\": \"2023-07-30T00:47:58.736474Z\", \"created_time_dt\": \"2023-07-30T00:47:58.736474Z\", \"duration\": \"0:00:56\", \"iteration\": \"27\", \"goal\": \"AUC_weighted_max\", \"run_name\": \"StandardScalerWrapper, LogisticRegression\", \"run_properties\": \"copy=True, with_mean=False, with_std=True\", \"primary_metric\": 0.90215735, \"best_metric\": 0.97044993}, {\"run_id\": \"AutoML_96a49aca-3d02-478d-8078-fcd7d9e78594_28\", \"run_number\": 1690678081, \"metric\": null, \"status\": \"Completed\", \"run_type\": \"azureml.scriptrun\", \"training_percent\": \"100\", \"start_time\": \"2023-07-30T00:48:26.440757Z\", \"end_time\": \"2023-07-30T00:49:12.410092Z\", \"created_time\": \"2023-07-30T00:48:01.060597Z\", \"created_time_dt\": \"2023-07-30T00:48:01.060597Z\", \"duration\": \"0:01:11\", \"iteration\": \"28\", \"goal\": \"AUC_weighted_max\", \"run_name\": \"StandardScalerWrapper, LogisticRegression\", \"run_properties\": \"copy=True, with_mean=False, with_std=True\", \"primary_metric\": 0.90153835, \"best_metric\": 0.97044993}, {\"run_id\": \"AutoML_96a49aca-3d02-478d-8078-fcd7d9e78594_29\", \"run_number\": 1690678104, \"metric\": null, \"status\": \"Completed\", \"run_type\": \"azureml.scriptrun\", \"training_percent\": \"100\", \"start_time\": \"2023-07-30T00:48:50.555641Z\", \"end_time\": \"2023-07-30T00:49:36.188055Z\", \"created_time\": \"2023-07-30T00:48:24.844079Z\", \"created_time_dt\": \"2023-07-30T00:48:24.844079Z\", \"duration\": \"0:01:11\", \"iteration\": \"29\", \"goal\": \"AUC_weighted_max\", \"run_name\": \"StandardScalerWrapper, LightGBM\", \"run_properties\": \"copy=True, with_mean=False, with_std=True\", \"primary_metric\": 0.9393074, \"best_metric\": 0.97044993}, {\"run_id\": \"AutoML_96a49aca-3d02-478d-8078-fcd7d9e78594_30\", \"run_number\": 1690678131, \"metric\": null, \"status\": \"Completed\", \"run_type\": \"azureml.scriptrun\", \"training_percent\": \"100\", \"start_time\": \"2023-07-30T00:49:00.098883Z\", \"end_time\": \"2023-07-30T00:49:46.813825Z\", \"created_time\": \"2023-07-30T00:48:51.506762Z\", \"created_time_dt\": \"2023-07-30T00:48:51.506762Z\", \"duration\": \"0:00:55\", \"iteration\": \"30\", \"goal\": \"AUC_weighted_max\", \"run_name\": \"SparseNormalizer, RandomForest\", \"run_properties\": \"copy=True, norm='l2'\", \"primary_metric\": 0.5, \"best_metric\": 0.97044993}, {\"run_id\": \"AutoML_96a49aca-3d02-478d-8078-fcd7d9e78594_31\", \"run_number\": 1690678136, \"metric\": null, \"status\": \"Completed\", \"run_type\": \"azureml.scriptrun\", \"training_percent\": \"100\", \"start_time\": \"2023-07-30T00:49:15.880551Z\", \"end_time\": \"2023-07-30T00:49:58.736009Z\", \"created_time\": \"2023-07-30T00:48:56.893317Z\", \"created_time_dt\": \"2023-07-30T00:48:56.893317Z\", \"duration\": \"0:01:01\", \"iteration\": \"31\", \"goal\": \"AUC_weighted_max\", \"run_name\": \"MaxAbsScaler, LightGBM\", \"run_properties\": \"copy=True\", \"primary_metric\": 0.93185665, \"best_metric\": 0.97044993}, {\"run_id\": \"AutoML_96a49aca-3d02-478d-8078-fcd7d9e78594_32\", \"run_number\": 1690678154, \"metric\": null, \"status\": \"Completed\", \"run_type\": \"azureml.scriptrun\", \"training_percent\": \"100\", \"start_time\": \"2023-07-30T00:49:39.22602Z\", \"end_time\": \"2023-07-30T00:50:24.075575Z\", \"created_time\": \"2023-07-30T00:49:14.160914Z\", \"created_time_dt\": \"2023-07-30T00:49:14.160914Z\", \"duration\": \"0:01:09\", \"iteration\": \"32\", \"goal\": \"AUC_weighted_max\", \"run_name\": \"SparseNormalizer, LightGBM\", \"run_properties\": \"copy=True, norm='max'\", \"primary_metric\": 0.91481065, \"best_metric\": 0.97044993}, {\"run_id\": \"AutoML_96a49aca-3d02-478d-8078-fcd7d9e78594_33\", \"run_number\": 1690678177, \"metric\": null, \"status\": \"Canceled\", \"run_type\": \"azureml.scriptrun\", \"training_percent\": \"100\", \"start_time\": \"2023-07-30T00:49:55.975026Z\", \"end_time\": \"2023-07-30T00:50:30.128012Z\", \"created_time\": \"2023-07-30T00:49:37.67908Z\", \"created_time_dt\": \"2023-07-30T00:49:37.67908Z\", \"duration\": \"0:00:52\", \"iteration\": \"33\", \"goal\": null, \"run_name\": \"Canceled\", \"run_properties\": null}, {\"run_id\": \"AutoML_96a49aca-3d02-478d-8078-fcd7d9e78594_34\", \"run_number\": 1690678188, \"metric\": null, \"status\": \"Canceled\", \"run_type\": \"azureml.scriptrun\", \"training_percent\": \"100\", \"start_time\": \"2023-07-30T00:49:56.563775Z\", \"end_time\": \"2023-07-30T00:50:30.807551Z\", \"created_time\": \"2023-07-30T00:49:48.356813Z\", \"created_time_dt\": \"2023-07-30T00:49:48.356813Z\", \"duration\": \"0:00:42\", \"iteration\": \"34\", \"goal\": null, \"run_name\": \"StandardScalerWrapper, XGBoostClassifier\", \"run_properties\": null}, {\"run_id\": \"AutoML_96a49aca-3d02-478d-8078-fcd7d9e78594_35\", \"run_number\": 1690678201, \"metric\": null, \"status\": \"Canceled\", \"run_type\": \"azureml.scriptrun\", \"training_percent\": \"100\", \"start_time\": \"2023-07-30T00:50:13.283812Z\", \"end_time\": \"2023-07-30T00:50:30.766503Z\", \"created_time\": \"2023-07-30T00:50:01.55712Z\", \"created_time_dt\": \"2023-07-30T00:50:01.55712Z\", \"duration\": \"0:00:29\", \"iteration\": \"35\", \"goal\": null, \"run_name\": \"StandardScalerWrapper, RandomForest\", \"run_properties\": null}, {\"run_id\": \"AutoML_96a49aca-3d02-478d-8078-fcd7d9e78594_36\", \"run_number\": 1690678231, \"metric\": null, \"status\": \"Completed\", \"run_type\": \"azureml.scriptrun\", \"training_percent\": \"100\", \"start_time\": \"2023-07-30T00:50:37.980902Z\", \"end_time\": \"2023-07-30T00:52:56.851421Z\", \"created_time\": \"2023-07-30T00:50:31.585518Z\", \"created_time_dt\": \"2023-07-30T00:50:31.585518Z\", \"duration\": \"0:02:25\", \"iteration\": \"36\", \"goal\": \"AUC_weighted_max\", \"run_name\": \"VotingEnsemble\", \"run_properties\": \"classification_labels=numpy.array([0, 1]\", \"primary_metric\": 0.98868854, \"best_metric\": 0.98868854}], \"children_metrics\": {\"categories\": [0], \"series\": {\"precision_score_micro\": [{\"categories\": [\"0\", \"1\", \"2\", \"6\", \"8\", \"11\", \"13\", \"17\", \"20\", \"21\", \"22\", \"24\", \"25\", \"26\", \"27\", \"28\", \"29\", \"30\", \"31\", \"32\", \"36\"], \"mode\": \"markers\", \"name\": \"precision_score_micro\", \"stepped\": false, \"type\": \"scatter\", \"data\": [0.9172169811320755, 0.9240566037735849, 0.8061320754716981, 0.8160377358490566, 0.904245283018868, 0.7606132075471698, 0.7165094339622642, 0.8304245283018868, 0.8226415094339622, 0.8849056603773585, 0.9120283018867925, 0.8702830188679245, 0.7299528301886793, 0.8061320754716981, 0.8209905660377357, 0.8209905660377359, 0.870754716981132, 0.485377358490566, 0.8540094339622641, 0.8358490566037735, 0.9351415094339623]}, {\"categories\": [\"0\", \"1\", \"2\", \"6\", \"8\", \"11\", \"13\", \"17\", \"20\", \"21\", \"22\", \"24\", \"25\", \"26\", \"27\", \"28\", \"29\", \"30\", \"31\", \"32\", \"36\"], \"mode\": \"lines\", \"name\": \"precision_score_micro_max\", \"stepped\": true, \"type\": \"scatter\", \"data\": [0.9172169811320755, 0.9240566037735849, 0.9240566037735849, 0.9240566037735849, 0.9240566037735849, 0.9240566037735849, 0.9240566037735849, 0.9240566037735849, 0.9240566037735849, 0.9240566037735849, 0.9240566037735849, 0.9240566037735849, 0.9240566037735849, 0.9240566037735849, 0.9240566037735849, 0.9240566037735849, 0.9240566037735849, 0.9240566037735849, 0.9240566037735849, 0.9240566037735849, 0.9351415094339623]}], \"norm_macro_recall\": [{\"categories\": [\"0\", \"1\", \"2\", \"6\", \"8\", \"11\", \"13\", \"17\", \"20\", \"21\", \"22\", \"24\", \"25\", \"26\", \"27\", \"28\", \"29\", \"30\", \"31\", \"32\", \"36\"], \"mode\": \"markers\", \"name\": \"norm_macro_recall\", \"stepped\": false, \"type\": \"scatter\", \"data\": [0.8343690215423362, 0.8478961045651724, 0.6127159546844425, 0.633041115686419, 0.8081199103266605, 0.5210811401958613, 0.43790480014038347, 0.6611506908128553, 0.6452456144698558, 0.769952910464071, 0.8241159985913129, 0.7411647810828247, 0.4601499506400657, 0.613198063759319, 0.641649599730855, 0.6418546750282184, 0.7421045953047704, 0.0, 0.7083545421177136, 0.6724421521746141, 0.8703371817467562]}, {\"categories\": [\"0\", \"1\", \"2\", \"6\", \"8\", \"11\", \"13\", \"17\", \"20\", \"21\", \"22\", \"24\", \"25\", \"26\", \"27\", \"28\", \"29\", \"30\", \"31\", \"32\", \"36\"], \"mode\": \"lines\", \"name\": \"norm_macro_recall_max\", \"stepped\": true, \"type\": \"scatter\", \"data\": [0.8343690215423362, 0.8478961045651724, 0.8478961045651724, 0.8478961045651724, 0.8478961045651724, 0.8478961045651724, 0.8478961045651724, 0.8478961045651724, 0.8478961045651724, 0.8478961045651724, 0.8478961045651724, 0.8478961045651724, 0.8478961045651724, 0.8478961045651724, 0.8478961045651724, 0.8478961045651724, 0.8478961045651724, 0.8478961045651724, 0.8478961045651724, 0.8478961045651724, 0.8703371817467562]}], \"precision_score_macro\": [{\"categories\": [\"0\", \"1\", \"2\", \"6\", \"8\", \"11\", \"13\", \"17\", \"20\", \"21\", \"22\", \"24\", \"25\", \"26\", \"27\", \"28\", \"29\", \"30\", \"31\", \"32\", \"36\"], \"mode\": \"markers\", \"name\": \"precision_score_macro\", \"stepped\": false, \"type\": \"scatter\", \"data\": [0.9217150487738817, 0.9283221489557991, 0.8081401591869876, 0.8183222674185522, 0.9089506531094962, 0.7611445304883077, 0.7217178792158695, 0.8317099478572816, 0.8227534564826501, 0.8870182780220265, 0.9148821450818106, 0.873751871820807, 0.7300051463718782, 0.8097390285246284, 0.8212773721950117, 0.8212314440977723, 0.8727336855838157, 0.242688679245283, 0.8553336710924864, 0.8389872510334243, 0.9380622276029481]}, {\"categories\": [\"0\", \"1\", \"2\", \"6\", \"8\", \"11\", \"13\", \"17\", \"20\", \"21\", \"22\", \"24\", \"25\", \"26\", \"27\", \"28\", \"29\", \"30\", \"31\", \"32\", \"36\"], \"mode\": \"lines\", \"name\": \"precision_score_macro_max\", \"stepped\": true, \"type\": \"scatter\", \"data\": [0.9217150487738817, 0.9283221489557991, 0.9283221489557991, 0.9283221489557991, 0.9283221489557991, 0.9283221489557991, 0.9283221489557991, 0.9283221489557991, 0.9283221489557991, 0.9283221489557991, 0.9283221489557991, 0.9283221489557991, 0.9283221489557991, 0.9283221489557991, 0.9283221489557991, 0.9283221489557991, 0.9283221489557991, 0.9283221489557991, 0.9283221489557991, 0.9283221489557991, 0.9380622276029481]}], \"accuracy\": [{\"categories\": [\"0\", \"1\", \"2\", \"6\", \"8\", \"11\", \"13\", \"17\", \"20\", \"21\", \"22\", \"24\", \"25\", \"26\", \"27\", \"28\", \"29\", \"30\", \"31\", \"32\", \"36\"], \"mode\": \"markers\", \"name\": \"accuracy\", \"stepped\": false, \"type\": \"scatter\", \"data\": [0.9172169811320755, 0.9240566037735849, 0.8061320754716981, 0.8160377358490566, 0.904245283018868, 0.7606132075471698, 0.7165094339622642, 0.8304245283018868, 0.8226415094339622, 0.8849056603773585, 0.9120283018867925, 0.8702830188679245, 0.7299528301886793, 0.8061320754716981, 0.8209905660377357, 0.8209905660377359, 0.870754716981132, 0.485377358490566, 0.8540094339622641, 0.8358490566037735, 0.9351415094339623]}, {\"categories\": [\"0\", \"1\", \"2\", \"6\", \"8\", \"11\", \"13\", \"17\", \"20\", \"21\", \"22\", \"24\", \"25\", \"26\", \"27\", \"28\", \"29\", \"30\", \"31\", \"32\", \"36\"], \"mode\": \"lines\", \"name\": \"accuracy_max\", \"stepped\": true, \"type\": \"scatter\", \"data\": [0.9172169811320755, 0.9240566037735849, 0.9240566037735849, 0.9240566037735849, 0.9240566037735849, 0.9240566037735849, 0.9240566037735849, 0.9240566037735849, 0.9240566037735849, 0.9240566037735849, 0.9240566037735849, 0.9240566037735849, 0.9240566037735849, 0.9240566037735849, 0.9240566037735849, 0.9240566037735849, 0.9240566037735849, 0.9240566037735849, 0.9240566037735849, 0.9240566037735849, 0.9351415094339623]}], \"weighted_accuracy\": [{\"categories\": [\"0\", \"1\", \"2\", \"6\", \"8\", \"11\", \"13\", \"17\", \"20\", \"21\", \"22\", \"24\", \"25\", \"26\", \"27\", \"28\", \"29\", \"30\", \"31\", \"32\", \"36\"], \"mode\": \"markers\", \"name\": \"weighted_accuracy\", \"stepped\": false, \"type\": \"scatter\", \"data\": [0.9172494736579659, 0.9241644079522564, 0.8059087058128543, 0.8155597517751397, 0.9044287725036199, 0.7606843415279892, 0.7140898912688545, 0.830275368186245, 0.8226587934381682, 0.8848358279743808, 0.9119991893198724, 0.8699867382159517, 0.729831680460609, 0.8056707851952742, 0.8211532135160426, 0.8210517783111779, 0.8704599927892562, 0.4709029599067831, 0.8538426656759895, 0.8354809057025919, 0.9351148848287487]}, {\"categories\": [\"0\", \"1\", \"2\", \"6\", \"8\", \"11\", \"13\", \"17\", \"20\", \"21\", \"22\", \"24\", \"25\", \"26\", \"27\", \"28\", \"29\", \"30\", \"31\", \"32\", \"36\"], \"mode\": \"lines\", \"name\": \"weighted_accuracy_max\", \"stepped\": true, \"type\": \"scatter\", \"data\": [0.9172494736579659, 0.9241644079522564, 0.9241644079522564, 0.9241644079522564, 0.9241644079522564, 0.9241644079522564, 0.9241644079522564, 0.9241644079522564, 0.9241644079522564, 0.9241644079522564, 0.9241644079522564, 0.9241644079522564, 0.9241644079522564, 0.9241644079522564, 0.9241644079522564, 0.9241644079522564, 0.9241644079522564, 0.9241644079522564, 0.9241644079522564, 0.9241644079522564, 0.9351148848287487]}], \"f1_score_weighted\": [{\"categories\": [\"0\", \"1\", \"2\", \"6\", \"8\", \"11\", \"13\", \"17\", \"20\", \"21\", \"22\", \"24\", \"25\", \"26\", \"27\", \"28\", \"29\", \"30\", \"31\", \"32\", \"36\"], \"mode\": \"markers\", \"name\": \"f1_score_weighted\", \"stepped\": false, \"type\": \"scatter\", \"data\": [0.9170001264600524, 0.923860090933533, 0.8058403446854554, 0.8157874087774235, 0.9039488426454743, 0.7604628089813412, 0.71566415475079, 0.8302906577002565, 0.8226314882606658, 0.8847496627135385, 0.911879414493178, 0.8700130013466669, 0.7299838854166715, 0.805670699815243, 0.8209334727431633, 0.8209537976109071, 0.8706175632035802, 0.31740861818665, 0.853911073730527, 0.8355152393779253, 0.9350372205507071]}, {\"categories\": [\"0\", \"1\", \"2\", \"6\", \"8\", \"11\", \"13\", \"17\", \"20\", \"21\", \"22\", \"24\", \"25\", \"26\", \"27\", \"28\", \"29\", \"30\", \"31\", \"32\", \"36\"], \"mode\": \"lines\", \"name\": \"f1_score_weighted_max\", \"stepped\": true, \"type\": \"scatter\", \"data\": [0.9170001264600524, 0.923860090933533, 0.923860090933533, 0.923860090933533, 0.923860090933533, 0.923860090933533, 0.923860090933533, 0.923860090933533, 0.923860090933533, 0.923860090933533, 0.923860090933533, 0.923860090933533, 0.923860090933533, 0.923860090933533, 0.923860090933533, 0.923860090933533, 0.923860090933533, 0.923860090933533, 0.923860090933533, 0.923860090933533, 0.9350372205507071]}], \"AUC_macro\": [{\"categories\": [\"0\", \"1\", \"2\", \"6\", \"8\", \"11\", \"13\", \"17\", \"20\", \"21\", \"22\", \"24\", \"25\", \"26\", \"27\", \"28\", \"29\", \"30\", \"31\", \"32\", \"36\"], \"mode\": \"markers\", \"name\": \"AUC_macro\", \"stepped\": false, \"type\": \"scatter\", \"data\": [0.9691352479188076, 0.9704499330100271, 0.8908331166303617, 0.893254539748467, 0.9578307228561138, 0.8317663467041669, 0.8025435294218533, 0.9158142236711484, 0.9025744585247526, 0.9458131303336577, 0.9609792412364838, 0.9327082818493111, 0.8183943485985165, 0.8869016353488466, 0.9021573450894389, 0.9015383515644307, 0.9393074038800278, 0.5, 0.9318566535901031, 0.9148106494888534, 0.9886885356033199]}, {\"categories\": [\"0\", \"1\", \"2\", \"6\", \"8\", \"11\", \"13\", \"17\", \"20\", \"21\", \"22\", \"24\", \"25\", \"26\", \"27\", \"28\", \"29\", \"30\", \"31\", \"32\", \"36\"], \"mode\": \"lines\", \"name\": \"AUC_macro_max\", \"stepped\": true, \"type\": \"scatter\", \"data\": [0.9691352479188076, 0.9704499330100271, 0.9704499330100271, 0.9704499330100271, 0.9704499330100271, 0.9704499330100271, 0.9704499330100271, 0.9704499330100271, 0.9704499330100271, 0.9704499330100271, 0.9704499330100271, 0.9704499330100271, 0.9704499330100271, 0.9704499330100271, 0.9704499330100271, 0.9704499330100271, 0.9704499330100271, 0.9704499330100271, 0.9704499330100271, 0.9704499330100271, 0.9886885356033199]}], \"precision_score_weighted\": [{\"categories\": [\"0\", \"1\", \"2\", \"6\", \"8\", \"11\", \"13\", \"17\", \"20\", \"21\", \"22\", \"24\", \"25\", \"26\", \"27\", \"28\", \"29\", \"30\", \"31\", \"32\", \"36\"], \"mode\": \"markers\", \"name\": \"precision_score_weighted\", \"stepped\": false, \"type\": \"scatter\", \"data\": [0.9219840586776048, 0.9285137897040456, 0.8090107060475541, 0.8192623636422016, 0.9091753832218739, 0.7618690615465753, 0.7235925023981271, 0.8324437853443332, 0.8234020207701132, 0.8875281130966582, 0.9152497284135398, 0.874476748259284, 0.7308779205385436, 0.8107201391293432, 0.8218431270100146, 0.8218539405001568, 0.8734538781723231, 0.23590913136347455, 0.8560140864990414, 0.8398480126090808, 0.9383327002819719]}, {\"categories\": [\"0\", \"1\", \"2\", \"6\", \"8\", \"11\", \"13\", \"17\", \"20\", \"21\", \"22\", \"24\", \"25\", \"26\", \"27\", \"28\", \"29\", \"30\", \"31\", \"32\", \"36\"], \"mode\": \"lines\", \"name\": \"precision_score_weighted_max\", \"stepped\": true, \"type\": \"scatter\", \"data\": [0.9219840586776048, 0.9285137897040456, 0.9285137897040456, 0.9285137897040456, 0.9285137897040456, 0.9285137897040456, 0.9285137897040456, 0.9285137897040456, 0.9285137897040456, 0.9285137897040456, 0.9285137897040456, 0.9285137897040456, 0.9285137897040456, 0.9285137897040456, 0.9285137897040456, 0.9285137897040456, 0.9285137897040456, 0.9285137897040456, 0.9285137897040456, 0.9285137897040456, 0.9383327002819719]}], \"average_precision_score_macro\": [{\"categories\": [\"0\", \"1\", \"2\", \"6\", \"8\", \"11\", \"13\", \"17\", \"20\", \"21\", \"22\", \"24\", \"25\", \"26\", \"27\", \"28\", \"29\", \"30\", \"31\", \"32\", \"36\"], \"mode\": \"markers\", \"name\": \"average_precision_score_macro\", \"stepped\": false, \"type\": \"scatter\", \"data\": [0.9669049170179859, 0.9676294565894864, 0.8912312798215842, 0.8912361920147104, 0.9553458946490151, 0.8270251177638475, 0.7973142646047418, 0.9172871675277466, 0.9018429784246473, 0.9439308567211413, 0.9580514586819089, 0.9292325097455695, 0.8113146688062443, 0.8641904574075328, 0.9011325730128001, 0.9002191666421906, 0.938894391763753, 0.5, 0.9317682641993936, 0.9131914365390997, 0.9886378422302731]}, {\"categories\": [\"0\", \"1\", \"2\", \"6\", \"8\", \"11\", \"13\", \"17\", \"20\", \"21\", \"22\", \"24\", \"25\", \"26\", \"27\", \"28\", \"29\", \"30\", \"31\", \"32\", \"36\"], \"mode\": \"lines\", \"name\": \"average_precision_score_macro_max\", \"stepped\": true, \"type\": \"scatter\", \"data\": [0.9669049170179859, 0.9676294565894864, 0.9676294565894864, 0.9676294565894864, 0.9676294565894864, 0.9676294565894864, 0.9676294565894864, 0.9676294565894864, 0.9676294565894864, 0.9676294565894864, 0.9676294565894864, 0.9676294565894864, 0.9676294565894864, 0.9676294565894864, 0.9676294565894864, 0.9676294565894864, 0.9676294565894864, 0.9676294565894864, 0.9676294565894864, 0.9676294565894864, 0.9886378422302731]}], \"log_loss\": [{\"categories\": [\"0\", \"1\", \"2\", \"6\", \"8\", \"11\", \"13\", \"17\", \"20\", \"21\", \"22\", \"24\", \"25\", \"26\", \"27\", \"28\", \"29\", \"30\", \"31\", \"32\", \"36\"], \"mode\": \"markers\", \"name\": \"log_loss\", \"stepped\": false, \"type\": \"scatter\", \"data\": [0.22107298684475213, 0.2143953455556181, 0.4549893426834816, 0.4962467658953848, 0.26721367683992225, 0.6172617417895679, 0.6254301674953548, 0.37260156022950863, 0.4121166181912585, 0.3198627464038938, 0.24296178173496719, 0.3336861722681995, 0.5870208356077741, 0.6082657265555201, 0.41292936153865567, 0.4174297434157654, 0.30867330284302136, 0.6934146795144238, 0.3436758453204123, 0.3653524525911519, 0.18084718966582464]}, {\"categories\": [\"0\", \"1\", \"2\", \"6\", \"8\", \"11\", \"13\", \"17\", \"20\", \"21\", \"22\", \"24\", \"25\", \"26\", \"27\", \"28\", \"29\", \"30\", \"31\", \"32\", \"36\"], \"mode\": \"lines\", \"name\": \"log_loss_min\", \"stepped\": true, \"type\": \"scatter\", \"data\": [0.22107298684475213, 0.2143953455556181, 0.2143953455556181, 0.2143953455556181, 0.2143953455556181, 0.2143953455556181, 0.2143953455556181, 0.2143953455556181, 0.2143953455556181, 0.2143953455556181, 0.2143953455556181, 0.2143953455556181, 0.2143953455556181, 0.2143953455556181, 0.2143953455556181, 0.2143953455556181, 0.2143953455556181, 0.2143953455556181, 0.2143953455556181, 0.2143953455556181, 0.18084718966582464]}], \"recall_score_macro\": [{\"categories\": [\"0\", \"1\", \"2\", \"6\", \"8\", \"11\", \"13\", \"17\", \"20\", \"21\", \"22\", \"24\", \"25\", \"26\", \"27\", \"28\", \"29\", \"30\", \"31\", \"32\", \"36\"], \"mode\": \"markers\", \"name\": \"recall_score_macro\", \"stepped\": false, \"type\": \"scatter\", \"data\": [0.917184510771168, 0.9239480522825863, 0.8063579773422213, 0.8165205578432093, 0.9040599551633303, 0.7605405700979306, 0.7189524000701916, 0.8305753454064277, 0.822622807234928, 0.8849764552320355, 0.9120579992956566, 0.8705823905414125, 0.7300749753200328, 0.8065990318796594, 0.8208247998654274, 0.8209273375141091, 0.8710522976523851, 0.5, 0.8541772710588568, 0.836221076087307, 0.9351685908733781]}, {\"categories\": [\"0\", \"1\", \"2\", \"6\", \"8\", \"11\", \"13\", \"17\", \"20\", \"21\", \"22\", \"24\", \"25\", \"26\", \"27\", \"28\", \"29\", \"30\", \"31\", \"32\", \"36\"], \"mode\": \"lines\", \"name\": \"recall_score_macro_max\", \"stepped\": true, \"type\": \"scatter\", \"data\": [0.917184510771168, 0.9239480522825863, 0.9239480522825863, 0.9239480522825863, 0.9239480522825863, 0.9239480522825863, 0.9239480522825863, 0.9239480522825863, 0.9239480522825863, 0.9239480522825863, 0.9239480522825863, 0.9239480522825863, 0.9239480522825863, 0.9239480522825863, 0.9239480522825863, 0.9239480522825863, 0.9239480522825863, 0.9239480522825863, 0.9239480522825863, 0.9239480522825863, 0.9351685908733781]}], \"balanced_accuracy\": [{\"categories\": [\"0\", \"1\", \"2\", \"6\", \"8\", \"11\", \"13\", \"17\", \"20\", \"21\", \"22\", \"24\", \"25\", \"26\", \"27\", \"28\", \"29\", \"30\", \"31\", \"32\", \"36\"], \"mode\": \"markers\", \"name\": \"balanced_accuracy\", \"stepped\": false, \"type\": \"scatter\", \"data\": [0.917184510771168, 0.9239480522825863, 0.8063579773422213, 0.8165205578432093, 0.9040599551633303, 0.7605405700979306, 0.7189524000701916, 0.8305753454064277, 0.822622807234928, 0.8849764552320355, 0.9120579992956566, 0.8705823905414125, 0.7300749753200328, 0.8065990318796594, 0.8208247998654274, 0.8209273375141091, 0.8710522976523851, 0.5, 0.8541772710588568, 0.836221076087307, 0.9351685908733781]}, {\"categories\": [\"0\", \"1\", \"2\", \"6\", \"8\", \"11\", \"13\", \"17\", \"20\", \"21\", \"22\", \"24\", \"25\", \"26\", \"27\", \"28\", \"29\", \"30\", \"31\", \"32\", \"36\"], \"mode\": \"lines\", \"name\": \"balanced_accuracy_max\", \"stepped\": true, \"type\": \"scatter\", \"data\": [0.917184510771168, 0.9239480522825863, 0.9239480522825863, 0.9239480522825863, 0.9239480522825863, 0.9239480522825863, 0.9239480522825863, 0.9239480522825863, 0.9239480522825863, 0.9239480522825863, 0.9239480522825863, 0.9239480522825863, 0.9239480522825863, 0.9239480522825863, 0.9239480522825863, 0.9239480522825863, 0.9239480522825863, 0.9239480522825863, 0.9239480522825863, 0.9239480522825863, 0.9351685908733781]}], \"AUC_micro\": [{\"categories\": [\"0\", \"1\", \"2\", \"6\", \"8\", \"11\", \"13\", \"17\", \"20\", \"21\", \"22\", \"24\", \"25\", \"26\", \"27\", \"28\", \"29\", \"30\", \"31\", \"32\", \"36\"], \"mode\": \"markers\", \"name\": \"AUC_micro\", \"stepped\": false, \"type\": \"scatter\", \"data\": [0.9698622174261302, 0.9709060163759344, 0.8926566949982201, 0.8951055758276969, 0.9603158931114276, 0.830104407707369, 0.7962397650409399, 0.9180683183517265, 0.8994203898184405, 0.9497018511925953, 0.9633352060341759, 0.9373245038269846, 0.8153246262014952, 0.8905109692061233, 0.8990146070665718, 0.8982386414204344, 0.9423782929868281, 0.485377358490566, 0.9346372708259167, 0.9190450894446422, 0.9836666184585262]}, {\"categories\": [\"0\", \"1\", \"2\", \"6\", \"8\", \"11\", \"13\", \"17\", \"20\", \"21\", \"22\", \"24\", \"25\", \"26\", \"27\", \"28\", \"29\", \"30\", \"31\", \"32\", \"36\"], \"mode\": \"lines\", \"name\": \"AUC_micro_max\", \"stepped\": true, \"type\": \"scatter\", \"data\": [0.9698622174261302, 0.9709060163759344, 0.9709060163759344, 0.9709060163759344, 0.9709060163759344, 0.9709060163759344, 0.9709060163759344, 0.9709060163759344, 0.9709060163759344, 0.9709060163759344, 0.9709060163759344, 0.9709060163759344, 0.9709060163759344, 0.9709060163759344, 0.9709060163759344, 0.9709060163759344, 0.9709060163759344, 0.9709060163759344, 0.9709060163759344, 0.9709060163759344, 0.9836666184585262]}], \"AUC_weighted\": [{\"categories\": [\"0\", \"1\", \"2\", \"6\", \"8\", \"11\", \"13\", \"17\", \"20\", \"21\", \"22\", \"24\", \"25\", \"26\", \"27\", \"28\", \"29\", \"30\", \"31\", \"32\", \"36\"], \"mode\": \"markers\", \"name\": \"AUC_weighted\", \"stepped\": false, \"type\": \"scatter\", \"data\": [0.9691352479188076, 0.9704499330100272, 0.8908331166303617, 0.8932545397484672, 0.9578307228561138, 0.8317663467041667, 0.8025435294218533, 0.9158142236711486, 0.9025744585247526, 0.9458131303336575, 0.9609792412364838, 0.9327082818493109, 0.8183943485985166, 0.8869016353488466, 0.9021573450894389, 0.9015383515644307, 0.9393074038800278, 0.5, 0.9318566535901031, 0.9148106494888534, 0.9886885356033199]}, {\"categories\": [\"0\", \"1\", \"2\", \"6\", \"8\", \"11\", \"13\", \"17\", \"20\", \"21\", \"22\", \"24\", \"25\", \"26\", \"27\", \"28\", \"29\", \"30\", \"31\", \"32\", \"36\"], \"mode\": \"lines\", \"name\": \"AUC_weighted_max\", \"stepped\": true, \"type\": \"scatter\", \"data\": [0.9691352479188076, 0.9704499330100272, 0.9704499330100272, 0.9704499330100272, 0.9704499330100272, 0.9704499330100272, 0.9704499330100272, 0.9704499330100272, 0.9704499330100272, 0.9704499330100272, 0.9704499330100272, 0.9704499330100272, 0.9704499330100272, 0.9704499330100272, 0.9704499330100272, 0.9704499330100272, 0.9704499330100272, 0.9704499330100272, 0.9704499330100272, 0.9704499330100272, 0.9886885356033199]}], \"f1_score_macro\": [{\"categories\": [\"0\", \"1\", \"2\", \"6\", \"8\", \"11\", \"13\", \"17\", \"20\", \"21\", \"22\", \"24\", \"25\", \"26\", \"27\", \"28\", \"29\", \"30\", \"31\", \"32\", \"36\"], \"mode\": \"markers\", \"name\": \"f1_score_macro\", \"stepped\": false, \"type\": \"scatter\", \"data\": [0.9168410767420643, 0.923701816043278, 0.8055165759512601, 0.8155584885843897, 0.9037312288698794, 0.7600642726431196, 0.7159597114340454, 0.8299977100300746, 0.8222969429712249, 0.8845273288219253, 0.9117055175644826, 0.8697977089986362, 0.729607761778319, 0.8054136127558691, 0.8205662783620962, 0.820609660351292, 0.8704049473858075, 0.32667304939724107, 0.8536541793877838, 0.8352699793691898, 0.9349094781576287]}, {\"categories\": [\"0\", \"1\", \"2\", \"6\", \"8\", \"11\", \"13\", \"17\", \"20\", \"21\", \"22\", \"24\", \"25\", \"26\", \"27\", \"28\", \"29\", \"30\", \"31\", \"32\", \"36\"], \"mode\": \"lines\", \"name\": \"f1_score_macro_max\", \"stepped\": true, \"type\": \"scatter\", \"data\": [0.9168410767420643, 0.923701816043278, 0.923701816043278, 0.923701816043278, 0.923701816043278, 0.923701816043278, 0.923701816043278, 0.923701816043278, 0.923701816043278, 0.923701816043278, 0.923701816043278, 0.923701816043278, 0.923701816043278, 0.923701816043278, 0.923701816043278, 0.923701816043278, 0.923701816043278, 0.923701816043278, 0.923701816043278, 0.923701816043278, 0.9349094781576287]}], \"f1_score_micro\": [{\"categories\": [\"0\", \"1\", \"2\", \"6\", \"8\", \"11\", \"13\", \"17\", \"20\", \"21\", \"22\", \"24\", \"25\", \"26\", \"27\", \"28\", \"29\", \"30\", \"31\", \"32\", \"36\"], \"mode\": \"markers\", \"name\": \"f1_score_micro\", \"stepped\": false, \"type\": \"scatter\", \"data\": [0.9172169811320755, 0.9240566037735849, 0.8061320754716981, 0.8160377358490566, 0.904245283018868, 0.7606132075471698, 0.7165094339622642, 0.8304245283018868, 0.8226415094339623, 0.8849056603773585, 0.9120283018867925, 0.8702830188679245, 0.7299528301886793, 0.8061320754716981, 0.8209905660377357, 0.8209905660377359, 0.870754716981132, 0.485377358490566, 0.8540094339622641, 0.8358490566037735, 0.9351415094339623]}, {\"categories\": [\"0\", \"1\", \"2\", \"6\", \"8\", \"11\", \"13\", \"17\", \"20\", \"21\", \"22\", \"24\", \"25\", \"26\", \"27\", \"28\", \"29\", \"30\", \"31\", \"32\", \"36\"], \"mode\": \"lines\", \"name\": \"f1_score_micro_max\", \"stepped\": true, \"type\": \"scatter\", \"data\": [0.9172169811320755, 0.9240566037735849, 0.9240566037735849, 0.9240566037735849, 0.9240566037735849, 0.9240566037735849, 0.9240566037735849, 0.9240566037735849, 0.9240566037735849, 0.9240566037735849, 0.9240566037735849, 0.9240566037735849, 0.9240566037735849, 0.9240566037735849, 0.9240566037735849, 0.9240566037735849, 0.9240566037735849, 0.9240566037735849, 0.9240566037735849, 0.9240566037735849, 0.9351415094339623]}], \"average_precision_score_micro\": [{\"categories\": [\"0\", \"1\", \"2\", \"6\", \"8\", \"11\", \"13\", \"17\", \"20\", \"21\", \"22\", \"24\", \"25\", \"26\", \"27\", \"28\", \"29\", \"30\", \"31\", \"32\", \"36\"], \"mode\": \"markers\", \"name\": \"average_precision_score_micro\", \"stepped\": false, \"type\": \"scatter\", \"data\": [0.969755871680643, 0.9704930069769379, 0.8948019800942968, 0.8943768197474681, 0.9599250132551672, 0.8255984174968631, 0.7915762390357818, 0.921103470424909, 0.8959513521586577, 0.9501559495348948, 0.9631888459283392, 0.9375695481763596, 0.8073460078310373, 0.878905903322494, 0.8955777074295137, 0.8945833262357017, 0.9437527826203072, 0.4932204521181915, 0.9364806077104382, 0.9209980602546695, 0.9838498658693318]}, {\"categories\": [\"0\", \"1\", \"2\", \"6\", \"8\", \"11\", \"13\", \"17\", \"20\", \"21\", \"22\", \"24\", \"25\", \"26\", \"27\", \"28\", \"29\", \"30\", \"31\", \"32\", \"36\"], \"mode\": \"lines\", \"name\": \"average_precision_score_micro_max\", \"stepped\": true, \"type\": \"scatter\", \"data\": [0.969755871680643, 0.9704930069769379, 0.9704930069769379, 0.9704930069769379, 0.9704930069769379, 0.9704930069769379, 0.9704930069769379, 0.9704930069769379, 0.9704930069769379, 0.9704930069769379, 0.9704930069769379, 0.9704930069769379, 0.9704930069769379, 0.9704930069769379, 0.9704930069769379, 0.9704930069769379, 0.9704930069769379, 0.9704930069769379, 0.9704930069769379, 0.9704930069769379, 0.9838498658693318]}], \"recall_score_weighted\": [{\"categories\": [\"0\", \"1\", \"2\", \"6\", \"8\", \"11\", \"13\", \"17\", \"20\", \"21\", \"22\", \"24\", \"25\", \"26\", \"27\", \"28\", \"29\", \"30\", \"31\", \"32\", \"36\"], \"mode\": \"markers\", \"name\": \"recall_score_weighted\", \"stepped\": false, \"type\": \"scatter\", \"data\": [0.9172169811320755, 0.9240566037735849, 0.8061320754716981, 0.8160377358490566, 0.904245283018868, 0.7606132075471698, 0.7165094339622642, 0.8304245283018868, 0.8226415094339622, 0.8849056603773585, 0.9120283018867925, 0.8702830188679245, 0.7299528301886793, 0.8061320754716981, 0.8209905660377357, 0.8209905660377359, 0.870754716981132, 0.485377358490566, 0.8540094339622641, 0.8358490566037735, 0.9351415094339623]}, {\"categories\": [\"0\", \"1\", \"2\", \"6\", \"8\", \"11\", \"13\", \"17\", \"20\", \"21\", \"22\", \"24\", \"25\", \"26\", \"27\", \"28\", \"29\", \"30\", \"31\", \"32\", \"36\"], \"mode\": \"lines\", \"name\": \"recall_score_weighted_max\", \"stepped\": true, \"type\": \"scatter\", \"data\": [0.9172169811320755, 0.9240566037735849, 0.9240566037735849, 0.9240566037735849, 0.9240566037735849, 0.9240566037735849, 0.9240566037735849, 0.9240566037735849, 0.9240566037735849, 0.9240566037735849, 0.9240566037735849, 0.9240566037735849, 0.9240566037735849, 0.9240566037735849, 0.9240566037735849, 0.9240566037735849, 0.9240566037735849, 0.9240566037735849, 0.9240566037735849, 0.9240566037735849, 0.9351415094339623]}], \"average_precision_score_weighted\": [{\"categories\": [\"0\", \"1\", \"2\", \"6\", \"8\", \"11\", \"13\", \"17\", \"20\", \"21\", \"22\", \"24\", \"25\", \"26\", \"27\", \"28\", \"29\", \"30\", \"31\", \"32\", \"36\"], \"mode\": \"markers\", \"name\": \"average_precision_score_weighted\", \"stepped\": false, \"type\": \"scatter\", \"data\": [0.9669720217827461, 0.9677064223034215, 0.891530484889808, 0.8916526413455198, 0.9555215420335171, 0.8275911816983903, 0.7978904528706827, 0.9175459231231011, 0.9021698866028224, 0.9440466583113359, 0.9581305360942846, 0.9295060640977229, 0.8116138303615641, 0.8646954817934193, 0.9014526907957693, 0.9005395119540461, 0.9390687797351603, 0.501063545745817, 0.9319192579048223, 0.9134578842260384, 0.988699662129296]}, {\"categories\": [\"0\", \"1\", \"2\", \"6\", \"8\", \"11\", \"13\", \"17\", \"20\", \"21\", \"22\", \"24\", \"25\", \"26\", \"27\", \"28\", \"29\", \"30\", \"31\", \"32\", \"36\"], \"mode\": \"lines\", \"name\": \"average_precision_score_weighted_max\", \"stepped\": true, \"type\": \"scatter\", \"data\": [0.9669720217827461, 0.9677064223034215, 0.9677064223034215, 0.9677064223034215, 0.9677064223034215, 0.9677064223034215, 0.9677064223034215, 0.9677064223034215, 0.9677064223034215, 0.9677064223034215, 0.9677064223034215, 0.9677064223034215, 0.9677064223034215, 0.9677064223034215, 0.9677064223034215, 0.9677064223034215, 0.9677064223034215, 0.9677064223034215, 0.9677064223034215, 0.9677064223034215, 0.988699662129296]}], \"matthews_correlation\": [{\"categories\": [\"0\", \"1\", \"2\", \"6\", \"8\", \"11\", \"13\", \"17\", \"20\", \"21\", \"22\", \"24\", \"25\", \"26\", \"27\", \"28\", \"29\", \"30\", \"31\", \"32\", \"36\"], \"mode\": \"markers\", \"name\": \"matthews_correlation\", \"stepped\": false, \"type\": \"scatter\", \"data\": [0.8388793385071492, 0.852250430774475, 0.6144904588744564, 0.6348387174918468, 0.8129813416967663, 0.5216829773475291, 0.44065503620692, 0.6622829024261424, 0.6453756380310356, 0.7719892915200274, 0.8269307035253952, 0.7443243990750009, 0.4600793568052878, 0.6163277611213501, 0.6421008248899186, 0.6421577601547955, 0.7437814432183696, 0.0, 0.7095069848675484, 0.6752003916219478, 0.8732201504502377]}, {\"categories\": [\"0\", \"1\", \"2\", \"6\", \"8\", \"11\", \"13\", \"17\", \"20\", \"21\", \"22\", \"24\", \"25\", \"26\", \"27\", \"28\", \"29\", \"30\", \"31\", \"32\", \"36\"], \"mode\": \"lines\", \"name\": \"matthews_correlation_max\", \"stepped\": true, \"type\": \"scatter\", \"data\": [0.8388793385071492, 0.852250430774475, 0.852250430774475, 0.852250430774475, 0.852250430774475, 0.852250430774475, 0.852250430774475, 0.852250430774475, 0.852250430774475, 0.852250430774475, 0.852250430774475, 0.852250430774475, 0.852250430774475, 0.852250430774475, 0.852250430774475, 0.852250430774475, 0.852250430774475, 0.852250430774475, 0.852250430774475, 0.852250430774475, 0.8732201504502377]}], \"recall_score_micro\": [{\"categories\": [\"0\", \"1\", \"2\", \"6\", \"8\", \"11\", \"13\", \"17\", \"20\", \"21\", \"22\", \"24\", \"25\", \"26\", \"27\", \"28\", \"29\", \"30\", \"31\", \"32\", \"36\"], \"mode\": \"markers\", \"name\": \"recall_score_micro\", \"stepped\": false, \"type\": \"scatter\", \"data\": [0.9172169811320755, 0.9240566037735849, 0.8061320754716981, 0.8160377358490566, 0.904245283018868, 0.7606132075471698, 0.7165094339622642, 0.8304245283018868, 0.8226415094339622, 0.8849056603773585, 0.9120283018867925, 0.8702830188679245, 0.7299528301886793, 0.8061320754716981, 0.8209905660377357, 0.8209905660377359, 0.870754716981132, 0.485377358490566, 0.8540094339622641, 0.8358490566037735, 0.9351415094339623]}, {\"categories\": [\"0\", \"1\", \"2\", \"6\", \"8\", \"11\", \"13\", \"17\", \"20\", \"21\", \"22\", \"24\", \"25\", \"26\", \"27\", \"28\", \"29\", \"30\", \"31\", \"32\", \"36\"], \"mode\": \"lines\", \"name\": \"recall_score_micro_max\", \"stepped\": true, \"type\": \"scatter\", \"data\": [0.9172169811320755, 0.9240566037735849, 0.9240566037735849, 0.9240566037735849, 0.9240566037735849, 0.9240566037735849, 0.9240566037735849, 0.9240566037735849, 0.9240566037735849, 0.9240566037735849, 0.9240566037735849, 0.9240566037735849, 0.9240566037735849, 0.9240566037735849, 0.9240566037735849, 0.9240566037735849, 0.9240566037735849, 0.9240566037735849, 0.9240566037735849, 0.9240566037735849, 0.9351415094339623]}]}, \"metricName\": null, \"primaryMetricName\": \"AUC_weighted\", \"showLegend\": false}, \"run_metrics\": [{\"name\": \"experiment_status\", \"run_id\": \"AutoML_96a49aca-3d02-478d-8078-fcd7d9e78594\", \"categories\": [0, 1, 2, 3, 4, 5, 6, 7, 8, 9, 10, 11, 12, 13], \"series\": [{\"data\": [\"DatasetEvaluation\", \"FeaturesGeneration\", \"DatasetFeaturization\", \"DatasetFeaturizationCompleted\", \"DatasetCrossValidationSplit\", \"ModelSelection\", \"BestRunExplainModel\", \"ModelExplanationDataSetSetup\", \"PickSurrogateModel\", \"EngineeredFeatureExplanations\", \"EngineeredFeatureExplanations\", \"RawFeaturesExplanations\", \"RawFeaturesExplanations\", \"BestRunExplainModel\"]}]}, {\"name\": \"experiment_status_description\", \"run_id\": \"AutoML_96a49aca-3d02-478d-8078-fcd7d9e78594\", \"categories\": [0, 1, 2, 3, 4, 5, 6, 7, 8, 9, 10, 11, 12, 13], \"series\": [{\"data\": [\"Gathering dataset statistics.\", \"Generating features for the dataset.\", \"Beginning to fit featurizers and featurize the dataset.\", \"Completed fit featurizers and featurizing the dataset.\", \"Generating individually featurized CV splits.\", \"Beginning model selection.\", \"Best run model explanations started\", \"Model explanations data setup completed\", \"Choosing LightGBM as the surrogate model for explanations\", \"Computation of engineered features started\", \"Computation of engineered features completed\", \"Computation of raw features started\", \"Computation of raw features completed\", \"Best run model explanations completed\"]}]}], \"run_logs\": \"\\nRun is completed.\", \"graph\": {}, \"widget_settings\": {\"childWidgetDisplay\": \"popup\", \"send_telemetry\": false, \"log_level\": \"INFO\", \"sdk_version\": \"1.51.0\"}, \"loading\": false}"
          },
          "metadata": {}
        }
      ],
      "execution_count": 6,
      "metadata": {
        "collapsed": false,
        "gather": {
          "logged": 1690677245002
        },
        "jupyter": {
          "outputs_hidden": false,
          "source_hidden": false
        },
        "nteract": {
          "transient": {
            "deleting": false
          }
        }
      }
    },
    {
      "cell_type": "markdown",
      "source": [
        "## Best Model\n",
        "\n",
        "TODO: In the cell below, get the best model from the automl experiments and display all the properties of the model.\n",
        "\n"
      ],
      "metadata": {}
    },
    {
      "cell_type": "code",
      "source": [
        "# Retrieve and save best automl model.\n",
        "\n",
        "auto_run.wait_for_completion(show_output=True)\n",
        "assert(auto_run.get_status() == \"Completed\")\n",
        "\n",
        "# Note two ways to get best_run, compare them (?)\n",
        "best_auto_run, best_model = auto_run.get_output()\n",
        "# best_auto_child = auto_run.get_best_child()\n",
        "\n",
        "print(best_auto_run.get_details())\n",
        "#print(best_auto_child.get_details())\n"
      ],
      "outputs": [
        {
          "output_type": "display_data",
          "data": {
            "text/html": "<table style=\"width:100%\"><tr><th>Experiment</th><th>Id</th><th>Type</th><th>Status</th><th>Details Page</th><th>Docs Page</th></tr><tr><td>udacity-aml-capstone</td><td>AutoML_96a49aca-3d02-478d-8078-fcd7d9e78594</td><td>automl</td><td>Completed</td><td><a href=\"https://ml.azure.com/runs/AutoML_96a49aca-3d02-478d-8078-fcd7d9e78594?wsid=/subscriptions/f9d5a085-54dc-4215-9ba6-dad5d86e60a0/resourcegroups/aml-quickstarts-239435/workspaces/quick-starts-ws-239435&amp;tid=660b3398-b80e-49d2-bc5b-ac1dc93b5254\" target=\"_blank\" rel=\"noopener\">Link to Azure Machine Learning studio</a></td><td><a href=\"https://docs.microsoft.com/en-us/python/api/overview/azure/ml/intro?view=azure-ml-py\" target=\"_blank\" rel=\"noopener\">Link to Documentation</a></td></tr></table>"
          },
          "metadata": {}
        },
        {
          "output_type": "stream",
          "name": "stdout",
          "text": "\n\n********************************************************************************************\nDATA GUARDRAILS: \n\nTYPE:         Class balancing detection\nSTATUS:       PASSED\nDESCRIPTION:  Your inputs were analyzed, and all classes are balanced in your training data.\n              Learn more about imbalanced data: https://aka.ms/AutomatedMLImbalancedData\n\n********************************************************************************************\n\nTYPE:         Missing feature values imputation\nSTATUS:       PASSED\nDESCRIPTION:  No feature missing values were detected in the training data.\n              Learn more about missing value imputation: https://aka.ms/AutomatedMLFeaturization\n\n********************************************************************************************\n\nTYPE:         High cardinality feature detection\nSTATUS:       PASSED\nDESCRIPTION:  Your inputs were analyzed, and no high cardinality features were detected.\n              Learn more about high cardinality feature handling: https://aka.ms/AutomatedMLFeaturization\n\n********************************************************************************************\n\n********************************************************************************************\nITER: The iteration being evaluated.\nPIPELINE: A summary description of the pipeline being evaluated.\nDURATION: Time taken for the current iteration.\nMETRIC: The result of computing score on the fitted pipeline.\nBEST: The best observed score thus far.\n********************************************************************************************\n\n ITER   PIPELINE                                       DURATION            METRIC      BEST\n    0   MaxAbsScaler LightGBM                          0:00:31             0.9691    0.9691\n    1   MaxAbsScaler XGBoostClassifier                 0:00:31             0.9704    0.9704\n    2   MaxAbsScaler ExtremeRandomTrees                0:00:28             0.8908    0.9704\n    3   MaxAbsScaler RandomForest                      0:00:28             0.8695    0.9704\n    4   StandardScalerWrapper LightGBM                 0:00:27             0.9087    0.9704\n    5   SparseNormalizer XGBoostClassifier             0:00:29             0.9375    0.9704\n    6   SparseNormalizer RandomForest                  0:00:30             0.8933    0.9704\n    7   StandardScalerWrapper XGBoostClassifier        0:00:27             0.9635    0.9704\n   10   SparseNormalizer LightGBM                      0:00:28             0.8987    0.9704\n   11   MaxAbsScaler ExtremeRandomTrees                0:00:33             0.8318    0.9704\n    8   SparseNormalizer XGBoostClassifier             0:00:27             0.9578    0.9704\n    9   MaxAbsScaler RandomForest                      0:00:27             0.8588    0.9704\n   12   StandardScalerWrapper XGBoostClassifier        0:00:27             0.9393    0.9704\n   13   StandardScalerWrapper ExtremeRandomTrees       0:00:26             0.8025    0.9704\n   14   StandardScalerWrapper RandomForest             0:00:39             0.9897    0.9897\n   15   MaxAbsScaler LightGBM                          0:00:30             0.9447    0.9897\n   16   MaxAbsScaler LogisticRegression                0:00:28             0.9026    0.9897\n   17   StandardScalerWrapper ExtremeRandomTrees       0:00:42             0.9158    0.9897\n   18   StandardScalerWrapper XGBoostClassifier        0:00:29             0.9495    0.9897\n   19   MaxAbsScaler ExtremeRandomTrees                0:00:29             0.8288    0.9897\n   20   MaxAbsScaler LogisticRegression                0:00:46             0.9026    0.9897\n   21   StandardScalerWrapper XGBoostClassifier        0:00:46             0.9458    0.9897\n   22   StandardScalerWrapper XGBoostClassifier        0:00:48             0.9610    0.9897\n   23   MaxAbsScaler RandomForest                      0:00:46             0.8912    0.9897\n   24   SparseNormalizer XGBoostClassifier             0:00:46             0.9327    0.9897\n   25   TruncatedSVDWrapper RandomForest               0:00:55             0.8184    0.9897\n   26   StandardScalerWrapper XGBoostClassifier        0:00:46             0.8869    0.9897\n   27   StandardScalerWrapper LogisticRegression       0:00:46             0.9022    0.9897\n   28   StandardScalerWrapper LogisticRegression       0:00:46             0.9015    0.9897\n   29   StandardScalerWrapper LightGBM                 0:00:46             0.9393    0.9897\n   30   SparseNormalizer RandomForest                  0:00:47             0.5000    0.9897\n   31   MaxAbsScaler LightGBM                          0:00:43             0.9319    0.9897\n   32   SparseNormalizer LightGBM                      0:00:45             0.9148    0.9897\n   33                                                  0:00:34                nan    0.9897\n   34   StandardScalerWrapper XGBoostClassifier        0:00:34                nan    0.9897\nERROR: {\n    \"additional_properties\": {},\n    \"error\": {\n        \"additional_properties\": {\n            \"debugInfo\": null\n        },\n        \"code\": \"UserError\",\n        \"severity\": null,\n        \"message\": \"Unexpected User Error\",\n        \"message_format\": null,\n        \"message_parameters\": null,\n        \"reference_code\": null,\n        \"details_uri\": null,\n        \"target\": null,\n        \"details\": [],\n        \"inner_error\": null,\n        \"additional_info\": null\n    },\n    \"correlation\": {\n        \"operation\": \"7c9aeb8b21ec45d56bc44cc692e23e2d\",\n        \"request\": \"15e336386ecacb87\"\n    },\n    \"environment\": \"westus2\",\n    \"location\": \"westus2\",\n    \"time\": {},\n    \"component_name\": \"GlobalJobDispatcher\"\n}\n   35   StandardScalerWrapper RandomForest             0:00:17                nan    0.9897\nERROR: {\n    \"additional_properties\": {},\n    \"error\": {\n        \"additional_properties\": {\n            \"debugInfo\": null\n        },\n        \"code\": \"UserError\",\n        \"severity\": null,\n        \"message\": \"Unexpected User Error\",\n        \"message_format\": null,\n        \"message_parameters\": null,\n        \"reference_code\": null,\n        \"details_uri\": null,\n        \"target\": null,\n        \"details\": [],\n        \"inner_error\": null,\n        \"additional_info\": null\n    },\n    \"correlation\": {\n        \"operation\": \"feeabb89ec27dd46ae4069dfc9d5f5d8\",\n        \"request\": \"82874320bc91fd7e\"\n    },\n    \"environment\": \"westus2\",\n    \"location\": \"westus2\",\n    \"time\": {},\n    \"component_name\": \"GlobalJobDispatcher\"\n}\n   36    VotingEnsemble                                0:02:19             0.9887    0.9897\n{'runId': 'AutoML_96a49aca-3d02-478d-8078-fcd7d9e78594_14', 'target': 'my-cluster', 'status': 'Completed', 'startTimeUtc': '2023-07-30T00:45:43.289818Z', 'endTimeUtc': '2023-07-30T00:46:22.254027Z', 'services': {}, 'properties': {'runTemplate': 'automl_child', 'pipeline_id': 'a72eb56f3d4aadb7b7f0149ba6e5f05657a95ca1', 'pipeline_spec': '{\"objects\": [{\"class_name\": \"StandardScaler\", \"module\": \"sklearn.preprocessing\", \"param_args\": [], \"param_kwargs\": {\"with_mean\": false, \"with_std\": false}, \"prepared_kwargs\": {}, \"spec_class\": \"preproc\"}, {\"class_name\": \"RandomForestClassifier\", \"module\": \"sklearn.ensemble\", \"param_args\": [], \"param_kwargs\": {}, \"prepared_kwargs\": {}, \"spec_class\": \"sklearn\"}], \"pipeline_id\": \"a72eb56f3d4aadb7b7f0149ba6e5f05657a95ca1\", \"module\": \"sklearn.pipeline\", \"class_name\": \"Pipeline\", \"pipeline_name\": \"{ StandardScaler, RandomForestClassifier }\"}', 'training_percent': '100', 'predicted_cost': '0.5', 'iteration': '14', '_aml_system_scenario_identification': 'Remote.Child', 'run_preprocessor': 'StandardScalerWrapper', 'run_algorithm': 'RandomForest', 'model_output_path': 'outputs/model.pkl', 'conda_env_data_location': 'aml://artifact/ExperimentRun/dcid.AutoML_96a49aca-3d02-478d-8078-fcd7d9e78594_14/outputs/conda_env_v_1_0_0.yml', 'model_data_location': 'aml://artifact/ExperimentRun/dcid.AutoML_96a49aca-3d02-478d-8078-fcd7d9e78594_14/outputs/model.pkl', 'model_size_on_disk': '8960080', 'scoring_data_location': 'aml://artifact/ExperimentRun/dcid.AutoML_96a49aca-3d02-478d-8078-fcd7d9e78594_14/outputs/scoring_file_v_1_0_0.py', 'scoring_data_location_v2': 'aml://artifact/ExperimentRun/dcid.AutoML_96a49aca-3d02-478d-8078-fcd7d9e78594_14/outputs/scoring_file_v_2_0_0.py', 'scoring_data_location_pbi': 'aml://artifact/ExperimentRun/dcid.AutoML_96a49aca-3d02-478d-8078-fcd7d9e78594_14/outputs/scoring_file_pbi_v_1_0_0.py', 'model_exp_support': 'True', 'pipeline_graph_version': '1.0.0', 'model_name': 'AutoML96a49aca314', 'score': '0.9896685879947189', 'score_table': 'NaN', 'run_properties': 'copy=True, with_mean=False, with_std=False', 'pipeline_script': '{\"objects\": [{\"class_name\": \"StandardScaler\", \"module\": \"sklearn.preprocessing\", \"param_args\": [], \"param_kwargs\": {\"with_mean\": false, \"with_std\": false}, \"prepared_kwargs\": {}, \"spec_class\": \"preproc\"}, {\"class_name\": \"RandomForestClassifier\", \"module\": \"sklearn.ensemble\", \"param_args\": [], \"param_kwargs\": {}, \"prepared_kwargs\": {}, \"spec_class\": \"sklearn\"}], \"pipeline_id\": \"a72eb56f3d4aadb7b7f0149ba6e5f05657a95ca1\", \"module\": \"sklearn.pipeline\", \"class_name\": \"Pipeline\", \"pipeline_name\": \"{ StandardScaler, RandomForestClassifier }\"}', 'training_type': 'MeanCrossValidation', 'fit_time': '1.1495408', 'goal': 'AUC_weighted_max', 'primary_metric': 'AUC_weighted', 'errors': '{}', 'onnx_model_resource': \"{'RawColumnNameToOnnxNameMap': {'host_response_rate': 'host_response_rate', 'host_identity_verified': 'host_identity_verified', 'host_total_listings_count': 'host_total_listings_count', 'is_location_exact': 'is_location_exact', 'property_type': 'property_type', 'accommodates': 'accommodates', 'price': 'price', 'minimum_nights': 'minimum_nights', 'number_of_reviews': 'number_of_reviews', 'review_scores_rating': 'review_scores_rating', 'instant_bookable': 'instant_bookable', 'cancellation_policy': 'cancellation_policy', 'reviews_per_month': 'reviews_per_month'}, 'InputRawColumnSchema': {'host_response_rate': 'integer', 'host_identity_verified': 'integer', 'host_total_listings_count': 'integer', 'is_location_exact': 'integer', 'property_type': 'integer', 'accommodates': 'integer', 'price': 'integer', 'minimum_nights': 'integer', 'number_of_reviews': 'integer', 'review_scores_rating': 'floating', 'instant_bookable': 'integer', 'cancellation_policy': 'integer', 'reviews_per_month': 'floating'}, 'InputOnnxColumnSchema': {'host_response_rate': 'Int64TensorType', 'host_identity_verified': 'Int64TensorType', 'host_total_listings_count': 'Int64TensorType', 'is_location_exact': 'Int64TensorType', 'property_type': 'Int64TensorType', 'accommodates': 'Int64TensorType', 'price': 'Int64TensorType', 'minimum_nights': 'Int64TensorType', 'number_of_reviews': 'Int64TensorType', 'review_scores_rating': 'FloatTensorType', 'instant_bookable': 'Int64TensorType', 'cancellation_policy': 'Int64TensorType', 'reviews_per_month': 'FloatTensorType'}, 'CanEnableBatchMode': True}\", 'dependencies_versions': '{\"azureml-dataprep-native\": \"38.0.0\", \"azureml-dataprep\": \"4.11.4\", \"azureml-dataprep-rslex\": \"2.18.4\", \"azureml-automl-runtime\": \"1.52.0.post1\", \"azureml-automl-core\": \"1.52.0.post1\", \"azureml-train-restclients-hyperdrive\": \"1.52.0\", \"azureml-defaults\": \"1.52.0\", \"azureml-dataset-runtime\": \"1.52.0\", \"azureml-pipeline-core\": \"1.52.0\", \"azureml-core\": \"1.52.0\", \"azureml-responsibleai\": \"1.52.0\", \"azureml-mlflow\": \"1.52.0\", \"azureml-train-core\": \"1.52.0\", \"azureml-telemetry\": \"1.52.0\", \"azureml-training-tabular\": \"1.52.0\", \"azureml-train-automl-client\": \"1.52.0\", \"azureml-interpret\": \"1.52.0\", \"azureml-train-automl-runtime\": \"1.52.0\", \"azureml-inference-server-http\": \"0.8.4\"}', 'num_cores': '2', 'num_logical_cores': '2', 'peak_memory_usage': '1225304', 'vm_configuration': 'x86_64', 'core_hours': '0.008972436388888892', 'feature_skus': 'automatedml_sdk_guardrails'}, 'inputDatasets': [{'dataset': {'id': '99eefc7b-6610-457b-bc63-5c2ce1243367'}, 'consumptionDetails': {'type': 'RunInput', 'inputName': 'training_data', 'mechanism': 'Direct'}}], 'outputDatasets': [], 'runDefinition': {'script': 'automl_driver.py', 'command': '', 'useAbsolutePath': False, 'arguments': [], 'sourceDirectoryDataStore': None, 'framework': 'Python', 'communicator': 'None', 'target': 'my-cluster', 'dataReferences': {}, 'data': {}, 'outputData': {}, 'datacaches': [], 'jobName': None, 'maxRunDurationSeconds': None, 'nodeCount': 1, 'instanceTypes': [], 'priority': None, 'credentialPassthrough': False, 'identity': None, 'environment': {'name': 'AzureML-AutoML', 'version': '142', 'assetId': 'azureml://registries/azureml/environments/AzureML-AutoML/versions/142', 'autoRebuild': True, 'python': {'interpreterPath': 'python', 'userManagedDependencies': True, 'condaDependencies': None, 'baseCondaEnvironment': None}, 'environmentVariables': {'EXAMPLE_ENV_VAR': 'EXAMPLE_VALUE'}, 'docker': {'baseImage': None, 'platform': {'os': 'Linux', 'architecture': 'amd64'}, 'baseDockerfile': 'FROM mcr.microsoft.com/azureml/openmpi4.1.0-ubuntu20.04\\n\\nENV AZUREML_CONDA_ENVIRONMENT_PATH /azureml-envs/azureml-automl\\nENV PATH $AZUREML_CONDA_ENVIRONMENT_PATH/bin:$PATH\\n\\nCOPY --from=mcr.microsoft.com/azureml/mlflow-ubuntu20.04-py38-cpu-inference:20230306.v3 /var/mlflow_resources/mlflow_score_script.py /var/mlflow_resources/mlflow_score_script.py\\n\\nENV MLFLOW_MODEL_FOLDER=\"mlflow-model\"\\n# ENV AML_APP_ROOT=\"/var/mlflow_resources\"\\n# ENV AZUREML_ENTRY_SCRIPT=\"mlflow_score_script.py\"\\n\\nENV ENABLE_METADATA=true\\n\\n# begin conda create\\n# Create conda environment\\nRUN conda create -p $AZUREML_CONDA_ENVIRONMENT_PATH \\\\\\n    python=3.8 \\\\\\n    # begin conda dependencies\\n    pip=22.1.2 \\\\\\n    numpy~=1.22.3 \\\\\\n    py-cpuinfo=5.0.0 \\\\\\n    joblib=1.2.0 \\\\\\n    cloudpickle=1.6.0 \\\\\\n    scikit-learn=0.22.1 \\\\\\n    pandas~=1.1.5 \\\\\\n    py-xgboost=1.3.3 \\\\\\n    holidays=0.10.3 \\\\\\n    setuptools-git \\\\\\n    setuptools=65.5.1 \\\\\\n    wheel=0.38.1 \\\\\\n    pyopenssl=23.2.0 \\\\\\n    \\'psutil>5.0.0,<6.0.0\\' \\\\\\n    # end conda dependencies\\n    -c conda-forge -c pytorch -c anaconda && \\\\\\n    conda run -p $AZUREML_CONDA_ENVIRONMENT_PATH && \\\\\\n    conda clean -a -y\\n# end conda create\\n\\n# begin pip install\\n# Install pip dependencies\\nRUN pip install  \\\\\\n                # begin pypi dependencies\\n                \\'cryptography==41.0.0\\' \\\\\\n                \\'azureml-core==1.52.0\\' \\\\\\n                \\'azureml-mlflow==1.52.0\\' \\\\\\n                \\'azureml-pipeline-core==1.52.0\\' \\\\\\n                \\'azureml-telemetry==1.52.0\\' \\\\\\n                \\'azureml-interpret==1.52.0\\' \\\\\\n                \\'azureml-responsibleai==1.52.0\\' \\\\\\n                \\'azureml-automl-core==1.52.0.post1\\' \\\\\\n                \\'azureml-automl-runtime==1.52.0.post1\\' \\\\\\n                \\'azureml-train-automl-client==1.52.0\\' \\\\\\n                \\'azureml-train-automl-runtime==1.52.0\\' \\\\\\n                \\'azureml-dataset-runtime==1.52.0\\' \\\\\\n                \\'azureml-defaults==1.52.0\\' \\\\\\n                \\'inference-schema\\' \\\\\\n                \\'fbprophet==0.7.1\\' \\\\\\n                \\'pystan==2.19.1.1\\' \\\\\\n                \\'notebook==6.4.9\\' \\\\\\n                \\'mltable>=1.0.0\\'\\n                # end pypi dependencies\\n# end pip install', 'baseImageRegistry': {'address': None, 'username': None, 'password': None}, 'enabled': False, 'arguments': []}, 'spark': {'repositories': [], 'packages': [], 'precachePackages': True}, 'inferencingStackVersion': None}, 'history': {'outputCollection': True, 'directoriesToWatch': ['logs'], 'enableMLflowTracking': True}, 'spark': {'configuration': {'spark.app.name': 'Azure ML Experiment', 'spark.yarn.maxAppAttempts': '1'}}, 'parallelTask': {'maxRetriesPerWorker': 0, 'workerCountPerNode': 1, 'terminalExitCodes': None, 'configuration': {}}, 'amlCompute': {'name': None, 'vmSize': None, 'retainCluster': False, 'clusterMaxNodeCount': None}, 'aiSuperComputer': {'instanceType': 'D2', 'imageVersion': None, 'location': None, 'aiSuperComputerStorageData': None, 'interactive': False, 'scalePolicy': None, 'virtualClusterArmId': None, 'tensorboardLogDirectory': None, 'sshPublicKey': None, 'sshPublicKeys': None, 'enableAzmlInt': True, 'priority': 'Medium', 'slaTier': 'Standard', 'userAlias': None}, 'kubernetesCompute': {'instanceType': None}, 'tensorflow': {'workerCount': 1, 'parameterServerCount': 1}, 'mpi': {'processCountPerNode': 1}, 'pyTorch': {'communicationBackend': 'nccl', 'processCount': None}, 'hdi': {'yarnDeployMode': 'Cluster'}, 'containerInstance': {'region': None, 'cpuCores': 2.0, 'memoryGb': 3.5}, 'exposedPorts': None, 'docker': {'useDocker': True, 'sharedVolumes': True, 'shmSize': None, 'arguments': []}, 'cmk8sCompute': {'configuration': {}}, 'commandReturnCodeConfig': {'returnCode': 'Zero', 'successfulReturnCodes': []}, 'environmentVariables': {'AUTOML_SDK_RESOURCE_URL': 'https://aka.ms/automl-resources/'}, 'applicationEndpoints': {}, 'parameters': []}, 'logFiles': {}, 'submittedBy': 'ODL_User 239435'}\n"
        },
        {
          "output_type": "stream",
          "name": "stderr",
          "text": "WARNING:root:The version of the SDK does not match the version the model was trained on.\nWARNING:root:The consistency in the result may not be guaranteed.\nWARNING:root:Package:azureml-automl-core, training version:1.52.0.post1, current version:1.51.0.post1\nPackage:azureml-automl-runtime, training version:1.52.0.post1, current version:1.51.0.post1\nPackage:azureml-core, training version:1.52.0, current version:1.51.0\nPackage:azureml-dataprep, training version:4.11.4, current version:4.10.8\nPackage:azureml-dataprep-rslex, training version:2.18.4, current version:2.17.12\nPackage:azureml-dataset-runtime, training version:1.52.0, current version:1.51.0\nPackage:azureml-defaults, training version:1.52.0, current version:1.51.0\nPackage:azureml-interpret, training version:1.52.0, current version:1.51.0\nPackage:azureml-mlflow, training version:1.52.0, current version:1.51.0\nPackage:azureml-pipeline-core, training version:1.52.0, current version:1.51.0\nPackage:azureml-responsibleai, training version:1.52.0, current version:1.51.0\nPackage:azureml-telemetry, training version:1.52.0, current version:1.51.0\nPackage:azureml-train-automl-client, training version:1.52.0, current version:1.51.0.post1\nPackage:azureml-train-automl-runtime, training version:1.52.0, current version:1.51.0.post2\nPackage:azureml-train-core, training version:1.52.0, current version:1.51.0\nPackage:azureml-train-restclients-hyperdrive, training version:1.52.0, current version:1.51.0\nPackage:azureml-training-tabular, training version:1.52.0, current version:1.51.0.post1\nWARNING:root:Please ensure the version of your local conda dependencies match the version on which your model was trained in order to properly retrieve your model.\n"
        }
      ],
      "execution_count": 7,
      "metadata": {
        "collapsed": false,
        "gather": {
          "logged": 1690678820198
        },
        "jupyter": {
          "outputs_hidden": false,
          "source_hidden": false
        },
        "nteract": {
          "transient": {
            "deleting": false
          }
        }
      }
    },
    {
      "cell_type": "code",
      "source": [
        "# another way to get best run\n",
        "\n",
        "best_auto_child = auto_run.get_best_child()\n",
        "print(best_auto_child.get_details())"
      ],
      "outputs": [
        {
          "output_type": "stream",
          "name": "stdout",
          "text": "{'runId': 'AutoML_96a49aca-3d02-478d-8078-fcd7d9e78594_14', 'target': 'my-cluster', 'status': 'Completed', 'startTimeUtc': '2023-07-30T00:45:43.289818Z', 'endTimeUtc': '2023-07-30T00:46:22.254027Z', 'services': {}, 'properties': {'runTemplate': 'automl_child', 'pipeline_id': 'a72eb56f3d4aadb7b7f0149ba6e5f05657a95ca1', 'pipeline_spec': '{\"objects\": [{\"class_name\": \"StandardScaler\", \"module\": \"sklearn.preprocessing\", \"param_args\": [], \"param_kwargs\": {\"with_mean\": false, \"with_std\": false}, \"prepared_kwargs\": {}, \"spec_class\": \"preproc\"}, {\"class_name\": \"RandomForestClassifier\", \"module\": \"sklearn.ensemble\", \"param_args\": [], \"param_kwargs\": {}, \"prepared_kwargs\": {}, \"spec_class\": \"sklearn\"}], \"pipeline_id\": \"a72eb56f3d4aadb7b7f0149ba6e5f05657a95ca1\", \"module\": \"sklearn.pipeline\", \"class_name\": \"Pipeline\", \"pipeline_name\": \"{ StandardScaler, RandomForestClassifier }\"}', 'training_percent': '100', 'predicted_cost': '0.5', 'iteration': '14', '_aml_system_scenario_identification': 'Remote.Child', 'run_preprocessor': 'StandardScalerWrapper', 'run_algorithm': 'RandomForest', 'model_output_path': 'outputs/model.pkl', 'conda_env_data_location': 'aml://artifact/ExperimentRun/dcid.AutoML_96a49aca-3d02-478d-8078-fcd7d9e78594_14/outputs/conda_env_v_1_0_0.yml', 'model_data_location': 'aml://artifact/ExperimentRun/dcid.AutoML_96a49aca-3d02-478d-8078-fcd7d9e78594_14/outputs/model.pkl', 'model_size_on_disk': '8960080', 'scoring_data_location': 'aml://artifact/ExperimentRun/dcid.AutoML_96a49aca-3d02-478d-8078-fcd7d9e78594_14/outputs/scoring_file_v_1_0_0.py', 'scoring_data_location_v2': 'aml://artifact/ExperimentRun/dcid.AutoML_96a49aca-3d02-478d-8078-fcd7d9e78594_14/outputs/scoring_file_v_2_0_0.py', 'scoring_data_location_pbi': 'aml://artifact/ExperimentRun/dcid.AutoML_96a49aca-3d02-478d-8078-fcd7d9e78594_14/outputs/scoring_file_pbi_v_1_0_0.py', 'model_exp_support': 'True', 'pipeline_graph_version': '1.0.0', 'model_name': 'AutoML96a49aca314', 'score': '0.9896685879947189', 'score_table': 'NaN', 'run_properties': 'copy=True, with_mean=False, with_std=False', 'pipeline_script': '{\"objects\": [{\"class_name\": \"StandardScaler\", \"module\": \"sklearn.preprocessing\", \"param_args\": [], \"param_kwargs\": {\"with_mean\": false, \"with_std\": false}, \"prepared_kwargs\": {}, \"spec_class\": \"preproc\"}, {\"class_name\": \"RandomForestClassifier\", \"module\": \"sklearn.ensemble\", \"param_args\": [], \"param_kwargs\": {}, \"prepared_kwargs\": {}, \"spec_class\": \"sklearn\"}], \"pipeline_id\": \"a72eb56f3d4aadb7b7f0149ba6e5f05657a95ca1\", \"module\": \"sklearn.pipeline\", \"class_name\": \"Pipeline\", \"pipeline_name\": \"{ StandardScaler, RandomForestClassifier }\"}', 'training_type': 'MeanCrossValidation', 'fit_time': '1.1495408', 'goal': 'AUC_weighted_max', 'primary_metric': 'AUC_weighted', 'errors': '{}', 'onnx_model_resource': \"{'RawColumnNameToOnnxNameMap': {'host_response_rate': 'host_response_rate', 'host_identity_verified': 'host_identity_verified', 'host_total_listings_count': 'host_total_listings_count', 'is_location_exact': 'is_location_exact', 'property_type': 'property_type', 'accommodates': 'accommodates', 'price': 'price', 'minimum_nights': 'minimum_nights', 'number_of_reviews': 'number_of_reviews', 'review_scores_rating': 'review_scores_rating', 'instant_bookable': 'instant_bookable', 'cancellation_policy': 'cancellation_policy', 'reviews_per_month': 'reviews_per_month'}, 'InputRawColumnSchema': {'host_response_rate': 'integer', 'host_identity_verified': 'integer', 'host_total_listings_count': 'integer', 'is_location_exact': 'integer', 'property_type': 'integer', 'accommodates': 'integer', 'price': 'integer', 'minimum_nights': 'integer', 'number_of_reviews': 'integer', 'review_scores_rating': 'floating', 'instant_bookable': 'integer', 'cancellation_policy': 'integer', 'reviews_per_month': 'floating'}, 'InputOnnxColumnSchema': {'host_response_rate': 'Int64TensorType', 'host_identity_verified': 'Int64TensorType', 'host_total_listings_count': 'Int64TensorType', 'is_location_exact': 'Int64TensorType', 'property_type': 'Int64TensorType', 'accommodates': 'Int64TensorType', 'price': 'Int64TensorType', 'minimum_nights': 'Int64TensorType', 'number_of_reviews': 'Int64TensorType', 'review_scores_rating': 'FloatTensorType', 'instant_bookable': 'Int64TensorType', 'cancellation_policy': 'Int64TensorType', 'reviews_per_month': 'FloatTensorType'}, 'CanEnableBatchMode': True}\", 'dependencies_versions': '{\"azureml-dataprep-native\": \"38.0.0\", \"azureml-dataprep\": \"4.11.4\", \"azureml-dataprep-rslex\": \"2.18.4\", \"azureml-automl-runtime\": \"1.52.0.post1\", \"azureml-automl-core\": \"1.52.0.post1\", \"azureml-train-restclients-hyperdrive\": \"1.52.0\", \"azureml-defaults\": \"1.52.0\", \"azureml-dataset-runtime\": \"1.52.0\", \"azureml-pipeline-core\": \"1.52.0\", \"azureml-core\": \"1.52.0\", \"azureml-responsibleai\": \"1.52.0\", \"azureml-mlflow\": \"1.52.0\", \"azureml-train-core\": \"1.52.0\", \"azureml-telemetry\": \"1.52.0\", \"azureml-training-tabular\": \"1.52.0\", \"azureml-train-automl-client\": \"1.52.0\", \"azureml-interpret\": \"1.52.0\", \"azureml-train-automl-runtime\": \"1.52.0\", \"azureml-inference-server-http\": \"0.8.4\"}', 'num_cores': '2', 'num_logical_cores': '2', 'peak_memory_usage': '1225304', 'vm_configuration': 'x86_64', 'core_hours': '0.008972436388888892', 'feature_skus': 'automatedml_sdk_guardrails'}, 'inputDatasets': [{'dataset': {'id': '99eefc7b-6610-457b-bc63-5c2ce1243367'}, 'consumptionDetails': {'type': 'RunInput', 'inputName': 'training_data', 'mechanism': 'Direct'}}], 'outputDatasets': [], 'runDefinition': {'script': 'automl_driver.py', 'command': '', 'useAbsolutePath': False, 'arguments': [], 'sourceDirectoryDataStore': None, 'framework': 'Python', 'communicator': 'None', 'target': 'my-cluster', 'dataReferences': {}, 'data': {}, 'outputData': {}, 'datacaches': [], 'jobName': None, 'maxRunDurationSeconds': None, 'nodeCount': 1, 'instanceTypes': [], 'priority': None, 'credentialPassthrough': False, 'identity': None, 'environment': {'name': 'AzureML-AutoML', 'version': '142', 'assetId': 'azureml://registries/azureml/environments/AzureML-AutoML/versions/142', 'autoRebuild': True, 'python': {'interpreterPath': 'python', 'userManagedDependencies': True, 'condaDependencies': None, 'baseCondaEnvironment': None}, 'environmentVariables': {'EXAMPLE_ENV_VAR': 'EXAMPLE_VALUE'}, 'docker': {'baseImage': None, 'platform': {'os': 'Linux', 'architecture': 'amd64'}, 'baseDockerfile': 'FROM mcr.microsoft.com/azureml/openmpi4.1.0-ubuntu20.04\\n\\nENV AZUREML_CONDA_ENVIRONMENT_PATH /azureml-envs/azureml-automl\\nENV PATH $AZUREML_CONDA_ENVIRONMENT_PATH/bin:$PATH\\n\\nCOPY --from=mcr.microsoft.com/azureml/mlflow-ubuntu20.04-py38-cpu-inference:20230306.v3 /var/mlflow_resources/mlflow_score_script.py /var/mlflow_resources/mlflow_score_script.py\\n\\nENV MLFLOW_MODEL_FOLDER=\"mlflow-model\"\\n# ENV AML_APP_ROOT=\"/var/mlflow_resources\"\\n# ENV AZUREML_ENTRY_SCRIPT=\"mlflow_score_script.py\"\\n\\nENV ENABLE_METADATA=true\\n\\n# begin conda create\\n# Create conda environment\\nRUN conda create -p $AZUREML_CONDA_ENVIRONMENT_PATH \\\\\\n    python=3.8 \\\\\\n    # begin conda dependencies\\n    pip=22.1.2 \\\\\\n    numpy~=1.22.3 \\\\\\n    py-cpuinfo=5.0.0 \\\\\\n    joblib=1.2.0 \\\\\\n    cloudpickle=1.6.0 \\\\\\n    scikit-learn=0.22.1 \\\\\\n    pandas~=1.1.5 \\\\\\n    py-xgboost=1.3.3 \\\\\\n    holidays=0.10.3 \\\\\\n    setuptools-git \\\\\\n    setuptools=65.5.1 \\\\\\n    wheel=0.38.1 \\\\\\n    pyopenssl=23.2.0 \\\\\\n    \\'psutil>5.0.0,<6.0.0\\' \\\\\\n    # end conda dependencies\\n    -c conda-forge -c pytorch -c anaconda && \\\\\\n    conda run -p $AZUREML_CONDA_ENVIRONMENT_PATH && \\\\\\n    conda clean -a -y\\n# end conda create\\n\\n# begin pip install\\n# Install pip dependencies\\nRUN pip install  \\\\\\n                # begin pypi dependencies\\n                \\'cryptography==41.0.0\\' \\\\\\n                \\'azureml-core==1.52.0\\' \\\\\\n                \\'azureml-mlflow==1.52.0\\' \\\\\\n                \\'azureml-pipeline-core==1.52.0\\' \\\\\\n                \\'azureml-telemetry==1.52.0\\' \\\\\\n                \\'azureml-interpret==1.52.0\\' \\\\\\n                \\'azureml-responsibleai==1.52.0\\' \\\\\\n                \\'azureml-automl-core==1.52.0.post1\\' \\\\\\n                \\'azureml-automl-runtime==1.52.0.post1\\' \\\\\\n                \\'azureml-train-automl-client==1.52.0\\' \\\\\\n                \\'azureml-train-automl-runtime==1.52.0\\' \\\\\\n                \\'azureml-dataset-runtime==1.52.0\\' \\\\\\n                \\'azureml-defaults==1.52.0\\' \\\\\\n                \\'inference-schema\\' \\\\\\n                \\'fbprophet==0.7.1\\' \\\\\\n                \\'pystan==2.19.1.1\\' \\\\\\n                \\'notebook==6.4.9\\' \\\\\\n                \\'mltable>=1.0.0\\'\\n                # end pypi dependencies\\n# end pip install', 'baseImageRegistry': {'address': None, 'username': None, 'password': None}, 'enabled': False, 'arguments': []}, 'spark': {'repositories': [], 'packages': [], 'precachePackages': True}, 'inferencingStackVersion': None}, 'history': {'outputCollection': True, 'directoriesToWatch': ['logs'], 'enableMLflowTracking': True}, 'spark': {'configuration': {'spark.app.name': 'Azure ML Experiment', 'spark.yarn.maxAppAttempts': '1'}}, 'parallelTask': {'maxRetriesPerWorker': 0, 'workerCountPerNode': 1, 'terminalExitCodes': None, 'configuration': {}}, 'amlCompute': {'name': None, 'vmSize': None, 'retainCluster': False, 'clusterMaxNodeCount': None}, 'aiSuperComputer': {'instanceType': 'D2', 'imageVersion': None, 'location': None, 'aiSuperComputerStorageData': None, 'interactive': False, 'scalePolicy': None, 'virtualClusterArmId': None, 'tensorboardLogDirectory': None, 'sshPublicKey': None, 'sshPublicKeys': None, 'enableAzmlInt': True, 'priority': 'Medium', 'slaTier': 'Standard', 'userAlias': None}, 'kubernetesCompute': {'instanceType': None}, 'tensorflow': {'workerCount': 1, 'parameterServerCount': 1}, 'mpi': {'processCountPerNode': 1}, 'pyTorch': {'communicationBackend': 'nccl', 'processCount': None}, 'hdi': {'yarnDeployMode': 'Cluster'}, 'containerInstance': {'region': None, 'cpuCores': 2.0, 'memoryGb': 3.5}, 'exposedPorts': None, 'docker': {'useDocker': True, 'sharedVolumes': True, 'shmSize': None, 'arguments': []}, 'cmk8sCompute': {'configuration': {}}, 'commandReturnCodeConfig': {'returnCode': 'Zero', 'successfulReturnCodes': []}, 'environmentVariables': {'AUTOML_SDK_RESOURCE_URL': 'https://aka.ms/automl-resources/'}, 'applicationEndpoints': {}, 'parameters': []}, 'logFiles': {}, 'submittedBy': 'ODL_User 239435'}\n"
        }
      ],
      "execution_count": 8,
      "metadata": {
        "gather": {
          "logged": 1690678912777
        }
      }
    },
    {
      "cell_type": "code",
      "source": [
        "# download some outputs\n",
        "\n",
        "import json\n",
        "import pandas as pd\n",
        "\n",
        "output_dir = \"./outputs\"\n",
        "if os.path.exists(output_dir) == False:\n",
        "    os.mkdir(output_dir)\n",
        "    \n",
        "script_file_name = output_dir + \"/score.py\"\n",
        "best_auto_run.download_file(\"outputs/scoring_file_v_1_0_0.py\", script_file_name)\n",
        "\n",
        "# Download the featurization summary JSON file locally\n",
        "featurization_file_name = output_dir + \"/featurization_summary.json\"\n",
        "best_auto_run.download_file(\n",
        "    \"outputs/featurization_summary.json\", featurization_file_name\n",
        ")\n",
        "\n",
        "# Render the JSON as a pandas DataFrame\n",
        "with open(featurization_file_name, \"r\") as f:\n",
        "    records = json.load(f)\n",
        "\n",
        "print(records)\n",
        "records_pd = pd.DataFrame.from_records(records)\n",
        "records_pd.head()\n"
      ],
      "outputs": [
        {
          "output_type": "stream",
          "name": "stdout",
          "text": "[{'RawFeatureName': 'host_response_rate', 'TypeDetected': 'Categorical', 'Dropped': 'No', 'EngineeredFeatureCount': 46, 'Transformations': ['StringCast-CharGramCountVectorizer'], 'TransformationParams': {'Transformer1': {'Input': ['host_response_rate'], 'TransformationFunction': 'StringCast', 'Operator': None, 'FeatureType': 'Categorical', 'ShouldOutput': False, 'TransformationParams': {}}, 'Transformer2': {'Input': ['Transformer1'], 'TransformationFunction': 'CountVectorizer', 'Operator': 'CharGram', 'FeatureType': None, 'ShouldOutput': True, 'TransformationParams': {'analyzer': 'word', 'binary': True, 'decode_error': 'strict', 'encoding': 'utf-8', 'input': 'content', 'lowercase': False, 'max_df': 1.0, 'max_features': None, 'min_df': 1, 'ngram_range': [1, 1], 'stop_words': None, 'strip_accents': None, 'token_pattern': '(?u)\\\\b\\\\w\\\\w+\\\\b', 'vocabulary': None}}}}, {'RawFeatureName': 'host_identity_verified', 'TypeDetected': 'Categorical', 'Dropped': 'No', 'EngineeredFeatureCount': 1, 'Transformations': ['ModeCatImputer-StringCast-LabelEncoder'], 'TransformationParams': {'Transformer1': {'Input': ['host_identity_verified'], 'TransformationFunction': 'CatImputer', 'Operator': 'Mode', 'FeatureType': 'Categorical', 'ShouldOutput': True, 'TransformationParams': {'copy': True}}, 'Transformer2': {'Input': ['Transformer1'], 'TransformationFunction': 'StringCast', 'Operator': None, 'FeatureType': None, 'ShouldOutput': False, 'TransformationParams': {}}, 'Transformer3': {'Input': ['Transformer2'], 'TransformationFunction': 'LabelEncoder', 'Operator': None, 'FeatureType': None, 'ShouldOutput': True, 'TransformationParams': {'hashing_seed_val': 314489979}}}}, {'RawFeatureName': 'host_total_listings_count', 'TypeDetected': 'Categorical', 'Dropped': 'No', 'EngineeredFeatureCount': 34, 'Transformations': ['StringCast-CharGramCountVectorizer'], 'TransformationParams': {'Transformer1': {'Input': ['host_total_listings_count'], 'TransformationFunction': 'StringCast', 'Operator': None, 'FeatureType': 'Categorical', 'ShouldOutput': False, 'TransformationParams': {}}, 'Transformer2': {'Input': ['Transformer1'], 'TransformationFunction': 'CountVectorizer', 'Operator': 'CharGram', 'FeatureType': None, 'ShouldOutput': True, 'TransformationParams': {'analyzer': 'word', 'binary': True, 'decode_error': 'strict', 'encoding': 'utf-8', 'input': 'content', 'lowercase': False, 'max_df': 1.0, 'max_features': None, 'min_df': 1, 'ngram_range': [1, 1], 'stop_words': None, 'strip_accents': None, 'token_pattern': '(?u)\\\\b\\\\w\\\\w+\\\\b', 'vocabulary': None}}}}, {'RawFeatureName': 'is_location_exact', 'TypeDetected': 'Categorical', 'Dropped': 'No', 'EngineeredFeatureCount': 1, 'Transformations': ['ModeCatImputer-StringCast-LabelEncoder'], 'TransformationParams': {'Transformer1': {'Input': ['is_location_exact'], 'TransformationFunction': 'CatImputer', 'Operator': 'Mode', 'FeatureType': 'Categorical', 'ShouldOutput': True, 'TransformationParams': {'copy': True}}, 'Transformer2': {'Input': ['Transformer1'], 'TransformationFunction': 'StringCast', 'Operator': None, 'FeatureType': None, 'ShouldOutput': False, 'TransformationParams': {}}, 'Transformer3': {'Input': ['Transformer2'], 'TransformationFunction': 'LabelEncoder', 'Operator': None, 'FeatureType': None, 'ShouldOutput': True, 'TransformationParams': {'hashing_seed_val': 314489979}}}}, {'RawFeatureName': 'property_type', 'TypeDetected': 'Categorical', 'Dropped': 'No', 'EngineeredFeatureCount': 13, 'Transformations': ['StringCast-CharGramCountVectorizer'], 'TransformationParams': {'Transformer1': {'Input': ['property_type'], 'TransformationFunction': 'StringCast', 'Operator': None, 'FeatureType': 'Categorical', 'ShouldOutput': False, 'TransformationParams': {}}, 'Transformer2': {'Input': ['Transformer1'], 'TransformationFunction': 'CountVectorizer', 'Operator': 'CharGram', 'FeatureType': None, 'ShouldOutput': True, 'TransformationParams': {'analyzer': 'word', 'binary': True, 'decode_error': 'strict', 'encoding': 'utf-8', 'input': 'content', 'lowercase': False, 'max_df': 1.0, 'max_features': None, 'min_df': 1, 'ngram_range': [1, 1], 'stop_words': None, 'strip_accents': None, 'token_pattern': '(?u)\\\\b\\\\w\\\\w+\\\\b', 'vocabulary': None}}}}, {'RawFeatureName': 'accommodates', 'TypeDetected': 'Categorical', 'Dropped': 'No', 'EngineeredFeatureCount': 14, 'Transformations': ['StringCast-CharGramCountVectorizer'], 'TransformationParams': {'Transformer1': {'Input': ['accommodates'], 'TransformationFunction': 'StringCast', 'Operator': None, 'FeatureType': 'Categorical', 'ShouldOutput': False, 'TransformationParams': {}}, 'Transformer2': {'Input': ['Transformer1'], 'TransformationFunction': 'CountVectorizer', 'Operator': 'CharGram', 'FeatureType': None, 'ShouldOutput': True, 'TransformationParams': {'analyzer': 'word', 'binary': True, 'decode_error': 'strict', 'encoding': 'utf-8', 'input': 'content', 'lowercase': False, 'max_df': 1.0, 'max_features': None, 'min_df': 1, 'ngram_range': [1, 1], 'stop_words': None, 'strip_accents': None, 'token_pattern': '(?u)\\\\b\\\\w\\\\w+\\\\b', 'vocabulary': None}}}}, {'RawFeatureName': 'minimum_nights', 'TypeDetected': 'Categorical', 'Dropped': 'No', 'EngineeredFeatureCount': 27, 'Transformations': ['StringCast-CharGramCountVectorizer'], 'TransformationParams': {'Transformer1': {'Input': ['minimum_nights'], 'TransformationFunction': 'StringCast', 'Operator': None, 'FeatureType': 'Categorical', 'ShouldOutput': False, 'TransformationParams': {}}, 'Transformer2': {'Input': ['Transformer1'], 'TransformationFunction': 'CountVectorizer', 'Operator': 'CharGram', 'FeatureType': None, 'ShouldOutput': True, 'TransformationParams': {'analyzer': 'word', 'binary': True, 'decode_error': 'strict', 'encoding': 'utf-8', 'input': 'content', 'lowercase': False, 'max_df': 1.0, 'max_features': None, 'min_df': 1, 'ngram_range': [1, 1], 'stop_words': None, 'strip_accents': None, 'token_pattern': '(?u)\\\\b\\\\w\\\\w+\\\\b', 'vocabulary': None}}}}, {'RawFeatureName': 'instant_bookable', 'TypeDetected': 'Categorical', 'Dropped': 'No', 'EngineeredFeatureCount': 1, 'Transformations': ['ModeCatImputer-StringCast-LabelEncoder'], 'TransformationParams': {'Transformer1': {'Input': ['instant_bookable'], 'TransformationFunction': 'CatImputer', 'Operator': 'Mode', 'FeatureType': 'Categorical', 'ShouldOutput': True, 'TransformationParams': {'copy': True}}, 'Transformer2': {'Input': ['Transformer1'], 'TransformationFunction': 'StringCast', 'Operator': None, 'FeatureType': None, 'ShouldOutput': False, 'TransformationParams': {}}, 'Transformer3': {'Input': ['Transformer2'], 'TransformationFunction': 'LabelEncoder', 'Operator': None, 'FeatureType': None, 'ShouldOutput': True, 'TransformationParams': {'hashing_seed_val': 314489979}}}}, {'RawFeatureName': 'cancellation_policy', 'TypeDetected': 'Categorical', 'Dropped': 'No', 'EngineeredFeatureCount': 4, 'Transformations': ['StringCast-CharGramCountVectorizer'], 'TransformationParams': {'Transformer1': {'Input': ['cancellation_policy'], 'TransformationFunction': 'StringCast', 'Operator': None, 'FeatureType': 'Categorical', 'ShouldOutput': False, 'TransformationParams': {}}, 'Transformer2': {'Input': ['Transformer1'], 'TransformationFunction': 'CountVectorizer', 'Operator': 'CharGram', 'FeatureType': None, 'ShouldOutput': True, 'TransformationParams': {'analyzer': 'word', 'binary': True, 'decode_error': 'strict', 'encoding': 'utf-8', 'input': 'content', 'lowercase': False, 'max_df': 1.0, 'max_features': None, 'min_df': 1, 'ngram_range': [1, 1], 'stop_words': None, 'strip_accents': None, 'token_pattern': '(?u)\\\\b\\\\w\\\\w+\\\\b', 'vocabulary': None}}}}, {'RawFeatureName': 'price', 'TypeDetected': 'Numeric', 'Dropped': 'No', 'EngineeredFeatureCount': 1, 'Transformations': ['MeanImputer'], 'TransformationParams': {'Transformer1': {'Input': ['price'], 'TransformationFunction': 'Imputer', 'Operator': 'Mean', 'FeatureType': 'Numeric', 'ShouldOutput': True, 'TransformationParams': {'add_indicator': False, 'copy': True, 'fill_value': None, 'missing_values': nan, 'strategy': 'mean', 'verbose': 0}}}}, {'RawFeatureName': 'number_of_reviews', 'TypeDetected': 'Numeric', 'Dropped': 'No', 'EngineeredFeatureCount': 1, 'Transformations': ['MeanImputer'], 'TransformationParams': {'Transformer1': {'Input': ['number_of_reviews'], 'TransformationFunction': 'Imputer', 'Operator': 'Mean', 'FeatureType': 'Numeric', 'ShouldOutput': True, 'TransformationParams': {'add_indicator': False, 'copy': True, 'fill_value': None, 'missing_values': nan, 'strategy': 'mean', 'verbose': 0}}}}, {'RawFeatureName': 'review_scores_rating', 'TypeDetected': 'Numeric', 'Dropped': 'No', 'EngineeredFeatureCount': 1, 'Transformations': ['MeanImputer'], 'TransformationParams': {'Transformer1': {'Input': ['review_scores_rating'], 'TransformationFunction': 'Imputer', 'Operator': 'Mean', 'FeatureType': 'Numeric', 'ShouldOutput': True, 'TransformationParams': {'add_indicator': False, 'copy': True, 'fill_value': None, 'missing_values': nan, 'strategy': 'mean', 'verbose': 0}}}}, {'RawFeatureName': 'reviews_per_month', 'TypeDetected': 'Numeric', 'Dropped': 'No', 'EngineeredFeatureCount': 1, 'Transformations': ['MeanImputer'], 'TransformationParams': {'Transformer1': {'Input': ['reviews_per_month'], 'TransformationFunction': 'Imputer', 'Operator': 'Mean', 'FeatureType': 'Numeric', 'ShouldOutput': True, 'TransformationParams': {'add_indicator': False, 'copy': True, 'fill_value': None, 'missing_values': nan, 'strategy': 'mean', 'verbose': 0}}}}]\n"
        },
        {
          "output_type": "execute_result",
          "execution_count": 11,
          "data": {
            "text/plain": "              RawFeatureName TypeDetected Dropped  EngineeredFeatureCount  \\\n0         host_response_rate  Categorical      No                      46   \n1     host_identity_verified  Categorical      No                       1   \n2  host_total_listings_count  Categorical      No                      34   \n3          is_location_exact  Categorical      No                       1   \n4              property_type  Categorical      No                      13   \n\n                            Transformations  \\\n0      [StringCast-CharGramCountVectorizer]   \n1  [ModeCatImputer-StringCast-LabelEncoder]   \n2      [StringCast-CharGramCountVectorizer]   \n3  [ModeCatImputer-StringCast-LabelEncoder]   \n4      [StringCast-CharGramCountVectorizer]   \n\n                                TransformationParams  \n0  {'Transformer1': {'Input': ['host_response_rat...  \n1  {'Transformer1': {'Input': ['host_identity_ver...  \n2  {'Transformer1': {'Input': ['host_total_listin...  \n3  {'Transformer1': {'Input': ['is_location_exact...  \n4  {'Transformer1': {'Input': ['property_type'], ...  ",
            "text/html": "<div>\n<style scoped>\n    .dataframe tbody tr th:only-of-type {\n        vertical-align: middle;\n    }\n\n    .dataframe tbody tr th {\n        vertical-align: top;\n    }\n\n    .dataframe thead th {\n        text-align: right;\n    }\n</style>\n<table border=\"1\" class=\"dataframe\">\n  <thead>\n    <tr style=\"text-align: right;\">\n      <th></th>\n      <th>RawFeatureName</th>\n      <th>TypeDetected</th>\n      <th>Dropped</th>\n      <th>EngineeredFeatureCount</th>\n      <th>Transformations</th>\n      <th>TransformationParams</th>\n    </tr>\n  </thead>\n  <tbody>\n    <tr>\n      <th>0</th>\n      <td>host_response_rate</td>\n      <td>Categorical</td>\n      <td>No</td>\n      <td>46</td>\n      <td>[StringCast-CharGramCountVectorizer]</td>\n      <td>{'Transformer1': {'Input': ['host_response_rat...</td>\n    </tr>\n    <tr>\n      <th>1</th>\n      <td>host_identity_verified</td>\n      <td>Categorical</td>\n      <td>No</td>\n      <td>1</td>\n      <td>[ModeCatImputer-StringCast-LabelEncoder]</td>\n      <td>{'Transformer1': {'Input': ['host_identity_ver...</td>\n    </tr>\n    <tr>\n      <th>2</th>\n      <td>host_total_listings_count</td>\n      <td>Categorical</td>\n      <td>No</td>\n      <td>34</td>\n      <td>[StringCast-CharGramCountVectorizer]</td>\n      <td>{'Transformer1': {'Input': ['host_total_listin...</td>\n    </tr>\n    <tr>\n      <th>3</th>\n      <td>is_location_exact</td>\n      <td>Categorical</td>\n      <td>No</td>\n      <td>1</td>\n      <td>[ModeCatImputer-StringCast-LabelEncoder]</td>\n      <td>{'Transformer1': {'Input': ['is_location_exact...</td>\n    </tr>\n    <tr>\n      <th>4</th>\n      <td>property_type</td>\n      <td>Categorical</td>\n      <td>No</td>\n      <td>13</td>\n      <td>[StringCast-CharGramCountVectorizer]</td>\n      <td>{'Transformer1': {'Input': ['property_type'], ...</td>\n    </tr>\n  </tbody>\n</table>\n</div>"
          },
          "metadata": {}
        }
      ],
      "execution_count": 11,
      "metadata": {
        "gather": {
          "logged": 1690679125827
        }
      }
    },
    {
      "cell_type": "code",
      "source": [
        "# Save the best model\n",
        "import joblib\n",
        "\n",
        "best_model_file = output_dir + \"/best_model.pkl\"\n",
        "#print(best_model)\n",
        "joblib.dump(best_model,best_model_file)\n"
      ],
      "outputs": [
        {
          "output_type": "execute_result",
          "execution_count": 12,
          "data": {
            "text/plain": "['./outputs/best_model.pkl']"
          },
          "metadata": {}
        }
      ],
      "execution_count": 12,
      "metadata": {
        "collapsed": false,
        "gather": {
          "logged": 1690679250146
        },
        "jupyter": {
          "outputs_hidden": false,
          "source_hidden": false
        },
        "nteract": {
          "transient": {
            "deleting": false
          }
        }
      }
    },
    {
      "cell_type": "markdown",
      "source": [
        "## Model Deployment\n",
        "\n",
        "Remember you have to deploy only one of the two models you trained but you still need to register both the models. Perform the steps in the rest of this notebook only if you wish to deploy this model.\n",
        "\n",
        "TODO: In the cell below, register the model, create an inference config and deploy the model as a web service."
      ],
      "metadata": {}
    },
    {
      "cell_type": "code",
      "source": [
        "from azureml.core.model import Model\n",
        "\n",
        "autorun_model = Model.register(model_path=best_model_file,\n",
        "                            model_name=\"autorun_model\",\n",
        "                            workspace=ws)\n",
        "\n",
        "autorun_model_path = Model.get_model_path(model_name='autorun_model',_workspace=ws)\n",
        "print(\"registered best model path: \",autorun_model_path)\n",
        "\n",
        "# read back model to test\n",
        "saved_model = joblib.load(autorun_model_path)\n",
        "# registered_model = joblib.load(best_model_file)\n",
        "\n",
        "print(\"saved model:\",saved_model)\n"
      ],
      "outputs": [
        {
          "output_type": "stream",
          "name": "stdout",
          "text": "Registering model autorun_model\nregistered best model path:  azureml-models/autorun_model/1/best_model.pkl\nsaved model: Pipeline(memory=None,\n         steps=[('datatransformer',\n                 DataTransformer(enable_dnn=False, enable_feature_sweeping=False, feature_sweeping_config={}, feature_sweeping_timeout=86400, featurization_config=None, force_text_dnn=False, is_cross_validation=True, is_onnx_compatible=True, observer=None, task='classification', working_dir='/mnt/batch/tasks/shared/LS_root/mount...\n                 RandomForestClassifier(bootstrap=True, ccp_alpha=0.0,\n                                        class_weight=None, criterion='gini',\n                                        max_depth=None, max_features='auto',\n                                        max_leaf_nodes=None, max_samples=None,\n                                        min_impurity_decrease=0.0,\n                                        min_impurity_split=None,\n                                        min_samples_leaf=1, min_samples_split=2,\n                                        min_weight_fraction_leaf=0.0,\n                                        n_estimators=100, n_jobs=1,\n                                        oob_score=False, random_state=None,\n                                        verbose=0, warm_start=False))],\n         verbose=False)\n"
        }
      ],
      "execution_count": 13,
      "metadata": {
        "collapsed": false,
        "gather": {
          "logged": 1690679590843
        },
        "jupyter": {
          "outputs_hidden": false,
          "source_hidden": false
        },
        "nteract": {
          "transient": {
            "deleting": false
          }
        }
      }
    },
    {
      "cell_type": "code",
      "source": [
        "# another way of register model\n",
        "\n",
        "model_name = best_auto_run.properties[\"model_name\"]\n",
        "print(model_name)\n",
        "description = \"AutoML Model trained on Airbnb boston to predict fraud listing\"\n",
        "tags = None\n",
        "registered_model = auto_run.register_model(\n",
        "    model_name=model_name, description=description, tags=tags\n",
        ")\n",
        "\n",
        "print(\n",
        "    auto_run.model_id\n",
        ")  # This will be written to the script file later in the notebook.\n",
        "print(\"registered model: \",registered_model)"
      ],
      "outputs": [
        {
          "output_type": "stream",
          "name": "stdout",
          "text": "AutoML96a49aca314\nAutoML96a49aca314\nregistered model:  Model(workspace=Workspace.create(name='quick-starts-ws-239435', subscription_id='f9d5a085-54dc-4215-9ba6-dad5d86e60a0', resource_group='aml-quickstarts-239435'), name=AutoML96a49aca314, id=AutoML96a49aca314:1, version=1, tags={}, properties={})\n"
        }
      ],
      "execution_count": 14,
      "metadata": {
        "gather": {
          "logged": 1690679713518
        }
      }
    },
    {
      "cell_type": "markdown",
      "source": [
        "## Test model"
      ],
      "metadata": {}
    },
    {
      "cell_type": "code",
      "source": [
        "import pandas as pd\n",
        "from sklearn.metrics import confusion_matrix\n",
        "\n",
        "test_file = src_dir + \"/test.csv\";\n",
        "df_test = pd.read_csv(test_file)\n",
        "df_test = df_test[pd.notnull(df_test['fraud'])]\n",
        "\n",
        "y_test = df_test['fraud']\n",
        "X_test = df_test.drop(['fraud'], axis=1)\n",
        "\n",
        "ypred = best_model.predict(X_test)\n",
        "cm = confusion_matrix(y_test, ypred)\n",
        "\n",
        "pd.DataFrame(cm).style.background_gradient(cmap='Blues', low=0, high=0.9)"
      ],
      "outputs": [
        {
          "output_type": "execute_result",
          "execution_count": 16,
          "data": {
            "text/plain": "<pandas.io.formats.style.Styler at 0x7f19a5dafe50>",
            "text/html": "<style  type=\"text/css\" >\n#T_cc1a2f28_2e76_11ee_b63c_bde7c6005d2brow0_col0,#T_cc1a2f28_2e76_11ee_b63c_bde7c6005d2brow1_col1{\n            background-color:  #63a8d3;\n            color:  #000000;\n        }#T_cc1a2f28_2e76_11ee_b63c_bde7c6005d2brow0_col1,#T_cc1a2f28_2e76_11ee_b63c_bde7c6005d2brow1_col0{\n            background-color:  #f7fbff;\n            color:  #000000;\n        }</style><table id=\"T_cc1a2f28_2e76_11ee_b63c_bde7c6005d2b\" ><thead>    <tr>        <th class=\"blank level0\" ></th>        <th class=\"col_heading level0 col0\" >0</th>        <th class=\"col_heading level0 col1\" >1</th>    </tr></thead><tbody>\n                <tr>\n                        <th id=\"T_cc1a2f28_2e76_11ee_b63c_bde7c6005d2blevel0_row0\" class=\"row_heading level0 row0\" >0</th>\n                        <td id=\"T_cc1a2f28_2e76_11ee_b63c_bde7c6005d2brow0_col0\" class=\"data row0 col0\" >647</td>\n                        <td id=\"T_cc1a2f28_2e76_11ee_b63c_bde7c6005d2brow0_col1\" class=\"data row0 col1\" >51</td>\n            </tr>\n            <tr>\n                        <th id=\"T_cc1a2f28_2e76_11ee_b63c_bde7c6005d2blevel0_row1\" class=\"row_heading level0 row1\" >1</th>\n                        <td id=\"T_cc1a2f28_2e76_11ee_b63c_bde7c6005d2brow1_col0\" class=\"data row1 col0\" >77</td>\n                        <td id=\"T_cc1a2f28_2e76_11ee_b63c_bde7c6005d2brow1_col1\" class=\"data row1 col1\" >122</td>\n            </tr>\n    </tbody></table>"
          },
          "metadata": {}
        }
      ],
      "execution_count": 16,
      "metadata": {
        "gather": {
          "logged": 1690679826332
        }
      }
    },
    {
      "cell_type": "code",
      "source": [
        "ypred = saved_model.predict(X_test)\r\n",
        "cm = confusion_matrix(y_test, ypred)\r\n",
        "\r\n",
        "pd.DataFrame(cm).style.background_gradient(cmap='Blues', low=0, high=0.9)"
      ],
      "outputs": [
        {
          "output_type": "execute_result",
          "execution_count": 17,
          "data": {
            "text/plain": "<pandas.io.formats.style.Styler at 0x7f19a1455970>",
            "text/html": "<style  type=\"text/css\" >\n#T_951b7b34_2e77_11ee_b63c_bde7c6005d2brow0_col0,#T_951b7b34_2e77_11ee_b63c_bde7c6005d2brow1_col1{\n            background-color:  #63a8d3;\n            color:  #000000;\n        }#T_951b7b34_2e77_11ee_b63c_bde7c6005d2brow0_col1,#T_951b7b34_2e77_11ee_b63c_bde7c6005d2brow1_col0{\n            background-color:  #f7fbff;\n            color:  #000000;\n        }</style><table id=\"T_951b7b34_2e77_11ee_b63c_bde7c6005d2b\" ><thead>    <tr>        <th class=\"blank level0\" ></th>        <th class=\"col_heading level0 col0\" >0</th>        <th class=\"col_heading level0 col1\" >1</th>    </tr></thead><tbody>\n                <tr>\n                        <th id=\"T_951b7b34_2e77_11ee_b63c_bde7c6005d2blevel0_row0\" class=\"row_heading level0 row0\" >0</th>\n                        <td id=\"T_951b7b34_2e77_11ee_b63c_bde7c6005d2brow0_col0\" class=\"data row0 col0\" >647</td>\n                        <td id=\"T_951b7b34_2e77_11ee_b63c_bde7c6005d2brow0_col1\" class=\"data row0 col1\" >51</td>\n            </tr>\n            <tr>\n                        <th id=\"T_951b7b34_2e77_11ee_b63c_bde7c6005d2blevel0_row1\" class=\"row_heading level0 row1\" >1</th>\n                        <td id=\"T_951b7b34_2e77_11ee_b63c_bde7c6005d2brow1_col0\" class=\"data row1 col0\" >77</td>\n                        <td id=\"T_951b7b34_2e77_11ee_b63c_bde7c6005d2brow1_col1\" class=\"data row1 col1\" >122</td>\n            </tr>\n    </tbody></table>"
          },
          "metadata": {}
        }
      ],
      "execution_count": 17,
      "metadata": {
        "jupyter": {
          "source_hidden": false,
          "outputs_hidden": false
        },
        "nteract": {
          "transient": {
            "deleting": false
          }
        },
        "gather": {
          "logged": 1690680163645
        }
      }
    },
    {
      "cell_type": "markdown",
      "source": [
        "Deploy Webservice"
      ],
      "metadata": {}
    },
    {
      "cell_type": "code",
      "source": [
        "ypred = registered_model.predict(X_test)\r\n",
        "cm = confusion_matrix(y_test, ypred)\r\n",
        "\r\n",
        "pd.DataFrame(cm).style.background_gradient(cmap='Blues', low=0, high=0.9)"
      ],
      "outputs": [
        {
          "output_type": "error",
          "ename": "AttributeError",
          "evalue": "'Model' object has no attribute 'predict'",
          "traceback": [
            "\u001b[0;31m---------------------------------------------------------------------------\u001b[0m",
            "\u001b[0;31mAttributeError\u001b[0m                            Traceback (most recent call last)",
            "Cell \u001b[0;32mIn[18], line 1\u001b[0m\n\u001b[0;32m----> 1\u001b[0m ypred \u001b[38;5;241m=\u001b[39m \u001b[43mregistered_model\u001b[49m\u001b[38;5;241;43m.\u001b[39;49m\u001b[43mpredict\u001b[49m(X_test)\n\u001b[1;32m      2\u001b[0m cm \u001b[38;5;241m=\u001b[39m confusion_matrix(y_test, ypred)\n\u001b[1;32m      4\u001b[0m pd\u001b[38;5;241m.\u001b[39mDataFrame(cm)\u001b[38;5;241m.\u001b[39mstyle\u001b[38;5;241m.\u001b[39mbackground_gradient(cmap\u001b[38;5;241m=\u001b[39m\u001b[38;5;124m'\u001b[39m\u001b[38;5;124mBlues\u001b[39m\u001b[38;5;124m'\u001b[39m, low\u001b[38;5;241m=\u001b[39m\u001b[38;5;241m0\u001b[39m, high\u001b[38;5;241m=\u001b[39m\u001b[38;5;241m0.9\u001b[39m)\n",
            "\u001b[0;31mAttributeError\u001b[0m: 'Model' object has no attribute 'predict'"
          ]
        }
      ],
      "execution_count": 18,
      "metadata": {
        "jupyter": {
          "source_hidden": false,
          "outputs_hidden": false
        },
        "nteract": {
          "transient": {
            "deleting": false
          }
        },
        "gather": {
          "logged": 1690680219284
        }
      }
    },
    {
      "cell_type": "code",
      "source": [
        "from azureml.core.model import InferenceConfig\n",
        "from azureml.core.webservice import AciWebservice\n",
        "from azureml.core.webservice import Webservice\n",
        "from azureml.core.model import Model\n",
        "from azureml.core.environment import Environment\n",
        "\n",
        "inference_config = InferenceConfig(\n",
        "    environment=best_auto_run.get_environment(), entry_script=script_file_name\n",
        ")\n",
        "\n",
        "aciconfig = AciWebservice.deploy_configuration(\n",
        "    cpu_cores=2,\n",
        "    memory_gb=2,\n",
        "    tags={\"area\": \"bmData\", \"type\": \"automl_classification\"},\n",
        "    description=\"sample service for Automl Classification\",\n",
        ")\n",
        "\n",
        "aci_service_name = model_name.lower()\n",
        "print(aci_service_name)\n",
        "aci_service = Model.deploy(ws, aci_service_name, [registered_model], inference_config, aciconfig)\n",
        "aci_service.wait_for_deployment(True)\n",
        "print(aci_service.state)"
      ],
      "outputs": [
        {
          "output_type": "stream",
          "name": "stdout",
          "text": "automl96a49aca314\nTips: You can try get_logs(): https://aka.ms/debugimage#dockerlog or local deployment: https://aka.ms/debugimage#debug-locally to debug if deployment takes longer than 10 minutes.\nRunning\n2023-07-30 01:28:58+00:00 Creating Container Registry if not exists..\n2023-07-30 01:38:59+00:00 Registering the environment.\n2023-07-30 01:38:59+00:00 Use the existing image.\n2023-07-30 01:39:00+00:00 Submitting deployment to compute..\n2023-07-30 01:39:04+00:00 Checking the status of deployment automl96a49aca314..\n2023-07-30 01:40:57+00:00 Checking the status of inference endpoint automl96a49aca314.\nSucceeded\nACI service creation operation finished, operation \"Succeeded\"\nHealthy\n"
        }
      ],
      "execution_count": 21,
      "metadata": {
        "gather": {
          "logged": 1690681280723
        }
      }
    },
    {
      "cell_type": "markdown",
      "source": [
        "TODO: In the cell below, print the logs of the web service and delete the service"
      ],
      "metadata": {}
    },
    {
      "cell_type": "code",
      "source": [
        "aci_service.get_logs()"
      ],
      "outputs": [
        {
          "output_type": "execute_result",
          "execution_count": 22,
          "data": {
            "text/plain": "'2023-07-30T01:40:48,931891200+00:00 - rsyslog/run \\n2023-07-30T01:40:48,945286300+00:00 - gunicorn/run \\n2023-07-30T01:40:48,948460500+00:00 | gunicorn/run | \\n2023-07-30T01:40:48,955591000+00:00 | gunicorn/run | ###############################################\\n2023-07-30T01:40:48,958922100+00:00 | gunicorn/run | AzureML Container Runtime Information\\n2023-07-30T01:40:48,959849100+00:00 - nginx/run \\n2023-07-30T01:40:48,966725000+00:00 | gunicorn/run | ###############################################\\n2023-07-30T01:40:48,971143200+00:00 | gunicorn/run | \\n2023-07-30T01:40:48,980786200+00:00 | gunicorn/run | \\n2023-07-30T01:40:48,991687000+00:00 | gunicorn/run | AzureML image information: openmpi4.1.0-ubuntu20.04, Materializaton Build:20230628.v2\\n2023-07-30T01:40:48,997407300+00:00 | gunicorn/run | \\n2023-07-30T01:40:49,000601200+00:00 | gunicorn/run | \\n2023-07-30T01:40:49,004060500+00:00 | gunicorn/run | PATH environment variable: /azureml-envs/azureml-automl/bin:/opt/miniconda/bin:/usr/local/sbin:/usr/local/bin:/usr/sbin:/usr/bin:/sbin:/bin\\n2023-07-30T01:40:49,008496800+00:00 | gunicorn/run | PYTHONPATH environment variable: \\n2023-07-30T01:40:49,013001000+00:00 | gunicorn/run | \\n2023-07-30T01:40:49,967275700+00:00 | gunicorn/run | CONDAPATH environment variable: /opt/miniconda\\n\\n# conda environments:\\n#\\n                         /azureml-envs/azureml-automl\\nbase                     /opt/miniconda\\n\\n2023-07-30T01:40:51,085491100+00:00 | gunicorn/run | \\n2023-07-30T01:40:51,088146100+00:00 | gunicorn/run | Pip Dependencies (before dynamic installation)\\n\\nadal==1.2.7\\napplicationinsights==0.11.10\\narch==5.3.1\\nargcomplete==2.1.2\\nargon2-cffi==21.3.0\\nargon2-cffi-bindings==21.2.0\\nasttokens==2.2.1\\nattrs==23.1.0\\nazure-common==1.1.28\\nazure-core==1.27.1\\nazure-graphrbac==0.61.1\\nazure-identity==1.13.0\\nazure-mgmt-authorization==3.0.0\\nazure-mgmt-containerregistry==10.1.0\\nazure-mgmt-core==1.4.0\\nazure-mgmt-keyvault==10.2.2\\nazure-mgmt-resource==22.0.0\\nazure-mgmt-storage==21.0.0\\nazure-storage-blob==12.13.0\\nazure-storage-queue==12.6.0\\nazureml-automl-core==1.52.0.post1\\nazureml-automl-runtime==1.52.0.post1\\nazureml-core==1.52.0\\nazureml-dataprep==4.11.4\\nazureml-dataprep-native==38.0.0\\nazureml-dataprep-rslex==2.18.4\\nazureml-dataset-runtime==1.52.0\\nazureml-defaults==1.52.0\\nazureml-inference-server-http==0.8.4\\nazureml-interpret==1.52.0\\nazureml-mlflow==1.52.0\\nazureml-pipeline-core==1.52.0\\nazureml-responsibleai==1.52.0\\nazureml-telemetry==1.52.0\\nazureml-train-automl-client==1.52.0\\nazureml-train-automl-runtime==1.52.0\\nazureml-train-core==1.52.0\\nazureml-train-restclients-hyperdrive==1.52.0\\nazureml-training-tabular==1.52.0\\nbackcall==0.2.0\\nbackports.tempfile==1.0\\nbackports.weakref==1.0.post1\\nbcrypt==4.0.1\\nbeautifulsoup4==4.12.2\\nbleach==6.0.0\\nbokeh==2.4.3\\nboto==2.49.0\\nboto3==1.20.19\\nbotocore==1.23.19\\nBrotli @ file:///home/conda/feedstock_root/build_artifacts/brotli-split_1687884021435/work\\ncachetools==5.3.1\\ncertifi==2023.5.7\\ncffi @ file:///home/conda/feedstock_root/build_artifacts/cffi_1671179356964/work\\ncharset-normalizer @ file:///home/conda/feedstock_root/build_artifacts/charset-normalizer_1678108872112/work\\nclick==8.1.4\\ncloudpickle @ file:///home/conda/feedstock_root/build_artifacts/cloudpickle_1598400192773/work\\ncmdstanpy==0.9.5\\ncontextlib2==21.6.0\\ncontourpy==1.1.0\\nconvertdate @ file:///home/conda/feedstock_root/build_artifacts/convertdate_1642883757836/work\\ncryptography==41.0.0\\ncycler==0.11.0\\nCython==0.29.17\\ndask==2023.2.0\\ndatabricks-cli==0.17.7\\ndataclasses==0.6\\ndebugpy==1.6.7\\ndecorator==5.1.1\\ndefusedxml==0.7.1\\ndice-ml==0.9\\ndill==0.3.6\\ndistributed==2023.2.0\\ndistro==1.8.0\\ndocker==6.1.3\\ndotnetcore2==3.1.23\\neconml==0.14.1\\nentrypoints==0.4\\nephem==4.1.4\\nerroranalysis==0.4.4\\nexecuting==1.2.0\\nfairlearn==0.8.0\\nfastjsonschema==2.17.1\\nfbprophet==0.7.1\\nfire==0.5.0\\nFlask==2.2.5\\nFlask-Cors==3.0.10\\nflatbuffers==23.5.26\\nfonttools==4.40.0\\nfsspec==2023.6.0\\nfusepy==3.0.1\\ngensim==3.8.3\\ngitdb==4.0.10\\nGitPython==3.1.31\\ngoogle-api-core==2.11.1\\ngoogle-auth==2.21.0\\ngoogleapis-common-protos==1.59.1\\ngunicorn==20.1.0\\nh5py==3.9.0\\nholidays @ file:///home/conda/feedstock_root/build_artifacts/holidays_1595448845196/work\\nhumanfriendly==10.0\\nidna @ file:///home/conda/feedstock_root/build_artifacts/idna_1663625384323/work\\nimportlib-metadata==6.8.0\\nimportlib-resources==5.13.0\\ninference-schema==1.5.1\\ninterpret-community==0.29.0\\ninterpret-core==0.3.2\\nipykernel==6.8.0\\nipython==8.12.2\\nipython-genutils==0.2.0\\nisodate==0.6.1\\nitsdangerous==2.1.2\\njedi==0.18.2\\njeepney==0.8.0\\nJinja2==3.1.2\\njmespath==0.10.0\\njoblib @ file:///home/conda/feedstock_root/build_artifacts/joblib_1663332044897/work\\njsonpickle==3.0.1\\njsonschema==4.18.0\\njsonschema-specifications==2023.6.1\\njupyter_client==7.4.9\\njupyter_core==5.3.1\\njupyterlab-pygments==0.2.2\\nkeras2onnx==1.6.0\\nkiwisolver==1.4.4\\nknack==0.10.1\\nkorean-lunar-calendar @ file:///home/conda/feedstock_root/build_artifacts/korean_lunar_calendar_1663341251025/work\\nlightgbm==3.2.1\\nllvmlite==0.38.1\\nlocket==1.0.0\\nLunarCalendar==0.0.9\\nMarkupSafe==2.1.2\\nmatplotlib==3.7.2\\nmatplotlib-inline==0.1.6\\nmistune==3.0.1\\nml-wrappers==0.4.11\\nmlflow-skinny==2.4.1\\nmltable==1.4.1\\nmsal==1.22.0\\nmsal-extensions==1.0.0\\nmsgpack==1.0.5\\nmsrest==0.7.1\\nmsrestazure==0.6.4\\nnbclient==0.8.0\\nnbconvert==7.6.0\\nnbformat==5.9.0\\nndg-httpsclient==0.5.1\\nnest-asyncio==1.5.6\\nnetworkx==2.5\\nnotebook==6.4.9\\nnumba==0.55.2\\nnumpy==1.22.3\\noauthlib==3.2.2\\nonnx==1.13.1\\nonnxconverter-common==1.6.0\\nonnxmltools==1.4.1\\nonnxruntime==1.11.1\\nopencensus==0.11.2\\nopencensus-context==0.1.3\\nopencensus-ext-azure==1.1.9\\npackaging==23.0\\npandas==1.1.5\\npandocfilters==1.5.0\\nparamiko==3.2.0\\nparso==0.8.3\\npartd==1.4.0\\npathspec==0.11.1\\npatsy==0.5.3\\npexpect==4.8.0\\npickleshare==0.7.5\\nPillow==10.0.0\\npkginfo==1.9.6\\npkgutil_resolve_name==1.3.10\\nplatformdirs @ file:///home/conda/feedstock_root/build_artifacts/platformdirs_1688739404342/work\\npmdarima==1.8.0\\npooch @ file:///home/conda/feedstock_root/build_artifacts/pooch_1679580333621/work\\nportalocker==2.7.0\\nprometheus-client==0.17.0\\nprompt-toolkit==3.0.39\\nproperty-cached==1.6.4\\nprotobuf==3.20.3\\npsutil @ file:///home/conda/feedstock_root/build_artifacts/psutil_1681775007745/work\\nptyprocess==0.7.0\\npure-eval==0.2.2\\npy-cpuinfo==5.0.0\\npyarrow==9.0.0\\npyasn1==0.5.0\\npyasn1-modules==0.3.0\\npycparser @ file:///home/conda/feedstock_root/build_artifacts/pycparser_1636257122734/work\\npydantic==1.10.11\\nPygments==2.15.1\\nPyJWT==2.7.0\\nPyMeeus @ file:///home/conda/feedstock_root/build_artifacts/pymeeus_1670868433998/work\\nPyNaCl==1.5.0\\npyOpenSSL @ file:///home/conda/feedstock_root/build_artifacts/pyopenssl_1685514481738/work\\npyparsing==3.0.9\\nPySocks @ file:///home/conda/feedstock_root/build_artifacts/pysocks_1661604839144/work\\npystan==2.19.1.1\\npython-dateutil @ file:///home/conda/feedstock_root/build_artifacts/python-dateutil_1626286286081/work\\npytz @ file:///home/conda/feedstock_root/build_artifacts/pytz_1680088766131/work\\nPyYAML==6.0\\npyzmq==25.1.0\\nraiutils==0.4.0\\nreferencing==0.29.1\\nrequests @ file:///home/conda/feedstock_root/build_artifacts/requests_1684774241324/work\\nrequests-oauthlib==1.3.1\\nresponsibleai==0.28.0\\nrpds-py==0.8.8\\nrsa==4.9\\ns3transfer==0.5.2\\nscikit-learn==0.22.1\\nscipy==1.5.3\\nSecretStorage==3.3.3\\nsemver==2.13.0\\nSend2Trash==1.8.2\\nsetuptools-git==1.2\\nshap==0.41.0\\nsix @ file:///home/conda/feedstock_root/build_artifacts/six_1620240208055/work\\nskl2onnx==1.4.9\\nsklearn-pandas==1.7.0\\nslicer==0.0.7\\nsmart-open==1.9.0\\nsmmap==5.0.0\\nsortedcontainers==2.4.0\\nsoupsieve==2.4.1\\nsparse==0.14.0\\nsqlparse==0.4.4\\nstack-data==0.6.2\\nstatsmodels==0.11.1\\ntabulate==0.9.0\\ntblib==2.0.0\\ntermcolor==2.3.0\\nterminado==0.17.1\\ntinycss2==1.2.1\\ntoolz==0.12.0\\ntornado==6.3.2\\ntqdm==4.65.0\\ntraitlets==5.9.0\\ntyping_extensions @ file:///home/conda/feedstock_root/build_artifacts/typing_extensions_1688315532570/work\\nurllib3==1.26.16\\nwcwidth==0.2.6\\nwebencodings==0.5.1\\nwebsocket-client==1.6.1\\nWerkzeug==2.3.6\\nwrapt==1.12.1\\nxgboost==1.3.3\\nzict==3.0.0\\nzipp==3.15.0\\n\\n2023-07-30T01:40:53,013967247+00:00 | gunicorn/run | \\n2023-07-30T01:40:53,016356826+00:00 | gunicorn/run | ###############################################\\n2023-07-30T01:40:53,019220379+00:00 | gunicorn/run | Checking if the Python package azureml-inference-server-http is installed\\n2023-07-30T01:40:53,022471294+00:00 | gunicorn/run | ###############################################\\n2023-07-30T01:40:53,024268678+00:00 | gunicorn/run | \\n2023-07-30T01:40:56,064814359+00:00 | gunicorn/run | \\n2023-07-30T01:40:56,067278950+00:00 | gunicorn/run | ###############################################\\n2023-07-30T01:40:56,071157165+00:00 | gunicorn/run | AzureML Inference Server\\n2023-07-30T01:40:56,076762654+00:00 | gunicorn/run | ###############################################\\n2023-07-30T01:40:56,080204300+00:00 | gunicorn/run | \\n2023-07-30T01:40:59,087906337+00:00 | gunicorn/run | Starting AzureML Inference Server HTTP.\\n2023-07-30 01:40:59,424 I [77] azmlinfsrv - Loaded logging config from /azureml-envs/azureml-automl/lib/python3.8/site-packages/azureml_inference_server_http/logging.json\\n2023-07-30 01:40:59,711 I [77] gunicorn.error - Starting gunicorn 20.1.0\\n2023-07-30 01:40:59,712 I [77] gunicorn.error - Listening at: http://0.0.0.0:31311 (77)\\n2023-07-30 01:40:59,713 I [77] gunicorn.error - Using worker: sync\\n2023-07-30 01:40:59,717 I [147] gunicorn.error - Booting worker with pid: 147\\n/azureml-envs/azureml-automl/lib/python3.8/site-packages/azureml_inference_server_http/server/config.py:51: FutureWarning: aliases are no longer used by BaseSettings to define which environment variables to read. Instead use the \"env\" field setting. See https://pydantic-docs.helpmanual.io/usage/settings/#environment-variable-names\\n  class AMLInferenceServerConfig(pydantic.BaseSettings):\\n\\nAzure ML Inferencing HTTP server v0.8.4\\n\\n\\nServer Settings\\n---------------\\nEntry Script Name: /var/azureml-app/main.py\\nModel Directory: /var/azureml-app/azureml-models/AutoML96a49aca314/1\\nConfig File: None\\nWorker Count: 1\\nWorker Timeout (seconds): 300\\nServer Port: 31311\\nHealth Port: 31311\\nApplication Insights Enabled: false\\nApplication Insights Key: None\\nInferencing HTTP server version: azmlinfsrv/0.8.4\\nCORS for the specified origins: None\\nCreate dedicated endpoint for health: None\\n\\n\\nServer Routes\\n---------------\\nLiveness Probe: GET   127.0.0.1:31311/\\nScore:          POST  127.0.0.1:31311/score\\n\\n2023-07-30 01:41:00,594 I [147] azmlinfsrv - AML_FLASK_ONE_COMPATIBILITY is set. Patched Flask to ensure compatibility with Flask 1.\\nInitializing logger\\n2023-07-30 01:41:00,598 I [147] azmlinfsrv - Starting up app insights client\\n2023-07-30 01:41:01,537 I [147] azmlinfsrv.user_script - Found driver script at /var/azureml-app/main.py and the score script at /var/azureml-app/score.py\\n2023-07-30 01:41:01,537 I [147] azmlinfsrv.user_script - run() is decorated with @input_schema. Server will invoke it with the following arguments: data, method.\\n2023-07-30 01:41:01,537 I [147] azmlinfsrv.user_script - Invoking user\\'s init function\\nERROR:fbprophet.plot:Importing plotly failed. Interactive plots will not work.\\n2023-07-30 01:41:11,907 I [147] azmlinfsrv.user_script - Users\\'s init has completed successfully\\n2023-07-30 01:41:11,909 I [147] azmlinfsrv.swagger - Swaggers are prepared for the following versions: [2, 3, 3.1].\\n2023-07-30 01:41:11,910 I [147] azmlinfsrv - Scoring timeout is set to 60000\\n2023-07-30 01:41:11,917 I [147] gunicorn.access - 127.0.0.1 - - [30/Jul/2023:01:41:11 +0000] \"GET / HTTP/1.0\" 200 7 \"-\" \"curl/7.58.0\"\\n2023-07-30 01:41:15,807 W [147] azmlinfsrv - x-ms-request-id header has been deprecated and will be removed from future versions of the server. Please use x-ms-client-request-id.\\n2023-07-30 01:41:15,809 I [147] gunicorn.access - 127.0.0.1 - - [30/Jul/2023:01:41:15 +0000] \"GET / HTTP/1.0\" 200 7 \"-\" \"Go-http-client/1.1\"\\n2023-07-30 01:41:15,814 W [147] azmlinfsrv - x-ms-request-id header has been deprecated and will be removed from future versions of the server. Please use x-ms-client-request-id.\\n2023-07-30 01:41:15,816 I [147] azmlinfsrv - GET /swagger.json 200 1.684ms 3853\\n2023-07-30 01:41:15,818 I [147] gunicorn.access - 127.0.0.1 - - [30/Jul/2023:01:41:15 +0000] \"GET /swagger.json HTTP/1.0\" 200 3853 \"-\" \"Go-http-client/1.1\"\\n2023-07-30 01:41:20,246 W [147] azmlinfsrv - x-ms-request-id header has been deprecated and will be removed from future versions of the server. Please use x-ms-client-request-id.\\n2023-07-30 01:41:20,247 I [147] gunicorn.access - 127.0.0.1 - - [30/Jul/2023:01:41:20 +0000] \"GET / HTTP/1.0\" 200 7 \"-\" \"Go-http-client/1.1\"\\n2023-07-30 01:41:20,253 W [147] azmlinfsrv - x-ms-request-id header has been deprecated and will be removed from future versions of the server. Please use x-ms-client-request-id.\\n2023-07-30 01:41:20,255 I [147] azmlinfsrv - GET /swagger.json 200 1.439ms 3853\\n2023-07-30 01:41:20,256 I [147] gunicorn.access - 127.0.0.1 - - [30/Jul/2023:01:41:20 +0000] \"GET /swagger.json HTTP/1.0\" 200 3853 \"-\" \"Go-http-client/1.1\"\\n2023-07-30 01:53:01,154 W [147] azmlinfsrv - x-ms-request-id header has been deprecated and will be removed from future versions of the server. Please use x-ms-client-request-id.\\n2023-07-30 01:53:01,156 I [147] gunicorn.access - 127.0.0.1 - - [30/Jul/2023:01:53:01 +0000] \"GET / HTTP/1.0\" 200 7 \"-\" \"Go-http-client/1.1\"\\n2023-07-30 01:53:01,160 W [147] azmlinfsrv - x-ms-request-id header has been deprecated and will be removed from future versions of the server. Please use x-ms-client-request-id.\\n2023-07-30 01:53:01,162 I [147] azmlinfsrv - GET /swagger.json 200 0.976ms 3853\\n2023-07-30 01:53:01,163 I [147] gunicorn.access - 127.0.0.1 - - [30/Jul/2023:01:53:01 +0000] \"GET /swagger.json HTTP/1.0\" 200 3853 \"-\" \"Go-http-client/1.1\"\\n2023-07-30 01:53:04,883 W [147] azmlinfsrv - x-ms-request-id header has been deprecated and will be removed from future versions of the server. Please use x-ms-client-request-id.\\n2023-07-30 01:53:04,884 I [147] azmlinfsrv - GET /swagger.json 200 0.618ms 3853\\n2023-07-30 01:53:04,887 I [147] gunicorn.access - 127.0.0.1 - - [30/Jul/2023:01:53:04 +0000] \"GET /swagger.json HTTP/1.0\" 200 3853 \"-\" \"Go-http-client/1.1\"\\n'"
          },
          "metadata": {}
        }
      ],
      "execution_count": 22,
      "metadata": {
        "gather": {
          "logged": 1690682083586
        }
      }
    },
    {
      "cell_type": "markdown",
      "source": [
        "TODO: In the cell below, send a request to the web service you deployed to test it."
      ],
      "metadata": {
        "collapsed": true,
        "gather": {
          "logged": 1598431657736
        },
        "jupyter": {
          "outputs_hidden": true,
          "source_hidden": false
        },
        "nteract": {
          "transient": {
            "deleting": false
          }
        }
      }
    },
    {
      "cell_type": "code",
      "source": [
        "from numpy import array\n",
        "import requests\n",
        "import json\n",
        "\n",
        "X_test_json = X_test.to_json(orient=\"records\")\n",
        "#data = '{\"data\": ' + X_test_json + \"}\"\n",
        "data = '{\"data\": ' + X_test_json + ', \"method\": \"predict\"}'\n",
        "#print(\"test data:\", data)\n",
        "headers = {\"Content-Type\": \"application/json\"}\n",
        "\n",
        "resp = requests.post(aci_service.scoring_uri, data, headers=headers)\n",
        "\n",
        "y_pred = json.loads(json.loads(resp.text))[\"result\"]\n",
        "#print(y_pred)\n",
        "\n",
        "#print(y_test)\n",
        "actual = array(y_test)\n",
        "#actual = actual[:, 0]\n",
        "print(len(y_pred), \" \", len(actual))\n",
        "#print(actual)\n",
        "\n",
        "cm = confusion_matrix(actual, ypred)\n",
        "\n",
        "pd.DataFrame(cm).style.background_gradient(cmap='Blues', low=0, high=0.9)"
      ],
      "outputs": [
        {
          "output_type": "stream",
          "name": "stdout",
          "text": "897   897\n"
        },
        {
          "output_type": "execute_result",
          "execution_count": 28,
          "data": {
            "text/plain": "<pandas.io.formats.style.Styler at 0x7f199f8052e0>",
            "text/html": "<style  type=\"text/css\" >\n#T_37cf1c22_2e7e_11ee_b63c_bde7c6005d2brow0_col0,#T_37cf1c22_2e7e_11ee_b63c_bde7c6005d2brow1_col1{\n            background-color:  #63a8d3;\n            color:  #000000;\n        }#T_37cf1c22_2e7e_11ee_b63c_bde7c6005d2brow0_col1,#T_37cf1c22_2e7e_11ee_b63c_bde7c6005d2brow1_col0{\n            background-color:  #f7fbff;\n            color:  #000000;\n        }</style><table id=\"T_37cf1c22_2e7e_11ee_b63c_bde7c6005d2b\" ><thead>    <tr>        <th class=\"blank level0\" ></th>        <th class=\"col_heading level0 col0\" >0</th>        <th class=\"col_heading level0 col1\" >1</th>    </tr></thead><tbody>\n                <tr>\n                        <th id=\"T_37cf1c22_2e7e_11ee_b63c_bde7c6005d2blevel0_row0\" class=\"row_heading level0 row0\" >0</th>\n                        <td id=\"T_37cf1c22_2e7e_11ee_b63c_bde7c6005d2brow0_col0\" class=\"data row0 col0\" >647</td>\n                        <td id=\"T_37cf1c22_2e7e_11ee_b63c_bde7c6005d2brow0_col1\" class=\"data row0 col1\" >51</td>\n            </tr>\n            <tr>\n                        <th id=\"T_37cf1c22_2e7e_11ee_b63c_bde7c6005d2blevel0_row1\" class=\"row_heading level0 row1\" >1</th>\n                        <td id=\"T_37cf1c22_2e7e_11ee_b63c_bde7c6005d2brow1_col0\" class=\"data row1 col0\" >77</td>\n                        <td id=\"T_37cf1c22_2e7e_11ee_b63c_bde7c6005d2brow1_col1\" class=\"data row1 col1\" >122</td>\n            </tr>\n    </tbody></table>"
          },
          "metadata": {}
        }
      ],
      "execution_count": 28,
      "metadata": {
        "collapsed": false,
        "gather": {
          "logged": 1690683014092
        },
        "jupyter": {
          "outputs_hidden": false,
          "source_hidden": false
        },
        "nteract": {
          "transient": {
            "deleting": false
          }
        }
      }
    },
    {
      "cell_type": "markdown",
      "source": [
        "**Submission Checklist**\n",
        "- I have registered the model.\n",
        "- I have deployed the model with the best accuracy as a webservice.\n",
        "- I have tested the webservice by sending a request to the model endpoint.\n",
        "- I have deleted the webservice and shutdown all the computes that I have used.\n",
        "- I have taken a screenshot showing the model endpoint as active.\n",
        "- The project includes a file containing the environment details.\n"
      ],
      "metadata": {}
    },
    {
      "cell_type": "markdown",
      "source": [],
      "metadata": {}
    }
  ],
  "metadata": {
    "kernel_info": {
      "name": "python38-azureml"
    },
    "kernelspec": {
      "name": "python38-azureml",
      "language": "python",
      "display_name": "Python 3.8 - AzureML"
    },
    "language_info": {
      "name": "python",
      "version": "3.8.5",
      "mimetype": "text/x-python",
      "codemirror_mode": {
        "name": "ipython",
        "version": 3
      },
      "pygments_lexer": "ipython3",
      "nbconvert_exporter": "python",
      "file_extension": ".py"
    },
    "nteract": {
      "version": "nteract-front-end@1.0.0"
    },
    "microsoft": {
      "ms_spell_check": {
        "ms_spell_check_language": "en"
      },
      "host": {
        "AzureML": {
          "notebookHasBeenCompleted": true
        }
      }
    }
  },
  "nbformat": 4,
  "nbformat_minor": 4
}